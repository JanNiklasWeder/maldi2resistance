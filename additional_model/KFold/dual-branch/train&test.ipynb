{
 "cells": [
  {
   "cell_type": "markdown",
   "id": "3d89aed94233e3ff",
   "metadata": {},
   "source": [
    "# Fully connected feedforward network implementing a loss mask"
   ]
  },
  {
   "cell_type": "code",
   "execution_count": null,
   "id": "1eaaf570-0600-4d60-9fde-fcebcff3ce4c",
   "metadata": {},
   "outputs": [],
   "source": [
    "import torchmetrics.classification\n",
    "from torch import cuda\n",
    "assert cuda.is_available()\n",
    "assert cuda.device_count() > 0"
   ]
  },
  {
   "cell_type": "code",
   "execution_count": null,
   "id": "c7e50fb9-601f-425a-bf79-6441170b27dd",
   "metadata": {},
   "outputs": [
    {
     "name": "stdout",
     "output_type": "stream",
     "text": [
      "NVIDIA GeForce RTX 3060 Ti\n"
     ]
    }
   ],
   "source": [
    "print(cuda.get_device_name(cuda.current_device()))\n"
   ]
  },
  {
   "cell_type": "code",
   "execution_count": null,
   "id": "6c4b645f-6b5e-428e-855c-64b7e33ff874",
   "metadata": {},
   "outputs": [],
   "source": [
    "import torch\n",
    "import torch.nn as nn"
   ]
  },
  {
   "cell_type": "code",
   "execution_count": null,
   "id": "5e8a6650-ef2b-44f1-9ea8-78912b15e9a9",
   "metadata": {},
   "outputs": [
    {
     "data": {
      "text/plain": [
       "<torch._C.Generator at 0x7f6700356fb0>"
      ]
     },
     "execution_count": null,
     "metadata": {},
     "output_type": "execute_result"
    }
   ],
   "source": [
    "DEVICE = torch.device(\"cuda\")\n",
    "SEED = 76436278\n",
    "\n",
    "torch.manual_seed(SEED)"
   ]
  },
  {
   "cell_type": "markdown",
   "id": "23b5a248-98cc-42cc-99b2-49bdd5ca1f35",
   "metadata": {},
   "source": [
    "### Load the Dataset"
   ]
  },
  {
   "cell_type": "code",
   "execution_count": null,
   "id": "7a00707ac6b2975",
   "metadata": {},
   "outputs": [
    {
     "data": {
      "application/vnd.jupyter.widget-view+json": {
       "model_id": "a051d852a8e048e186d4f07b868e64b0",
       "version_major": 2,
       "version_minor": 0
      },
      "text/plain": [
       "Loading Spectra into Memory:   0%|          | 0/55780 [00:00<?, ?it/s]"
      ]
     },
     "metadata": {},
     "output_type": "display_data"
    },
    {
     "data": {
      "text/html": [
       "\n",
       "        <table>\n",
       "            <thead>\n",
       "                <tr>\n",
       "                    <th>Antibiotic:</th>\n",
       "                    <th> Amikacin </th><th> Amoxicillin-Clavulanic acid </th><th> Ampicillin </th><th> Ampicillin-Amoxicillin </th><th> Aztreonam </th><th> Benzylpenicillin </th><th> Cefazolin </th><th> Cefepime </th><th> Cefpodoxime </th><th> Ceftazidime </th><th> Ceftriaxone </th><th> Cefuroxime </th><th> Ciprofloxacin </th><th> Clarithromycin </th><th> Clindamycin </th><th> Colistin </th><th> Cotrimoxazole </th><th> Ertapenem </th><th> Erythromycin </th><th> Fosfomycin </th><th> Fosfomycin-Trometamol </th><th> Fusidic acid </th><th> Gentamicin </th><th> Imipenem </th><th> Levofloxacin </th><th> Meropenem </th><th> Mupirocin </th><th> Nitrofurantoin </th><th> Norfloxacin </th><th> Oxacillin </th><th> Penicillin </th><th> Piperacillin-Tazobactam </th><th> Polymyxin B </th><th> Rifampicin </th><th> Teicoplanin </th><th> Tetracycline </th><th> Tobramycin </th><th> Vancomycin </th>\n",
       "                </tr>\n",
       "            </thead>\n",
       "            <tbody>\n",
       "                <tr>\n",
       "                    <td>Number resistant:</td>\n",
       "                    <td> 1068 </td><td> 13366 </td><td> 8578 </td><td> 21966 </td><td> 628 </td><td> 618 </td><td> 4223 </td><td> 7383 </td><td> 2338 </td><td> 3470 </td><td> 8659 </td><td> 5855 </td><td> 9338 </td><td> 310 </td><td> 4381 </td><td> 2874 </td><td> 7405 </td><td> 427 </td><td> 5468 </td><td> 2303 </td><td> 1326 </td><td> 3620 </td><td> 3481 </td><td> 7560 </td><td> 4217 </td><td> 5194 </td><td> 570 </td><td> 1271 </td><td> 1205 </td><td> 5537 </td><td> 12431 </td><td> 7616 </td><td> 486 </td><td> 580 </td><td> 244 </td><td> 3534 </td><td> 1707 </td><td> 227 </td>\n",
       "                </tr>\n",
       "                <tr>\n",
       "                    <td>Number susceptible:</td>\n",
       "                    <td> 20941 </td><td> 24992 </td><td> 4194 </td><td> 4905 </td><td> 456 </td><td> 457 </td><td> 5813 </td><td> 31567 </td><td> 4382 </td><td> 24566 </td><td> 28464 </td><td> 8368 </td><td> 36822 </td><td> 1262 </td><td> 9841 </td><td> 15784 </td><td> 24590 </td><td> 21740 </td><td> 9044 </td><td> 10184 </td><td> 4803 </td><td> 8498 </td><td> 22662 </td><td> 31717 </td><td> 17989 </td><td> 27228 </td><td> 4656 </td><td> 3603 </td><td> 7031 </td><td> 7740 </td><td> 4286 </td><td> 31308 </td><td> 2305 </td><td> 14964 </td><td> 8486 </td><td> 10376 </td><td> 16809 </td><td> 20540 </td>\n",
       "                </tr>\n",
       "                <tr>\n",
       "                    <td>Number data points:</td>\n",
       "                    <td> 22009 </td><td> 38358 </td><td> 12772 </td><td> 26871 </td><td> 1084 </td><td> 1075 </td><td> 10036 </td><td> 38950 </td><td> 6720 </td><td> 28036 </td><td> 37123 </td><td> 14223 </td><td> 46160 </td><td> 1572 </td><td> 14222 </td><td> 18658 </td><td> 31995 </td><td> 22167 </td><td> 14512 </td><td> 12487 </td><td> 6129 </td><td> 12118 </td><td> 26143 </td><td> 39277 </td><td> 22206 </td><td> 32422 </td><td> 5226 </td><td> 4874 </td><td> 8236 </td><td> 13277 </td><td> 16717 </td><td> 38924 </td><td> 2791 </td><td> 15544 </td><td> 8730 </td><td> 13910 </td><td> 18516 </td><td> 20767 </td>\n",
       "                </tr>\n",
       "            </tbody>\n",
       "        </table>\n",
       "                "
      ],
      "text/plain": [
       "<src.maldi2resistance.data.driams.Driams at 0x7f66753b3bd0>"
      ]
     },
     "execution_count": null,
     "metadata": {},
     "output_type": "execute_result"
    }
   ],
   "source": [
    "from src.maldi2resistance.data.driams import Driams\n",
    "\n",
    "driams = Driams(\n",
    "    root_dir=\"/home/jan/Uni/master/data/Driams\",\n",
    ")\n",
    "\n",
    "driams.loading_type = \"memory\"\n",
    "\n",
    "driams"
   ]
  },
  {
   "cell_type": "code",
   "execution_count": null,
   "id": "fbbd28ab5fd2a857",
   "metadata": {},
   "outputs": [
    {
     "data": {
      "text/plain": [
       "38"
      ]
     },
     "execution_count": null,
     "metadata": {},
     "output_type": "execute_result"
    }
   ],
   "source": [
    "len(driams.label_stats.columns)"
   ]
  },
  {
   "cell_type": "code",
   "execution_count": null,
   "id": "b81bd526-6a9c-4520-b121-9c01b4eb804a",
   "metadata": {},
   "outputs": [],
   "source": [
    "from maldi2resistance.model.dualBranch import DualBranchOneHot\n",
    "import copy\n",
    "from maldi2resistance.model.singleBranchMlp import SingleBranchMLP\n",
    "\n",
    "model = DualBranchOneHot( input_dim_spectrum= 18000, input_dim_drug= len(driams.selected_antibiotics))\n",
    "model = model.to(DEVICE)\n",
    "\n",
    "model_state = copy.deepcopy(model.state_dict()) "
   ]
  },
  {
   "cell_type": "code",
   "execution_count": null,
   "id": "e361914c-9fb8-4a94-bb2c-95a3b68cda0b",
   "metadata": {},
   "outputs": [],
   "source": [
    "from torch.utils.data import DataLoader"
   ]
  },
  {
   "cell_type": "code",
   "execution_count": null,
   "id": "a96643a0-bd63-437b-a676-f3a4a1826910",
   "metadata": {},
   "outputs": [
    {
     "name": "stdout",
     "output_type": "stream",
     "text": [
      "Start training ...\n"
     ]
    },
    {
     "data": {
      "application/vnd.jupyter.widget-view+json": {
       "model_id": "2d89e8f34bec4e0c822b638a11b0b096",
       "version_major": 2,
       "version_minor": 0
      },
      "text/plain": [
       "Create single label Dataset:   0%|          | 0/44624 [00:00<?, ?it/s]"
      ]
     },
     "metadata": {},
     "output_type": "display_data"
    },
    {
     "data": {
      "application/vnd.jupyter.widget-view+json": {
       "model_id": "09459d0b00f7433b81ae26fc61f79240",
       "version_major": 2,
       "version_minor": 0
      },
      "text/plain": [
       "Create single label Dataset:   0%|          | 0/11156 [00:00<?, ?it/s]"
      ]
     },
     "metadata": {},
     "output_type": "display_data"
    },
    {
     "data": {
      "application/vnd.jupyter.widget-view+json": {
       "model_id": "6024c399b3f24dc3869eb9a168dbe115",
       "version_major": 2,
       "version_minor": 0
      },
      "text/plain": [
       "  0%|          | 0/30 [00:00<?, ?it/s]"
      ]
     },
     "metadata": {},
     "output_type": "display_data"
    },
    {
     "name": "stdout",
     "output_type": "stream",
     "text": [
      "\tAverage Loss: 0.002510 \tLearning rate: 0.001000\n",
      "\tAverage Loss: 0.002118 \tLearning rate: 0.001000\n",
      "\tAverage Loss: 0.001957 \tLearning rate: 0.001000\n",
      "\tAverage Loss: 0.001845 \tLearning rate: 0.001000\n",
      "\tAverage Loss: 0.001762 \tLearning rate: 0.001000\n",
      "\tAverage Loss: 0.001691 \tLearning rate: 0.001000\n",
      "\tAverage Loss: 0.001632 \tLearning rate: 0.001000\n",
      "\tAverage Loss: 0.001579 \tLearning rate: 0.001000\n",
      "\tAverage Loss: 0.001535 \tLearning rate: 0.001000\n",
      "\tAverage Loss: 0.001504 \tLearning rate: 0.000500\n",
      "\tAverage Loss: 0.001387 \tLearning rate: 0.000500\n",
      "\tAverage Loss: 0.001352 \tLearning rate: 0.000500\n",
      "\tAverage Loss: 0.001332 \tLearning rate: 0.000500\n",
      "\tAverage Loss: 0.001312 \tLearning rate: 0.000500\n",
      "\tAverage Loss: 0.001290 \tLearning rate: 0.000500\n",
      "\tAverage Loss: 0.001268 \tLearning rate: 0.000500\n",
      "\tAverage Loss: 0.001251 \tLearning rate: 0.000500\n",
      "\tAverage Loss: 0.001231 \tLearning rate: 0.000500\n",
      "\tAverage Loss: 0.001220 \tLearning rate: 0.000500\n",
      "\tAverage Loss: 0.001200 \tLearning rate: 0.000250\n",
      "\tAverage Loss: 0.001129 \tLearning rate: 0.000250\n",
      "\tAverage Loss: 0.001110 \tLearning rate: 0.000250\n",
      "\tAverage Loss: 0.001097 \tLearning rate: 0.000250\n",
      "\tAverage Loss: 0.001083 \tLearning rate: 0.000250\n",
      "\tAverage Loss: 0.001074 \tLearning rate: 0.000250\n",
      "\tAverage Loss: 0.001058 \tLearning rate: 0.000250\n",
      "\tAverage Loss: 0.001052 \tLearning rate: 0.000250\n",
      "\tAverage Loss: 0.001041 \tLearning rate: 0.000250\n",
      "\tAverage Loss: 0.001029 \tLearning rate: 0.000250\n",
      "\tAverage Loss: 0.001019 \tLearning rate: 0.000125\n",
      "Finished Fold 0\n"
     ]
    },
    {
     "data": {
      "application/vnd.jupyter.widget-view+json": {
       "model_id": "374c7bacf7cd4c11a70d7ae3a51861c0",
       "version_major": 2,
       "version_minor": 0
      },
      "text/plain": [
       "Create single label Dataset:   0%|          | 0/44624 [00:00<?, ?it/s]"
      ]
     },
     "metadata": {},
     "output_type": "display_data"
    },
    {
     "data": {
      "application/vnd.jupyter.widget-view+json": {
       "model_id": "09ff8f33fa3841d2b51737faa65a11ac",
       "version_major": 2,
       "version_minor": 0
      },
      "text/plain": [
       "Create single label Dataset:   0%|          | 0/11156 [00:00<?, ?it/s]"
      ]
     },
     "metadata": {},
     "output_type": "display_data"
    },
    {
     "data": {
      "application/vnd.jupyter.widget-view+json": {
       "model_id": "f51f5a00aa214d0ca1cd128c2903412c",
       "version_major": 2,
       "version_minor": 0
      },
      "text/plain": [
       "  0%|          | 0/30 [00:00<?, ?it/s]"
      ]
     },
     "metadata": {},
     "output_type": "display_data"
    },
    {
     "name": "stdout",
     "output_type": "stream",
     "text": [
      "\tAverage Loss: 0.002516 \tLearning rate: 0.001000\n",
      "\tAverage Loss: 0.002126 \tLearning rate: 0.001000\n",
      "\tAverage Loss: 0.001970 \tLearning rate: 0.001000\n",
      "\tAverage Loss: 0.001864 \tLearning rate: 0.001000\n",
      "\tAverage Loss: 0.001776 \tLearning rate: 0.001000\n",
      "\tAverage Loss: 0.001716 \tLearning rate: 0.001000\n",
      "\tAverage Loss: 0.001645 \tLearning rate: 0.001000\n",
      "\tAverage Loss: 0.001601 \tLearning rate: 0.001000\n",
      "\tAverage Loss: 0.001557 \tLearning rate: 0.001000\n",
      "\tAverage Loss: 0.001514 \tLearning rate: 0.000500\n",
      "\tAverage Loss: 0.001396 \tLearning rate: 0.000500\n",
      "\tAverage Loss: 0.001367 \tLearning rate: 0.000500\n",
      "\tAverage Loss: 0.001338 \tLearning rate: 0.000500\n",
      "\tAverage Loss: 0.001318 \tLearning rate: 0.000500\n",
      "\tAverage Loss: 0.001296 \tLearning rate: 0.000500\n",
      "\tAverage Loss: 0.001279 \tLearning rate: 0.000500\n",
      "\tAverage Loss: 0.001259 \tLearning rate: 0.000500\n",
      "\tAverage Loss: 0.001238 \tLearning rate: 0.000500\n",
      "\tAverage Loss: 0.001224 \tLearning rate: 0.000500\n",
      "\tAverage Loss: 0.001205 \tLearning rate: 0.000250\n",
      "\tAverage Loss: 0.001131 \tLearning rate: 0.000250\n",
      "\tAverage Loss: 0.001118 \tLearning rate: 0.000250\n",
      "\tAverage Loss: 0.001100 \tLearning rate: 0.000250\n",
      "\tAverage Loss: 0.001092 \tLearning rate: 0.000250\n",
      "\tAverage Loss: 0.001080 \tLearning rate: 0.000250\n",
      "\tAverage Loss: 0.001066 \tLearning rate: 0.000250\n",
      "\tAverage Loss: 0.001057 \tLearning rate: 0.000250\n",
      "\tAverage Loss: 0.001043 \tLearning rate: 0.000250\n",
      "\tAverage Loss: 0.001036 \tLearning rate: 0.000250\n",
      "\tAverage Loss: 0.001024 \tLearning rate: 0.000125\n",
      "Finished Fold 1\n"
     ]
    },
    {
     "data": {
      "application/vnd.jupyter.widget-view+json": {
       "model_id": "21d41c4242f245399cc60fa5ab133a75",
       "version_major": 2,
       "version_minor": 0
      },
      "text/plain": [
       "Create single label Dataset:   0%|          | 0/44624 [00:00<?, ?it/s]"
      ]
     },
     "metadata": {},
     "output_type": "display_data"
    },
    {
     "data": {
      "application/vnd.jupyter.widget-view+json": {
       "model_id": "6a5f161f7d3d4dc5a8dca5157b90ce22",
       "version_major": 2,
       "version_minor": 0
      },
      "text/plain": [
       "Create single label Dataset:   0%|          | 0/11156 [00:00<?, ?it/s]"
      ]
     },
     "metadata": {},
     "output_type": "display_data"
    },
    {
     "data": {
      "application/vnd.jupyter.widget-view+json": {
       "model_id": "7025a5b553a940dea3020bd09ca9e3e4",
       "version_major": 2,
       "version_minor": 0
      },
      "text/plain": [
       "  0%|          | 0/30 [00:00<?, ?it/s]"
      ]
     },
     "metadata": {},
     "output_type": "display_data"
    },
    {
     "name": "stdout",
     "output_type": "stream",
     "text": [
      "\tAverage Loss: 0.002516 \tLearning rate: 0.001000\n",
      "\tAverage Loss: 0.002131 \tLearning rate: 0.001000\n",
      "\tAverage Loss: 0.001972 \tLearning rate: 0.001000\n",
      "\tAverage Loss: 0.001856 \tLearning rate: 0.001000\n",
      "\tAverage Loss: 0.001776 \tLearning rate: 0.001000\n",
      "\tAverage Loss: 0.001701 \tLearning rate: 0.001000\n",
      "\tAverage Loss: 0.001643 \tLearning rate: 0.001000\n",
      "\tAverage Loss: 0.001596 \tLearning rate: 0.001000\n",
      "\tAverage Loss: 0.001553 \tLearning rate: 0.001000\n",
      "\tAverage Loss: 0.001510 \tLearning rate: 0.000500\n",
      "\tAverage Loss: 0.001393 \tLearning rate: 0.000500\n",
      "\tAverage Loss: 0.001363 \tLearning rate: 0.000500\n",
      "\tAverage Loss: 0.001339 \tLearning rate: 0.000500\n",
      "\tAverage Loss: 0.001320 \tLearning rate: 0.000500\n",
      "\tAverage Loss: 0.001298 \tLearning rate: 0.000500\n",
      "\tAverage Loss: 0.001271 \tLearning rate: 0.000500\n",
      "\tAverage Loss: 0.001254 \tLearning rate: 0.000500\n",
      "\tAverage Loss: 0.001237 \tLearning rate: 0.000500\n",
      "\tAverage Loss: 0.001217 \tLearning rate: 0.000500\n",
      "\tAverage Loss: 0.001205 \tLearning rate: 0.000250\n",
      "\tAverage Loss: 0.001128 \tLearning rate: 0.000250\n",
      "\tAverage Loss: 0.001111 \tLearning rate: 0.000250\n",
      "\tAverage Loss: 0.001099 \tLearning rate: 0.000250\n",
      "\tAverage Loss: 0.001084 \tLearning rate: 0.000250\n",
      "\tAverage Loss: 0.001073 \tLearning rate: 0.000250\n",
      "\tAverage Loss: 0.001064 \tLearning rate: 0.000250\n",
      "\tAverage Loss: 0.001051 \tLearning rate: 0.000250\n",
      "\tAverage Loss: 0.001040 \tLearning rate: 0.000250\n",
      "\tAverage Loss: 0.001036 \tLearning rate: 0.000250\n",
      "\tAverage Loss: 0.001021 \tLearning rate: 0.000125\n",
      "Finished Fold 2\n"
     ]
    },
    {
     "data": {
      "application/vnd.jupyter.widget-view+json": {
       "model_id": "2b5ac6047dc944f984c2f739ea5b835b",
       "version_major": 2,
       "version_minor": 0
      },
      "text/plain": [
       "Create single label Dataset:   0%|          | 0/44624 [00:00<?, ?it/s]"
      ]
     },
     "metadata": {},
     "output_type": "display_data"
    },
    {
     "data": {
      "application/vnd.jupyter.widget-view+json": {
       "model_id": "a374c52cbfdc49ceaf62509a0167a11e",
       "version_major": 2,
       "version_minor": 0
      },
      "text/plain": [
       "Create single label Dataset:   0%|          | 0/11156 [00:00<?, ?it/s]"
      ]
     },
     "metadata": {},
     "output_type": "display_data"
    },
    {
     "data": {
      "application/vnd.jupyter.widget-view+json": {
       "model_id": "ad670eb5c2da4430a6c2f44abdea1281",
       "version_major": 2,
       "version_minor": 0
      },
      "text/plain": [
       "  0%|          | 0/30 [00:00<?, ?it/s]"
      ]
     },
     "metadata": {},
     "output_type": "display_data"
    },
    {
     "name": "stdout",
     "output_type": "stream",
     "text": [
      "\tAverage Loss: 0.002505 \tLearning rate: 0.001000\n",
      "\tAverage Loss: 0.002119 \tLearning rate: 0.001000\n",
      "\tAverage Loss: 0.001960 \tLearning rate: 0.001000\n",
      "\tAverage Loss: 0.001849 \tLearning rate: 0.001000\n",
      "\tAverage Loss: 0.001763 \tLearning rate: 0.001000\n",
      "\tAverage Loss: 0.001698 \tLearning rate: 0.001000\n",
      "\tAverage Loss: 0.001639 \tLearning rate: 0.001000\n",
      "\tAverage Loss: 0.001593 \tLearning rate: 0.001000\n",
      "\tAverage Loss: 0.001547 \tLearning rate: 0.001000\n",
      "\tAverage Loss: 0.001508 \tLearning rate: 0.000500\n",
      "\tAverage Loss: 0.001384 \tLearning rate: 0.000500\n",
      "\tAverage Loss: 0.001359 \tLearning rate: 0.000500\n",
      "\tAverage Loss: 0.001335 \tLearning rate: 0.000500\n",
      "\tAverage Loss: 0.001309 \tLearning rate: 0.000500\n",
      "\tAverage Loss: 0.001291 \tLearning rate: 0.000500\n",
      "\tAverage Loss: 0.001268 \tLearning rate: 0.000500\n",
      "\tAverage Loss: 0.001254 \tLearning rate: 0.000500\n",
      "\tAverage Loss: 0.001231 \tLearning rate: 0.000500\n",
      "\tAverage Loss: 0.001216 \tLearning rate: 0.000500\n",
      "\tAverage Loss: 0.001199 \tLearning rate: 0.000250\n",
      "\tAverage Loss: 0.001125 \tLearning rate: 0.000250\n",
      "\tAverage Loss: 0.001109 \tLearning rate: 0.000250\n",
      "\tAverage Loss: 0.001094 \tLearning rate: 0.000250\n",
      "\tAverage Loss: 0.001082 \tLearning rate: 0.000250\n",
      "\tAverage Loss: 0.001071 \tLearning rate: 0.000250\n",
      "\tAverage Loss: 0.001062 \tLearning rate: 0.000250\n",
      "\tAverage Loss: 0.001051 \tLearning rate: 0.000250\n",
      "\tAverage Loss: 0.001043 \tLearning rate: 0.000250\n",
      "\tAverage Loss: 0.001029 \tLearning rate: 0.000250\n",
      "\tAverage Loss: 0.001020 \tLearning rate: 0.000125\n",
      "Finished Fold 3\n"
     ]
    },
    {
     "data": {
      "application/vnd.jupyter.widget-view+json": {
       "model_id": "b19302234dfa41129d01cdc7fb0effe8",
       "version_major": 2,
       "version_minor": 0
      },
      "text/plain": [
       "Create single label Dataset:   0%|          | 0/44624 [00:01<?, ?it/s]"
      ]
     },
     "metadata": {},
     "output_type": "display_data"
    },
    {
     "data": {
      "application/vnd.jupyter.widget-view+json": {
       "model_id": "2df2ba575c0d4d95a7209eeb7a698d2d",
       "version_major": 2,
       "version_minor": 0
      },
      "text/plain": [
       "Create single label Dataset:   0%|          | 0/11156 [00:00<?, ?it/s]"
      ]
     },
     "metadata": {},
     "output_type": "display_data"
    },
    {
     "data": {
      "application/vnd.jupyter.widget-view+json": {
       "model_id": "925f616ca7264d82a2f873a8175b056b",
       "version_major": 2,
       "version_minor": 0
      },
      "text/plain": [
       "  0%|          | 0/30 [00:00<?, ?it/s]"
      ]
     },
     "metadata": {},
     "output_type": "display_data"
    },
    {
     "name": "stdout",
     "output_type": "stream",
     "text": [
      "\tAverage Loss: 0.002509 \tLearning rate: 0.001000\n",
      "\tAverage Loss: 0.002128 \tLearning rate: 0.001000\n",
      "\tAverage Loss: 0.001974 \tLearning rate: 0.001000\n",
      "\tAverage Loss: 0.001866 \tLearning rate: 0.001000\n",
      "\tAverage Loss: 0.001778 \tLearning rate: 0.001000\n",
      "\tAverage Loss: 0.001706 \tLearning rate: 0.001000\n",
      "\tAverage Loss: 0.001646 \tLearning rate: 0.001000\n",
      "\tAverage Loss: 0.001597 \tLearning rate: 0.001000\n",
      "\tAverage Loss: 0.001551 \tLearning rate: 0.001000\n",
      "\tAverage Loss: 0.001511 \tLearning rate: 0.000500\n",
      "\tAverage Loss: 0.001401 \tLearning rate: 0.000500\n",
      "\tAverage Loss: 0.001366 \tLearning rate: 0.000500\n",
      "\tAverage Loss: 0.001347 \tLearning rate: 0.000500\n",
      "\tAverage Loss: 0.001322 \tLearning rate: 0.000500\n",
      "\tAverage Loss: 0.001303 \tLearning rate: 0.000500\n",
      "\tAverage Loss: 0.001279 \tLearning rate: 0.000500\n",
      "\tAverage Loss: 0.001262 \tLearning rate: 0.000500\n",
      "\tAverage Loss: 0.001242 \tLearning rate: 0.000500\n",
      "\tAverage Loss: 0.001230 \tLearning rate: 0.000500\n",
      "\tAverage Loss: 0.001211 \tLearning rate: 0.000250\n",
      "\tAverage Loss: 0.001136 \tLearning rate: 0.000250\n",
      "\tAverage Loss: 0.001117 \tLearning rate: 0.000250\n",
      "\tAverage Loss: 0.001106 \tLearning rate: 0.000250\n",
      "\tAverage Loss: 0.001093 \tLearning rate: 0.000250\n",
      "\tAverage Loss: 0.001080 \tLearning rate: 0.000250\n",
      "\tAverage Loss: 0.001069 \tLearning rate: 0.000250\n",
      "\tAverage Loss: 0.001059 \tLearning rate: 0.000250\n",
      "\tAverage Loss: 0.001050 \tLearning rate: 0.000250\n",
      "\tAverage Loss: 0.001040 \tLearning rate: 0.000250\n",
      "\tAverage Loss: 0.001028 \tLearning rate: 0.000125\n",
      "Finished Fold 4\n"
     ]
    }
   ],
   "source": [
    "from torchmetrics.utilities.compute import auc\n",
    "from torchmetrics.classification import BinaryAUROC, BinaryPrecisionRecallCurve\n",
    "from maldi2resistance.data.driams import DriamsSingleAntibiotic\n",
    "from maldi2resistance.metric.PrecisionRecall import MultiLabelPRNan\n",
    "from pathlib import Path\n",
    "from maldi2resistance.metric.ROC import MultiLabelRocNan\n",
    "from maldi2resistance.loss.maskedLoss import MaskedBCE\n",
    "from tqdm.auto import tqdm\n",
    "import matplotlib.pyplot as plt\n",
    "import torch.nn.functional as F\n",
    "\n",
    "from torch.optim import Adam\n",
    "from torch.optim.lr_scheduler import StepLR\n",
    "\n",
    "print(\"Start training ...\")\n",
    "model.train()\n",
    "\n",
    "batch_size = 128\n",
    "fig_path = Path(\"./kfold/figures\")\n",
    "fig_path.mkdir(parents=True, exist_ok=True)\n",
    "\n",
    "loss_per_batch = []\n",
    "\n",
    "gen = torch.Generator()\n",
    "\n",
    "all_auc_roc_micro = []\n",
    "all_auc_pr_micro = []\n",
    "\n",
    "all_auc_roc_macro = []\n",
    "all_auc_pr_macro = []\n",
    "\n",
    "for fold, (train_data, test_data) in enumerate(driams.getK_fold(n_splits=5, shuffle=True, random_state= SEED)):\n",
    "    \n",
    "    train_dataset_single_antibiotic = DriamsSingleAntibiotic(driams= train_data)\n",
    "    test_dataset_single_antibiotic = DriamsSingleAntibiotic(driams= test_data)\n",
    "    \n",
    "    train_loader = DataLoader(train_dataset_single_antibiotic, batch_size=batch_size, shuffle=True, drop_last=True, generator= gen.manual_seed(SEED))\n",
    "    test_loader = DataLoader(test_dataset_single_antibiotic, batch_size=len(test_dataset_single_antibiotic), shuffle=True, drop_last=True, generator= gen.manual_seed(SEED))\n",
    "    \n",
    "    model.load_state_dict(model_state)\n",
    "    model.train()\n",
    "    \n",
    "    optimizer = Adam(model.parameters(), lr=1e-3, amsgrad = True)\n",
    "    scheduler = StepLR(optimizer, step_size=10, gamma=0.5)\n",
    "\n",
    "    for epoch in tqdm(range(30), leave= False, position=1):\n",
    "        overall_loss = 0\n",
    "        \n",
    "        for batch_idx, (x, y, pos) in enumerate(train_loader):\n",
    "    \n",
    "            x = x.to(DEVICE)\n",
    "            y = y.to(DEVICE)\n",
    "            pos = pos.to(DEVICE)\n",
    "            \n",
    "            optimizer.zero_grad()\n",
    "    \n",
    "            output = model(x, pos)\n",
    "        \n",
    "            loss = F.binary_cross_entropy_with_logits(output, y)\n",
    "            current_loss_value = loss.item()\n",
    "            loss_per_batch.append(current_loss_value)\n",
    "            \n",
    "            overall_loss += current_loss_value\n",
    "            \n",
    "            loss.backward()\n",
    "            optimizer.step()\n",
    "    \n",
    "        scheduler.step()\n",
    "        with tqdm.external_write_mode():\n",
    "            print(f\"\\tAverage Loss: {overall_loss / (batch_idx*batch_size):.6f} \\tLearning rate: {scheduler.get_last_lr()[0]:.6f}\")\n",
    "    \n",
    "    \n",
    "    print(f\"Finished Fold {fold}\")\n",
    "    \n",
    "    model.eval()\n",
    "    \n",
    "    DEVICE = torch.device(\"cpu\")\n",
    "    test_features, test_labels, test_pos = next(iter(test_loader))\n",
    "    test_features = test_features.to(DEVICE)\n",
    "    test_labels = test_labels.to(DEVICE)\n",
    "    test_pos = test_pos.to(DEVICE)\n",
    "    model = model.to(DEVICE)\n",
    "    \n",
    "    output = model(test_features, test_pos)\n",
    "    \n",
    "    auRoc = BinaryAUROC()\n",
    "    auc_roc = auRoc(output, test_labels.int())\n",
    "    all_auc_roc_micro.append(auc_roc)\n",
    "    \n",
    "    metric = BinaryPrecisionRecallCurve()\n",
    "    metric.update(output, test_labels.int())\n",
    "    precision, recall, thresholds = metric.compute()\n",
    "    aucPC = auc(recall, precision)\n",
    "    \n",
    "    all_auc_pr_micro.append(aucPC)\n",
    "    \n",
    "    macro_aucroc = 0\n",
    "    macro_aucpr = 0\n",
    "    \n",
    "    n_not_empty = 0\n",
    "    \n",
    "    for pos, antibiotic in enumerate(driams.selected_antibiotics):\n",
    "        out_part = output[test_pos == pos]\n",
    "        label_part = test_labels[test_pos == pos]\n",
    "        \n",
    "        occurrences = torch.bincount(label_part.int())\n",
    "\n",
    "        try:\n",
    "            if label_part.numel() == 0 or occurrences[1].item() == 0 or occurrences[0].item()== 0:\n",
    "                continue\n",
    "        except IndexError:\n",
    "            # no positives\n",
    "            continue\n",
    "        \n",
    "        au_roc = auRoc(out_part, label_part.int())\n",
    "        \n",
    "        metric.update(out_part, label_part.int())\n",
    "        precision, recall, thresholds = metric.compute()\n",
    "        aucPC = auc(recall, precision)\n",
    "        \n",
    "        n_not_empty +=1\n",
    "        macro_aucroc += au_roc.item()\n",
    "        macro_aucpr += aucPC.item()\n",
    "        \n",
    "        \n",
    "    macro_aucroc = macro_aucroc / n_not_empty\n",
    "    macro_aucpr = macro_aucpr / n_not_empty\n",
    "    \n",
    "    all_auc_roc_macro.append(macro_aucroc)\n",
    "    all_auc_pr_macro.append(macro_aucpr)\n",
    "    \n",
    "    DEVICE = torch.device(\"cuda\")\n",
    "    model = model.to(DEVICE)\n",
    "    "
   ]
  },
  {
   "cell_type": "code",
   "execution_count": null,
   "id": "ebb9df2adbe214c3",
   "metadata": {},
   "outputs": [
    {
     "name": "stdout",
     "output_type": "stream",
     "text": [
      "Mean\t: 0.9237663149833679\n",
      " SD \t: 0.0025326688773930073\n"
     ]
    }
   ],
   "source": [
    "import numpy as np\n",
    "\n",
    "print(f\"Mean\\t: {np.mean([x.cpu() for x in all_auc_roc_micro])}\")\n",
    "print(f\" SD \\t: {np.std([x.cpu() for x in all_auc_roc_micro]) }\")"
   ]
  },
  {
   "cell_type": "code",
   "execution_count": null,
   "id": "91fa4db5e2d4132d",
   "metadata": {},
   "outputs": [
    {
     "name": "stdout",
     "output_type": "stream",
     "text": [
      "Mean\t: 0.8487552404403687\n",
      " SD \t: 0.006737273186445236\n"
     ]
    }
   ],
   "source": [
    "print(f\"Mean\\t: {np.mean([x.cpu() for x in all_auc_pr_micro])}\")\n",
    "print(f\" SD \\t: {np.std([x.cpu() for x in all_auc_pr_micro]) }\")"
   ]
  },
  {
   "cell_type": "code",
   "execution_count": null,
   "id": "31265f000dbabc29",
   "metadata": {},
   "outputs": [
    {
     "name": "stdout",
     "output_type": "stream",
     "text": [
      "Mean\t: 0.8945469326094578\n",
      " SD \t: 0.0015447874055492755\n"
     ]
    }
   ],
   "source": [
    "import numpy as np\n",
    "\n",
    "print(f\"Mean\\t: {np.mean([x for x in all_auc_roc_macro])}\")\n",
    "print(f\" SD \\t: {np.std([x for x in all_auc_roc_macro]) }\")"
   ]
  },
  {
   "cell_type": "code",
   "execution_count": null,
   "id": "c084823efeba666",
   "metadata": {},
   "outputs": [
    {
     "name": "stdout",
     "output_type": "stream",
     "text": [
      "Mean\t: 0.8549697016414843\n",
      " SD \t: 0.006542385950118931\n"
     ]
    }
   ],
   "source": [
    "print(f\"Mean\\t: {np.mean([x for x in all_auc_pr_macro])}\")\n",
    "print(f\" SD \\t: {np.std([x for x in all_auc_pr_macro]) }\")"
   ]
  }
 ],
 "metadata": {
  "kernelspec": {
   "display_name": "Python 3 (ipykernel)",
   "language": "python",
   "name": "python3"
  },
  "language_info": {
   "codemirror_mode": {
    "name": "ipython",
    "version": 3
   },
   "file_extension": ".py",
   "mimetype": "text/x-python",
   "name": "python",
   "nbconvert_exporter": "python",
   "pygments_lexer": "ipython3"
  },
  "widgets": {
   "application/vnd.jupyter.widget-state+json": {
    "state": {},
    "version_major": 2,
    "version_minor": 0
   }
  }
 },
 "nbformat": 4,
 "nbformat_minor": 5
}
