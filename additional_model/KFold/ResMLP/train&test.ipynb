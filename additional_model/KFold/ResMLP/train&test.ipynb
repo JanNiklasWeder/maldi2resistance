{
 "cells": [
  {
   "cell_type": "markdown",
   "id": "3d89aed94233e3ff",
   "metadata": {},
   "source": [
    "# Fully connected feedforward network implementing a loss mask"
   ]
  },
  {
   "cell_type": "code",
   "execution_count": null,
   "id": "1eaaf570-0600-4d60-9fde-fcebcff3ce4c",
   "metadata": {},
   "outputs": [],
   "source": [
    "import torchmetrics.classification\n",
    "from torch import cuda\n",
    "assert cuda.is_available()\n",
    "assert cuda.device_count() > 0"
   ]
  },
  {
   "cell_type": "code",
   "execution_count": null,
   "id": "c7e50fb9-601f-425a-bf79-6441170b27dd",
   "metadata": {},
   "outputs": [
    {
     "name": "stdout",
     "output_type": "stream",
     "text": [
      "NVIDIA GeForce RTX 3060 Ti\n"
     ]
    }
   ],
   "source": [
    "print(cuda.get_device_name(cuda.current_device()))\n"
   ]
  },
  {
   "cell_type": "code",
   "execution_count": null,
   "id": "6c4b645f-6b5e-428e-855c-64b7e33ff874",
   "metadata": {},
   "outputs": [],
   "source": [
    "import torch\n",
    "import torch.nn as nn"
   ]
  },
  {
   "cell_type": "code",
   "execution_count": null,
   "id": "5e8a6650-ef2b-44f1-9ea8-78912b15e9a9",
   "metadata": {},
   "outputs": [
    {
     "data": {
      "text/plain": [
       "<torch._C.Generator at 0x7fda242eafb0>"
      ]
     },
     "execution_count": null,
     "metadata": {},
     "output_type": "execute_result"
    }
   ],
   "source": [
    "DEVICE = torch.device(\"cuda\")\n",
    "SEED = 76436278\n",
    "\n",
    "torch.manual_seed(SEED)"
   ]
  },
  {
   "cell_type": "markdown",
   "id": "23b5a248-98cc-42cc-99b2-49bdd5ca1f35",
   "metadata": {},
   "source": [
    "### Load the Dataset"
   ]
  },
  {
   "cell_type": "code",
   "execution_count": null,
   "id": "7a00707ac6b2975",
   "metadata": {},
   "outputs": [
    {
     "data": {
      "application/vnd.jupyter.widget-view+json": {
       "model_id": "19d52eb0f3ee4e63939f734a34a3f3b2",
       "version_major": 2,
       "version_minor": 0
      },
      "text/plain": [
       "Loading Spectra into Memory:   0%|          | 0/55780 [00:00<?, ?it/s]"
      ]
     },
     "metadata": {},
     "output_type": "display_data"
    },
    {
     "data": {
      "text/html": [
       "\n",
       "        <table>\n",
       "            <thead>\n",
       "                <tr>\n",
       "                    <th>Antibiotic:</th>\n",
       "                    <th> Amikacin </th><th> Amoxicillin-Clavulanic acid </th><th> Ampicillin </th><th> Ampicillin-Amoxicillin </th><th> Aztreonam </th><th> Benzylpenicillin </th><th> Cefazolin </th><th> Cefepime </th><th> Cefpodoxime </th><th> Ceftazidime </th><th> Ceftriaxone </th><th> Cefuroxime </th><th> Ciprofloxacin </th><th> Clarithromycin </th><th> Clindamycin </th><th> Colistin </th><th> Cotrimoxazole </th><th> Ertapenem </th><th> Erythromycin </th><th> Fosfomycin </th><th> Fosfomycin-Trometamol </th><th> Fusidic acid </th><th> Gentamicin </th><th> Imipenem </th><th> Levofloxacin </th><th> Meropenem </th><th> Mupirocin </th><th> Nitrofurantoin </th><th> Norfloxacin </th><th> Oxacillin </th><th> Penicillin </th><th> Piperacillin-Tazobactam </th><th> Polymyxin B </th><th> Rifampicin </th><th> Teicoplanin </th><th> Tetracycline </th><th> Tobramycin </th><th> Vancomycin </th>\n",
       "                </tr>\n",
       "            </thead>\n",
       "            <tbody>\n",
       "                <tr>\n",
       "                    <td>Number resistant:</td>\n",
       "                    <td> 1068 </td><td> 13366 </td><td> 8578 </td><td> 21966 </td><td> 628 </td><td> 618 </td><td> 4223 </td><td> 7383 </td><td> 2338 </td><td> 3470 </td><td> 8659 </td><td> 5855 </td><td> 9338 </td><td> 310 </td><td> 4381 </td><td> 2874 </td><td> 7405 </td><td> 427 </td><td> 5468 </td><td> 2303 </td><td> 1326 </td><td> 3620 </td><td> 3481 </td><td> 7560 </td><td> 4217 </td><td> 5194 </td><td> 570 </td><td> 1271 </td><td> 1205 </td><td> 5537 </td><td> 12431 </td><td> 7616 </td><td> 486 </td><td> 580 </td><td> 244 </td><td> 3534 </td><td> 1707 </td><td> 227 </td>\n",
       "                </tr>\n",
       "                <tr>\n",
       "                    <td>Number susceptible:</td>\n",
       "                    <td> 20941 </td><td> 24992 </td><td> 4194 </td><td> 4905 </td><td> 456 </td><td> 457 </td><td> 5813 </td><td> 31567 </td><td> 4382 </td><td> 24566 </td><td> 28464 </td><td> 8368 </td><td> 36822 </td><td> 1262 </td><td> 9841 </td><td> 15784 </td><td> 24590 </td><td> 21740 </td><td> 9044 </td><td> 10184 </td><td> 4803 </td><td> 8498 </td><td> 22662 </td><td> 31717 </td><td> 17989 </td><td> 27228 </td><td> 4656 </td><td> 3603 </td><td> 7031 </td><td> 7740 </td><td> 4286 </td><td> 31308 </td><td> 2305 </td><td> 14964 </td><td> 8486 </td><td> 10376 </td><td> 16809 </td><td> 20540 </td>\n",
       "                </tr>\n",
       "                <tr>\n",
       "                    <td>Number data points:</td>\n",
       "                    <td> 22009 </td><td> 38358 </td><td> 12772 </td><td> 26871 </td><td> 1084 </td><td> 1075 </td><td> 10036 </td><td> 38950 </td><td> 6720 </td><td> 28036 </td><td> 37123 </td><td> 14223 </td><td> 46160 </td><td> 1572 </td><td> 14222 </td><td> 18658 </td><td> 31995 </td><td> 22167 </td><td> 14512 </td><td> 12487 </td><td> 6129 </td><td> 12118 </td><td> 26143 </td><td> 39277 </td><td> 22206 </td><td> 32422 </td><td> 5226 </td><td> 4874 </td><td> 8236 </td><td> 13277 </td><td> 16717 </td><td> 38924 </td><td> 2791 </td><td> 15544 </td><td> 8730 </td><td> 13910 </td><td> 18516 </td><td> 20767 </td>\n",
       "                </tr>\n",
       "            </tbody>\n",
       "        </table>\n",
       "                "
      ],
      "text/plain": [
       "<src.maldi2resistance.data.driams.Driams at 0x7fd99895c9d0>"
      ]
     },
     "execution_count": null,
     "metadata": {},
     "output_type": "execute_result"
    }
   ],
   "source": [
    "from src.maldi2resistance.data.driams import Driams\n",
    "\n",
    "driams = Driams(\n",
    "    root_dir=\"/home/jan/Uni/master/data/Driams\",\n",
    ")\n",
    "\n",
    "driams.loading_type = \"memory\"\n",
    "\n",
    "driams"
   ]
  },
  {
   "cell_type": "code",
   "execution_count": null,
   "id": "fbbd28ab5fd2a857",
   "metadata": {},
   "outputs": [
    {
     "data": {
      "text/plain": [
       "38"
      ]
     },
     "execution_count": null,
     "metadata": {},
     "output_type": "execute_result"
    }
   ],
   "source": [
    "len(driams.label_stats.columns)"
   ]
  },
  {
   "cell_type": "code",
   "execution_count": null,
   "id": "da7e25095a26c4aa",
   "metadata": {},
   "outputs": [],
   "source": [
    "from multimodal_amr.models.modules import ResMLP\n",
    "from torch import nn\n",
    "\n",
    "\n",
    "class Residual_AMR_Classifier(nn.Module):\n",
    "    \"\"\"Overall model definition.\"\"\"\n",
    "\n",
    "    def __init__(self, config, n_input_spectrum, n_input_drug):\n",
    "        super().__init__()\n",
    "        self.config = config\n",
    "\n",
    "        # Sample embedding\n",
    "        if config[\"species_embedding_dim\"]==0 and config[\"conv_out_size\"]==config[\"sample_embedding_dim\"]:\n",
    "            self.sample_emb = nn.Identity()\n",
    "        elif config[\"species_embedding_dim\"]==0:\n",
    "            self.sample_emb = nn.Linear(\n",
    "                config[\"conv_out_size\"],\n",
    "                config[\"sample_embedding_dim\"],\n",
    "            )\n",
    "        else:\n",
    "            self.sample_emb = nn.Linear(\n",
    "                config[\"conv_out_size\"] + config[\"species_embedding_dim\"],\n",
    "                config[\"sample_embedding_dim\"],\n",
    "            )\n",
    "\n",
    "        self.spectrum_emb = nn.Linear(n_input_spectrum ,config[\"conv_out_size\"])\n",
    "\n",
    "        # Drugs layers\n",
    "        # if config[\"drug_emb_type\"] == \"vae_embedding\" or config[\"drug_emb_type\"] == \"gnn_embedding\":\n",
    "        #     self.drug_emb = nn.Identity()\n",
    "        # elif config[\"drug_emb_type\"] == \"fingerprint\":\n",
    "        self.drug_emb = nn.Linear(\n",
    "            n_input_drug, config[\"drug_embedding_dim\"]\n",
    "        )\n",
    "\n",
    "        # Output network\n",
    "        self.net = ResMLP(\n",
    "            config[\"n_hidden_layers\"],\n",
    "            config[\"sample_embedding_dim\"] + config[\"drug_embedding_dim\"],\n",
    "            1,\n",
    "            p_dropout=0.2,\n",
    "        )\n",
    "\n",
    "    def forward(self, spectrum, fingerprint):\n",
    "        spectrum_embedding = self.spectrum_emb(spectrum)\n",
    "        dr_emb = self.drug_emb(fingerprint)\n",
    "\n",
    "        return self.net(torch.cat([dr_emb, spectrum_embedding], dim=1))\n",
    "\n",
    "\n",
    "\n",
    "\n",
    "conf = {\n",
    "    \"conv_out_size\": 512,\n",
    "    \"species_embedding_dim\":0,\n",
    "    \"sample_embedding_dim\":512,\n",
    "    \"drug_embedding_dim\":512,\n",
    "    \"n_hidden_layers\": 5,\n",
    "}\n",
    "        "
   ]
  },
  {
   "cell_type": "code",
   "execution_count": null,
   "id": "b81bd526-6a9c-4520-b121-9c01b4eb804a",
   "metadata": {},
   "outputs": [],
   "source": [
    "import copy\n",
    "\n",
    "model = Residual_AMR_Classifier(config= conf,n_input_spectrum = driams.n_bins, n_input_drug= 1024)\n",
    "model = model.to(DEVICE)\n",
    "\n",
    "model_state = copy.deepcopy(model.state_dict()) "
   ]
  },
  {
   "cell_type": "code",
   "execution_count": null,
   "id": "c2141367c5e63316",
   "metadata": {},
   "outputs": [
    {
     "name": "stdout",
     "output_type": "stream",
     "text": [
      "======================================================================\n",
      "Layer (type:depth-idx)                        Param #\n",
      "======================================================================\n",
      "Residual_AMR_Classifier                       --\n",
      "├─Identity: 1-1                               --\n",
      "├─Linear: 1-2                                 9,216,512\n",
      "├─Linear: 1-3                                 524,800\n",
      "├─ResMLP: 1-4                                 --\n",
      "│    └─Sequential: 2-1                        --\n",
      "│    │    └─ResBlock: 3-1                     1,051,648\n",
      "│    │    └─ResBlock: 3-2                     1,051,648\n",
      "│    │    └─ResBlock: 3-3                     1,051,648\n",
      "│    │    └─ResBlock: 3-4                     1,051,648\n",
      "│    │    └─ResBlock: 3-5                     1,051,648\n",
      "│    │    └─Linear: 3-6                       1,025\n",
      "======================================================================\n",
      "Total params: 15,000,577\n",
      "Trainable params: 15,000,577\n",
      "Non-trainable params: 0\n",
      "======================================================================\n"
     ]
    }
   ],
   "source": [
    "from torchinfo import summary\n",
    "\n",
    "print(summary(model))"
   ]
  },
  {
   "cell_type": "code",
   "execution_count": null,
   "id": "e361914c-9fb8-4a94-bb2c-95a3b68cda0b",
   "metadata": {},
   "outputs": [],
   "source": [
    "from torch.utils.data import DataLoader"
   ]
  },
  {
   "cell_type": "code",
   "execution_count": null,
   "id": "a96643a0-bd63-437b-a676-f3a4a1826910",
   "metadata": {},
   "outputs": [
    {
     "name": "stdout",
     "output_type": "stream",
     "text": [
      "Start training ...\n"
     ]
    },
    {
     "data": {
      "application/vnd.jupyter.widget-view+json": {
       "model_id": "9063c522bcf5460fb19c487d53bb8ee4",
       "version_major": 2,
       "version_minor": 0
      },
      "text/plain": [
       "Create single label Dataset:   0%|          | 0/44624 [00:00<?, ?it/s]"
      ]
     },
     "metadata": {},
     "output_type": "display_data"
    },
    {
     "data": {
      "application/vnd.jupyter.widget-view+json": {
       "model_id": "4b901f0795d248058fbc941aba4a82c5",
       "version_major": 2,
       "version_minor": 0
      },
      "text/plain": [
       "Create single label Dataset:   0%|          | 0/11156 [00:00<?, ?it/s]"
      ]
     },
     "metadata": {},
     "output_type": "display_data"
    },
    {
     "data": {
      "application/vnd.jupyter.widget-view+json": {
       "model_id": "0ada7eae9dd94fc0ad8e1b195d3728b4",
       "version_major": 2,
       "version_minor": 0
      },
      "text/plain": [
       "  0%|          | 0/30 [00:00<?, ?it/s]"
      ]
     },
     "metadata": {},
     "output_type": "display_data"
    },
    {
     "name": "stdout",
     "output_type": "stream",
     "text": [
      "\tAverage Loss: 0.002588 \tLearning rate: 0.001000\n",
      "\tAverage Loss: 0.002093 \tLearning rate: 0.001000\n",
      "\tAverage Loss: 0.001869 \tLearning rate: 0.001000\n",
      "\tAverage Loss: 0.001712 \tLearning rate: 0.001000\n",
      "\tAverage Loss: 0.001590 \tLearning rate: 0.001000\n",
      "\tAverage Loss: 0.001498 \tLearning rate: 0.001000\n",
      "\tAverage Loss: 0.001415 \tLearning rate: 0.001000\n",
      "\tAverage Loss: 0.001347 \tLearning rate: 0.001000\n",
      "\tAverage Loss: 0.001284 \tLearning rate: 0.001000\n",
      "\tAverage Loss: 0.001220 \tLearning rate: 0.000500\n",
      "\tAverage Loss: 0.001049 \tLearning rate: 0.000500\n",
      "\tAverage Loss: 0.000996 \tLearning rate: 0.000500\n",
      "\tAverage Loss: 0.000952 \tLearning rate: 0.000500\n",
      "\tAverage Loss: 0.000912 \tLearning rate: 0.000500\n",
      "\tAverage Loss: 0.000868 \tLearning rate: 0.000500\n",
      "\tAverage Loss: 0.000831 \tLearning rate: 0.000500\n",
      "\tAverage Loss: 0.000797 \tLearning rate: 0.000500\n",
      "\tAverage Loss: 0.000759 \tLearning rate: 0.000500\n",
      "\tAverage Loss: 0.000729 \tLearning rate: 0.000500\n",
      "\tAverage Loss: 0.000701 \tLearning rate: 0.000250\n",
      "\tAverage Loss: 0.000586 \tLearning rate: 0.000250\n",
      "\tAverage Loss: 0.000554 \tLearning rate: 0.000250\n",
      "\tAverage Loss: 0.000530 \tLearning rate: 0.000250\n",
      "\tAverage Loss: 0.000509 \tLearning rate: 0.000250\n",
      "\tAverage Loss: 0.000491 \tLearning rate: 0.000250\n",
      "\tAverage Loss: 0.000470 \tLearning rate: 0.000250\n",
      "\tAverage Loss: 0.000455 \tLearning rate: 0.000250\n",
      "\tAverage Loss: 0.000437 \tLearning rate: 0.000250\n",
      "\tAverage Loss: 0.000422 \tLearning rate: 0.000250\n",
      "\tAverage Loss: 0.000403 \tLearning rate: 0.000125\n",
      "Finished Fold 0\n"
     ]
    },
    {
     "data": {
      "application/vnd.jupyter.widget-view+json": {
       "model_id": "ca04f6cca96545de924e0666a3143d9e",
       "version_major": 2,
       "version_minor": 0
      },
      "text/plain": [
       "Create single label Dataset:   0%|          | 0/11156 [00:00<?, ?it/s]"
      ]
     },
     "metadata": {},
     "output_type": "display_data"
    },
    {
     "data": {
      "application/vnd.jupyter.widget-view+json": {
       "model_id": "82e6ffc993684c62ad30f08ff4c69305",
       "version_major": 2,
       "version_minor": 0
      },
      "text/plain": [
       "Create single label Dataset:   0%|          | 0/44624 [00:00<?, ?it/s]"
      ]
     },
     "metadata": {},
     "output_type": "display_data"
    },
    {
     "data": {
      "application/vnd.jupyter.widget-view+json": {
       "model_id": "f9ee0112fb3646bcb0a8d6189a04d37f",
       "version_major": 2,
       "version_minor": 0
      },
      "text/plain": [
       "Create single label Dataset:   0%|          | 0/11156 [00:00<?, ?it/s]"
      ]
     },
     "metadata": {},
     "output_type": "display_data"
    },
    {
     "data": {
      "application/vnd.jupyter.widget-view+json": {
       "model_id": "3f09d7d39c954e3aaae30e6eb569d6a6",
       "version_major": 2,
       "version_minor": 0
      },
      "text/plain": [
       "  0%|          | 0/30 [00:00<?, ?it/s]"
      ]
     },
     "metadata": {},
     "output_type": "display_data"
    },
    {
     "name": "stdout",
     "output_type": "stream",
     "text": [
      "\tAverage Loss: 0.002580 \tLearning rate: 0.001000\n",
      "\tAverage Loss: 0.002095 \tLearning rate: 0.001000\n",
      "\tAverage Loss: 0.001864 \tLearning rate: 0.001000\n",
      "\tAverage Loss: 0.001705 \tLearning rate: 0.001000\n",
      "\tAverage Loss: 0.001576 \tLearning rate: 0.001000\n",
      "\tAverage Loss: 0.001475 \tLearning rate: 0.001000\n",
      "\tAverage Loss: 0.001394 \tLearning rate: 0.001000\n",
      "\tAverage Loss: 0.001321 \tLearning rate: 0.001000\n",
      "\tAverage Loss: 0.001263 \tLearning rate: 0.001000\n",
      "\tAverage Loss: 0.001207 \tLearning rate: 0.000500\n",
      "\tAverage Loss: 0.001026 \tLearning rate: 0.000500\n",
      "\tAverage Loss: 0.000975 \tLearning rate: 0.000500\n",
      "\tAverage Loss: 0.000927 \tLearning rate: 0.000500\n",
      "\tAverage Loss: 0.000893 \tLearning rate: 0.000500\n",
      "\tAverage Loss: 0.000847 \tLearning rate: 0.000500\n",
      "\tAverage Loss: 0.000814 \tLearning rate: 0.000500\n",
      "\tAverage Loss: 0.000782 \tLearning rate: 0.000500\n",
      "\tAverage Loss: 0.000747 \tLearning rate: 0.000500\n",
      "\tAverage Loss: 0.000720 \tLearning rate: 0.000500\n",
      "\tAverage Loss: 0.000688 \tLearning rate: 0.000250\n",
      "\tAverage Loss: 0.000574 \tLearning rate: 0.000250\n",
      "\tAverage Loss: 0.000545 \tLearning rate: 0.000250\n",
      "\tAverage Loss: 0.000524 \tLearning rate: 0.000250\n",
      "\tAverage Loss: 0.000502 \tLearning rate: 0.000250\n",
      "\tAverage Loss: 0.000482 \tLearning rate: 0.000250\n",
      "\tAverage Loss: 0.000466 \tLearning rate: 0.000250\n",
      "\tAverage Loss: 0.000449 \tLearning rate: 0.000250\n",
      "\tAverage Loss: 0.000434 \tLearning rate: 0.000250\n",
      "\tAverage Loss: 0.000417 \tLearning rate: 0.000250\n",
      "\tAverage Loss: 0.000404 \tLearning rate: 0.000125\n",
      "Finished Fold 1\n"
     ]
    },
    {
     "data": {
      "application/vnd.jupyter.widget-view+json": {
       "model_id": "6a8277afa99f4938aa6616df855f6da9",
       "version_major": 2,
       "version_minor": 0
      },
      "text/plain": [
       "Create single label Dataset:   0%|          | 0/11156 [00:00<?, ?it/s]"
      ]
     },
     "metadata": {},
     "output_type": "display_data"
    },
    {
     "data": {
      "application/vnd.jupyter.widget-view+json": {
       "model_id": "637df74ead6543ea88e4512568ec78fa",
       "version_major": 2,
       "version_minor": 0
      },
      "text/plain": [
       "Create single label Dataset:   0%|          | 0/44624 [00:00<?, ?it/s]"
      ]
     },
     "metadata": {},
     "output_type": "display_data"
    },
    {
     "data": {
      "application/vnd.jupyter.widget-view+json": {
       "model_id": "d94945f6c2ba45dab4d78b44e2ad1f84",
       "version_major": 2,
       "version_minor": 0
      },
      "text/plain": [
       "Create single label Dataset:   0%|          | 0/11156 [00:00<?, ?it/s]"
      ]
     },
     "metadata": {},
     "output_type": "display_data"
    },
    {
     "data": {
      "application/vnd.jupyter.widget-view+json": {
       "model_id": "0455ad24a0d14478ad6bfffa804f99d7",
       "version_major": 2,
       "version_minor": 0
      },
      "text/plain": [
       "  0%|          | 0/30 [00:00<?, ?it/s]"
      ]
     },
     "metadata": {},
     "output_type": "display_data"
    },
    {
     "name": "stdout",
     "output_type": "stream",
     "text": [
      "\tAverage Loss: 0.002590 \tLearning rate: 0.001000\n",
      "\tAverage Loss: 0.002096 \tLearning rate: 0.001000\n",
      "\tAverage Loss: 0.001876 \tLearning rate: 0.001000\n",
      "\tAverage Loss: 0.001714 \tLearning rate: 0.001000\n",
      "\tAverage Loss: 0.001590 \tLearning rate: 0.001000\n",
      "\tAverage Loss: 0.001494 \tLearning rate: 0.001000\n",
      "\tAverage Loss: 0.001407 \tLearning rate: 0.001000\n",
      "\tAverage Loss: 0.001341 \tLearning rate: 0.001000\n",
      "\tAverage Loss: 0.001276 \tLearning rate: 0.001000\n",
      "\tAverage Loss: 0.001220 \tLearning rate: 0.000500\n",
      "\tAverage Loss: 0.001043 \tLearning rate: 0.000500\n",
      "\tAverage Loss: 0.000986 \tLearning rate: 0.000500\n",
      "\tAverage Loss: 0.000943 \tLearning rate: 0.000500\n",
      "\tAverage Loss: 0.000901 \tLearning rate: 0.000500\n",
      "\tAverage Loss: 0.000860 \tLearning rate: 0.000500\n",
      "\tAverage Loss: 0.000828 \tLearning rate: 0.000500\n",
      "\tAverage Loss: 0.000788 \tLearning rate: 0.000500\n",
      "\tAverage Loss: 0.000755 \tLearning rate: 0.000500\n",
      "\tAverage Loss: 0.000721 \tLearning rate: 0.000500\n",
      "\tAverage Loss: 0.000688 \tLearning rate: 0.000250\n",
      "\tAverage Loss: 0.000571 \tLearning rate: 0.000250\n",
      "\tAverage Loss: 0.000544 \tLearning rate: 0.000250\n",
      "\tAverage Loss: 0.000516 \tLearning rate: 0.000250\n",
      "\tAverage Loss: 0.000494 \tLearning rate: 0.000250\n",
      "\tAverage Loss: 0.000476 \tLearning rate: 0.000250\n",
      "\tAverage Loss: 0.000455 \tLearning rate: 0.000250\n",
      "\tAverage Loss: 0.000435 \tLearning rate: 0.000250\n",
      "\tAverage Loss: 0.000419 \tLearning rate: 0.000250\n",
      "\tAverage Loss: 0.000406 \tLearning rate: 0.000250\n",
      "\tAverage Loss: 0.000392 \tLearning rate: 0.000125\n",
      "Finished Fold 2\n"
     ]
    },
    {
     "data": {
      "application/vnd.jupyter.widget-view+json": {
       "model_id": "77ea2cc980fd4e9a9d2601e742a0b543",
       "version_major": 2,
       "version_minor": 0
      },
      "text/plain": [
       "Create single label Dataset:   0%|          | 0/11156 [00:00<?, ?it/s]"
      ]
     },
     "metadata": {},
     "output_type": "display_data"
    },
    {
     "data": {
      "application/vnd.jupyter.widget-view+json": {
       "model_id": "f2f3adc6478d449592ca05a3ee7005d0",
       "version_major": 2,
       "version_minor": 0
      },
      "text/plain": [
       "Create single label Dataset:   0%|          | 0/44624 [00:00<?, ?it/s]"
      ]
     },
     "metadata": {},
     "output_type": "display_data"
    },
    {
     "data": {
      "application/vnd.jupyter.widget-view+json": {
       "model_id": "da5b29e5a10a42bf8027f463b89f9ad8",
       "version_major": 2,
       "version_minor": 0
      },
      "text/plain": [
       "Create single label Dataset:   0%|          | 0/11156 [00:00<?, ?it/s]"
      ]
     },
     "metadata": {},
     "output_type": "display_data"
    },
    {
     "data": {
      "application/vnd.jupyter.widget-view+json": {
       "model_id": "76e8cd5c63344218b4906c08247fef56",
       "version_major": 2,
       "version_minor": 0
      },
      "text/plain": [
       "  0%|          | 0/30 [00:00<?, ?it/s]"
      ]
     },
     "metadata": {},
     "output_type": "display_data"
    },
    {
     "name": "stdout",
     "output_type": "stream",
     "text": [
      "\tAverage Loss: 0.002576 \tLearning rate: 0.001000\n",
      "\tAverage Loss: 0.002091 \tLearning rate: 0.001000\n",
      "\tAverage Loss: 0.001857 \tLearning rate: 0.001000\n",
      "\tAverage Loss: 0.001697 \tLearning rate: 0.001000\n",
      "\tAverage Loss: 0.001569 \tLearning rate: 0.001000\n",
      "\tAverage Loss: 0.001477 \tLearning rate: 0.001000\n",
      "\tAverage Loss: 0.001407 \tLearning rate: 0.001000\n",
      "\tAverage Loss: 0.001329 \tLearning rate: 0.001000\n",
      "\tAverage Loss: 0.001258 \tLearning rate: 0.001000\n",
      "\tAverage Loss: 0.001193 \tLearning rate: 0.000500\n",
      "\tAverage Loss: 0.001019 \tLearning rate: 0.000500\n",
      "\tAverage Loss: 0.000966 \tLearning rate: 0.000500\n",
      "\tAverage Loss: 0.000925 \tLearning rate: 0.000500\n",
      "\tAverage Loss: 0.000884 \tLearning rate: 0.000500\n",
      "\tAverage Loss: 0.000845 \tLearning rate: 0.000500\n",
      "\tAverage Loss: 0.000810 \tLearning rate: 0.000500\n",
      "\tAverage Loss: 0.000776 \tLearning rate: 0.000500\n",
      "\tAverage Loss: 0.000743 \tLearning rate: 0.000500\n",
      "\tAverage Loss: 0.000709 \tLearning rate: 0.000500\n",
      "\tAverage Loss: 0.000674 \tLearning rate: 0.000250\n",
      "\tAverage Loss: 0.000564 \tLearning rate: 0.000250\n",
      "\tAverage Loss: 0.000530 \tLearning rate: 0.000250\n",
      "\tAverage Loss: 0.000508 \tLearning rate: 0.000250\n",
      "\tAverage Loss: 0.000489 \tLearning rate: 0.000250\n",
      "\tAverage Loss: 0.000466 \tLearning rate: 0.000250\n",
      "\tAverage Loss: 0.000448 \tLearning rate: 0.000250\n",
      "\tAverage Loss: 0.000434 \tLearning rate: 0.000250\n",
      "\tAverage Loss: 0.000417 \tLearning rate: 0.000250\n",
      "\tAverage Loss: 0.000402 \tLearning rate: 0.000250\n",
      "\tAverage Loss: 0.000388 \tLearning rate: 0.000125\n",
      "Finished Fold 3\n"
     ]
    },
    {
     "data": {
      "application/vnd.jupyter.widget-view+json": {
       "model_id": "026e25fd992f404b8f2a5570fb121afd",
       "version_major": 2,
       "version_minor": 0
      },
      "text/plain": [
       "Create single label Dataset:   0%|          | 0/11156 [00:00<?, ?it/s]"
      ]
     },
     "metadata": {},
     "output_type": "display_data"
    },
    {
     "data": {
      "application/vnd.jupyter.widget-view+json": {
       "model_id": "9581c248b19b4914b22b1a2283300165",
       "version_major": 2,
       "version_minor": 0
      },
      "text/plain": [
       "Create single label Dataset:   0%|          | 0/44624 [00:00<?, ?it/s]"
      ]
     },
     "metadata": {},
     "output_type": "display_data"
    },
    {
     "data": {
      "application/vnd.jupyter.widget-view+json": {
       "model_id": "58c6cf6913a74152a0f4c0377fbb6972",
       "version_major": 2,
       "version_minor": 0
      },
      "text/plain": [
       "Create single label Dataset:   0%|          | 0/11156 [00:00<?, ?it/s]"
      ]
     },
     "metadata": {},
     "output_type": "display_data"
    },
    {
     "data": {
      "application/vnd.jupyter.widget-view+json": {
       "model_id": "885b5fbcb4af46a0a597f7370e269086",
       "version_major": 2,
       "version_minor": 0
      },
      "text/plain": [
       "  0%|          | 0/30 [00:00<?, ?it/s]"
      ]
     },
     "metadata": {},
     "output_type": "display_data"
    },
    {
     "name": "stdout",
     "output_type": "stream",
     "text": [
      "\tAverage Loss: 0.002573 \tLearning rate: 0.001000\n",
      "\tAverage Loss: 0.002094 \tLearning rate: 0.001000\n",
      "\tAverage Loss: 0.001866 \tLearning rate: 0.001000\n",
      "\tAverage Loss: 0.001707 \tLearning rate: 0.001000\n",
      "\tAverage Loss: 0.001587 \tLearning rate: 0.001000\n",
      "\tAverage Loss: 0.001495 \tLearning rate: 0.001000\n",
      "\tAverage Loss: 0.001416 \tLearning rate: 0.001000\n",
      "\tAverage Loss: 0.001341 \tLearning rate: 0.001000\n",
      "\tAverage Loss: 0.001272 \tLearning rate: 0.001000\n",
      "\tAverage Loss: 0.001214 \tLearning rate: 0.000500\n",
      "\tAverage Loss: 0.001046 \tLearning rate: 0.000500\n",
      "\tAverage Loss: 0.000988 \tLearning rate: 0.000500\n",
      "\tAverage Loss: 0.000944 \tLearning rate: 0.000500\n",
      "\tAverage Loss: 0.000906 \tLearning rate: 0.000500\n",
      "\tAverage Loss: 0.000865 \tLearning rate: 0.000500\n",
      "\tAverage Loss: 0.000831 \tLearning rate: 0.000500\n",
      "\tAverage Loss: 0.000795 \tLearning rate: 0.000500\n",
      "\tAverage Loss: 0.000763 \tLearning rate: 0.000500\n",
      "\tAverage Loss: 0.000733 \tLearning rate: 0.000500\n",
      "\tAverage Loss: 0.000702 \tLearning rate: 0.000250\n",
      "\tAverage Loss: 0.000587 \tLearning rate: 0.000250\n",
      "\tAverage Loss: 0.000558 \tLearning rate: 0.000250\n",
      "\tAverage Loss: 0.000533 \tLearning rate: 0.000250\n",
      "\tAverage Loss: 0.000509 \tLearning rate: 0.000250\n",
      "\tAverage Loss: 0.000493 \tLearning rate: 0.000250\n",
      "\tAverage Loss: 0.000471 \tLearning rate: 0.000250\n",
      "\tAverage Loss: 0.000455 \tLearning rate: 0.000250\n",
      "\tAverage Loss: 0.000439 \tLearning rate: 0.000250\n",
      "\tAverage Loss: 0.000424 \tLearning rate: 0.000250\n",
      "\tAverage Loss: 0.000406 \tLearning rate: 0.000125\n",
      "Finished Fold 4\n"
     ]
    },
    {
     "data": {
      "application/vnd.jupyter.widget-view+json": {
       "model_id": "f1359232647741ee9cfef1b6158fd018",
       "version_major": 2,
       "version_minor": 0
      },
      "text/plain": [
       "Create single label Dataset:   0%|          | 0/11156 [00:00<?, ?it/s]"
      ]
     },
     "metadata": {},
     "output_type": "display_data"
    }
   ],
   "source": [
    "from torchmetrics.utilities.compute import auc\n",
    "from torchmetrics.classification import BinaryAUROC, BinaryPrecisionRecallCurve\n",
    "from maldi2resistance.data.driams import DriamsSingleAntibiotic\n",
    "from maldi2resistance.metric.PrecisionRecall import MultiLabelPRNan\n",
    "from pathlib import Path\n",
    "from maldi2resistance.metric.ROC import MultiLabelRocNan\n",
    "from maldi2resistance.loss.maskedLoss import MaskedBCE\n",
    "from tqdm.auto import tqdm\n",
    "import matplotlib.pyplot as plt\n",
    "import torch.nn.functional as F\n",
    "\n",
    "from torch.optim import Adam\n",
    "from torch.optim.lr_scheduler import StepLR\n",
    "\n",
    "print(\"Start training ...\")\n",
    "model.train()\n",
    "\n",
    "batch_size = 128\n",
    "fig_path = Path(\"./kfold/figures\")\n",
    "fig_path.mkdir(parents=True, exist_ok=True)\n",
    "\n",
    "loss_per_batch = []\n",
    "\n",
    "gen = torch.Generator()\n",
    "\n",
    "all_auc_roc_micro = []\n",
    "all_auc_pr_micro = []\n",
    "\n",
    "all_auc_roc_macro = []\n",
    "all_auc_pr_macro = []\n",
    "\n",
    "for fold, (train_data, test_data) in enumerate(driams.getK_fold(n_splits=5, shuffle=True, random_state= SEED)):\n",
    "    \n",
    "    train_dataset_single_antibiotic = DriamsSingleAntibiotic(driams= train_data, use_morganFingerprint4Drug=True)\n",
    "    test_dataset_single_antibiotic = DriamsSingleAntibiotic(driams= test_data, use_morganFingerprint4Drug=True)\n",
    "    \n",
    "    train_loader = DataLoader(train_dataset_single_antibiotic, batch_size=batch_size, shuffle=True, drop_last=True, generator= gen.manual_seed(SEED))\n",
    "    test_loader = DataLoader(test_dataset_single_antibiotic, batch_size=len(test_dataset_single_antibiotic), shuffle=True, drop_last=True, generator= gen.manual_seed(SEED))\n",
    "    \n",
    "    model.load_state_dict(model_state)\n",
    "    model.train()\n",
    "    \n",
    "    optimizer = Adam(model.parameters(), lr=1e-3, amsgrad = True)\n",
    "    scheduler = StepLR(optimizer, step_size=10, gamma=0.5)\n",
    "\n",
    "    for epoch in tqdm(range(30), leave= False, position=1):\n",
    "        overall_loss = 0\n",
    "        \n",
    "        for batch_idx, (x, y, pos) in enumerate(train_loader):\n",
    "    \n",
    "            x = x.to(DEVICE)\n",
    "            y = y.to(DEVICE)\n",
    "            pos = pos.to(DEVICE)\n",
    "            \n",
    "            optimizer.zero_grad()\n",
    "    \n",
    "            output = model(x, pos)\n",
    "        \n",
    "            loss = F.binary_cross_entropy_with_logits(torch.squeeze(output), y)\n",
    "            current_loss_value = loss.item()\n",
    "            loss_per_batch.append(current_loss_value)\n",
    "            \n",
    "            overall_loss += current_loss_value\n",
    "            \n",
    "            loss.backward()\n",
    "            optimizer.step()\n",
    "    \n",
    "        scheduler.step()\n",
    "        with tqdm.external_write_mode():\n",
    "            print(f\"\\tAverage Loss: {overall_loss / (batch_idx*batch_size):.6f} \\tLearning rate: {scheduler.get_last_lr()[0]:.6f}\")\n",
    "        \n",
    "    print(f\"Finished Fold {fold}\")\n",
    "    \n",
    "    model.eval()\n",
    "    \n",
    "    DEVICE = torch.device(\"cpu\")\n",
    "    test_features, test_labels, test_pos = next(iter(test_loader))\n",
    "    test_features = test_features.to(DEVICE)\n",
    "    test_labels = test_labels.to(DEVICE)\n",
    "    test_pos = test_pos.to(DEVICE)\n",
    "    model = model.to(DEVICE)\n",
    "    \n",
    "    output = model(test_features, test_pos)\n",
    "    output = torch.squeeze(output)\n",
    "    \n",
    "    auRoc = BinaryAUROC()\n",
    "    auc_roc = auRoc(output, test_labels.int())\n",
    "    all_auc_roc_micro.append(auc_roc)\n",
    "    \n",
    "    metric = BinaryPrecisionRecallCurve()\n",
    "    metric.update(output, test_labels.int())\n",
    "    precision, recall, thresholds = metric.compute()\n",
    "    aucPC = auc(recall, precision)\n",
    "    \n",
    "    all_auc_pr_micro.append(aucPC)\n",
    "    \n",
    "    macro_aucroc = 0\n",
    "    macro_aucpr = 0\n",
    "    \n",
    "    n_not_empty = 0\n",
    "    \n",
    "    test_dataset_single_antibiotic = DriamsSingleAntibiotic(driams= test_data, use_morganFingerprint4Drug= False)\n",
    "    test_loader = DataLoader(test_dataset_single_antibiotic, batch_size=len(test_dataset_single_antibiotic), shuffle=True)\n",
    "    _, _, test_pos = next(iter(test_loader))\n",
    "    \n",
    "    for pos, antibiotic in enumerate(driams.selected_antibiotics):\n",
    "        out_part = output[test_pos == pos]\n",
    "        label_part = test_labels[test_pos == pos]\n",
    "        \n",
    "        occurrences = torch.bincount(label_part.int())\n",
    "\n",
    "        try:\n",
    "            if label_part.numel() == 0 or occurrences[1].item() == 0 or occurrences[0].item()== 0:\n",
    "                continue\n",
    "        except IndexError:\n",
    "            # no positives\n",
    "            continue\n",
    "        \n",
    "        au_roc = auRoc(out_part, label_part.int())\n",
    "        \n",
    "        metric.update(out_part, label_part.int())\n",
    "        precision, recall, thresholds = metric.compute()\n",
    "        aucPC = auc(recall, precision)\n",
    "        \n",
    "        n_not_empty +=1\n",
    "        macro_aucroc += au_roc.item()\n",
    "        macro_aucpr += aucPC.item()\n",
    "        \n",
    "        \n",
    "    macro_aucroc = macro_aucroc / n_not_empty\n",
    "    macro_aucpr = macro_aucpr / n_not_empty\n",
    "    \n",
    "    all_auc_roc_macro.append(macro_aucroc)\n",
    "    all_auc_pr_macro.append(macro_aucpr)\n",
    "    DEVICE = torch.device(\"cuda\")\n",
    "    model = model.to(DEVICE)\n",
    "    "
   ]
  },
  {
   "cell_type": "code",
   "execution_count": null,
   "id": "ebb9df2adbe214c3",
   "metadata": {},
   "outputs": [
    {
     "name": "stdout",
     "output_type": "stream",
     "text": [
      "Mean\t: 0.9212270975112915\n",
      " SD \t: 0.0027078120037913322\n"
     ]
    }
   ],
   "source": [
    "import numpy as np\n",
    "\n",
    "print(f\"Mean\\t: {np.mean([x.cpu() for x in all_auc_roc_micro])}\")\n",
    "print(f\" SD \\t: {np.std([x.cpu() for x in all_auc_roc_micro]) }\")"
   ]
  },
  {
   "cell_type": "code",
   "execution_count": null,
   "id": "91fa4db5e2d4132d",
   "metadata": {},
   "outputs": [
    {
     "name": "stdout",
     "output_type": "stream",
     "text": [
      "Mean\t: 0.8483220934867859\n",
      " SD \t: 0.0070721968077123165\n"
     ]
    }
   ],
   "source": [
    "print(f\"Mean\\t: {np.mean([x.cpu() for x in all_auc_pr_micro])}\")\n",
    "print(f\" SD \\t: {np.std([x.cpu() for x in all_auc_pr_micro]) }\")"
   ]
  },
  {
   "cell_type": "code",
   "execution_count": null,
   "id": "c7ba0b65a6f9d28d",
   "metadata": {},
   "outputs": [
    {
     "name": "stdout",
     "output_type": "stream",
     "text": [
      "Mean\t: 0.9219174720739064\n",
      " SD \t: 0.002892469271109201\n"
     ]
    }
   ],
   "source": [
    "import numpy as np\n",
    "\n",
    "print(f\"Mean\\t: {np.mean([x for x in all_auc_roc_macro])}\")\n",
    "print(f\" SD \\t: {np.std([x for x in all_auc_roc_macro]) }\")"
   ]
  },
  {
   "cell_type": "code",
   "execution_count": null,
   "id": "705d6c739dff549",
   "metadata": {},
   "outputs": [
    {
     "name": "stdout",
     "output_type": "stream",
     "text": [
      "Mean\t: 0.8484209455941853\n",
      " SD \t: 0.0070800254915048995\n"
     ]
    }
   ],
   "source": [
    "print(f\"Mean\\t: {np.mean([x for x in all_auc_pr_macro])}\")\n",
    "print(f\" SD \\t: {np.std([x for x in all_auc_pr_macro]) }\")"
   ]
  }
 ],
 "metadata": {
  "kernelspec": {
   "display_name": "Python 3 (ipykernel)",
   "language": "python",
   "name": "python3"
  },
  "language_info": {
   "codemirror_mode": {
    "name": "ipython",
    "version": 3
   },
   "file_extension": ".py",
   "mimetype": "text/x-python",
   "name": "python",
   "nbconvert_exporter": "python",
   "pygments_lexer": "ipython3"
  },
  "widgets": {
   "application/vnd.jupyter.widget-state+json": {
    "state": {},
    "version_major": 2,
    "version_minor": 0
   }
  }
 },
 "nbformat": 4,
 "nbformat_minor": 5
}
