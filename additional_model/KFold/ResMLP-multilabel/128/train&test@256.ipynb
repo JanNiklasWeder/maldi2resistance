{
 "cells": [
  {
   "cell_type": "markdown",
   "id": "3d89aed94233e3ff",
   "metadata": {},
   "source": [
    "# Fully connected feedforward network implementing a loss mask"
   ]
  },
  {
   "cell_type": "code",
   "execution_count": null,
   "id": "1eaaf570-0600-4d60-9fde-fcebcff3ce4c",
   "metadata": {},
   "outputs": [],
   "source": [
    "import torchmetrics.classification\n",
    "from torch import cuda\n",
    "assert cuda.is_available()\n",
    "assert cuda.device_count() > 0"
   ]
  },
  {
   "cell_type": "code",
   "execution_count": null,
   "id": "c7e50fb9-601f-425a-bf79-6441170b27dd",
   "metadata": {},
   "outputs": [
    {
     "name": "stdout",
     "output_type": "stream",
     "text": [
      "NVIDIA GeForce RTX 3060 Ti\n"
     ]
    }
   ],
   "source": [
    "print(cuda.get_device_name(cuda.current_device()))\n"
   ]
  },
  {
   "cell_type": "code",
   "execution_count": null,
   "id": "6c4b645f-6b5e-428e-855c-64b7e33ff874",
   "metadata": {},
   "outputs": [],
   "source": [
    "import torch\n",
    "import torch.nn as nn"
   ]
  },
  {
   "cell_type": "code",
   "execution_count": null,
   "id": "5e8a6650-ef2b-44f1-9ea8-78912b15e9a9",
   "metadata": {},
   "outputs": [
    {
     "data": {
      "text/plain": [
       "<torch._C.Generator at 0x7fdf43faef70>"
      ]
     },
     "execution_count": null,
     "metadata": {},
     "output_type": "execute_result"
    }
   ],
   "source": [
    "DEVICE = torch.device(\"cuda\")\n",
    "SEED = 76436278\n",
    "\n",
    "torch.manual_seed(SEED)"
   ]
  },
  {
   "cell_type": "markdown",
   "id": "23b5a248-98cc-42cc-99b2-49bdd5ca1f35",
   "metadata": {},
   "source": [
    "### Load the Dataset"
   ]
  },
  {
   "cell_type": "code",
   "execution_count": null,
   "id": "7a00707ac6b2975",
   "metadata": {},
   "outputs": [
    {
     "data": {
      "application/vnd.jupyter.widget-view+json": {
       "model_id": "3d6d061bb74646ccb1c156330c9bdbda",
       "version_major": 2,
       "version_minor": 0
      },
      "text/plain": [
       "Loading Spectra into Memory:   0%|          | 0/55780 [00:00<?, ?it/s]"
      ]
     },
     "metadata": {},
     "output_type": "display_data"
    },
    {
     "data": {
      "text/html": [
       "\n",
       "        <table>\n",
       "            <thead>\n",
       "                <tr>\n",
       "                    <th>Antibiotic:</th>\n",
       "                    <th> Amikacin </th><th> Amoxicillin-Clavulanic acid </th><th> Ampicillin </th><th> Ampicillin-Amoxicillin </th><th> Aztreonam </th><th> Benzylpenicillin </th><th> Cefazolin </th><th> Cefepime </th><th> Cefpodoxime </th><th> Ceftazidime </th><th> Ceftriaxone </th><th> Cefuroxime </th><th> Ciprofloxacin </th><th> Clarithromycin </th><th> Clindamycin </th><th> Colistin </th><th> Cotrimoxazole </th><th> Ertapenem </th><th> Erythromycin </th><th> Fosfomycin </th><th> Fosfomycin-Trometamol </th><th> Fusidic acid </th><th> Gentamicin </th><th> Imipenem </th><th> Levofloxacin </th><th> Meropenem </th><th> Mupirocin </th><th> Nitrofurantoin </th><th> Norfloxacin </th><th> Oxacillin </th><th> Penicillin </th><th> Piperacillin-Tazobactam </th><th> Polymyxin B </th><th> Rifampicin </th><th> Teicoplanin </th><th> Tetracycline </th><th> Tobramycin </th><th> Vancomycin </th>\n",
       "                </tr>\n",
       "            </thead>\n",
       "            <tbody>\n",
       "                <tr>\n",
       "                    <td>Number resistant:</td>\n",
       "                    <td> 1068 </td><td> 13366 </td><td> 8578 </td><td> 21966 </td><td> 628 </td><td> 618 </td><td> 4223 </td><td> 7383 </td><td> 2338 </td><td> 3470 </td><td> 8659 </td><td> 5855 </td><td> 9338 </td><td> 310 </td><td> 4381 </td><td> 2874 </td><td> 7405 </td><td> 427 </td><td> 5468 </td><td> 2303 </td><td> 1326 </td><td> 3620 </td><td> 3481 </td><td> 7560 </td><td> 4217 </td><td> 5194 </td><td> 570 </td><td> 1271 </td><td> 1205 </td><td> 5537 </td><td> 12431 </td><td> 7616 </td><td> 486 </td><td> 580 </td><td> 244 </td><td> 3534 </td><td> 1707 </td><td> 227 </td>\n",
       "                </tr>\n",
       "                <tr>\n",
       "                    <td>Number susceptible:</td>\n",
       "                    <td> 20941 </td><td> 24992 </td><td> 4194 </td><td> 4905 </td><td> 456 </td><td> 457 </td><td> 5813 </td><td> 31567 </td><td> 4382 </td><td> 24566 </td><td> 28464 </td><td> 8368 </td><td> 36822 </td><td> 1262 </td><td> 9841 </td><td> 15784 </td><td> 24590 </td><td> 21740 </td><td> 9044 </td><td> 10184 </td><td> 4803 </td><td> 8498 </td><td> 22662 </td><td> 31717 </td><td> 17989 </td><td> 27228 </td><td> 4656 </td><td> 3603 </td><td> 7031 </td><td> 7740 </td><td> 4286 </td><td> 31308 </td><td> 2305 </td><td> 14964 </td><td> 8486 </td><td> 10376 </td><td> 16809 </td><td> 20540 </td>\n",
       "                </tr>\n",
       "                <tr>\n",
       "                    <td>Number data points:</td>\n",
       "                    <td> 22009 </td><td> 38358 </td><td> 12772 </td><td> 26871 </td><td> 1084 </td><td> 1075 </td><td> 10036 </td><td> 38950 </td><td> 6720 </td><td> 28036 </td><td> 37123 </td><td> 14223 </td><td> 46160 </td><td> 1572 </td><td> 14222 </td><td> 18658 </td><td> 31995 </td><td> 22167 </td><td> 14512 </td><td> 12487 </td><td> 6129 </td><td> 12118 </td><td> 26143 </td><td> 39277 </td><td> 22206 </td><td> 32422 </td><td> 5226 </td><td> 4874 </td><td> 8236 </td><td> 13277 </td><td> 16717 </td><td> 38924 </td><td> 2791 </td><td> 15544 </td><td> 8730 </td><td> 13910 </td><td> 18516 </td><td> 20767 </td>\n",
       "                </tr>\n",
       "            </tbody>\n",
       "        </table>\n",
       "                "
      ],
      "text/plain": [
       "<src.maldi2resistance.data.driams.Driams at 0x7fdf0b9e0450>"
      ]
     },
     "execution_count": null,
     "metadata": {},
     "output_type": "execute_result"
    }
   ],
   "source": [
    "from src.maldi2resistance.data.driams import Driams\n",
    "\n",
    "driams = Driams(\n",
    "    root_dir=\"/home/jan/Uni/master/data/Driams\",\n",
    ")\n",
    "\n",
    "driams.loading_type = \"memory\"\n",
    "\n",
    "driams"
   ]
  },
  {
   "cell_type": "code",
   "execution_count": null,
   "id": "fbbd28ab5fd2a857",
   "metadata": {},
   "outputs": [
    {
     "data": {
      "text/plain": [
       "38"
      ]
     },
     "execution_count": null,
     "metadata": {},
     "output_type": "execute_result"
    }
   ],
   "source": [
    "len(driams.label_stats.columns)"
   ]
  },
  {
   "cell_type": "code",
   "execution_count": null,
   "id": "b81bd526-6a9c-4520-b121-9c01b4eb804a",
   "metadata": {},
   "outputs": [],
   "source": [
    "import copy\n",
    "from maldi2resistance.model.MultilabelResMLP import MultilabelResMLP\n",
    "\n",
    "model = MultilabelResMLP( input_dim= 18000, output_dim= len(driams.selected_antibiotics), hidden_dim=128)\n",
    "model = model.to(DEVICE)\n",
    "\n",
    "model_state = copy.deepcopy(model.state_dict()) "
   ]
  },
  {
   "cell_type": "code",
   "execution_count": null,
   "id": "13a7cb14d7e874ab",
   "metadata": {},
   "outputs": [
    {
     "name": "stdout",
     "output_type": "stream",
     "text": [
      "======================================================================\n",
      "Layer (type:depth-idx)                        Param #\n",
      "======================================================================\n",
      "MultilabelResMLP                              --\n",
      "├─Linear: 1-1                                 2,304,128\n",
      "├─ResMLP: 1-2                                 --\n",
      "│    └─Sequential: 2-1                        --\n",
      "│    │    └─ResBlock: 3-1                     16,768\n",
      "│    │    └─ResBlock: 3-2                     16,768\n",
      "│    │    └─ResBlock: 3-3                     16,768\n",
      "│    │    └─ResBlock: 3-4                     16,768\n",
      "│    │    └─ResBlock: 3-5                     16,768\n",
      "│    │    └─Linear: 3-6                       4,902\n",
      "======================================================================\n",
      "Total params: 2,392,870\n",
      "Trainable params: 2,392,870\n",
      "Non-trainable params: 0\n",
      "======================================================================\n"
     ]
    }
   ],
   "source": [
    "from torchinfo import summary\n",
    "\n",
    "print(summary(model))"
   ]
  },
  {
   "cell_type": "code",
   "execution_count": null,
   "id": "e361914c-9fb8-4a94-bb2c-95a3b68cda0b",
   "metadata": {},
   "outputs": [],
   "source": [
    "from torch.utils.data import DataLoader"
   ]
  },
  {
   "cell_type": "code",
   "execution_count": null,
   "id": "a96643a0-bd63-437b-a676-f3a4a1826910",
   "metadata": {},
   "outputs": [
    {
     "name": "stdout",
     "output_type": "stream",
     "text": [
      "Start training ...\n"
     ]
    },
    {
     "data": {
      "application/vnd.jupyter.widget-view+json": {
       "model_id": "7c3a5c5f6dc043cabb71fc74df42ff13",
       "version_major": 2,
       "version_minor": 0
      },
      "text/plain": [
       "  0%|          | 0/30 [00:00<?, ?it/s]"
      ]
     },
     "metadata": {},
     "output_type": "display_data"
    },
    {
     "name": "stdout",
     "output_type": "stream",
     "text": [
      "\tAverage Loss: 0.000273 \tLearning rate: 0.001000\n",
      "\tAverage Loss: 0.000218 \tLearning rate: 0.001000\n",
      "\tAverage Loss: 0.000204 \tLearning rate: 0.001000\n",
      "\tAverage Loss: 0.000195 \tLearning rate: 0.001000\n",
      "\tAverage Loss: 0.000187 \tLearning rate: 0.001000\n",
      "\tAverage Loss: 0.000181 \tLearning rate: 0.001000\n",
      "\tAverage Loss: 0.000174 \tLearning rate: 0.001000\n",
      "\tAverage Loss: 0.000168 \tLearning rate: 0.001000\n",
      "\tAverage Loss: 0.000163 \tLearning rate: 0.001000\n",
      "\tAverage Loss: 0.000159 \tLearning rate: 0.000500\n",
      "\tAverage Loss: 0.000146 \tLearning rate: 0.000500\n",
      "\tAverage Loss: 0.000141 \tLearning rate: 0.000500\n",
      "\tAverage Loss: 0.000137 \tLearning rate: 0.000500\n",
      "\tAverage Loss: 0.000133 \tLearning rate: 0.000500\n",
      "\tAverage Loss: 0.000131 \tLearning rate: 0.000500\n",
      "\tAverage Loss: 0.000128 \tLearning rate: 0.000500\n",
      "\tAverage Loss: 0.000125 \tLearning rate: 0.000500\n",
      "\tAverage Loss: 0.000122 \tLearning rate: 0.000500\n",
      "\tAverage Loss: 0.000119 \tLearning rate: 0.000500\n",
      "\tAverage Loss: 0.000117 \tLearning rate: 0.000250\n",
      "\tAverage Loss: 0.000109 \tLearning rate: 0.000250\n",
      "\tAverage Loss: 0.000107 \tLearning rate: 0.000250\n",
      "\tAverage Loss: 0.000105 \tLearning rate: 0.000250\n",
      "\tAverage Loss: 0.000103 \tLearning rate: 0.000250\n",
      "\tAverage Loss: 0.000103 \tLearning rate: 0.000250\n",
      "\tAverage Loss: 0.000102 \tLearning rate: 0.000250\n",
      "\tAverage Loss: 0.000099 \tLearning rate: 0.000250\n",
      "\tAverage Loss: 0.000098 \tLearning rate: 0.000250\n",
      "\tAverage Loss: 0.000096 \tLearning rate: 0.000250\n",
      "\tAverage Loss: 0.000096 \tLearning rate: 0.000125\n",
      "Finished Fold 0\n"
     ]
    },
    {
     "data": {
      "application/vnd.jupyter.widget-view+json": {
       "model_id": "2a82bc9ebe4742819c633c22250a762a",
       "version_major": 2,
       "version_minor": 0
      },
      "text/plain": [
       "  0%|          | 0/30 [00:00<?, ?it/s]"
      ]
     },
     "metadata": {},
     "output_type": "display_data"
    },
    {
     "name": "stdout",
     "output_type": "stream",
     "text": [
      "\tAverage Loss: 0.000270 \tLearning rate: 0.001000\n",
      "\tAverage Loss: 0.000218 \tLearning rate: 0.001000\n",
      "\tAverage Loss: 0.000205 \tLearning rate: 0.001000\n",
      "\tAverage Loss: 0.000195 \tLearning rate: 0.001000\n",
      "\tAverage Loss: 0.000188 \tLearning rate: 0.001000\n",
      "\tAverage Loss: 0.000182 \tLearning rate: 0.001000\n",
      "\tAverage Loss: 0.000176 \tLearning rate: 0.001000\n",
      "\tAverage Loss: 0.000170 \tLearning rate: 0.001000\n",
      "\tAverage Loss: 0.000165 \tLearning rate: 0.001000\n",
      "\tAverage Loss: 0.000161 \tLearning rate: 0.000500\n",
      "\tAverage Loss: 0.000147 \tLearning rate: 0.000500\n",
      "\tAverage Loss: 0.000143 \tLearning rate: 0.000500\n",
      "\tAverage Loss: 0.000140 \tLearning rate: 0.000500\n",
      "\tAverage Loss: 0.000136 \tLearning rate: 0.000500\n",
      "\tAverage Loss: 0.000134 \tLearning rate: 0.000500\n",
      "\tAverage Loss: 0.000131 \tLearning rate: 0.000500\n",
      "\tAverage Loss: 0.000128 \tLearning rate: 0.000500\n",
      "\tAverage Loss: 0.000126 \tLearning rate: 0.000500\n",
      "\tAverage Loss: 0.000123 \tLearning rate: 0.000500\n",
      "\tAverage Loss: 0.000121 \tLearning rate: 0.000250\n",
      "\tAverage Loss: 0.000113 \tLearning rate: 0.000250\n",
      "\tAverage Loss: 0.000111 \tLearning rate: 0.000250\n",
      "\tAverage Loss: 0.000109 \tLearning rate: 0.000250\n",
      "\tAverage Loss: 0.000108 \tLearning rate: 0.000250\n",
      "\tAverage Loss: 0.000107 \tLearning rate: 0.000250\n",
      "\tAverage Loss: 0.000105 \tLearning rate: 0.000250\n",
      "\tAverage Loss: 0.000104 \tLearning rate: 0.000250\n",
      "\tAverage Loss: 0.000103 \tLearning rate: 0.000250\n",
      "\tAverage Loss: 0.000102 \tLearning rate: 0.000250\n",
      "\tAverage Loss: 0.000100 \tLearning rate: 0.000125\n",
      "Finished Fold 1\n"
     ]
    },
    {
     "data": {
      "application/vnd.jupyter.widget-view+json": {
       "model_id": "cf3db73d5a654639926431dc1b29cf3c",
       "version_major": 2,
       "version_minor": 0
      },
      "text/plain": [
       "  0%|          | 0/30 [00:00<?, ?it/s]"
      ]
     },
     "metadata": {},
     "output_type": "display_data"
    },
    {
     "name": "stdout",
     "output_type": "stream",
     "text": [
      "\tAverage Loss: 0.000273 \tLearning rate: 0.001000\n",
      "\tAverage Loss: 0.000219 \tLearning rate: 0.001000\n",
      "\tAverage Loss: 0.000205 \tLearning rate: 0.001000\n",
      "\tAverage Loss: 0.000197 \tLearning rate: 0.001000\n",
      "\tAverage Loss: 0.000188 \tLearning rate: 0.001000\n",
      "\tAverage Loss: 0.000183 \tLearning rate: 0.001000\n",
      "\tAverage Loss: 0.000178 \tLearning rate: 0.001000\n",
      "\tAverage Loss: 0.000173 \tLearning rate: 0.001000\n",
      "\tAverage Loss: 0.000166 \tLearning rate: 0.001000\n",
      "\tAverage Loss: 0.000161 \tLearning rate: 0.000500\n",
      "\tAverage Loss: 0.000147 \tLearning rate: 0.000500\n",
      "\tAverage Loss: 0.000143 \tLearning rate: 0.000500\n",
      "\tAverage Loss: 0.000139 \tLearning rate: 0.000500\n",
      "\tAverage Loss: 0.000137 \tLearning rate: 0.000500\n",
      "\tAverage Loss: 0.000134 \tLearning rate: 0.000500\n",
      "\tAverage Loss: 0.000130 \tLearning rate: 0.000500\n",
      "\tAverage Loss: 0.000129 \tLearning rate: 0.000500\n",
      "\tAverage Loss: 0.000125 \tLearning rate: 0.000500\n",
      "\tAverage Loss: 0.000123 \tLearning rate: 0.000500\n",
      "\tAverage Loss: 0.000122 \tLearning rate: 0.000250\n",
      "\tAverage Loss: 0.000113 \tLearning rate: 0.000250\n",
      "\tAverage Loss: 0.000110 \tLearning rate: 0.000250\n",
      "\tAverage Loss: 0.000109 \tLearning rate: 0.000250\n",
      "\tAverage Loss: 0.000107 \tLearning rate: 0.000250\n",
      "\tAverage Loss: 0.000106 \tLearning rate: 0.000250\n",
      "\tAverage Loss: 0.000105 \tLearning rate: 0.000250\n",
      "\tAverage Loss: 0.000103 \tLearning rate: 0.000250\n",
      "\tAverage Loss: 0.000102 \tLearning rate: 0.000250\n",
      "\tAverage Loss: 0.000102 \tLearning rate: 0.000250\n",
      "\tAverage Loss: 0.000099 \tLearning rate: 0.000125\n",
      "Finished Fold 2\n"
     ]
    },
    {
     "data": {
      "application/vnd.jupyter.widget-view+json": {
       "model_id": "c3d35a521b61489c8d507ca53a14171d",
       "version_major": 2,
       "version_minor": 0
      },
      "text/plain": [
       "  0%|          | 0/30 [00:00<?, ?it/s]"
      ]
     },
     "metadata": {},
     "output_type": "display_data"
    },
    {
     "name": "stdout",
     "output_type": "stream",
     "text": [
      "\tAverage Loss: 0.000271 \tLearning rate: 0.001000\n",
      "\tAverage Loss: 0.000219 \tLearning rate: 0.001000\n",
      "\tAverage Loss: 0.000205 \tLearning rate: 0.001000\n",
      "\tAverage Loss: 0.000195 \tLearning rate: 0.001000\n",
      "\tAverage Loss: 0.000187 \tLearning rate: 0.001000\n",
      "\tAverage Loss: 0.000180 \tLearning rate: 0.001000\n",
      "\tAverage Loss: 0.000175 \tLearning rate: 0.001000\n",
      "\tAverage Loss: 0.000169 \tLearning rate: 0.001000\n",
      "\tAverage Loss: 0.000163 \tLearning rate: 0.001000\n",
      "\tAverage Loss: 0.000158 \tLearning rate: 0.000500\n",
      "\tAverage Loss: 0.000145 \tLearning rate: 0.000500\n",
      "\tAverage Loss: 0.000140 \tLearning rate: 0.000500\n",
      "\tAverage Loss: 0.000138 \tLearning rate: 0.000500\n",
      "\tAverage Loss: 0.000134 \tLearning rate: 0.000500\n",
      "\tAverage Loss: 0.000131 \tLearning rate: 0.000500\n",
      "\tAverage Loss: 0.000128 \tLearning rate: 0.000500\n",
      "\tAverage Loss: 0.000126 \tLearning rate: 0.000500\n",
      "\tAverage Loss: 0.000124 \tLearning rate: 0.000500\n",
      "\tAverage Loss: 0.000121 \tLearning rate: 0.000500\n",
      "\tAverage Loss: 0.000119 \tLearning rate: 0.000250\n",
      "\tAverage Loss: 0.000111 \tLearning rate: 0.000250\n",
      "\tAverage Loss: 0.000108 \tLearning rate: 0.000250\n",
      "\tAverage Loss: 0.000107 \tLearning rate: 0.000250\n",
      "\tAverage Loss: 0.000106 \tLearning rate: 0.000250\n",
      "\tAverage Loss: 0.000104 \tLearning rate: 0.000250\n",
      "\tAverage Loss: 0.000103 \tLearning rate: 0.000250\n",
      "\tAverage Loss: 0.000102 \tLearning rate: 0.000250\n",
      "\tAverage Loss: 0.000100 \tLearning rate: 0.000250\n",
      "\tAverage Loss: 0.000099 \tLearning rate: 0.000250\n",
      "\tAverage Loss: 0.000098 \tLearning rate: 0.000125\n",
      "Finished Fold 3\n"
     ]
    },
    {
     "data": {
      "application/vnd.jupyter.widget-view+json": {
       "model_id": "024ce256894644ce92ee5374ccaba356",
       "version_major": 2,
       "version_minor": 0
      },
      "text/plain": [
       "  0%|          | 0/30 [00:00<?, ?it/s]"
      ]
     },
     "metadata": {},
     "output_type": "display_data"
    },
    {
     "name": "stdout",
     "output_type": "stream",
     "text": [
      "\tAverage Loss: 0.000273 \tLearning rate: 0.001000\n",
      "\tAverage Loss: 0.000219 \tLearning rate: 0.001000\n",
      "\tAverage Loss: 0.000207 \tLearning rate: 0.001000\n",
      "\tAverage Loss: 0.000197 \tLearning rate: 0.001000\n",
      "\tAverage Loss: 0.000189 \tLearning rate: 0.001000\n",
      "\tAverage Loss: 0.000183 \tLearning rate: 0.001000\n",
      "\tAverage Loss: 0.000176 \tLearning rate: 0.001000\n",
      "\tAverage Loss: 0.000170 \tLearning rate: 0.001000\n",
      "\tAverage Loss: 0.000164 \tLearning rate: 0.001000\n",
      "\tAverage Loss: 0.000160 \tLearning rate: 0.000500\n",
      "\tAverage Loss: 0.000146 \tLearning rate: 0.000500\n",
      "\tAverage Loss: 0.000141 \tLearning rate: 0.000500\n",
      "\tAverage Loss: 0.000138 \tLearning rate: 0.000500\n",
      "\tAverage Loss: 0.000134 \tLearning rate: 0.000500\n",
      "\tAverage Loss: 0.000131 \tLearning rate: 0.000500\n",
      "\tAverage Loss: 0.000130 \tLearning rate: 0.000500\n",
      "\tAverage Loss: 0.000127 \tLearning rate: 0.000500\n",
      "\tAverage Loss: 0.000124 \tLearning rate: 0.000500\n",
      "\tAverage Loss: 0.000123 \tLearning rate: 0.000500\n",
      "\tAverage Loss: 0.000119 \tLearning rate: 0.000250\n",
      "\tAverage Loss: 0.000112 \tLearning rate: 0.000250\n",
      "\tAverage Loss: 0.000110 \tLearning rate: 0.000250\n",
      "\tAverage Loss: 0.000109 \tLearning rate: 0.000250\n",
      "\tAverage Loss: 0.000106 \tLearning rate: 0.000250\n",
      "\tAverage Loss: 0.000105 \tLearning rate: 0.000250\n",
      "\tAverage Loss: 0.000103 \tLearning rate: 0.000250\n",
      "\tAverage Loss: 0.000102 \tLearning rate: 0.000250\n",
      "\tAverage Loss: 0.000102 \tLearning rate: 0.000250\n",
      "\tAverage Loss: 0.000101 \tLearning rate: 0.000250\n",
      "\tAverage Loss: 0.000099 \tLearning rate: 0.000125\n",
      "Finished Fold 4\n"
     ]
    }
   ],
   "source": [
    "from maldi2resistance.metric.PrecisionRecall import MultiLabelPRNan\n",
    "from pathlib import Path\n",
    "from maldi2resistance.metric.ROC import MultiLabelRocNan\n",
    "from maldi2resistance.loss.maskedLoss import MaskedBCE\n",
    "from tqdm.auto import tqdm\n",
    "import matplotlib.pyplot as plt\n",
    "\n",
    "from torch.optim import Adam\n",
    "from torch.optim.lr_scheduler import StepLR\n",
    "\n",
    "print(\"Start training ...\")\n",
    "model.train()\n",
    "\n",
    "batch_size = 128\n",
    "fig_path = Path(\"./kfold/figures\")\n",
    "fig_path.mkdir(parents=True, exist_ok=True)\n",
    "\n",
    "loss_per_batch = []\n",
    "\n",
    "class_weights_negative = torch.tensor((1 - (driams.label_stats.loc[\"negative\"] / driams.label_stats.loc[\"n_sum\"])).values, device=DEVICE)\n",
    "class_weights_positive = torch.tensor((1 - (driams.label_stats.loc[\"positive\"] / driams.label_stats.loc[\"n_sum\"])).values, device=DEVICE)\n",
    "\n",
    "criterion = MaskedBCE(class_weights_positive= class_weights_negative, class_weights_negative= class_weights_negative)\n",
    "\n",
    "gen = torch.Generator()\n",
    "\n",
    "for fold, (train_data, test_data) in enumerate(driams.getK_fold(n_splits=5, shuffle=True, random_state= SEED)):\n",
    "    \n",
    "    train_loader = DataLoader(train_data, batch_size=batch_size, shuffle=True, drop_last=True, generator= gen.manual_seed(SEED), pin_memory=True)\n",
    "    test_loader = DataLoader(test_data, batch_size=len(test_data), shuffle=True, drop_last=True, generator= gen.manual_seed(SEED))\n",
    "    \n",
    "    model.load_state_dict(model_state)\n",
    "    model.train()\n",
    "    \n",
    "    optimizer = Adam(model.parameters(), lr=1e-3, amsgrad = True)\n",
    "    scheduler = StepLR(optimizer, step_size=10, gamma=0.5)\n",
    "\n",
    "    for epoch in tqdm(range(30)):\n",
    "        overall_loss = 0\n",
    "        \n",
    "        for batch_idx, (x, y) in enumerate(train_loader):\n",
    "    \n",
    "            x = x.to(DEVICE, non_blocking=True)\n",
    "            y = y.to(DEVICE, non_blocking=True)\n",
    "            \n",
    "            optimizer.zero_grad()\n",
    "    \n",
    "            output = model(x)\n",
    "        \n",
    "            loss = criterion(output, y)\n",
    "            current_loss_value = loss.item()\n",
    "            loss_per_batch.append(current_loss_value)\n",
    "            \n",
    "            overall_loss += current_loss_value\n",
    "            \n",
    "            loss.backward()\n",
    "            optimizer.step()\n",
    "    \n",
    "        scheduler.step()\n",
    "        with tqdm.external_write_mode():\n",
    "            print(f\"\\tAverage Loss: {overall_loss / (batch_idx*batch_size):.6f} \\tLearning rate: {scheduler.get_last_lr()[0]:.6f}\")\n",
    "    \n",
    "    \n",
    "    print(f\"Finished Fold {fold}\")\n",
    "    \n",
    "    model.eval()\n",
    "    \n",
    "    DEVICE = torch.device(\"cpu\")\n",
    "    test_features, test_labels = next(iter(test_loader))\n",
    "    test_features = test_features.to(DEVICE)\n",
    "    test_labels = test_labels.to(DEVICE)\n",
    "    model = model.to(DEVICE)\n",
    "    \n",
    "    ml_roc = MultiLabelRocNan()\n",
    "    output = model(test_features)\n",
    "    \n",
    "    \n",
    "    ml_roc.compute(output,test_labels,driams.selected_antibiotics, create_csv=f\"./kfold/csv/fold-{fold}_ROC.csv\")\n",
    "    fig_, ax_ = ml_roc()\n",
    "    \n",
    "    plt.savefig(fig_path / f\"fold-{fold}_ROC.png\", transparent=True, format= \"png\", bbox_inches = \"tight\")\n",
    "    plt.close()\n",
    "    \n",
    "    ml_pr = MultiLabelPRNan()\n",
    "    ml_pr.compute(output,test_labels,driams.selected_antibiotics, create_csv=f\"./kfold/csv/fold-{fold}_PrecisionRecall.csv\")\n",
    "    \n",
    "    fig_, ax_ = ml_pr()\n",
    "    \n",
    "    plt.savefig(fig_path / f\"fold-{fold}_PrecisionRecall.png\", transparent=True, format= \"png\", bbox_inches = \"tight\")\n",
    "    plt.close()\n",
    "    \n",
    "    DEVICE = torch.device(\"cuda\")\n",
    "    model = model.to(DEVICE)"
   ]
  },
  {
   "cell_type": "code",
   "execution_count": null,
   "id": "f600e6963c560e2a",
   "metadata": {},
   "outputs": [],
   "source": [
    "import pandas\n",
    "micro = []\n",
    "macro = []\n",
    "\n",
    "for fold in range(0,5):\n",
    "    csv = pandas.read_csv(f\"./kfold/csv/fold-{fold}_ROC.csv\")\n",
    "    micro.append(csv[csv[\"class\"] == \"micro\"][\"ROCAUC\"])\n",
    "    macro.append(csv[csv[\"class\"] == \"macro\"][\"ROCAUC\"])"
   ]
  },
  {
   "cell_type": "code",
   "execution_count": null,
   "id": "ebb9df2adbe214c3",
   "metadata": {},
   "outputs": [
    {
     "name": "stdout",
     "output_type": "stream",
     "text": [
      "Mean\t: 0.9173856735229492\n",
      " SD \t: 0.002511751948371241\n"
     ]
    }
   ],
   "source": [
    "import numpy as np\n",
    "\n",
    "print(f\"Mean\\t: {np.mean(micro)}\")\n",
    "print(f\" SD \\t: {np.std(micro) }\")"
   ]
  },
  {
   "cell_type": "code",
   "execution_count": null,
   "id": "bef0009f0d5188f2",
   "metadata": {},
   "outputs": [
    {
     "name": "stdout",
     "output_type": "stream",
     "text": [
      "Mean\t: 0.8863620356509561\n",
      " SD \t: 0.0023034541081740773\n"
     ]
    }
   ],
   "source": [
    "print(f\"Mean\\t: {np.mean(macro)}\")\n",
    "print(f\" SD \\t: {np.std(macro) }\")"
   ]
  },
  {
   "cell_type": "code",
   "execution_count": null,
   "id": "e46355529ac0177b",
   "metadata": {},
   "outputs": [],
   "source": [
    "import pandas\n",
    "micro = []\n",
    "macro = []\n",
    "\n",
    "for fold in range(0,5):\n",
    "    csv = pandas.read_csv(f\"./kfold/csv/fold-{fold}_PrecisionRecall.csv\")\n",
    "    micro.append(csv[csv[\"class\"] == \"micro\"][\"PrecisionRecallAUC\"])\n",
    "    macro.append(csv[csv[\"class\"] == \"macro\"][\"PrecisionRecallAUC\"])"
   ]
  },
  {
   "cell_type": "code",
   "execution_count": null,
   "id": "3c57b986dc6f2cb1",
   "metadata": {},
   "outputs": [
    {
     "name": "stdout",
     "output_type": "stream",
     "text": [
      "Mean\t: 0.8422750115394593\n",
      " SD \t: 0.003494611661618225\n"
     ]
    }
   ],
   "source": [
    "import numpy as np\n",
    "\n",
    "print(f\"Mean\\t: {np.mean(micro)}\")\n",
    "print(f\" SD \\t: {np.std(micro) }\")"
   ]
  },
  {
   "cell_type": "code",
   "execution_count": null,
   "id": "48f4ecebfc542303",
   "metadata": {},
   "outputs": [
    {
     "name": "stdout",
     "output_type": "stream",
     "text": [
      "Mean\t: 0.718270679445643\n",
      " SD \t: 0.005746222799864039\n"
     ]
    }
   ],
   "source": [
    "print(f\"Mean\\t: {np.mean(macro)}\")\n",
    "print(f\" SD \\t: {np.std(macro) }\")"
   ]
  }
 ],
 "metadata": {
  "kernelspec": {
   "display_name": "Python 3 (ipykernel)",
   "language": "python",
   "name": "python3"
  },
  "language_info": {
   "codemirror_mode": {
    "name": "ipython",
    "version": 3
   },
   "file_extension": ".py",
   "mimetype": "text/x-python",
   "name": "python",
   "nbconvert_exporter": "python",
   "pygments_lexer": "ipython3"
  },
  "widgets": {
   "application/vnd.jupyter.widget-state+json": {
    "state": {},
    "version_major": 2,
    "version_minor": 0
   }
  }
 },
 "nbformat": 4,
 "nbformat_minor": 5
}
