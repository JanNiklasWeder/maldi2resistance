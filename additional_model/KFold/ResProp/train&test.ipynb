{
 "cells": [
  {
   "cell_type": "markdown",
   "id": "3d89aed94233e3ff",
   "metadata": {},
   "source": [
    "# Fully connected feedforward network implementing a loss mask"
   ]
  },
  {
   "cell_type": "code",
   "execution_count": null,
   "id": "1eaaf570-0600-4d60-9fde-fcebcff3ce4c",
   "metadata": {},
   "outputs": [],
   "source": [
    "import torchmetrics.classification\n",
    "from torch import cuda\n",
    "assert cuda.is_available()\n",
    "assert cuda.device_count() > 0"
   ]
  },
  {
   "cell_type": "code",
   "execution_count": null,
   "id": "c7e50fb9-601f-425a-bf79-6441170b27dd",
   "metadata": {},
   "outputs": [
    {
     "name": "stdout",
     "output_type": "stream",
     "text": [
      "NVIDIA GeForce RTX 3060 Ti\n"
     ]
    }
   ],
   "source": [
    "print(cuda.get_device_name(cuda.current_device()))\n"
   ]
  },
  {
   "cell_type": "code",
   "execution_count": null,
   "id": "6c4b645f-6b5e-428e-855c-64b7e33ff874",
   "metadata": {},
   "outputs": [],
   "source": [
    "import torch\n",
    "import torch.nn as nn"
   ]
  },
  {
   "cell_type": "code",
   "execution_count": null,
   "id": "5e8a6650-ef2b-44f1-9ea8-78912b15e9a9",
   "metadata": {},
   "outputs": [
    {
     "data": {
      "text/plain": [
       "<torch._C.Generator at 0x7fdd6c0f6f70>"
      ]
     },
     "execution_count": null,
     "metadata": {},
     "output_type": "execute_result"
    }
   ],
   "source": [
    "DEVICE = torch.device(\"cuda\")\n",
    "SEED = 76436278\n",
    "\n",
    "torch.manual_seed(SEED)"
   ]
  },
  {
   "cell_type": "markdown",
   "id": "23b5a248-98cc-42cc-99b2-49bdd5ca1f35",
   "metadata": {},
   "source": [
    "### Load the Dataset"
   ]
  },
  {
   "cell_type": "code",
   "execution_count": null,
   "id": "7a00707ac6b2975",
   "metadata": {},
   "outputs": [
    {
     "data": {
      "application/vnd.jupyter.widget-view+json": {
       "model_id": "eb120600afdf4bcd901c80883be87425",
       "version_major": 2,
       "version_minor": 0
      },
      "text/plain": [
       "Loading Spectra into Memory:   0%|          | 0/55780 [00:00<?, ?it/s]"
      ]
     },
     "metadata": {},
     "output_type": "display_data"
    },
    {
     "data": {
      "text/html": [
       "\n",
       "        <table>\n",
       "            <thead>\n",
       "                <tr>\n",
       "                    <th>Antibiotic:</th>\n",
       "                    <th> Amikacin </th><th> Amoxicillin-Clavulanic acid </th><th> Ampicillin </th><th> Ampicillin-Amoxicillin </th><th> Aztreonam </th><th> Benzylpenicillin </th><th> Cefazolin </th><th> Cefepime </th><th> Cefpodoxime </th><th> Ceftazidime </th><th> Ceftriaxone </th><th> Cefuroxime </th><th> Ciprofloxacin </th><th> Clarithromycin </th><th> Clindamycin </th><th> Colistin </th><th> Cotrimoxazole </th><th> Ertapenem </th><th> Erythromycin </th><th> Fosfomycin </th><th> Fosfomycin-Trometamol </th><th> Fusidic acid </th><th> Gentamicin </th><th> Imipenem </th><th> Levofloxacin </th><th> Meropenem </th><th> Mupirocin </th><th> Nitrofurantoin </th><th> Norfloxacin </th><th> Oxacillin </th><th> Penicillin </th><th> Piperacillin-Tazobactam </th><th> Polymyxin B </th><th> Rifampicin </th><th> Teicoplanin </th><th> Tetracycline </th><th> Tobramycin </th><th> Vancomycin </th>\n",
       "                </tr>\n",
       "            </thead>\n",
       "            <tbody>\n",
       "                <tr>\n",
       "                    <td>Number resistant:</td>\n",
       "                    <td> 1068 </td><td> 13366 </td><td> 8578 </td><td> 21966 </td><td> 628 </td><td> 618 </td><td> 4223 </td><td> 7383 </td><td> 2338 </td><td> 3470 </td><td> 8659 </td><td> 5855 </td><td> 9338 </td><td> 310 </td><td> 4381 </td><td> 2874 </td><td> 7405 </td><td> 427 </td><td> 5468 </td><td> 2303 </td><td> 1326 </td><td> 3620 </td><td> 3481 </td><td> 7560 </td><td> 4217 </td><td> 5194 </td><td> 570 </td><td> 1271 </td><td> 1205 </td><td> 5537 </td><td> 12431 </td><td> 7616 </td><td> 486 </td><td> 580 </td><td> 244 </td><td> 3534 </td><td> 1707 </td><td> 227 </td>\n",
       "                </tr>\n",
       "                <tr>\n",
       "                    <td>Number susceptible:</td>\n",
       "                    <td> 20941 </td><td> 24992 </td><td> 4194 </td><td> 4905 </td><td> 456 </td><td> 457 </td><td> 5813 </td><td> 31567 </td><td> 4382 </td><td> 24566 </td><td> 28464 </td><td> 8368 </td><td> 36822 </td><td> 1262 </td><td> 9841 </td><td> 15784 </td><td> 24590 </td><td> 21740 </td><td> 9044 </td><td> 10184 </td><td> 4803 </td><td> 8498 </td><td> 22662 </td><td> 31717 </td><td> 17989 </td><td> 27228 </td><td> 4656 </td><td> 3603 </td><td> 7031 </td><td> 7740 </td><td> 4286 </td><td> 31308 </td><td> 2305 </td><td> 14964 </td><td> 8486 </td><td> 10376 </td><td> 16809 </td><td> 20540 </td>\n",
       "                </tr>\n",
       "                <tr>\n",
       "                    <td>Number data points:</td>\n",
       "                    <td> 22009 </td><td> 38358 </td><td> 12772 </td><td> 26871 </td><td> 1084 </td><td> 1075 </td><td> 10036 </td><td> 38950 </td><td> 6720 </td><td> 28036 </td><td> 37123 </td><td> 14223 </td><td> 46160 </td><td> 1572 </td><td> 14222 </td><td> 18658 </td><td> 31995 </td><td> 22167 </td><td> 14512 </td><td> 12487 </td><td> 6129 </td><td> 12118 </td><td> 26143 </td><td> 39277 </td><td> 22206 </td><td> 32422 </td><td> 5226 </td><td> 4874 </td><td> 8236 </td><td> 13277 </td><td> 16717 </td><td> 38924 </td><td> 2791 </td><td> 15544 </td><td> 8730 </td><td> 13910 </td><td> 18516 </td><td> 20767 </td>\n",
       "                </tr>\n",
       "            </tbody>\n",
       "        </table>\n",
       "                "
      ],
      "text/plain": [
       "<src.maldi2resistance.data.driams.Driams at 0x7fdd33f48210>"
      ]
     },
     "execution_count": null,
     "metadata": {},
     "output_type": "execute_result"
    }
   ],
   "source": [
    "from src.maldi2resistance.data.driams import Driams\n",
    "\n",
    "driams = Driams(\n",
    "    root_dir=\"/home/jan/Uni/master/data/Driams\",\n",
    ")\n",
    "\n",
    "driams.loading_type = \"memory\"\n",
    "\n",
    "driams"
   ]
  },
  {
   "cell_type": "code",
   "execution_count": null,
   "id": "fbbd28ab5fd2a857",
   "metadata": {},
   "outputs": [
    {
     "data": {
      "text/plain": [
       "38"
      ]
     },
     "execution_count": null,
     "metadata": {},
     "output_type": "execute_result"
    }
   ],
   "source": [
    "len(driams.label_stats.columns)"
   ]
  },
  {
   "cell_type": "code",
   "execution_count": null,
   "id": "da7e25095a26c4aa",
   "metadata": {},
   "outputs": [],
   "source": [
    "from chemprop.models import MPNN\n",
    "from chemprop.nn import BondMessagePassing, NormAggregation, RegressionFFN\n",
    "from multimodal_amr.models.modules import ResMLP\n",
    "from torch import nn\n",
    "\n",
    "\n",
    "class Residual_AMR_Classifier(nn.Module):\n",
    "    \"\"\"Overall model definition.\"\"\"\n",
    "\n",
    "    def __init__(self, config, n_input_spectrum, n_input_drug):\n",
    "        super().__init__()\n",
    "        self.config = config\n",
    "\n",
    "        # Sample embedding\n",
    "        if config[\"species_embedding_dim\"]==0 and config[\"conv_out_size\"]==config[\"sample_embedding_dim\"]:\n",
    "            self.sample_emb = nn.Identity()\n",
    "        elif config[\"species_embedding_dim\"]==0:\n",
    "            self.sample_emb = nn.Linear(\n",
    "                config[\"conv_out_size\"],\n",
    "                config[\"sample_embedding_dim\"],\n",
    "            )\n",
    "        else:\n",
    "            self.sample_emb = nn.Linear(\n",
    "                config[\"conv_out_size\"] + config[\"species_embedding_dim\"],\n",
    "                config[\"sample_embedding_dim\"],\n",
    "            )\n",
    "\n",
    "        # Maldi-tof spectrum embedding\n",
    "        # self.spectrum_emb = Conv1d_Block(output_dim=config[\"conv_out_size\"])\n",
    "        \n",
    "        self.spectrum_emb = nn.Linear(n_input_spectrum ,config[\"conv_out_size\"])\n",
    "\n",
    "        # Drugs layers\n",
    "        # if config[\"drug_emb_type\"] == \"vae_embedding\" or config[\"drug_emb_type\"] == \"gnn_embedding\":\n",
    "        #     self.drug_emb = nn.Identity()\n",
    "        # elif config[\"drug_emb_type\"] == \"fingerprint\":\n",
    "        mp = BondMessagePassing()\n",
    "        agg = NormAggregation()\n",
    "        ffn = RegressionFFN()\n",
    "        self.mpnn = MPNN(mp, agg, ffn)\n",
    "        \n",
    "        \n",
    "        self.drug_emb = nn.Linear(\n",
    "            n_input_drug, config[\"drug_embedding_dim\"]\n",
    "        )\n",
    "\n",
    "        # Output network\n",
    "        self.net = ResMLP(\n",
    "            config[\"n_hidden_layers\"],\n",
    "            config[\"sample_embedding_dim\"] + 300,\n",
    "            1,\n",
    "            p_dropout=0.2,\n",
    "        )\n",
    "\n",
    "    def forward(self, spectrum, drug):\n",
    "        spectrum_embedding = self.spectrum_emb(spectrum)\n",
    "        \n",
    "        dr_emb = self.mpnn.encoding(drug.bmg, i=0)\n",
    "        \n",
    "        #combined_emb = torch.cat(spectrum_embedding, dr_emb)\n",
    "        combined_emb = torch.cat((spectrum_embedding, dr_emb), dim= 1)\n",
    "\n",
    "        return self.net(combined_emb)\n",
    "\n",
    "\n",
    "\n",
    "\n",
    "conf = {\n",
    "    \"conv_out_size\": 512,\n",
    "    \"species_embedding_dim\":0,\n",
    "    \"sample_embedding_dim\":512,\n",
    "    \"drug_embedding_dim\":512,\n",
    "    \"n_hidden_layers\": 5,\n",
    "}\n",
    "        "
   ]
  },
  {
   "cell_type": "code",
   "execution_count": null,
   "id": "b81bd526-6a9c-4520-b121-9c01b4eb804a",
   "metadata": {},
   "outputs": [],
   "source": [
    "from maldi2resistance.model.dualBranch import DualBranchOneHot\n",
    "import copy\n",
    "from maldi2resistance.model.singleBranchMlp import SingleBranchMLP\n",
    "\n",
    "model = Residual_AMR_Classifier(config= conf,n_input_spectrum = driams.n_bins, n_input_drug= 1024)\n",
    "model = model.to(DEVICE)\n",
    "\n",
    "model_state = copy.deepcopy(model.state_dict()) "
   ]
  },
  {
   "cell_type": "code",
   "execution_count": null,
   "id": "e361914c-9fb8-4a94-bb2c-95a3b68cda0b",
   "metadata": {},
   "outputs": [],
   "source": [
    "from torch.utils.data import DataLoader"
   ]
  },
  {
   "cell_type": "code",
   "execution_count": null,
   "id": "a96643a0-bd63-437b-a676-f3a4a1826910",
   "metadata": {},
   "outputs": [
    {
     "name": "stdout",
     "output_type": "stream",
     "text": [
      "Start training ...\n"
     ]
    },
    {
     "data": {
      "application/vnd.jupyter.widget-view+json": {
       "model_id": "15f799636d5f48dba02a3b241b63fe9a",
       "version_major": 2,
       "version_minor": 0
      },
      "text/plain": [
       "Create single label Dataset:   0%|          | 0/44624 [00:00<?, ?it/s]"
      ]
     },
     "metadata": {},
     "output_type": "display_data"
    },
    {
     "name": "stdout",
     "output_type": "stream",
     "text": [
      "\tAverage Loss: 0.001087 \tLearning rate: 0.000500\n"
     ]
    },
    {
     "data": {
      "application/vnd.jupyter.widget-view+json": {
       "model_id": "7684b03105ab41c482b700f8307e0f0f",
       "version_major": 2,
       "version_minor": 0
      },
      "text/plain": [
       "  0%|          | 0/4409 [00:00<?, ?it/s]"
      ]
     },
     "metadata": {},
     "output_type": "display_data"
    },
    {
     "name": "stdout",
     "output_type": "stream",
     "text": [
      "\tAverage Loss: 0.001039 \tLearning rate: 0.000500\n"
     ]
    },
    {
     "data": {
      "application/vnd.jupyter.widget-view+json": {
       "model_id": "5a9b7f94be764dc4b36b24a41f397f99",
       "version_major": 2,
       "version_minor": 0
      },
      "text/plain": [
       "  0%|          | 0/4409 [00:00<?, ?it/s]"
      ]
     },
     "metadata": {},
     "output_type": "display_data"
    },
    {
     "name": "stdout",
     "output_type": "stream",
     "text": [
      "\tAverage Loss: 0.000997 \tLearning rate: 0.000500\n"
     ]
    },
    {
     "data": {
      "application/vnd.jupyter.widget-view+json": {
       "model_id": "91d9cf201faa4dfe83fee850a8bbfed3",
       "version_major": 2,
       "version_minor": 0
      },
      "text/plain": [
       "  0%|          | 0/4409 [00:00<?, ?it/s]"
      ]
     },
     "metadata": {},
     "output_type": "display_data"
    },
    {
     "name": "stdout",
     "output_type": "stream",
     "text": [
      "\tAverage Loss: 0.000961 \tLearning rate: 0.000500\n"
     ]
    },
    {
     "data": {
      "application/vnd.jupyter.widget-view+json": {
       "model_id": "c581e4a14b7d49da89dbee67a03aa1f2",
       "version_major": 2,
       "version_minor": 0
      },
      "text/plain": [
       "  0%|          | 0/4409 [00:00<?, ?it/s]"
      ]
     },
     "metadata": {},
     "output_type": "display_data"
    },
    {
     "name": "stdout",
     "output_type": "stream",
     "text": [
      "\tAverage Loss: 0.000923 \tLearning rate: 0.000500\n"
     ]
    },
    {
     "data": {
      "application/vnd.jupyter.widget-view+json": {
       "model_id": "7113645d3b254e5fb4129e95403dc9a9",
       "version_major": 2,
       "version_minor": 0
      },
      "text/plain": [
       "  0%|          | 0/4409 [00:00<?, ?it/s]"
      ]
     },
     "metadata": {},
     "output_type": "display_data"
    },
    {
     "name": "stdout",
     "output_type": "stream",
     "text": [
      "\tAverage Loss: 0.000889 \tLearning rate: 0.000500\n"
     ]
    },
    {
     "data": {
      "application/vnd.jupyter.widget-view+json": {
       "model_id": "8984a2b1e45d424991bb4998afde5a16",
       "version_major": 2,
       "version_minor": 0
      },
      "text/plain": [
       "  0%|          | 0/4409 [00:00<?, ?it/s]"
      ]
     },
     "metadata": {},
     "output_type": "display_data"
    },
    {
     "name": "stdout",
     "output_type": "stream",
     "text": [
      "\tAverage Loss: 0.000858 \tLearning rate: 0.000500\n"
     ]
    },
    {
     "data": {
      "application/vnd.jupyter.widget-view+json": {
       "model_id": "566741a1f1d3428e8adb8856cc7e1f11",
       "version_major": 2,
       "version_minor": 0
      },
      "text/plain": [
       "  0%|          | 0/4409 [00:00<?, ?it/s]"
      ]
     },
     "metadata": {},
     "output_type": "display_data"
    },
    {
     "name": "stdout",
     "output_type": "stream",
     "text": [
      "\tAverage Loss: 0.000824 \tLearning rate: 0.000500\n"
     ]
    },
    {
     "data": {
      "application/vnd.jupyter.widget-view+json": {
       "model_id": "d43abb2f0b4e4c1b8390c8dd8bfd3610",
       "version_major": 2,
       "version_minor": 0
      },
      "text/plain": [
       "  0%|          | 0/4409 [00:00<?, ?it/s]"
      ]
     },
     "metadata": {},
     "output_type": "display_data"
    },
    {
     "name": "stdout",
     "output_type": "stream",
     "text": [
      "\tAverage Loss: 0.000799 \tLearning rate: 0.000500\n"
     ]
    },
    {
     "data": {
      "application/vnd.jupyter.widget-view+json": {
       "model_id": "92adf861189043129df8d2064159b377",
       "version_major": 2,
       "version_minor": 0
      },
      "text/plain": [
       "  0%|          | 0/4409 [00:00<?, ?it/s]"
      ]
     },
     "metadata": {},
     "output_type": "display_data"
    },
    {
     "name": "stdout",
     "output_type": "stream",
     "text": [
      "\tAverage Loss: 0.000763 \tLearning rate: 0.000250\n"
     ]
    },
    {
     "data": {
      "application/vnd.jupyter.widget-view+json": {
       "model_id": "748335b0970143a29255183ffa173724",
       "version_major": 2,
       "version_minor": 0
      },
      "text/plain": [
       "  0%|          | 0/4409 [00:00<?, ?it/s]"
      ]
     },
     "metadata": {},
     "output_type": "display_data"
    },
    {
     "name": "stdout",
     "output_type": "stream",
     "text": [
      "\tAverage Loss: 0.000665 \tLearning rate: 0.000250\n"
     ]
    },
    {
     "data": {
      "application/vnd.jupyter.widget-view+json": {
       "model_id": "6e4c311533a74cedbd576698c94c5ce0",
       "version_major": 2,
       "version_minor": 0
      },
      "text/plain": [
       "  0%|          | 0/4409 [00:00<?, ?it/s]"
      ]
     },
     "metadata": {},
     "output_type": "display_data"
    },
    {
     "name": "stdout",
     "output_type": "stream",
     "text": [
      "\tAverage Loss: 0.000638 \tLearning rate: 0.000250\n"
     ]
    },
    {
     "data": {
      "application/vnd.jupyter.widget-view+json": {
       "model_id": "be1171e9bec046a0a1a164a6288eb619",
       "version_major": 2,
       "version_minor": 0
      },
      "text/plain": [
       "  0%|          | 0/4409 [00:00<?, ?it/s]"
      ]
     },
     "metadata": {},
     "output_type": "display_data"
    },
    {
     "name": "stdout",
     "output_type": "stream",
     "text": [
      "\tAverage Loss: 0.000616 \tLearning rate: 0.000250\n"
     ]
    },
    {
     "data": {
      "application/vnd.jupyter.widget-view+json": {
       "model_id": "79a1d753be3542a7a2fd3a18b8560bfe",
       "version_major": 2,
       "version_minor": 0
      },
      "text/plain": [
       "  0%|          | 0/4409 [00:00<?, ?it/s]"
      ]
     },
     "metadata": {},
     "output_type": "display_data"
    },
    {
     "name": "stdout",
     "output_type": "stream",
     "text": [
      "\tAverage Loss: 0.000598 \tLearning rate: 0.000250\n"
     ]
    },
    {
     "data": {
      "application/vnd.jupyter.widget-view+json": {
       "model_id": "41a9001e0d1e4ea987b68faf0d93bd25",
       "version_major": 2,
       "version_minor": 0
      },
      "text/plain": [
       "  0%|          | 0/4409 [00:00<?, ?it/s]"
      ]
     },
     "metadata": {},
     "output_type": "display_data"
    },
    {
     "name": "stdout",
     "output_type": "stream",
     "text": [
      "\tAverage Loss: 0.000580 \tLearning rate: 0.000250\n"
     ]
    },
    {
     "data": {
      "application/vnd.jupyter.widget-view+json": {
       "model_id": "63a7b28eeab64d869907b95783bc4515",
       "version_major": 2,
       "version_minor": 0
      },
      "text/plain": [
       "  0%|          | 0/4409 [00:00<?, ?it/s]"
      ]
     },
     "metadata": {},
     "output_type": "display_data"
    },
    {
     "name": "stdout",
     "output_type": "stream",
     "text": [
      "\tAverage Loss: 0.000561 \tLearning rate: 0.000250\n"
     ]
    },
    {
     "data": {
      "application/vnd.jupyter.widget-view+json": {
       "model_id": "b31d245a68e1444592af5c1b8b918a25",
       "version_major": 2,
       "version_minor": 0
      },
      "text/plain": [
       "  0%|          | 0/4409 [00:00<?, ?it/s]"
      ]
     },
     "metadata": {},
     "output_type": "display_data"
    },
    {
     "name": "stdout",
     "output_type": "stream",
     "text": [
      "\tAverage Loss: 0.000545 \tLearning rate: 0.000250\n"
     ]
    },
    {
     "data": {
      "application/vnd.jupyter.widget-view+json": {
       "model_id": "eec9bed30aae4c9e8125c28830b85465",
       "version_major": 2,
       "version_minor": 0
      },
      "text/plain": [
       "  0%|          | 0/4409 [00:00<?, ?it/s]"
      ]
     },
     "metadata": {},
     "output_type": "display_data"
    },
    {
     "name": "stdout",
     "output_type": "stream",
     "text": [
      "\tAverage Loss: 0.000529 \tLearning rate: 0.000250\n"
     ]
    },
    {
     "data": {
      "application/vnd.jupyter.widget-view+json": {
       "model_id": "3a74ec976c494525913a8e198e140fa9",
       "version_major": 2,
       "version_minor": 0
      },
      "text/plain": [
       "  0%|          | 0/4409 [00:00<?, ?it/s]"
      ]
     },
     "metadata": {},
     "output_type": "display_data"
    },
    {
     "name": "stdout",
     "output_type": "stream",
     "text": [
      "\tAverage Loss: 0.000516 \tLearning rate: 0.000250\n"
     ]
    },
    {
     "data": {
      "application/vnd.jupyter.widget-view+json": {
       "model_id": "a3dc3befca5942cb8685678756ccd756",
       "version_major": 2,
       "version_minor": 0
      },
      "text/plain": [
       "  0%|          | 0/4409 [00:00<?, ?it/s]"
      ]
     },
     "metadata": {},
     "output_type": "display_data"
    },
    {
     "name": "stdout",
     "output_type": "stream",
     "text": [
      "\tAverage Loss: 0.000500 \tLearning rate: 0.000125\n",
      "Finished Fold 0\n"
     ]
    },
    {
     "data": {
      "application/vnd.jupyter.widget-view+json": {
       "model_id": "3c44e05322014670b15ddaaeb4ea3c21",
       "version_major": 2,
       "version_minor": 0
      },
      "text/plain": [
       "  0%|          | 0/1098 [00:00<?, ?it/s]"
      ]
     },
     "metadata": {},
     "output_type": "display_data"
    },
    {
     "data": {
      "application/vnd.jupyter.widget-view+json": {
       "model_id": "6947b8f6d9444af589f29016f1f62527",
       "version_major": 2,
       "version_minor": 0
      },
      "text/plain": [
       "Create single label Dataset:   0%|          | 0/11156 [00:00<?, ?it/s]"
      ]
     },
     "metadata": {},
     "output_type": "display_data"
    },
    {
     "data": {
      "application/vnd.jupyter.widget-view+json": {
       "model_id": "bf35a96b966447c1a434a68453318741",
       "version_major": 2,
       "version_minor": 0
      },
      "text/plain": [
       "Create single label Dataset:   0%|          | 0/44624 [00:00<?, ?it/s]"
      ]
     },
     "metadata": {},
     "output_type": "display_data"
    },
    {
     "data": {
      "application/vnd.jupyter.widget-view+json": {
       "model_id": "5c06eb8c779349bfbc6a077d90f7e96f",
       "version_major": 2,
       "version_minor": 0
      },
      "text/plain": [
       "Create single label Dataset:   0%|          | 0/11156 [00:00<?, ?it/s]"
      ]
     },
     "metadata": {},
     "output_type": "display_data"
    },
    {
     "data": {
      "application/vnd.jupyter.widget-view+json": {
       "model_id": "27d43184ff4b420e963298b08f0eccf9",
       "version_major": 2,
       "version_minor": 0
      },
      "text/plain": [
       "  0%|          | 0/30 [00:00<?, ?it/s]"
      ]
     },
     "metadata": {},
     "output_type": "display_data"
    },
    {
     "data": {
      "application/vnd.jupyter.widget-view+json": {
       "model_id": "177f61f3159b4c31a711fc162f606784",
       "version_major": 2,
       "version_minor": 0
      },
      "text/plain": [
       "  0%|          | 0/4400 [00:00<?, ?it/s]"
      ]
     },
     "metadata": {},
     "output_type": "display_data"
    },
    {
     "name": "stdout",
     "output_type": "stream",
     "text": [
      "\tAverage Loss: 0.002730 \tLearning rate: 0.001000\n"
     ]
    },
    {
     "data": {
      "application/vnd.jupyter.widget-view+json": {
       "model_id": "69ebd5f9cbb542c8970aa87758bbf0b7",
       "version_major": 2,
       "version_minor": 0
      },
      "text/plain": [
       "  0%|          | 0/4400 [00:00<?, ?it/s]"
      ]
     },
     "metadata": {},
     "output_type": "display_data"
    },
    {
     "name": "stdout",
     "output_type": "stream",
     "text": [
      "\tAverage Loss: 0.002213 \tLearning rate: 0.001000\n"
     ]
    },
    {
     "data": {
      "application/vnd.jupyter.widget-view+json": {
       "model_id": "0994d84b06db41b99180e040b0d57304",
       "version_major": 2,
       "version_minor": 0
      },
      "text/plain": [
       "  0%|          | 0/4400 [00:00<?, ?it/s]"
      ]
     },
     "metadata": {},
     "output_type": "display_data"
    },
    {
     "name": "stdout",
     "output_type": "stream",
     "text": [
      "\tAverage Loss: 0.001972 \tLearning rate: 0.001000\n"
     ]
    },
    {
     "data": {
      "application/vnd.jupyter.widget-view+json": {
       "model_id": "8d0f7f277a274c82ae7c83b7df3fe89c",
       "version_major": 2,
       "version_minor": 0
      },
      "text/plain": [
       "  0%|          | 0/4400 [00:00<?, ?it/s]"
      ]
     },
     "metadata": {},
     "output_type": "display_data"
    },
    {
     "name": "stdout",
     "output_type": "stream",
     "text": [
      "\tAverage Loss: 0.001793 \tLearning rate: 0.001000\n"
     ]
    },
    {
     "data": {
      "application/vnd.jupyter.widget-view+json": {
       "model_id": "ebadb3c6e922450299019554a2013d76",
       "version_major": 2,
       "version_minor": 0
      },
      "text/plain": [
       "  0%|          | 0/4400 [00:00<?, ?it/s]"
      ]
     },
     "metadata": {},
     "output_type": "display_data"
    },
    {
     "name": "stdout",
     "output_type": "stream",
     "text": [
      "\tAverage Loss: 0.001652 \tLearning rate: 0.001000\n"
     ]
    },
    {
     "data": {
      "application/vnd.jupyter.widget-view+json": {
       "model_id": "13a8353375fc4cd0b9686c9795fa169f",
       "version_major": 2,
       "version_minor": 0
      },
      "text/plain": [
       "  0%|          | 0/4400 [00:00<?, ?it/s]"
      ]
     },
     "metadata": {},
     "output_type": "display_data"
    },
    {
     "name": "stdout",
     "output_type": "stream",
     "text": [
      "\tAverage Loss: 0.001542 \tLearning rate: 0.001000\n"
     ]
    },
    {
     "data": {
      "application/vnd.jupyter.widget-view+json": {
       "model_id": "3009747aa45240a2a3f9fd9aeab37b1e",
       "version_major": 2,
       "version_minor": 0
      },
      "text/plain": [
       "  0%|          | 0/4400 [00:00<?, ?it/s]"
      ]
     },
     "metadata": {},
     "output_type": "display_data"
    },
    {
     "name": "stdout",
     "output_type": "stream",
     "text": [
      "\tAverage Loss: 0.001447 \tLearning rate: 0.001000\n"
     ]
    },
    {
     "data": {
      "application/vnd.jupyter.widget-view+json": {
       "model_id": "1c2312c635a84b07a586d94e7a415ea5",
       "version_major": 2,
       "version_minor": 0
      },
      "text/plain": [
       "  0%|          | 0/4400 [00:00<?, ?it/s]"
      ]
     },
     "metadata": {},
     "output_type": "display_data"
    },
    {
     "name": "stdout",
     "output_type": "stream",
     "text": [
      "\tAverage Loss: 0.001374 \tLearning rate: 0.001000\n"
     ]
    },
    {
     "data": {
      "application/vnd.jupyter.widget-view+json": {
       "model_id": "8422254de41e4b5696bb705ec0fab30d",
       "version_major": 2,
       "version_minor": 0
      },
      "text/plain": [
       "  0%|          | 0/4400 [00:00<?, ?it/s]"
      ]
     },
     "metadata": {},
     "output_type": "display_data"
    },
    {
     "name": "stdout",
     "output_type": "stream",
     "text": [
      "\tAverage Loss: 0.001305 \tLearning rate: 0.001000\n"
     ]
    },
    {
     "data": {
      "application/vnd.jupyter.widget-view+json": {
       "model_id": "2f3a418d30144460b7c96ea5de99e0c5",
       "version_major": 2,
       "version_minor": 0
      },
      "text/plain": [
       "  0%|          | 0/4400 [00:00<?, ?it/s]"
      ]
     },
     "metadata": {},
     "output_type": "display_data"
    },
    {
     "name": "stdout",
     "output_type": "stream",
     "text": [
      "\tAverage Loss: 0.001244 \tLearning rate: 0.000500\n"
     ]
    },
    {
     "data": {
      "application/vnd.jupyter.widget-view+json": {
       "model_id": "4c697a087db54291aab499e536c84c81",
       "version_major": 2,
       "version_minor": 0
      },
      "text/plain": [
       "  0%|          | 0/4400 [00:00<?, ?it/s]"
      ]
     },
     "metadata": {},
     "output_type": "display_data"
    },
    {
     "name": "stdout",
     "output_type": "stream",
     "text": [
      "\tAverage Loss: 0.001086 \tLearning rate: 0.000500\n"
     ]
    },
    {
     "data": {
      "application/vnd.jupyter.widget-view+json": {
       "model_id": "623a0d73347c470fbcdff50e4bf469ea",
       "version_major": 2,
       "version_minor": 0
      },
      "text/plain": [
       "  0%|          | 0/4400 [00:00<?, ?it/s]"
      ]
     },
     "metadata": {},
     "output_type": "display_data"
    },
    {
     "name": "stdout",
     "output_type": "stream",
     "text": [
      "\tAverage Loss: 0.001038 \tLearning rate: 0.000500\n"
     ]
    },
    {
     "data": {
      "application/vnd.jupyter.widget-view+json": {
       "model_id": "2317735ffcee4791901c39da1a25904b",
       "version_major": 2,
       "version_minor": 0
      },
      "text/plain": [
       "  0%|          | 0/4400 [00:00<?, ?it/s]"
      ]
     },
     "metadata": {},
     "output_type": "display_data"
    },
    {
     "name": "stdout",
     "output_type": "stream",
     "text": [
      "\tAverage Loss: 0.000996 \tLearning rate: 0.000500\n"
     ]
    },
    {
     "data": {
      "application/vnd.jupyter.widget-view+json": {
       "model_id": "67100bffda4d4b3fb13409153d0ff683",
       "version_major": 2,
       "version_minor": 0
      },
      "text/plain": [
       "  0%|          | 0/4400 [00:00<?, ?it/s]"
      ]
     },
     "metadata": {},
     "output_type": "display_data"
    },
    {
     "name": "stdout",
     "output_type": "stream",
     "text": [
      "\tAverage Loss: 0.000957 \tLearning rate: 0.000500\n"
     ]
    },
    {
     "data": {
      "application/vnd.jupyter.widget-view+json": {
       "model_id": "b4780b2409494505bfa6eed5fb98e566",
       "version_major": 2,
       "version_minor": 0
      },
      "text/plain": [
       "  0%|          | 0/4400 [00:00<?, ?it/s]"
      ]
     },
     "metadata": {},
     "output_type": "display_data"
    },
    {
     "name": "stdout",
     "output_type": "stream",
     "text": [
      "\tAverage Loss: 0.000919 \tLearning rate: 0.000500\n"
     ]
    },
    {
     "data": {
      "application/vnd.jupyter.widget-view+json": {
       "model_id": "c46f4aa3cb0b434e95b239715522489b",
       "version_major": 2,
       "version_minor": 0
      },
      "text/plain": [
       "  0%|          | 0/4400 [00:00<?, ?it/s]"
      ]
     },
     "metadata": {},
     "output_type": "display_data"
    },
    {
     "name": "stdout",
     "output_type": "stream",
     "text": [
      "\tAverage Loss: 0.000883 \tLearning rate: 0.000500\n"
     ]
    },
    {
     "data": {
      "application/vnd.jupyter.widget-view+json": {
       "model_id": "0a46de8dd5664dd393add6161ff293cd",
       "version_major": 2,
       "version_minor": 0
      },
      "text/plain": [
       "  0%|          | 0/4400 [00:00<?, ?it/s]"
      ]
     },
     "metadata": {},
     "output_type": "display_data"
    },
    {
     "name": "stdout",
     "output_type": "stream",
     "text": [
      "\tAverage Loss: 0.000852 \tLearning rate: 0.000500\n"
     ]
    },
    {
     "data": {
      "application/vnd.jupyter.widget-view+json": {
       "model_id": "d79fd364943645b188d411d88b42606d",
       "version_major": 2,
       "version_minor": 0
      },
      "text/plain": [
       "  0%|          | 0/4400 [00:00<?, ?it/s]"
      ]
     },
     "metadata": {},
     "output_type": "display_data"
    },
    {
     "name": "stdout",
     "output_type": "stream",
     "text": [
      "\tAverage Loss: 0.000818 \tLearning rate: 0.000500\n"
     ]
    },
    {
     "data": {
      "application/vnd.jupyter.widget-view+json": {
       "model_id": "c4fbc06eaf0943498b1e9fdcda564f89",
       "version_major": 2,
       "version_minor": 0
      },
      "text/plain": [
       "  0%|          | 0/4400 [00:00<?, ?it/s]"
      ]
     },
     "metadata": {},
     "output_type": "display_data"
    },
    {
     "name": "stdout",
     "output_type": "stream",
     "text": [
      "\tAverage Loss: 0.000791 \tLearning rate: 0.000500\n"
     ]
    },
    {
     "data": {
      "application/vnd.jupyter.widget-view+json": {
       "model_id": "ff03ef914d1c4a05b2d4ea5b40668e5b",
       "version_major": 2,
       "version_minor": 0
      },
      "text/plain": [
       "  0%|          | 0/4400 [00:00<?, ?it/s]"
      ]
     },
     "metadata": {},
     "output_type": "display_data"
    },
    {
     "name": "stdout",
     "output_type": "stream",
     "text": [
      "\tAverage Loss: 0.000759 \tLearning rate: 0.000250\n"
     ]
    },
    {
     "data": {
      "application/vnd.jupyter.widget-view+json": {
       "model_id": "d09fd609d3fb464f80846d05bc6148c2",
       "version_major": 2,
       "version_minor": 0
      },
      "text/plain": [
       "  0%|          | 0/4400 [00:00<?, ?it/s]"
      ]
     },
     "metadata": {},
     "output_type": "display_data"
    },
    {
     "name": "stdout",
     "output_type": "stream",
     "text": [
      "\tAverage Loss: 0.000659 \tLearning rate: 0.000250\n"
     ]
    },
    {
     "data": {
      "application/vnd.jupyter.widget-view+json": {
       "model_id": "c555e4887a2041afb5673cca73a5f847",
       "version_major": 2,
       "version_minor": 0
      },
      "text/plain": [
       "  0%|          | 0/4400 [00:00<?, ?it/s]"
      ]
     },
     "metadata": {},
     "output_type": "display_data"
    },
    {
     "name": "stdout",
     "output_type": "stream",
     "text": [
      "\tAverage Loss: 0.000630 \tLearning rate: 0.000250\n"
     ]
    },
    {
     "data": {
      "application/vnd.jupyter.widget-view+json": {
       "model_id": "11574cb086744addb9e3722a66aa774a",
       "version_major": 2,
       "version_minor": 0
      },
      "text/plain": [
       "  0%|          | 0/4400 [00:00<?, ?it/s]"
      ]
     },
     "metadata": {},
     "output_type": "display_data"
    },
    {
     "name": "stdout",
     "output_type": "stream",
     "text": [
      "\tAverage Loss: 0.000612 \tLearning rate: 0.000250\n"
     ]
    },
    {
     "data": {
      "application/vnd.jupyter.widget-view+json": {
       "model_id": "a013e609de604deb88cbf6c33397fae5",
       "version_major": 2,
       "version_minor": 0
      },
      "text/plain": [
       "  0%|          | 0/4400 [00:00<?, ?it/s]"
      ]
     },
     "metadata": {},
     "output_type": "display_data"
    },
    {
     "name": "stdout",
     "output_type": "stream",
     "text": [
      "\tAverage Loss: 0.000591 \tLearning rate: 0.000250\n"
     ]
    },
    {
     "data": {
      "application/vnd.jupyter.widget-view+json": {
       "model_id": "74d40700f1674221b106d685782177c5",
       "version_major": 2,
       "version_minor": 0
      },
      "text/plain": [
       "  0%|          | 0/4400 [00:00<?, ?it/s]"
      ]
     },
     "metadata": {},
     "output_type": "display_data"
    },
    {
     "name": "stdout",
     "output_type": "stream",
     "text": [
      "\tAverage Loss: 0.000570 \tLearning rate: 0.000250\n"
     ]
    },
    {
     "data": {
      "application/vnd.jupyter.widget-view+json": {
       "model_id": "7089a0f6a05d4ccea83534021df42da2",
       "version_major": 2,
       "version_minor": 0
      },
      "text/plain": [
       "  0%|          | 0/4400 [00:00<?, ?it/s]"
      ]
     },
     "metadata": {},
     "output_type": "display_data"
    },
    {
     "name": "stdout",
     "output_type": "stream",
     "text": [
      "\tAverage Loss: 0.000556 \tLearning rate: 0.000250\n"
     ]
    },
    {
     "data": {
      "application/vnd.jupyter.widget-view+json": {
       "model_id": "bc3eb5d8c4e74a78a3b73bc94369221b",
       "version_major": 2,
       "version_minor": 0
      },
      "text/plain": [
       "  0%|          | 0/4400 [00:00<?, ?it/s]"
      ]
     },
     "metadata": {},
     "output_type": "display_data"
    },
    {
     "name": "stdout",
     "output_type": "stream",
     "text": [
      "\tAverage Loss: 0.000540 \tLearning rate: 0.000250\n"
     ]
    },
    {
     "data": {
      "application/vnd.jupyter.widget-view+json": {
       "model_id": "4733b78e27ea4f0b83373c96f28f98eb",
       "version_major": 2,
       "version_minor": 0
      },
      "text/plain": [
       "  0%|          | 0/4400 [00:00<?, ?it/s]"
      ]
     },
     "metadata": {},
     "output_type": "display_data"
    },
    {
     "name": "stdout",
     "output_type": "stream",
     "text": [
      "\tAverage Loss: 0.000523 \tLearning rate: 0.000250\n"
     ]
    },
    {
     "data": {
      "application/vnd.jupyter.widget-view+json": {
       "model_id": "3c8521fea411408f9deea3089c76ceef",
       "version_major": 2,
       "version_minor": 0
      },
      "text/plain": [
       "  0%|          | 0/4400 [00:00<?, ?it/s]"
      ]
     },
     "metadata": {},
     "output_type": "display_data"
    },
    {
     "name": "stdout",
     "output_type": "stream",
     "text": [
      "\tAverage Loss: 0.000507 \tLearning rate: 0.000250\n"
     ]
    },
    {
     "data": {
      "application/vnd.jupyter.widget-view+json": {
       "model_id": "0982671bed824514be0605d00ac45cef",
       "version_major": 2,
       "version_minor": 0
      },
      "text/plain": [
       "  0%|          | 0/4400 [00:00<?, ?it/s]"
      ]
     },
     "metadata": {},
     "output_type": "display_data"
    },
    {
     "name": "stdout",
     "output_type": "stream",
     "text": [
      "\tAverage Loss: 0.000494 \tLearning rate: 0.000125\n",
      "Finished Fold 1\n"
     ]
    },
    {
     "data": {
      "application/vnd.jupyter.widget-view+json": {
       "model_id": "bbf5c3bd14704b3681ef3b96fc3c2dc4",
       "version_major": 2,
       "version_minor": 0
      },
      "text/plain": [
       "  0%|          | 0/1108 [00:00<?, ?it/s]"
      ]
     },
     "metadata": {},
     "output_type": "display_data"
    },
    {
     "data": {
      "application/vnd.jupyter.widget-view+json": {
       "model_id": "f7c0d8d983d34cac91de7edeae5cafbb",
       "version_major": 2,
       "version_minor": 0
      },
      "text/plain": [
       "Create single label Dataset:   0%|          | 0/11156 [00:00<?, ?it/s]"
      ]
     },
     "metadata": {},
     "output_type": "display_data"
    },
    {
     "data": {
      "application/vnd.jupyter.widget-view+json": {
       "model_id": "395784f45c9743cb8c8455a970d52b6b",
       "version_major": 2,
       "version_minor": 0
      },
      "text/plain": [
       "Create single label Dataset:   0%|          | 0/44624 [00:00<?, ?it/s]"
      ]
     },
     "metadata": {},
     "output_type": "display_data"
    },
    {
     "data": {
      "application/vnd.jupyter.widget-view+json": {
       "model_id": "57808941be3540269faaa5fe6532ae6e",
       "version_major": 2,
       "version_minor": 0
      },
      "text/plain": [
       "Create single label Dataset:   0%|          | 0/11156 [00:00<?, ?it/s]"
      ]
     },
     "metadata": {},
     "output_type": "display_data"
    },
    {
     "data": {
      "application/vnd.jupyter.widget-view+json": {
       "model_id": "2037cac463a74903a1cddbfa87e410d5",
       "version_major": 2,
       "version_minor": 0
      },
      "text/plain": [
       "  0%|          | 0/30 [00:00<?, ?it/s]"
      ]
     },
     "metadata": {},
     "output_type": "display_data"
    },
    {
     "data": {
      "application/vnd.jupyter.widget-view+json": {
       "model_id": "47b29f3317964ed4b0a13f3ccdaf199a",
       "version_major": 2,
       "version_minor": 0
      },
      "text/plain": [
       "  0%|          | 0/4400 [00:00<?, ?it/s]"
      ]
     },
     "metadata": {},
     "output_type": "display_data"
    },
    {
     "name": "stdout",
     "output_type": "stream",
     "text": [
      "\tAverage Loss: 0.002748 \tLearning rate: 0.001000\n"
     ]
    },
    {
     "data": {
      "application/vnd.jupyter.widget-view+json": {
       "model_id": "7c0050a72b3a42949bf0c75f57831224",
       "version_major": 2,
       "version_minor": 0
      },
      "text/plain": [
       "  0%|          | 0/4400 [00:00<?, ?it/s]"
      ]
     },
     "metadata": {},
     "output_type": "display_data"
    },
    {
     "name": "stdout",
     "output_type": "stream",
     "text": [
      "\tAverage Loss: 0.002230 \tLearning rate: 0.001000\n"
     ]
    },
    {
     "data": {
      "application/vnd.jupyter.widget-view+json": {
       "model_id": "0a92de5396944e9697f944fc97b397c5",
       "version_major": 2,
       "version_minor": 0
      },
      "text/plain": [
       "  0%|          | 0/4400 [00:00<?, ?it/s]"
      ]
     },
     "metadata": {},
     "output_type": "display_data"
    },
    {
     "name": "stdout",
     "output_type": "stream",
     "text": [
      "\tAverage Loss: 0.001987 \tLearning rate: 0.001000\n"
     ]
    },
    {
     "data": {
      "application/vnd.jupyter.widget-view+json": {
       "model_id": "fa3ba2678c21410aa5078b6beda16a5d",
       "version_major": 2,
       "version_minor": 0
      },
      "text/plain": [
       "  0%|          | 0/4400 [00:00<?, ?it/s]"
      ]
     },
     "metadata": {},
     "output_type": "display_data"
    },
    {
     "name": "stdout",
     "output_type": "stream",
     "text": [
      "\tAverage Loss: 0.001815 \tLearning rate: 0.001000\n"
     ]
    },
    {
     "data": {
      "application/vnd.jupyter.widget-view+json": {
       "model_id": "1df63118c32d41b7a83aedd10f57dd26",
       "version_major": 2,
       "version_minor": 0
      },
      "text/plain": [
       "  0%|          | 0/4400 [00:00<?, ?it/s]"
      ]
     },
     "metadata": {},
     "output_type": "display_data"
    },
    {
     "name": "stdout",
     "output_type": "stream",
     "text": [
      "\tAverage Loss: 0.001674 \tLearning rate: 0.001000\n"
     ]
    },
    {
     "data": {
      "application/vnd.jupyter.widget-view+json": {
       "model_id": "f7c53e1435c744978e59d13d1360db1d",
       "version_major": 2,
       "version_minor": 0
      },
      "text/plain": [
       "  0%|          | 0/4400 [00:00<?, ?it/s]"
      ]
     },
     "metadata": {},
     "output_type": "display_data"
    },
    {
     "name": "stdout",
     "output_type": "stream",
     "text": [
      "\tAverage Loss: 0.001570 \tLearning rate: 0.001000\n"
     ]
    },
    {
     "data": {
      "application/vnd.jupyter.widget-view+json": {
       "model_id": "1f489bb6dc2e4877b023eef8d0e2065a",
       "version_major": 2,
       "version_minor": 0
      },
      "text/plain": [
       "  0%|          | 0/4400 [00:00<?, ?it/s]"
      ]
     },
     "metadata": {},
     "output_type": "display_data"
    },
    {
     "name": "stdout",
     "output_type": "stream",
     "text": [
      "\tAverage Loss: 0.001479 \tLearning rate: 0.001000\n"
     ]
    },
    {
     "data": {
      "application/vnd.jupyter.widget-view+json": {
       "model_id": "04a94b8a46b241eb893ef7e9a100e244",
       "version_major": 2,
       "version_minor": 0
      },
      "text/plain": [
       "  0%|          | 0/4400 [00:00<?, ?it/s]"
      ]
     },
     "metadata": {},
     "output_type": "display_data"
    },
    {
     "name": "stdout",
     "output_type": "stream",
     "text": [
      "\tAverage Loss: 0.001404 \tLearning rate: 0.001000\n"
     ]
    },
    {
     "data": {
      "application/vnd.jupyter.widget-view+json": {
       "model_id": "867ef576c9fc4232b924662554704e34",
       "version_major": 2,
       "version_minor": 0
      },
      "text/plain": [
       "  0%|          | 0/4400 [00:00<?, ?it/s]"
      ]
     },
     "metadata": {},
     "output_type": "display_data"
    },
    {
     "name": "stdout",
     "output_type": "stream",
     "text": [
      "\tAverage Loss: 0.001336 \tLearning rate: 0.001000\n"
     ]
    },
    {
     "data": {
      "application/vnd.jupyter.widget-view+json": {
       "model_id": "5730def45e83474a8a2685cdf8c803d4",
       "version_major": 2,
       "version_minor": 0
      },
      "text/plain": [
       "  0%|          | 0/4400 [00:00<?, ?it/s]"
      ]
     },
     "metadata": {},
     "output_type": "display_data"
    },
    {
     "name": "stdout",
     "output_type": "stream",
     "text": [
      "\tAverage Loss: 0.001264 \tLearning rate: 0.000500\n"
     ]
    },
    {
     "data": {
      "application/vnd.jupyter.widget-view+json": {
       "model_id": "f03b8b3b044f47398c4ca31e23f56b0f",
       "version_major": 2,
       "version_minor": 0
      },
      "text/plain": [
       "  0%|          | 0/4400 [00:00<?, ?it/s]"
      ]
     },
     "metadata": {},
     "output_type": "display_data"
    },
    {
     "name": "stdout",
     "output_type": "stream",
     "text": [
      "\tAverage Loss: 0.001107 \tLearning rate: 0.000500\n"
     ]
    },
    {
     "data": {
      "application/vnd.jupyter.widget-view+json": {
       "model_id": "a25e96e9bd354e49b75dd0fd8b43004e",
       "version_major": 2,
       "version_minor": 0
      },
      "text/plain": [
       "  0%|          | 0/4400 [00:00<?, ?it/s]"
      ]
     },
     "metadata": {},
     "output_type": "display_data"
    },
    {
     "name": "stdout",
     "output_type": "stream",
     "text": [
      "\tAverage Loss: 0.001060 \tLearning rate: 0.000500\n"
     ]
    },
    {
     "data": {
      "application/vnd.jupyter.widget-view+json": {
       "model_id": "49128e75e9a64bf5908c013e469a3734",
       "version_major": 2,
       "version_minor": 0
      },
      "text/plain": [
       "  0%|          | 0/4400 [00:00<?, ?it/s]"
      ]
     },
     "metadata": {},
     "output_type": "display_data"
    },
    {
     "name": "stdout",
     "output_type": "stream",
     "text": [
      "\tAverage Loss: 0.001017 \tLearning rate: 0.000500\n"
     ]
    },
    {
     "data": {
      "application/vnd.jupyter.widget-view+json": {
       "model_id": "05738f3791214ca1a301d434d2ef53e0",
       "version_major": 2,
       "version_minor": 0
      },
      "text/plain": [
       "  0%|          | 0/4400 [00:00<?, ?it/s]"
      ]
     },
     "metadata": {},
     "output_type": "display_data"
    },
    {
     "name": "stdout",
     "output_type": "stream",
     "text": [
      "\tAverage Loss: 0.000973 \tLearning rate: 0.000500\n"
     ]
    },
    {
     "data": {
      "application/vnd.jupyter.widget-view+json": {
       "model_id": "89daa47e2b774e629106369a31be0d52",
       "version_major": 2,
       "version_minor": 0
      },
      "text/plain": [
       "  0%|          | 0/4400 [00:00<?, ?it/s]"
      ]
     },
     "metadata": {},
     "output_type": "display_data"
    },
    {
     "name": "stdout",
     "output_type": "stream",
     "text": [
      "\tAverage Loss: 0.000938 \tLearning rate: 0.000500\n"
     ]
    },
    {
     "data": {
      "application/vnd.jupyter.widget-view+json": {
       "model_id": "1423c68c67974bc992fb6fba2e925234",
       "version_major": 2,
       "version_minor": 0
      },
      "text/plain": [
       "  0%|          | 0/4400 [00:00<?, ?it/s]"
      ]
     },
     "metadata": {},
     "output_type": "display_data"
    },
    {
     "name": "stdout",
     "output_type": "stream",
     "text": [
      "\tAverage Loss: 0.000906 \tLearning rate: 0.000500\n"
     ]
    },
    {
     "data": {
      "application/vnd.jupyter.widget-view+json": {
       "model_id": "da1e00c634b74fc9b7ac6c506092b1d8",
       "version_major": 2,
       "version_minor": 0
      },
      "text/plain": [
       "  0%|          | 0/4400 [00:00<?, ?it/s]"
      ]
     },
     "metadata": {},
     "output_type": "display_data"
    },
    {
     "name": "stdout",
     "output_type": "stream",
     "text": [
      "\tAverage Loss: 0.000868 \tLearning rate: 0.000500\n"
     ]
    },
    {
     "data": {
      "application/vnd.jupyter.widget-view+json": {
       "model_id": "02946d95951e4576a42f759c26c8099b",
       "version_major": 2,
       "version_minor": 0
      },
      "text/plain": [
       "  0%|          | 0/4400 [00:00<?, ?it/s]"
      ]
     },
     "metadata": {},
     "output_type": "display_data"
    },
    {
     "name": "stdout",
     "output_type": "stream",
     "text": [
      "\tAverage Loss: 0.000834 \tLearning rate: 0.000500\n"
     ]
    },
    {
     "data": {
      "application/vnd.jupyter.widget-view+json": {
       "model_id": "5c5e6c5589a14389a26b0d9e86492373",
       "version_major": 2,
       "version_minor": 0
      },
      "text/plain": [
       "  0%|          | 0/4400 [00:00<?, ?it/s]"
      ]
     },
     "metadata": {},
     "output_type": "display_data"
    },
    {
     "name": "stdout",
     "output_type": "stream",
     "text": [
      "\tAverage Loss: 0.000805 \tLearning rate: 0.000500\n"
     ]
    },
    {
     "data": {
      "application/vnd.jupyter.widget-view+json": {
       "model_id": "17557c1c53c84f6ca4f2a72b2b4b82d3",
       "version_major": 2,
       "version_minor": 0
      },
      "text/plain": [
       "  0%|          | 0/4400 [00:00<?, ?it/s]"
      ]
     },
     "metadata": {},
     "output_type": "display_data"
    },
    {
     "name": "stdout",
     "output_type": "stream",
     "text": [
      "\tAverage Loss: 0.000769 \tLearning rate: 0.000250\n"
     ]
    },
    {
     "data": {
      "application/vnd.jupyter.widget-view+json": {
       "model_id": "077b2720475a4b7ebab5e6b8c6c41d7b",
       "version_major": 2,
       "version_minor": 0
      },
      "text/plain": [
       "  0%|          | 0/4400 [00:00<?, ?it/s]"
      ]
     },
     "metadata": {},
     "output_type": "display_data"
    },
    {
     "name": "stdout",
     "output_type": "stream",
     "text": [
      "\tAverage Loss: 0.000669 \tLearning rate: 0.000250\n"
     ]
    },
    {
     "data": {
      "application/vnd.jupyter.widget-view+json": {
       "model_id": "2e22c19e686d444a9e8a023fc9dc1766",
       "version_major": 2,
       "version_minor": 0
      },
      "text/plain": [
       "  0%|          | 0/4400 [00:00<?, ?it/s]"
      ]
     },
     "metadata": {},
     "output_type": "display_data"
    },
    {
     "name": "stdout",
     "output_type": "stream",
     "text": [
      "\tAverage Loss: 0.000637 \tLearning rate: 0.000250\n"
     ]
    },
    {
     "data": {
      "application/vnd.jupyter.widget-view+json": {
       "model_id": "46c2ce4871584e37a6de3b7cc3aa9b85",
       "version_major": 2,
       "version_minor": 0
      },
      "text/plain": [
       "  0%|          | 0/4400 [00:00<?, ?it/s]"
      ]
     },
     "metadata": {},
     "output_type": "display_data"
    },
    {
     "name": "stdout",
     "output_type": "stream",
     "text": [
      "\tAverage Loss: 0.000619 \tLearning rate: 0.000250\n"
     ]
    },
    {
     "data": {
      "application/vnd.jupyter.widget-view+json": {
       "model_id": "e22d455f1c554e72bc30ff75a1154273",
       "version_major": 2,
       "version_minor": 0
      },
      "text/plain": [
       "  0%|          | 0/4400 [00:00<?, ?it/s]"
      ]
     },
     "metadata": {},
     "output_type": "display_data"
    },
    {
     "name": "stdout",
     "output_type": "stream",
     "text": [
      "\tAverage Loss: 0.000598 \tLearning rate: 0.000250\n"
     ]
    },
    {
     "data": {
      "application/vnd.jupyter.widget-view+json": {
       "model_id": "2c7b83ef07ce4650b29160af022a98f6",
       "version_major": 2,
       "version_minor": 0
      },
      "text/plain": [
       "  0%|          | 0/4400 [00:00<?, ?it/s]"
      ]
     },
     "metadata": {},
     "output_type": "display_data"
    },
    {
     "name": "stdout",
     "output_type": "stream",
     "text": [
      "\tAverage Loss: 0.000583 \tLearning rate: 0.000250\n"
     ]
    },
    {
     "data": {
      "application/vnd.jupyter.widget-view+json": {
       "model_id": "c823c98c30ca4026a6f266381cc1c50f",
       "version_major": 2,
       "version_minor": 0
      },
      "text/plain": [
       "  0%|          | 0/4400 [00:00<?, ?it/s]"
      ]
     },
     "metadata": {},
     "output_type": "display_data"
    },
    {
     "name": "stdout",
     "output_type": "stream",
     "text": [
      "\tAverage Loss: 0.000562 \tLearning rate: 0.000250\n"
     ]
    },
    {
     "data": {
      "application/vnd.jupyter.widget-view+json": {
       "model_id": "893b490698b74bef9d1ad48497d3194c",
       "version_major": 2,
       "version_minor": 0
      },
      "text/plain": [
       "  0%|          | 0/4400 [00:00<?, ?it/s]"
      ]
     },
     "metadata": {},
     "output_type": "display_data"
    },
    {
     "name": "stdout",
     "output_type": "stream",
     "text": [
      "\tAverage Loss: 0.000546 \tLearning rate: 0.000250\n"
     ]
    },
    {
     "data": {
      "application/vnd.jupyter.widget-view+json": {
       "model_id": "dc8813432b5449e4b1cc79e0ffb5e796",
       "version_major": 2,
       "version_minor": 0
      },
      "text/plain": [
       "  0%|          | 0/4400 [00:00<?, ?it/s]"
      ]
     },
     "metadata": {},
     "output_type": "display_data"
    },
    {
     "name": "stdout",
     "output_type": "stream",
     "text": [
      "\tAverage Loss: 0.000529 \tLearning rate: 0.000250\n"
     ]
    },
    {
     "data": {
      "application/vnd.jupyter.widget-view+json": {
       "model_id": "8abd4660e5024c339247f0444fec10f8",
       "version_major": 2,
       "version_minor": 0
      },
      "text/plain": [
       "  0%|          | 0/4400 [00:00<?, ?it/s]"
      ]
     },
     "metadata": {},
     "output_type": "display_data"
    },
    {
     "name": "stdout",
     "output_type": "stream",
     "text": [
      "\tAverage Loss: 0.000514 \tLearning rate: 0.000250\n"
     ]
    },
    {
     "data": {
      "application/vnd.jupyter.widget-view+json": {
       "model_id": "2fe82d87f12b45648a8ab94bb486c527",
       "version_major": 2,
       "version_minor": 0
      },
      "text/plain": [
       "  0%|          | 0/4400 [00:00<?, ?it/s]"
      ]
     },
     "metadata": {},
     "output_type": "display_data"
    },
    {
     "name": "stdout",
     "output_type": "stream",
     "text": [
      "\tAverage Loss: 0.000498 \tLearning rate: 0.000125\n",
      "Finished Fold 2\n"
     ]
    },
    {
     "data": {
      "application/vnd.jupyter.widget-view+json": {
       "model_id": "829cfca99e484488891572b627dbbec5",
       "version_major": 2,
       "version_minor": 0
      },
      "text/plain": [
       "  0%|          | 0/1107 [00:00<?, ?it/s]"
      ]
     },
     "metadata": {},
     "output_type": "display_data"
    },
    {
     "data": {
      "application/vnd.jupyter.widget-view+json": {
       "model_id": "63f233b51e204ac9b3bff9d2c6b3f15c",
       "version_major": 2,
       "version_minor": 0
      },
      "text/plain": [
       "Create single label Dataset:   0%|          | 0/11156 [00:00<?, ?it/s]"
      ]
     },
     "metadata": {},
     "output_type": "display_data"
    },
    {
     "data": {
      "application/vnd.jupyter.widget-view+json": {
       "model_id": "3069c1b7156748249ccc27517c8174ea",
       "version_major": 2,
       "version_minor": 0
      },
      "text/plain": [
       "Create single label Dataset:   0%|          | 0/44624 [00:00<?, ?it/s]"
      ]
     },
     "metadata": {},
     "output_type": "display_data"
    },
    {
     "data": {
      "application/vnd.jupyter.widget-view+json": {
       "model_id": "7ac1d9d616f240418031c7ed4f241771",
       "version_major": 2,
       "version_minor": 0
      },
      "text/plain": [
       "Create single label Dataset:   0%|          | 0/11156 [00:00<?, ?it/s]"
      ]
     },
     "metadata": {},
     "output_type": "display_data"
    },
    {
     "data": {
      "application/vnd.jupyter.widget-view+json": {
       "model_id": "1154d8b7815f4541809d18c97ac80eac",
       "version_major": 2,
       "version_minor": 0
      },
      "text/plain": [
       "  0%|          | 0/30 [00:00<?, ?it/s]"
      ]
     },
     "metadata": {},
     "output_type": "display_data"
    },
    {
     "data": {
      "application/vnd.jupyter.widget-view+json": {
       "model_id": "2a75b1282b414c2a87b4d33a5cb2d10b",
       "version_major": 2,
       "version_minor": 0
      },
      "text/plain": [
       "  0%|          | 0/4405 [00:00<?, ?it/s]"
      ]
     },
     "metadata": {},
     "output_type": "display_data"
    },
    {
     "name": "stdout",
     "output_type": "stream",
     "text": [
      "\tAverage Loss: 0.002725 \tLearning rate: 0.001000\n"
     ]
    },
    {
     "data": {
      "application/vnd.jupyter.widget-view+json": {
       "model_id": "5ce888b5992f48c3a452a4c37535ab71",
       "version_major": 2,
       "version_minor": 0
      },
      "text/plain": [
       "  0%|          | 0/4405 [00:00<?, ?it/s]"
      ]
     },
     "metadata": {},
     "output_type": "display_data"
    },
    {
     "name": "stdout",
     "output_type": "stream",
     "text": [
      "\tAverage Loss: 0.002208 \tLearning rate: 0.001000\n"
     ]
    },
    {
     "data": {
      "application/vnd.jupyter.widget-view+json": {
       "model_id": "e670b17615104224b18e6d525ea9d989",
       "version_major": 2,
       "version_minor": 0
      },
      "text/plain": [
       "  0%|          | 0/4405 [00:00<?, ?it/s]"
      ]
     },
     "metadata": {},
     "output_type": "display_data"
    },
    {
     "name": "stdout",
     "output_type": "stream",
     "text": [
      "\tAverage Loss: 0.002010 \tLearning rate: 0.001000\n"
     ]
    },
    {
     "data": {
      "application/vnd.jupyter.widget-view+json": {
       "model_id": "f561d3b2595649bbb75481859395a5cc",
       "version_major": 2,
       "version_minor": 0
      },
      "text/plain": [
       "  0%|          | 0/4405 [00:00<?, ?it/s]"
      ]
     },
     "metadata": {},
     "output_type": "display_data"
    },
    {
     "name": "stdout",
     "output_type": "stream",
     "text": [
      "\tAverage Loss: 0.001838 \tLearning rate: 0.001000\n"
     ]
    },
    {
     "data": {
      "application/vnd.jupyter.widget-view+json": {
       "model_id": "5416116cd5184f17834bd75efcc049b6",
       "version_major": 2,
       "version_minor": 0
      },
      "text/plain": [
       "  0%|          | 0/4405 [00:00<?, ?it/s]"
      ]
     },
     "metadata": {},
     "output_type": "display_data"
    },
    {
     "name": "stdout",
     "output_type": "stream",
     "text": [
      "\tAverage Loss: 0.001712 \tLearning rate: 0.001000\n"
     ]
    },
    {
     "data": {
      "application/vnd.jupyter.widget-view+json": {
       "model_id": "8becd1148b1643e1a5915d004ec740ec",
       "version_major": 2,
       "version_minor": 0
      },
      "text/plain": [
       "  0%|          | 0/4405 [00:00<?, ?it/s]"
      ]
     },
     "metadata": {},
     "output_type": "display_data"
    },
    {
     "name": "stdout",
     "output_type": "stream",
     "text": [
      "\tAverage Loss: 0.001615 \tLearning rate: 0.001000\n"
     ]
    },
    {
     "data": {
      "application/vnd.jupyter.widget-view+json": {
       "model_id": "6597c1f2b75f45f99619753de0da9b45",
       "version_major": 2,
       "version_minor": 0
      },
      "text/plain": [
       "  0%|          | 0/4405 [00:00<?, ?it/s]"
      ]
     },
     "metadata": {},
     "output_type": "display_data"
    },
    {
     "name": "stdout",
     "output_type": "stream",
     "text": [
      "\tAverage Loss: 0.001531 \tLearning rate: 0.001000\n"
     ]
    },
    {
     "data": {
      "application/vnd.jupyter.widget-view+json": {
       "model_id": "83b79fd7d55041fabba3b6e5a929d29d",
       "version_major": 2,
       "version_minor": 0
      },
      "text/plain": [
       "  0%|          | 0/4405 [00:00<?, ?it/s]"
      ]
     },
     "metadata": {},
     "output_type": "display_data"
    },
    {
     "name": "stdout",
     "output_type": "stream",
     "text": [
      "\tAverage Loss: 0.001465 \tLearning rate: 0.001000\n"
     ]
    },
    {
     "data": {
      "application/vnd.jupyter.widget-view+json": {
       "model_id": "f9b8f0f04d1f44feb1667e2b39b3e750",
       "version_major": 2,
       "version_minor": 0
      },
      "text/plain": [
       "  0%|          | 0/4405 [00:00<?, ?it/s]"
      ]
     },
     "metadata": {},
     "output_type": "display_data"
    },
    {
     "name": "stdout",
     "output_type": "stream",
     "text": [
      "\tAverage Loss: 0.001399 \tLearning rate: 0.001000\n"
     ]
    },
    {
     "data": {
      "application/vnd.jupyter.widget-view+json": {
       "model_id": "f837771ee0284d7789912efe3218c1bb",
       "version_major": 2,
       "version_minor": 0
      },
      "text/plain": [
       "  0%|          | 0/4405 [00:00<?, ?it/s]"
      ]
     },
     "metadata": {},
     "output_type": "display_data"
    },
    {
     "name": "stdout",
     "output_type": "stream",
     "text": [
      "\tAverage Loss: 0.001381 \tLearning rate: 0.000500\n"
     ]
    },
    {
     "data": {
      "application/vnd.jupyter.widget-view+json": {
       "model_id": "5b996df71a9c46348dc05bc5cf265c33",
       "version_major": 2,
       "version_minor": 0
      },
      "text/plain": [
       "  0%|          | 0/4405 [00:00<?, ?it/s]"
      ]
     },
     "metadata": {},
     "output_type": "display_data"
    },
    {
     "name": "stdout",
     "output_type": "stream",
     "text": [
      "\tAverage Loss: 0.001210 \tLearning rate: 0.000500\n"
     ]
    },
    {
     "data": {
      "application/vnd.jupyter.widget-view+json": {
       "model_id": "b28f137ba39a4119b7b0b04874b55f09",
       "version_major": 2,
       "version_minor": 0
      },
      "text/plain": [
       "  0%|          | 0/4405 [00:00<?, ?it/s]"
      ]
     },
     "metadata": {},
     "output_type": "display_data"
    },
    {
     "name": "stdout",
     "output_type": "stream",
     "text": [
      "\tAverage Loss: 0.001222 \tLearning rate: 0.000500\n"
     ]
    },
    {
     "data": {
      "application/vnd.jupyter.widget-view+json": {
       "model_id": "ac261cc7ed394d3c8dd6549ed8c4b04f",
       "version_major": 2,
       "version_minor": 0
      },
      "text/plain": [
       "  0%|          | 0/4405 [00:00<?, ?it/s]"
      ]
     },
     "metadata": {},
     "output_type": "display_data"
    },
    {
     "name": "stdout",
     "output_type": "stream",
     "text": [
      "\tAverage Loss: 0.001149 \tLearning rate: 0.000500\n"
     ]
    },
    {
     "data": {
      "application/vnd.jupyter.widget-view+json": {
       "model_id": "499d4c42125141298a98d8a44706908b",
       "version_major": 2,
       "version_minor": 0
      },
      "text/plain": [
       "  0%|          | 0/4405 [00:00<?, ?it/s]"
      ]
     },
     "metadata": {},
     "output_type": "display_data"
    },
    {
     "name": "stdout",
     "output_type": "stream",
     "text": [
      "\tAverage Loss: 0.001099 \tLearning rate: 0.000500\n"
     ]
    },
    {
     "data": {
      "application/vnd.jupyter.widget-view+json": {
       "model_id": "854c4f40ef4d4d82b88134dbc2208ec7",
       "version_major": 2,
       "version_minor": 0
      },
      "text/plain": [
       "  0%|          | 0/4405 [00:00<?, ?it/s]"
      ]
     },
     "metadata": {},
     "output_type": "display_data"
    },
    {
     "name": "stdout",
     "output_type": "stream",
     "text": [
      "\tAverage Loss: 0.001072 \tLearning rate: 0.000500\n"
     ]
    },
    {
     "data": {
      "application/vnd.jupyter.widget-view+json": {
       "model_id": "ecfb504817b74f8b81a9fd32ee64c1ca",
       "version_major": 2,
       "version_minor": 0
      },
      "text/plain": [
       "  0%|          | 0/4405 [00:00<?, ?it/s]"
      ]
     },
     "metadata": {},
     "output_type": "display_data"
    },
    {
     "name": "stdout",
     "output_type": "stream",
     "text": [
      "\tAverage Loss: 0.001042 \tLearning rate: 0.000500\n"
     ]
    },
    {
     "data": {
      "application/vnd.jupyter.widget-view+json": {
       "model_id": "6fc67a481a5e451792f94b741b180b90",
       "version_major": 2,
       "version_minor": 0
      },
      "text/plain": [
       "  0%|          | 0/4405 [00:00<?, ?it/s]"
      ]
     },
     "metadata": {},
     "output_type": "display_data"
    },
    {
     "name": "stdout",
     "output_type": "stream",
     "text": [
      "\tAverage Loss: 0.001019 \tLearning rate: 0.000500\n"
     ]
    },
    {
     "data": {
      "application/vnd.jupyter.widget-view+json": {
       "model_id": "8f73c97dec9e4946a30fac390b5bf71f",
       "version_major": 2,
       "version_minor": 0
      },
      "text/plain": [
       "  0%|          | 0/4405 [00:00<?, ?it/s]"
      ]
     },
     "metadata": {},
     "output_type": "display_data"
    },
    {
     "name": "stdout",
     "output_type": "stream",
     "text": [
      "\tAverage Loss: 0.000992 \tLearning rate: 0.000500\n"
     ]
    },
    {
     "data": {
      "application/vnd.jupyter.widget-view+json": {
       "model_id": "f322236777ff4a9da1f7f06ad09e1eb8",
       "version_major": 2,
       "version_minor": 0
      },
      "text/plain": [
       "  0%|          | 0/4405 [00:00<?, ?it/s]"
      ]
     },
     "metadata": {},
     "output_type": "display_data"
    },
    {
     "name": "stdout",
     "output_type": "stream",
     "text": [
      "\tAverage Loss: 0.000989 \tLearning rate: 0.000500\n"
     ]
    },
    {
     "data": {
      "application/vnd.jupyter.widget-view+json": {
       "model_id": "eb565420a32646d0ad9df977016f73f8",
       "version_major": 2,
       "version_minor": 0
      },
      "text/plain": [
       "  0%|          | 0/4405 [00:00<?, ?it/s]"
      ]
     },
     "metadata": {},
     "output_type": "display_data"
    },
    {
     "name": "stdout",
     "output_type": "stream",
     "text": [
      "\tAverage Loss: 0.000962 \tLearning rate: 0.000250\n"
     ]
    },
    {
     "data": {
      "application/vnd.jupyter.widget-view+json": {
       "model_id": "0cab5fbca2e0460a8c37da24bbb7f94c",
       "version_major": 2,
       "version_minor": 0
      },
      "text/plain": [
       "  0%|          | 0/4405 [00:00<?, ?it/s]"
      ]
     },
     "metadata": {},
     "output_type": "display_data"
    },
    {
     "name": "stdout",
     "output_type": "stream",
     "text": [
      "\tAverage Loss: 0.000886 \tLearning rate: 0.000250\n"
     ]
    },
    {
     "data": {
      "application/vnd.jupyter.widget-view+json": {
       "model_id": "03c1234a088d4ba780bdc944d12225b8",
       "version_major": 2,
       "version_minor": 0
      },
      "text/plain": [
       "  0%|          | 0/4405 [00:00<?, ?it/s]"
      ]
     },
     "metadata": {},
     "output_type": "display_data"
    },
    {
     "name": "stdout",
     "output_type": "stream",
     "text": [
      "\tAverage Loss: 0.000876 \tLearning rate: 0.000250\n"
     ]
    },
    {
     "data": {
      "application/vnd.jupyter.widget-view+json": {
       "model_id": "1b360e5dd0dc4497934e6ed3b3b662be",
       "version_major": 2,
       "version_minor": 0
      },
      "text/plain": [
       "  0%|          | 0/4405 [00:00<?, ?it/s]"
      ]
     },
     "metadata": {},
     "output_type": "display_data"
    },
    {
     "name": "stdout",
     "output_type": "stream",
     "text": [
      "\tAverage Loss: 0.000856 \tLearning rate: 0.000250\n"
     ]
    },
    {
     "data": {
      "application/vnd.jupyter.widget-view+json": {
       "model_id": "b0d88d530b9b4b67877cb5bae9522057",
       "version_major": 2,
       "version_minor": 0
      },
      "text/plain": [
       "  0%|          | 0/4405 [00:00<?, ?it/s]"
      ]
     },
     "metadata": {},
     "output_type": "display_data"
    },
    {
     "name": "stdout",
     "output_type": "stream",
     "text": [
      "\tAverage Loss: 0.000836 \tLearning rate: 0.000250\n"
     ]
    },
    {
     "data": {
      "application/vnd.jupyter.widget-view+json": {
       "model_id": "f5b949f142474095850b089e623b7f79",
       "version_major": 2,
       "version_minor": 0
      },
      "text/plain": [
       "  0%|          | 0/4405 [00:00<?, ?it/s]"
      ]
     },
     "metadata": {},
     "output_type": "display_data"
    },
    {
     "name": "stdout",
     "output_type": "stream",
     "text": [
      "\tAverage Loss: 0.000828 \tLearning rate: 0.000250\n"
     ]
    },
    {
     "data": {
      "application/vnd.jupyter.widget-view+json": {
       "model_id": "1860f5349d994474b7fdee8070ccd758",
       "version_major": 2,
       "version_minor": 0
      },
      "text/plain": [
       "  0%|          | 0/4405 [00:00<?, ?it/s]"
      ]
     },
     "metadata": {},
     "output_type": "display_data"
    },
    {
     "name": "stdout",
     "output_type": "stream",
     "text": [
      "\tAverage Loss: 0.000808 \tLearning rate: 0.000250\n"
     ]
    },
    {
     "data": {
      "application/vnd.jupyter.widget-view+json": {
       "model_id": "cd9b4f180b9d490e901426b7eb060215",
       "version_major": 2,
       "version_minor": 0
      },
      "text/plain": [
       "  0%|          | 0/4405 [00:00<?, ?it/s]"
      ]
     },
     "metadata": {},
     "output_type": "display_data"
    },
    {
     "name": "stdout",
     "output_type": "stream",
     "text": [
      "\tAverage Loss: 0.000806 \tLearning rate: 0.000250\n"
     ]
    },
    {
     "data": {
      "application/vnd.jupyter.widget-view+json": {
       "model_id": "06ddb066b38e4013bb446b90c8f213de",
       "version_major": 2,
       "version_minor": 0
      },
      "text/plain": [
       "  0%|          | 0/4405 [00:00<?, ?it/s]"
      ]
     },
     "metadata": {},
     "output_type": "display_data"
    },
    {
     "name": "stdout",
     "output_type": "stream",
     "text": [
      "\tAverage Loss: 0.000787 \tLearning rate: 0.000250\n"
     ]
    },
    {
     "data": {
      "application/vnd.jupyter.widget-view+json": {
       "model_id": "7851bdf3b0e84f31874c3e0a10a26613",
       "version_major": 2,
       "version_minor": 0
      },
      "text/plain": [
       "  0%|          | 0/4405 [00:00<?, ?it/s]"
      ]
     },
     "metadata": {},
     "output_type": "display_data"
    },
    {
     "name": "stdout",
     "output_type": "stream",
     "text": [
      "\tAverage Loss: 0.000784 \tLearning rate: 0.000250\n"
     ]
    },
    {
     "data": {
      "application/vnd.jupyter.widget-view+json": {
       "model_id": "1233d63ee2ee4b3a8cd458a64596c09b",
       "version_major": 2,
       "version_minor": 0
      },
      "text/plain": [
       "  0%|          | 0/4405 [00:00<?, ?it/s]"
      ]
     },
     "metadata": {},
     "output_type": "display_data"
    },
    {
     "name": "stdout",
     "output_type": "stream",
     "text": [
      "\tAverage Loss: 0.000762 \tLearning rate: 0.000125\n",
      "Finished Fold 3\n"
     ]
    },
    {
     "data": {
      "application/vnd.jupyter.widget-view+json": {
       "model_id": "8d08009c80844ac88e0f4b6294bd7b4b",
       "version_major": 2,
       "version_minor": 0
      },
      "text/plain": [
       "  0%|          | 0/1103 [00:00<?, ?it/s]"
      ]
     },
     "metadata": {},
     "output_type": "display_data"
    },
    {
     "data": {
      "application/vnd.jupyter.widget-view+json": {
       "model_id": "19f4b007fbb949f7b8194c10579412eb",
       "version_major": 2,
       "version_minor": 0
      },
      "text/plain": [
       "Create single label Dataset:   0%|          | 0/11156 [00:00<?, ?it/s]"
      ]
     },
     "metadata": {},
     "output_type": "display_data"
    },
    {
     "data": {
      "application/vnd.jupyter.widget-view+json": {
       "model_id": "a513b941f231404888b937e26c75984d",
       "version_major": 2,
       "version_minor": 0
      },
      "text/plain": [
       "Create single label Dataset:   0%|          | 0/44624 [00:00<?, ?it/s]"
      ]
     },
     "metadata": {},
     "output_type": "display_data"
    },
    {
     "data": {
      "application/vnd.jupyter.widget-view+json": {
       "model_id": "bb74de63a5cf4ef3bddfad067d561e4b",
       "version_major": 2,
       "version_minor": 0
      },
      "text/plain": [
       "Create single label Dataset:   0%|          | 0/11156 [00:00<?, ?it/s]"
      ]
     },
     "metadata": {},
     "output_type": "display_data"
    },
    {
     "data": {
      "application/vnd.jupyter.widget-view+json": {
       "model_id": "57b7e0675d9e4584b707c03063224de3",
       "version_major": 2,
       "version_minor": 0
      },
      "text/plain": [
       "  0%|          | 0/30 [00:00<?, ?it/s]"
      ]
     },
     "metadata": {},
     "output_type": "display_data"
    },
    {
     "data": {
      "application/vnd.jupyter.widget-view+json": {
       "model_id": "9468f363f5024056b6f71586f6956567",
       "version_major": 2,
       "version_minor": 0
      },
      "text/plain": [
       "  0%|          | 0/4415 [00:00<?, ?it/s]"
      ]
     },
     "metadata": {},
     "output_type": "display_data"
    },
    {
     "name": "stdout",
     "output_type": "stream",
     "text": [
      "\tAverage Loss: 0.002756 \tLearning rate: 0.001000\n"
     ]
    },
    {
     "data": {
      "application/vnd.jupyter.widget-view+json": {
       "model_id": "4343a8e8cc60446c888f0a7b50e8d288",
       "version_major": 2,
       "version_minor": 0
      },
      "text/plain": [
       "  0%|          | 0/4415 [00:00<?, ?it/s]"
      ]
     },
     "metadata": {},
     "output_type": "display_data"
    },
    {
     "name": "stdout",
     "output_type": "stream",
     "text": [
      "\tAverage Loss: 0.002246 \tLearning rate: 0.001000\n"
     ]
    },
    {
     "data": {
      "application/vnd.jupyter.widget-view+json": {
       "model_id": "14fb793f2c5c4a3b9a568546b3352463",
       "version_major": 2,
       "version_minor": 0
      },
      "text/plain": [
       "  0%|          | 0/4415 [00:00<?, ?it/s]"
      ]
     },
     "metadata": {},
     "output_type": "display_data"
    },
    {
     "name": "stdout",
     "output_type": "stream",
     "text": [
      "\tAverage Loss: 0.001997 \tLearning rate: 0.001000\n"
     ]
    },
    {
     "data": {
      "application/vnd.jupyter.widget-view+json": {
       "model_id": "da791681421e4e03be1edf8766f68c37",
       "version_major": 2,
       "version_minor": 0
      },
      "text/plain": [
       "  0%|          | 0/4415 [00:00<?, ?it/s]"
      ]
     },
     "metadata": {},
     "output_type": "display_data"
    },
    {
     "name": "stdout",
     "output_type": "stream",
     "text": [
      "\tAverage Loss: 0.001812 \tLearning rate: 0.001000\n"
     ]
    },
    {
     "data": {
      "application/vnd.jupyter.widget-view+json": {
       "model_id": "daa37a85e5e5458b89cacac94c4be2a2",
       "version_major": 2,
       "version_minor": 0
      },
      "text/plain": [
       "  0%|          | 0/4415 [00:00<?, ?it/s]"
      ]
     },
     "metadata": {},
     "output_type": "display_data"
    },
    {
     "name": "stdout",
     "output_type": "stream",
     "text": [
      "\tAverage Loss: 0.001676 \tLearning rate: 0.001000\n"
     ]
    },
    {
     "data": {
      "application/vnd.jupyter.widget-view+json": {
       "model_id": "68661eb5471f4c699f99670ba159ecd9",
       "version_major": 2,
       "version_minor": 0
      },
      "text/plain": [
       "  0%|          | 0/4415 [00:00<?, ?it/s]"
      ]
     },
     "metadata": {},
     "output_type": "display_data"
    },
    {
     "name": "stdout",
     "output_type": "stream",
     "text": [
      "\tAverage Loss: 0.001566 \tLearning rate: 0.001000\n"
     ]
    },
    {
     "data": {
      "application/vnd.jupyter.widget-view+json": {
       "model_id": "c8df1ac5e32b45f9a9c7db7f717cecd1",
       "version_major": 2,
       "version_minor": 0
      },
      "text/plain": [
       "  0%|          | 0/4415 [00:00<?, ?it/s]"
      ]
     },
     "metadata": {},
     "output_type": "display_data"
    },
    {
     "name": "stdout",
     "output_type": "stream",
     "text": [
      "\tAverage Loss: 0.001475 \tLearning rate: 0.001000\n"
     ]
    },
    {
     "data": {
      "application/vnd.jupyter.widget-view+json": {
       "model_id": "aa66508a877245428fa949bc988a9311",
       "version_major": 2,
       "version_minor": 0
      },
      "text/plain": [
       "  0%|          | 0/4415 [00:00<?, ?it/s]"
      ]
     },
     "metadata": {},
     "output_type": "display_data"
    },
    {
     "name": "stdout",
     "output_type": "stream",
     "text": [
      "\tAverage Loss: 0.001400 \tLearning rate: 0.001000\n"
     ]
    },
    {
     "data": {
      "application/vnd.jupyter.widget-view+json": {
       "model_id": "72471edd49dd4b7db04a767b7bde0d0e",
       "version_major": 2,
       "version_minor": 0
      },
      "text/plain": [
       "  0%|          | 0/4415 [00:00<?, ?it/s]"
      ]
     },
     "metadata": {},
     "output_type": "display_data"
    },
    {
     "name": "stdout",
     "output_type": "stream",
     "text": [
      "\tAverage Loss: 0.001335 \tLearning rate: 0.001000\n"
     ]
    },
    {
     "data": {
      "application/vnd.jupyter.widget-view+json": {
       "model_id": "ab74ca685ad54748a08004c76cf7b043",
       "version_major": 2,
       "version_minor": 0
      },
      "text/plain": [
       "  0%|          | 0/4415 [00:00<?, ?it/s]"
      ]
     },
     "metadata": {},
     "output_type": "display_data"
    },
    {
     "name": "stdout",
     "output_type": "stream",
     "text": [
      "\tAverage Loss: 0.001265 \tLearning rate: 0.000500\n"
     ]
    },
    {
     "data": {
      "application/vnd.jupyter.widget-view+json": {
       "model_id": "361e9eaa26d44d0dbe298a7c49433f5d",
       "version_major": 2,
       "version_minor": 0
      },
      "text/plain": [
       "  0%|          | 0/4415 [00:00<?, ?it/s]"
      ]
     },
     "metadata": {},
     "output_type": "display_data"
    },
    {
     "name": "stdout",
     "output_type": "stream",
     "text": [
      "\tAverage Loss: 0.001119 \tLearning rate: 0.000500\n"
     ]
    },
    {
     "data": {
      "application/vnd.jupyter.widget-view+json": {
       "model_id": "623e0f7991f245c0be63d2c5551cb318",
       "version_major": 2,
       "version_minor": 0
      },
      "text/plain": [
       "  0%|          | 0/4415 [00:00<?, ?it/s]"
      ]
     },
     "metadata": {},
     "output_type": "display_data"
    },
    {
     "name": "stdout",
     "output_type": "stream",
     "text": [
      "\tAverage Loss: 0.001067 \tLearning rate: 0.000500\n"
     ]
    },
    {
     "data": {
      "application/vnd.jupyter.widget-view+json": {
       "model_id": "15a65acd65ee4464814bdd6c0e7d1c54",
       "version_major": 2,
       "version_minor": 0
      },
      "text/plain": [
       "  0%|          | 0/4415 [00:00<?, ?it/s]"
      ]
     },
     "metadata": {},
     "output_type": "display_data"
    },
    {
     "name": "stdout",
     "output_type": "stream",
     "text": [
      "\tAverage Loss: 0.001025 \tLearning rate: 0.000500\n"
     ]
    },
    {
     "data": {
      "application/vnd.jupyter.widget-view+json": {
       "model_id": "3c04fafd4d18459796543de7b32253ad",
       "version_major": 2,
       "version_minor": 0
      },
      "text/plain": [
       "  0%|          | 0/4415 [00:00<?, ?it/s]"
      ]
     },
     "metadata": {},
     "output_type": "display_data"
    },
    {
     "name": "stdout",
     "output_type": "stream",
     "text": [
      "\tAverage Loss: 0.000987 \tLearning rate: 0.000500\n"
     ]
    },
    {
     "data": {
      "application/vnd.jupyter.widget-view+json": {
       "model_id": "99bb58c245874c0a92acba040aa9128b",
       "version_major": 2,
       "version_minor": 0
      },
      "text/plain": [
       "  0%|          | 0/4415 [00:00<?, ?it/s]"
      ]
     },
     "metadata": {},
     "output_type": "display_data"
    },
    {
     "name": "stdout",
     "output_type": "stream",
     "text": [
      "\tAverage Loss: 0.000952 \tLearning rate: 0.000500\n"
     ]
    },
    {
     "data": {
      "application/vnd.jupyter.widget-view+json": {
       "model_id": "8247958575cb4f30bd6ec61fb31f3263",
       "version_major": 2,
       "version_minor": 0
      },
      "text/plain": [
       "  0%|          | 0/4415 [00:00<?, ?it/s]"
      ]
     },
     "metadata": {},
     "output_type": "display_data"
    },
    {
     "name": "stdout",
     "output_type": "stream",
     "text": [
      "\tAverage Loss: 0.000914 \tLearning rate: 0.000500\n"
     ]
    },
    {
     "data": {
      "application/vnd.jupyter.widget-view+json": {
       "model_id": "80ce4234b4794429a896340369c3aeed",
       "version_major": 2,
       "version_minor": 0
      },
      "text/plain": [
       "  0%|          | 0/4415 [00:00<?, ?it/s]"
      ]
     },
     "metadata": {},
     "output_type": "display_data"
    },
    {
     "name": "stdout",
     "output_type": "stream",
     "text": [
      "\tAverage Loss: 0.000884 \tLearning rate: 0.000500\n"
     ]
    },
    {
     "data": {
      "application/vnd.jupyter.widget-view+json": {
       "model_id": "70e2a8bf8c1144a0aed25486dcbde081",
       "version_major": 2,
       "version_minor": 0
      },
      "text/plain": [
       "  0%|          | 0/4415 [00:00<?, ?it/s]"
      ]
     },
     "metadata": {},
     "output_type": "display_data"
    },
    {
     "name": "stdout",
     "output_type": "stream",
     "text": [
      "\tAverage Loss: 0.000850 \tLearning rate: 0.000500\n"
     ]
    },
    {
     "data": {
      "application/vnd.jupyter.widget-view+json": {
       "model_id": "1275cfac5f9143aabeedbcf2262f00d2",
       "version_major": 2,
       "version_minor": 0
      },
      "text/plain": [
       "  0%|          | 0/4415 [00:00<?, ?it/s]"
      ]
     },
     "metadata": {},
     "output_type": "display_data"
    },
    {
     "name": "stdout",
     "output_type": "stream",
     "text": [
      "\tAverage Loss: 0.000816 \tLearning rate: 0.000500\n"
     ]
    },
    {
     "data": {
      "application/vnd.jupyter.widget-view+json": {
       "model_id": "fa2fcec2367842ab9d920cade2235c2c",
       "version_major": 2,
       "version_minor": 0
      },
      "text/plain": [
       "  0%|          | 0/4415 [00:00<?, ?it/s]"
      ]
     },
     "metadata": {},
     "output_type": "display_data"
    },
    {
     "name": "stdout",
     "output_type": "stream",
     "text": [
      "\tAverage Loss: 0.000791 \tLearning rate: 0.000250\n"
     ]
    },
    {
     "data": {
      "application/vnd.jupyter.widget-view+json": {
       "model_id": "1c2ee859174d453ca1028805a6c614e5",
       "version_major": 2,
       "version_minor": 0
      },
      "text/plain": [
       "  0%|          | 0/4415 [00:00<?, ?it/s]"
      ]
     },
     "metadata": {},
     "output_type": "display_data"
    },
    {
     "name": "stdout",
     "output_type": "stream",
     "text": [
      "\tAverage Loss: 0.000693 \tLearning rate: 0.000250\n"
     ]
    },
    {
     "data": {
      "application/vnd.jupyter.widget-view+json": {
       "model_id": "675788b32bf743618c3841ef6208e91f",
       "version_major": 2,
       "version_minor": 0
      },
      "text/plain": [
       "  0%|          | 0/4415 [00:00<?, ?it/s]"
      ]
     },
     "metadata": {},
     "output_type": "display_data"
    },
    {
     "name": "stdout",
     "output_type": "stream",
     "text": [
      "\tAverage Loss: 0.000662 \tLearning rate: 0.000250\n"
     ]
    },
    {
     "data": {
      "application/vnd.jupyter.widget-view+json": {
       "model_id": "f7ae64b9966745af9d07737dff008937",
       "version_major": 2,
       "version_minor": 0
      },
      "text/plain": [
       "  0%|          | 0/4415 [00:00<?, ?it/s]"
      ]
     },
     "metadata": {},
     "output_type": "display_data"
    },
    {
     "name": "stdout",
     "output_type": "stream",
     "text": [
      "\tAverage Loss: 0.000640 \tLearning rate: 0.000250\n"
     ]
    },
    {
     "data": {
      "application/vnd.jupyter.widget-view+json": {
       "model_id": "7584f6aafbc647d2bea15a5d9a019cab",
       "version_major": 2,
       "version_minor": 0
      },
      "text/plain": [
       "  0%|          | 0/4415 [00:00<?, ?it/s]"
      ]
     },
     "metadata": {},
     "output_type": "display_data"
    },
    {
     "name": "stdout",
     "output_type": "stream",
     "text": [
      "\tAverage Loss: 0.000619 \tLearning rate: 0.000250\n"
     ]
    },
    {
     "data": {
      "application/vnd.jupyter.widget-view+json": {
       "model_id": "c5754898da414063bc976340a2b755dd",
       "version_major": 2,
       "version_minor": 0
      },
      "text/plain": [
       "  0%|          | 0/4415 [00:00<?, ?it/s]"
      ]
     },
     "metadata": {},
     "output_type": "display_data"
    },
    {
     "name": "stdout",
     "output_type": "stream",
     "text": [
      "\tAverage Loss: 0.000601 \tLearning rate: 0.000250\n"
     ]
    },
    {
     "data": {
      "application/vnd.jupyter.widget-view+json": {
       "model_id": "231a7719974d4762ad97a52190609820",
       "version_major": 2,
       "version_minor": 0
      },
      "text/plain": [
       "  0%|          | 0/4415 [00:00<?, ?it/s]"
      ]
     },
     "metadata": {},
     "output_type": "display_data"
    },
    {
     "name": "stdout",
     "output_type": "stream",
     "text": [
      "\tAverage Loss: 0.000583 \tLearning rate: 0.000250\n"
     ]
    },
    {
     "data": {
      "application/vnd.jupyter.widget-view+json": {
       "model_id": "73a30fadc6924183b66bfabbabc92414",
       "version_major": 2,
       "version_minor": 0
      },
      "text/plain": [
       "  0%|          | 0/4415 [00:00<?, ?it/s]"
      ]
     },
     "metadata": {},
     "output_type": "display_data"
    },
    {
     "name": "stdout",
     "output_type": "stream",
     "text": [
      "\tAverage Loss: 0.000566 \tLearning rate: 0.000250\n"
     ]
    },
    {
     "data": {
      "application/vnd.jupyter.widget-view+json": {
       "model_id": "d44b717725ad4cccae3050db3b0747e8",
       "version_major": 2,
       "version_minor": 0
      },
      "text/plain": [
       "  0%|          | 0/4415 [00:00<?, ?it/s]"
      ]
     },
     "metadata": {},
     "output_type": "display_data"
    },
    {
     "name": "stdout",
     "output_type": "stream",
     "text": [
      "\tAverage Loss: 0.000554 \tLearning rate: 0.000250\n"
     ]
    },
    {
     "data": {
      "application/vnd.jupyter.widget-view+json": {
       "model_id": "80fa0e51e1f4408b965860eda6b24019",
       "version_major": 2,
       "version_minor": 0
      },
      "text/plain": [
       "  0%|          | 0/4415 [00:00<?, ?it/s]"
      ]
     },
     "metadata": {},
     "output_type": "display_data"
    },
    {
     "name": "stdout",
     "output_type": "stream",
     "text": [
      "\tAverage Loss: 0.000535 \tLearning rate: 0.000250\n"
     ]
    },
    {
     "data": {
      "application/vnd.jupyter.widget-view+json": {
       "model_id": "ab4a64b919914631ba6b63ad3e531191",
       "version_major": 2,
       "version_minor": 0
      },
      "text/plain": [
       "  0%|          | 0/4415 [00:00<?, ?it/s]"
      ]
     },
     "metadata": {},
     "output_type": "display_data"
    },
    {
     "name": "stdout",
     "output_type": "stream",
     "text": [
      "\tAverage Loss: 0.000522 \tLearning rate: 0.000125\n",
      "Finished Fold 4\n"
     ]
    },
    {
     "data": {
      "application/vnd.jupyter.widget-view+json": {
       "model_id": "bc8001027b72484d9bb4d875bcbaa199",
       "version_major": 2,
       "version_minor": 0
      },
      "text/plain": [
       "  0%|          | 0/1093 [00:00<?, ?it/s]"
      ]
     },
     "metadata": {},
     "output_type": "display_data"
    },
    {
     "data": {
      "application/vnd.jupyter.widget-view+json": {
       "model_id": "0b5ef841522141a98f2f588c8351c130",
       "version_major": 2,
       "version_minor": 0
      },
      "text/plain": [
       "Create single label Dataset:   0%|          | 0/11156 [00:00<?, ?it/s]"
      ]
     },
     "metadata": {},
     "output_type": "display_data"
    }
   ],
   "source": [
    "from maldi2resistance.data.chemprop import collate\n",
    "from torchmetrics.utilities.compute import auc\n",
    "from torchmetrics.classification import BinaryAUROC, BinaryPrecisionRecallCurve\n",
    "from maldi2resistance.data.driams import DriamsSingleAntibiotic\n",
    "from maldi2resistance.metric.PrecisionRecall import MultiLabelPRNan\n",
    "from pathlib import Path\n",
    "from maldi2resistance.metric.ROC import MultiLabelRocNan\n",
    "from maldi2resistance.loss.maskedLoss import MaskedBCE\n",
    "from tqdm.auto import tqdm\n",
    "import matplotlib.pyplot as plt\n",
    "import torch.nn.functional as F\n",
    "\n",
    "from torch.optim import Adam\n",
    "from torch.optim.lr_scheduler import StepLR\n",
    "\n",
    "print(\"Start training ...\")\n",
    "model.train()\n",
    "\n",
    "batch_size = 128\n",
    "fig_path = Path(\"./kfold/figures\")\n",
    "fig_path.mkdir(parents=True, exist_ok=True)\n",
    "\n",
    "loss_per_batch = []\n",
    "\n",
    "gen = torch.Generator()\n",
    "\n",
    "all_auc_roc_micro = []\n",
    "all_auc_pr_micro = []\n",
    "\n",
    "all_auc_roc_macro = []\n",
    "all_auc_pr_macro = []\n",
    "\n",
    "for fold, (train_data, test_data) in enumerate(driams.getK_fold(n_splits=5, shuffle=True, random_state= SEED)):\n",
    "    \n",
    "    train_dataset_single_antibiotic = DriamsSingleAntibiotic(driams= train_data, prepeare4chemprop=True)\n",
    "    test_dataset_single_antibiotic = DriamsSingleAntibiotic(driams= test_data, prepeare4chemprop= True)\n",
    "    \n",
    "    train_loader = DataLoader(train_dataset_single_antibiotic, batch_size=batch_size, shuffle=True, generator= gen.manual_seed(SEED), collate_fn=collate)\n",
    "    test_loader = DataLoader(test_dataset_single_antibiotic, batch_size=batch_size, shuffle=True, generator= gen.manual_seed(SEED), collate_fn=collate)\n",
    "    \n",
    "    model.load_state_dict(model_state)\n",
    "    model.train()\n",
    "    \n",
    "    optimizer = Adam(model.parameters(), lr=1e-3, amsgrad = True)\n",
    "    scheduler = StepLR(optimizer, step_size=10, gamma=0.5)\n",
    "\n",
    "    for epoch in tqdm(range(30), leave= False, position=1):\n",
    "        overall_loss = 0\n",
    "        \n",
    "        for batch_idx, data in tqdm(enumerate(train_loader), total=len(train_loader), leave=False, position=1):\n",
    "            (x,y), pos = data\n",
    "    \n",
    "            x = x.to(DEVICE)\n",
    "            y = y.to(DEVICE)\n",
    "            pos.bmg.to(DEVICE)\n",
    "            \n",
    "            optimizer.zero_grad()\n",
    "    \n",
    "            output = model(x, pos)\n",
    "        \n",
    "            loss = F.binary_cross_entropy_with_logits(torch.squeeze(output), y)\n",
    "            current_loss_value = loss.item()\n",
    "            loss_per_batch.append(current_loss_value)\n",
    "            \n",
    "            overall_loss += current_loss_value\n",
    "            \n",
    "            loss.backward()\n",
    "            optimizer.step()\n",
    "    \n",
    "        scheduler.step()\n",
    "        with tqdm.external_write_mode():\n",
    "            print(f\"\\tAverage Loss: {overall_loss / (batch_idx*batch_size):.6f} \\tLearning rate: {scheduler.get_last_lr()[0]:.6f}\")\n",
    "    \n",
    "    print(f\"Finished Fold {fold}\")\n",
    "    \n",
    "    model.eval()\n",
    "    \n",
    "    DEVICE = torch.device(\"cpu\")\n",
    "    model = model.to(DEVICE)\n",
    "    output = []\n",
    "    test_labels = []\n",
    "    \n",
    "    for ((x, label), drug) in tqdm(test_loader, leave=False):\n",
    "        x = x.to(DEVICE)\n",
    "        drug.bmg.to(DEVICE)\n",
    "        label = label.to(DEVICE)\n",
    "        \n",
    "        result = model(x, drug).detach().cpu()\n",
    "        \n",
    "        test_labels.append(label)\n",
    "        output.append(result)\n",
    "\n",
    "    output = torch.cat(output).squeeze()\n",
    "    test_labels = torch.cat(test_labels).int()\n",
    "\n",
    "    auRoc = BinaryAUROC()\n",
    "    auc_roc = auRoc(torch.sigmoid(output), test_labels)\n",
    "    all_auc_roc_micro.append(auc_roc)\n",
    "    \n",
    "    metric = BinaryPrecisionRecallCurve()\n",
    "    metric.update(torch.sigmoid(output), test_labels)\n",
    "    precision, recall, thresholds = metric.compute()\n",
    "    aucPC = auc(recall, precision)\n",
    "    \n",
    "    all_auc_pr_micro.append(aucPC)\n",
    "    \n",
    "    macro_aucroc = 0\n",
    "    macro_aucpr = 0\n",
    "    \n",
    "    n_not_empty = 0\n",
    "    \n",
    "    test_dataset_single_antibiotic = DriamsSingleAntibiotic(driams= test_data)\n",
    "    test_loader = DataLoader(test_dataset_single_antibiotic, batch_size=len(test_dataset_single_antibiotic), shuffle=True)\n",
    "    _, _, test_pos = next(iter(test_loader))\n",
    "    \n",
    "    for pos, antibiotic in enumerate(driams.selected_antibiotics):\n",
    "        out_part = output[test_pos == pos]\n",
    "        label_part = test_labels[test_pos == pos]\n",
    "        \n",
    "        occurrences = torch.bincount(label_part.int())\n",
    "\n",
    "        try:\n",
    "            if label_part.numel() == 0 or occurrences[1].item() == 0 or occurrences[0].item()== 0:\n",
    "                continue\n",
    "        except IndexError:\n",
    "            # no positives\n",
    "            continue\n",
    "        \n",
    "        au_roc = auRoc(out_part, label_part.int())\n",
    "        \n",
    "        metric.update(out_part, label_part.int())\n",
    "        precision, recall, thresholds = metric.compute()\n",
    "        aucPC = auc(recall, precision)\n",
    "        \n",
    "        n_not_empty +=1\n",
    "        macro_aucroc += au_roc.item()\n",
    "        macro_aucpr += aucPC.item()\n",
    "        \n",
    "        \n",
    "    macro_aucroc = macro_aucroc / n_not_empty\n",
    "    macro_aucpr = macro_aucpr / n_not_empty\n",
    "    \n",
    "    all_auc_roc_macro.append(macro_aucroc)\n",
    "    all_auc_pr_macro.append(macro_aucpr)\n",
    "    \n",
    "    DEVICE = torch.device(\"cuda\")\n",
    "    model = model.to(DEVICE)\n",
    "    "
   ]
  },
  {
   "cell_type": "code",
   "execution_count": null,
   "id": "ebb9df2adbe214c3",
   "metadata": {},
   "outputs": [
    {
     "name": "stdout",
     "output_type": "stream",
     "text": [
      "Mean\t: 0.9148151278495789\n",
      " SD \t: 0.0027252810541540384\n"
     ]
    }
   ],
   "source": [
    "import numpy as np\n",
    "\n",
    "print(f\"Mean\\t: {np.mean([x.cpu() for x in all_auc_roc_micro])}\")\n",
    "print(f\" SD \\t: {np.std([x.cpu() for x in all_auc_roc_micro]) }\")"
   ]
  },
  {
   "cell_type": "code",
   "execution_count": null,
   "id": "91fa4db5e2d4132d",
   "metadata": {},
   "outputs": [
    {
     "name": "stdout",
     "output_type": "stream",
     "text": [
      "Mean\t: 0.8438540697097778\n",
      " SD \t: 0.00489542493596673\n"
     ]
    }
   ],
   "source": [
    "print(f\"Mean\\t: {np.mean([x.cpu() for x in all_auc_pr_micro])}\")\n",
    "print(f\" SD \\t: {np.std([x.cpu() for x in all_auc_pr_micro]) }\")"
   ]
  },
  {
   "cell_type": "code",
   "execution_count": null,
   "id": "31265f000dbabc29",
   "metadata": {},
   "outputs": [
    {
     "name": "stdout",
     "output_type": "stream",
     "text": [
      "Mean\t: 0.9147285473974127\n",
      " SD \t: 0.0030281215308687473\n"
     ]
    }
   ],
   "source": [
    "import numpy as np\n",
    "\n",
    "print(f\"Mean\\t: {np.mean([x for x in all_auc_roc_macro])}\")\n",
    "print(f\" SD \\t: {np.std([x for x in all_auc_roc_macro]) }\")"
   ]
  },
  {
   "cell_type": "code",
   "execution_count": null,
   "id": "c084823efeba666",
   "metadata": {},
   "outputs": [
    {
     "name": "stdout",
     "output_type": "stream",
     "text": [
      "Mean\t: 0.8438540577888489\n",
      " SD \t: 0.004895424853139714\n"
     ]
    }
   ],
   "source": [
    "print(f\"Mean\\t: {np.mean([x for x in all_auc_pr_macro])}\")\n",
    "print(f\" SD \\t: {np.std([x for x in all_auc_pr_macro]) }\")"
   ]
  }
 ],
 "metadata": {
  "kernelspec": {
   "display_name": "Python 3 (ipykernel)",
   "language": "python",
   "name": "python3"
  },
  "language_info": {
   "codemirror_mode": {
    "name": "ipython",
    "version": 3
   },
   "file_extension": ".py",
   "mimetype": "text/x-python",
   "name": "python",
   "nbconvert_exporter": "python",
   "pygments_lexer": "ipython3"
  },
  "widgets": {
   "application/vnd.jupyter.widget-state+json": {
    "state": {},
    "version_major": 2,
    "version_minor": 0
   }
  }
 },
 "nbformat": 4,
 "nbformat_minor": 5
}
