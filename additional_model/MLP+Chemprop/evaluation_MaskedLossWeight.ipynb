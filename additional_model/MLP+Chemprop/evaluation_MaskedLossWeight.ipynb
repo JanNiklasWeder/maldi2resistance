{
 "cells": [
  {
   "cell_type": "code",
   "execution_count": null,
   "id": "98a8e32e91ed06aa",
   "metadata": {},
   "outputs": [],
   "source": [
    "from pathlib import Path\n",
    "import matplotlib.style\n",
    "import matplotlib as mpl\n",
    "import torch\n",
    "\n",
    "DEVICE = torch.device(\"cuda\")\n",
    "SEED = 76436278\n",
    "\n",
    "torch.manual_seed(SEED)\n",
    "mpl.style.use(\"default\")\n",
    "\n",
    "checkpoint = torch.load('./model@30Epochs.pt')\n",
    "\n",
    "fig_path = Path(\"/home/jan/Uni/master/data/created_figures/feedforward/FeedForward/MaskedLossWeight\")\n",
    "fig_path.mkdir(parents=True, exist_ok=True)\n"
   ]
  },
  {
   "cell_type": "code",
   "execution_count": null,
   "id": "2ec3274c679933f6",
   "metadata": {},
   "outputs": [
    {
     "data": {
      "application/vnd.jupyter.widget-view+json": {
       "model_id": "c5f3dccc9e334bee9ba938fe9d44a848",
       "version_major": 2,
       "version_minor": 0
      },
      "text/plain": [
       "Loading Spectra into Memory:   0%|          | 0/55780 [00:00<?, ?it/s]"
      ]
     },
     "metadata": {},
     "output_type": "display_data"
    },
    {
     "data": {
      "text/html": [
       "\n",
       "        <table>\n",
       "            <thead>\n",
       "                <tr>\n",
       "                    <th>Antibiotic:</th>\n",
       "                    <th> Amikacin </th><th> Amoxicillin-Clavulanic acid </th><th> Ampicillin </th><th> Ampicillin-Amoxicillin </th><th> Aztreonam </th><th> Benzylpenicillin </th><th> Cefazolin </th><th> Cefepime </th><th> Cefpodoxime </th><th> Ceftazidime </th><th> Ceftriaxone </th><th> Cefuroxime </th><th> Ciprofloxacin </th><th> Clarithromycin </th><th> Clindamycin </th><th> Colistin </th><th> Cotrimoxazole </th><th> Ertapenem </th><th> Erythromycin </th><th> Fosfomycin </th><th> Fosfomycin-Trometamol </th><th> Fusidic acid </th><th> Gentamicin </th><th> Imipenem </th><th> Levofloxacin </th><th> Meropenem </th><th> Mupirocin </th><th> Nitrofurantoin </th><th> Norfloxacin </th><th> Oxacillin </th><th> Penicillin </th><th> Piperacillin-Tazobactam </th><th> Polymyxin B </th><th> Rifampicin </th><th> Teicoplanin </th><th> Tetracycline </th><th> Tobramycin </th><th> Vancomycin </th>\n",
       "                </tr>\n",
       "            </thead>\n",
       "            <tbody>\n",
       "                <tr>\n",
       "                    <td>Number resistant:</td>\n",
       "                    <td> 1068 </td><td> 13366 </td><td> 8578 </td><td> 21966 </td><td> 628 </td><td> 618 </td><td> 4223 </td><td> 7383 </td><td> 2338 </td><td> 3470 </td><td> 8659 </td><td> 5855 </td><td> 9338 </td><td> 310 </td><td> 4381 </td><td> 2874 </td><td> 7405 </td><td> 427 </td><td> 5468 </td><td> 2303 </td><td> 1326 </td><td> 3620 </td><td> 3481 </td><td> 7560 </td><td> 4217 </td><td> 5194 </td><td> 570 </td><td> 1271 </td><td> 1205 </td><td> 5537 </td><td> 12431 </td><td> 7616 </td><td> 486 </td><td> 580 </td><td> 244 </td><td> 3534 </td><td> 1707 </td><td> 227 </td>\n",
       "                </tr>\n",
       "                <tr>\n",
       "                    <td>Number susceptible:</td>\n",
       "                    <td> 20941 </td><td> 24992 </td><td> 4194 </td><td> 4905 </td><td> 456 </td><td> 457 </td><td> 5813 </td><td> 31567 </td><td> 4382 </td><td> 24566 </td><td> 28464 </td><td> 8368 </td><td> 36822 </td><td> 1262 </td><td> 9841 </td><td> 15784 </td><td> 24590 </td><td> 21740 </td><td> 9044 </td><td> 10184 </td><td> 4803 </td><td> 8498 </td><td> 22662 </td><td> 31717 </td><td> 17989 </td><td> 27228 </td><td> 4656 </td><td> 3603 </td><td> 7031 </td><td> 7740 </td><td> 4286 </td><td> 31308 </td><td> 2305 </td><td> 14964 </td><td> 8486 </td><td> 10376 </td><td> 16809 </td><td> 20540 </td>\n",
       "                </tr>\n",
       "                <tr>\n",
       "                    <td>Number data points:</td>\n",
       "                    <td> 22009 </td><td> 38358 </td><td> 12772 </td><td> 26871 </td><td> 1084 </td><td> 1075 </td><td> 10036 </td><td> 38950 </td><td> 6720 </td><td> 28036 </td><td> 37123 </td><td> 14223 </td><td> 46160 </td><td> 1572 </td><td> 14222 </td><td> 18658 </td><td> 31995 </td><td> 22167 </td><td> 14512 </td><td> 12487 </td><td> 6129 </td><td> 12118 </td><td> 26143 </td><td> 39277 </td><td> 22206 </td><td> 32422 </td><td> 5226 </td><td> 4874 </td><td> 8236 </td><td> 13277 </td><td> 16717 </td><td> 38924 </td><td> 2791 </td><td> 15544 </td><td> 8730 </td><td> 13910 </td><td> 18516 </td><td> 20767 </td>\n",
       "                </tr>\n",
       "            </tbody>\n",
       "        </table>\n",
       "                "
      ],
      "text/plain": [
       "<maldi2resistance.data.driams.Driams at 0x7f8311fa9210>"
      ]
     },
     "execution_count": null,
     "metadata": {},
     "output_type": "execute_result"
    }
   ],
   "source": [
    "from maldi2resistance.data.driams import Driams\n",
    "\n",
    "driams = Driams(\n",
    "    root_dir=\"/home/jan/Uni/master/data/Driams\",\n",
    "    bin_size=1\n",
    "    # antibiotics= ['Ciprofloxacin', 'Ceftriaxone', \"Cefepime\", \"Piperacillin-Tazobactam\", \"Tobramycin\"]\n",
    ")\n",
    "\n",
    "driams.loading_type = \"memory\"\n",
    "\n",
    "train_size = int(0.8 * len(driams))\n",
    "test_size = len(driams) - train_size\n",
    "\n",
    "gen = torch.Generator()\n",
    "\n",
    "train_dataset, test_dataset = torch.utils.data.random_split(driams, [train_size, test_size], generator= gen.manual_seed(SEED))\n",
    "\n",
    "driams"
   ]
  },
  {
   "cell_type": "code",
   "execution_count": null,
   "id": "dd736f791d44caea",
   "metadata": {},
   "outputs": [
    {
     "data": {
      "text/html": [
       "<div>\n",
       "<style scoped>\n",
       "    .dataframe tbody tr th:only-of-type {\n",
       "        vertical-align: middle;\n",
       "    }\n",
       "\n",
       "    .dataframe tbody tr th {\n",
       "        vertical-align: top;\n",
       "    }\n",
       "\n",
       "    .dataframe thead th {\n",
       "        text-align: right;\n",
       "    }\n",
       "</style>\n",
       "<table border=\"1\" class=\"dataframe\">\n",
       "  <thead>\n",
       "    <tr style=\"text-align: right;\">\n",
       "      <th></th>\n",
       "      <th>Amikacin</th>\n",
       "      <th>Amoxicillin-Clavulanic acid</th>\n",
       "      <th>Ampicillin</th>\n",
       "      <th>Ampicillin-Amoxicillin</th>\n",
       "      <th>Aztreonam</th>\n",
       "      <th>Benzylpenicillin</th>\n",
       "      <th>Cefazolin</th>\n",
       "      <th>Cefepime</th>\n",
       "      <th>Cefpodoxime</th>\n",
       "      <th>Ceftazidime</th>\n",
       "      <th>...</th>\n",
       "      <th>Norfloxacin</th>\n",
       "      <th>Oxacillin</th>\n",
       "      <th>Penicillin</th>\n",
       "      <th>Piperacillin-Tazobactam</th>\n",
       "      <th>Polymyxin B</th>\n",
       "      <th>Rifampicin</th>\n",
       "      <th>Teicoplanin</th>\n",
       "      <th>Tetracycline</th>\n",
       "      <th>Tobramycin</th>\n",
       "      <th>Vancomycin</th>\n",
       "    </tr>\n",
       "  </thead>\n",
       "  <tbody>\n",
       "    <tr>\n",
       "      <th>positive</th>\n",
       "      <td>1068</td>\n",
       "      <td>13366</td>\n",
       "      <td>8578</td>\n",
       "      <td>21966</td>\n",
       "      <td>628</td>\n",
       "      <td>618</td>\n",
       "      <td>4223</td>\n",
       "      <td>7383</td>\n",
       "      <td>2338</td>\n",
       "      <td>3470</td>\n",
       "      <td>...</td>\n",
       "      <td>1205</td>\n",
       "      <td>5537</td>\n",
       "      <td>12431</td>\n",
       "      <td>7616</td>\n",
       "      <td>486</td>\n",
       "      <td>580</td>\n",
       "      <td>244</td>\n",
       "      <td>3534</td>\n",
       "      <td>1707</td>\n",
       "      <td>227</td>\n",
       "    </tr>\n",
       "    <tr>\n",
       "      <th>negative</th>\n",
       "      <td>20941</td>\n",
       "      <td>24992</td>\n",
       "      <td>4194</td>\n",
       "      <td>4905</td>\n",
       "      <td>456</td>\n",
       "      <td>457</td>\n",
       "      <td>5813</td>\n",
       "      <td>31567</td>\n",
       "      <td>4382</td>\n",
       "      <td>24566</td>\n",
       "      <td>...</td>\n",
       "      <td>7031</td>\n",
       "      <td>7740</td>\n",
       "      <td>4286</td>\n",
       "      <td>31308</td>\n",
       "      <td>2305</td>\n",
       "      <td>14964</td>\n",
       "      <td>8486</td>\n",
       "      <td>10376</td>\n",
       "      <td>16809</td>\n",
       "      <td>20540</td>\n",
       "    </tr>\n",
       "    <tr>\n",
       "      <th>n_sum</th>\n",
       "      <td>22009</td>\n",
       "      <td>38358</td>\n",
       "      <td>12772</td>\n",
       "      <td>26871</td>\n",
       "      <td>1084</td>\n",
       "      <td>1075</td>\n",
       "      <td>10036</td>\n",
       "      <td>38950</td>\n",
       "      <td>6720</td>\n",
       "      <td>28036</td>\n",
       "      <td>...</td>\n",
       "      <td>8236</td>\n",
       "      <td>13277</td>\n",
       "      <td>16717</td>\n",
       "      <td>38924</td>\n",
       "      <td>2791</td>\n",
       "      <td>15544</td>\n",
       "      <td>8730</td>\n",
       "      <td>13910</td>\n",
       "      <td>18516</td>\n",
       "      <td>20767</td>\n",
       "    </tr>\n",
       "  </tbody>\n",
       "</table>\n",
       "<p>3 rows × 38 columns</p>\n",
       "</div>"
      ],
      "text/plain": [
       "          Amikacin  Amoxicillin-Clavulanic acid  Ampicillin  \\\n",
       "positive      1068                        13366        8578   \n",
       "negative     20941                        24992        4194   \n",
       "n_sum        22009                        38358       12772   \n",
       "\n",
       "          Ampicillin-Amoxicillin  Aztreonam  Benzylpenicillin  Cefazolin  \\\n",
       "positive                   21966        628               618       4223   \n",
       "negative                    4905        456               457       5813   \n",
       "n_sum                      26871       1084              1075      10036   \n",
       "\n",
       "          Cefepime  Cefpodoxime  Ceftazidime  ...  Norfloxacin  Oxacillin  \\\n",
       "positive      7383         2338         3470  ...         1205       5537   \n",
       "negative     31567         4382        24566  ...         7031       7740   \n",
       "n_sum        38950         6720        28036  ...         8236      13277   \n",
       "\n",
       "          Penicillin  Piperacillin-Tazobactam  Polymyxin B  Rifampicin  \\\n",
       "positive       12431                     7616          486         580   \n",
       "negative        4286                    31308         2305       14964   \n",
       "n_sum          16717                    38924         2791       15544   \n",
       "\n",
       "          Teicoplanin  Tetracycline  Tobramycin  Vancomycin  \n",
       "positive          244          3534        1707         227  \n",
       "negative         8486         10376       16809       20540  \n",
       "n_sum            8730         13910       18516       20767  \n",
       "\n",
       "[3 rows x 38 columns]"
      ]
     },
     "execution_count": null,
     "metadata": {},
     "output_type": "execute_result"
    }
   ],
   "source": [
    "driams.label_stats"
   ]
  },
  {
   "cell_type": "code",
   "execution_count": null,
   "id": "e2f2f7cfe6a42ca7",
   "metadata": {},
   "outputs": [
    {
     "data": {
      "text/plain": [
       "38"
      ]
     },
     "execution_count": null,
     "metadata": {},
     "output_type": "execute_result"
    }
   ],
   "source": [
    "len(driams.selected_antibiotics)"
   ]
  },
  {
   "cell_type": "code",
   "execution_count": null,
   "id": "6690594a7e4ba813",
   "metadata": {},
   "outputs": [
    {
     "data": {
      "application/vnd.jupyter.widget-view+json": {
       "model_id": "5a6b5551dd294f0ca2ebc1b7af069f2f",
       "version_major": 2,
       "version_minor": 0
      },
      "text/plain": [
       "Create single label Dataset:   0%|          | 0/11156 [00:00<?, ?it/s]"
      ]
     },
     "metadata": {},
     "output_type": "display_data"
    }
   ],
   "source": [
    "from torch.utils.data import DataLoader\n",
    "from maldi2resistance.data.chemprop import collate\n",
    "from maldi2resistance.data.driams import DriamsSingleAntibiotic\n",
    "\n",
    "gen = torch.Generator()\n",
    "\n",
    "\n",
    "batch_size = 128\n",
    "\n",
    "train_size = int(0.8 * len(driams))\n",
    "test_size = len(driams) - train_size\n",
    "train_dataset, test_dataset = torch.utils.data.random_split(driams, [train_size, test_size], generator=gen.manual_seed(SEED))\n",
    "\n",
    "test_dataset_single_antibiotic = DriamsSingleAntibiotic(driams= test_dataset, prepeare4chemprop=True)\n",
    "\n",
    "test_loader = DataLoader(test_dataset_single_antibiotic, batch_size=batch_size, shuffle=True, collate_fn=collate)"
   ]
  },
  {
   "cell_type": "code",
   "execution_count": null,
   "id": "ebb381ba113323c1",
   "metadata": {},
   "outputs": [],
   "source": [
    "from chemprop.models import MPNN\n",
    "from chemprop.nn import BondMessagePassing, NormAggregation, RegressionFFN\n",
    "from multimodal_amr.models.modules import ResMLP\n",
    "from torch import nn\n",
    "\n",
    "\n",
    "class Residual_AMR_Classifier(nn.Module):\n",
    "    \"\"\"Overall model definition.\"\"\"\n",
    "\n",
    "    def __init__(self, config, n_input_spectrum, n_input_drug):\n",
    "        super().__init__()\n",
    "        self.config = config\n",
    "\n",
    "        # Sample embedding\n",
    "        if config[\"species_embedding_dim\"]==0 and config[\"conv_out_size\"]==config[\"sample_embedding_dim\"]:\n",
    "            self.sample_emb = nn.Identity()\n",
    "        elif config[\"species_embedding_dim\"]==0:\n",
    "            self.sample_emb = nn.Linear(\n",
    "                config[\"conv_out_size\"],\n",
    "                config[\"sample_embedding_dim\"],\n",
    "            )\n",
    "        else:\n",
    "            self.sample_emb = nn.Linear(\n",
    "                config[\"conv_out_size\"] + config[\"species_embedding_dim\"],\n",
    "                config[\"sample_embedding_dim\"],\n",
    "            )\n",
    "\n",
    "        # Maldi-tof spectrum embedding\n",
    "        # self.spectrum_emb = Conv1d_Block(output_dim=config[\"conv_out_size\"])\n",
    "        \n",
    "        self.spectrum_emb = nn.Linear(n_input_spectrum ,config[\"conv_out_size\"])\n",
    "\n",
    "        # Drugs layers\n",
    "        # if config[\"drug_emb_type\"] == \"vae_embedding\" or config[\"drug_emb_type\"] == \"gnn_embedding\":\n",
    "        #     self.drug_emb = nn.Identity()\n",
    "        # elif config[\"drug_emb_type\"] == \"fingerprint\":\n",
    "        mp = BondMessagePassing()\n",
    "        agg = NormAggregation()\n",
    "        ffn = RegressionFFN()\n",
    "        self.mpnn = MPNN(mp, agg, ffn)\n",
    "        \n",
    "        \n",
    "        self.drug_emb = nn.Linear(\n",
    "            n_input_drug, config[\"drug_embedding_dim\"]\n",
    "        )\n",
    "\n",
    "        # Output network\n",
    "        self.net = ResMLP(\n",
    "            config[\"n_hidden_layers\"],\n",
    "            config[\"sample_embedding_dim\"] + 300,\n",
    "            1,\n",
    "            p_dropout=0.2,\n",
    "        )\n",
    "\n",
    "    def forward(self, spectrum, drug):\n",
    "        spectrum_embedding = self.spectrum_emb(spectrum)\n",
    "        \n",
    "        dr_emb = self.mpnn.encoding(drug.bmg, i=0)\n",
    "        \n",
    "        #combined_emb = torch.cat(spectrum_embedding, dr_emb)\n",
    "        combined_emb = torch.cat((spectrum_embedding, dr_emb), dim= 1)\n",
    "\n",
    "        return self.net(combined_emb)\n",
    "\n",
    "\n",
    "\n",
    "\n",
    "conf = {\n",
    "    \"conv_out_size\": 512,\n",
    "    \"species_embedding_dim\":0,\n",
    "    \"sample_embedding_dim\":512,\n",
    "    \"drug_embedding_dim\":512,\n",
    "    \"n_hidden_layers\": 5,\n",
    "}\n",
    "        "
   ]
  },
  {
   "cell_type": "code",
   "execution_count": null,
   "id": "c12242a958bdc2ed",
   "metadata": {},
   "outputs": [
    {
     "data": {
      "text/plain": [
       "Residual_AMR_Classifier(\n",
       "  (sample_emb): Identity()\n",
       "  (spectrum_emb): Linear(in_features=18000, out_features=512, bias=True)\n",
       "  (mpnn): MPNN(\n",
       "    (message_passing): BondMessagePassing(\n",
       "      (W_i): Linear(in_features=86, out_features=300, bias=False)\n",
       "      (W_h): Linear(in_features=300, out_features=300, bias=False)\n",
       "      (W_o): Linear(in_features=372, out_features=300, bias=True)\n",
       "      (dropout): Dropout(p=0.0, inplace=False)\n",
       "      (tau): ReLU()\n",
       "      (V_d_transform): Identity()\n",
       "      (graph_transform): Identity()\n",
       "    )\n",
       "    (agg): NormAggregation()\n",
       "    (bn): BatchNorm1d(300, eps=1e-05, momentum=0.1, affine=True, track_running_stats=True)\n",
       "    (predictor): RegressionFFN(\n",
       "      (ffn): MLP(\n",
       "        (0): Sequential(\n",
       "          (0): Linear(in_features=300, out_features=300, bias=True)\n",
       "        )\n",
       "        (1): Sequential(\n",
       "          (0): ReLU()\n",
       "          (1): Dropout(p=0.0, inplace=False)\n",
       "          (2): Linear(in_features=300, out_features=1, bias=True)\n",
       "        )\n",
       "      )\n",
       "      (criterion): MSELoss(task_weights=[[1.0]])\n",
       "      (output_transform): Identity()\n",
       "    )\n",
       "    (X_d_transform): Identity()\n",
       "  )\n",
       "  (drug_emb): Linear(in_features=1024, out_features=512, bias=True)\n",
       "  (net): ResMLP(\n",
       "    (net): Sequential(\n",
       "      (0): ResBlock(\n",
       "        (block): Sequential(\n",
       "          (0): ReLU()\n",
       "          (1): Linear(in_features=812, out_features=812, bias=True)\n",
       "          (2): Dropout(p=0.2, inplace=False)\n",
       "          (3): BatchNorm1d(812, eps=1e-05, momentum=0.1, affine=True, track_running_stats=True)\n",
       "        )\n",
       "      )\n",
       "      (1): ResBlock(\n",
       "        (block): Sequential(\n",
       "          (0): ReLU()\n",
       "          (1): Linear(in_features=812, out_features=812, bias=True)\n",
       "          (2): Dropout(p=0.2, inplace=False)\n",
       "          (3): BatchNorm1d(812, eps=1e-05, momentum=0.1, affine=True, track_running_stats=True)\n",
       "        )\n",
       "      )\n",
       "      (2): ResBlock(\n",
       "        (block): Sequential(\n",
       "          (0): ReLU()\n",
       "          (1): Linear(in_features=812, out_features=812, bias=True)\n",
       "          (2): Dropout(p=0.2, inplace=False)\n",
       "          (3): BatchNorm1d(812, eps=1e-05, momentum=0.1, affine=True, track_running_stats=True)\n",
       "        )\n",
       "      )\n",
       "      (3): ResBlock(\n",
       "        (block): Sequential(\n",
       "          (0): ReLU()\n",
       "          (1): Linear(in_features=812, out_features=812, bias=True)\n",
       "          (2): Dropout(p=0.2, inplace=False)\n",
       "          (3): BatchNorm1d(812, eps=1e-05, momentum=0.1, affine=True, track_running_stats=True)\n",
       "        )\n",
       "      )\n",
       "      (4): ResBlock(\n",
       "        (block): Sequential(\n",
       "          (0): ReLU()\n",
       "          (1): Linear(in_features=812, out_features=812, bias=True)\n",
       "          (2): Dropout(p=0.2, inplace=False)\n",
       "          (3): BatchNorm1d(812, eps=1e-05, momentum=0.1, affine=True, track_running_stats=True)\n",
       "        )\n",
       "      )\n",
       "      (5): Linear(in_features=812, out_features=1, bias=True)\n",
       "    )\n",
       "  )\n",
       ")"
      ]
     },
     "execution_count": null,
     "metadata": {},
     "output_type": "execute_result"
    }
   ],
   "source": [
    "from maldi2resistance.model.MLP import AeBasedMLP\n",
    "\n",
    "model = Residual_AMR_Classifier(config= conf,n_input_spectrum = driams.n_bins, n_input_drug= 1024)\n",
    "model.to(DEVICE)\n",
    "model.load_state_dict(checkpoint['model_state_dict'])\n",
    "\n",
    "model.eval()"
   ]
  },
  {
   "cell_type": "code",
   "execution_count": null,
   "id": "a6a2b07731b8f1fb",
   "metadata": {},
   "outputs": [
    {
     "data": {
      "application/vnd.jupyter.widget-view+json": {
       "model_id": "e9e711724f014ef0ab765ed3d5935f25",
       "version_major": 2,
       "version_minor": 0
      },
      "text/plain": [
       "  0%|          | 0/1105 [00:00<?, ?it/s]"
      ]
     },
     "metadata": {},
     "output_type": "display_data"
    }
   ],
   "source": [
    "from tqdm.auto import tqdm\n",
    "\n",
    "output = []\n",
    "test_labels = []\n",
    "\n",
    "for ((x, label), drug) in tqdm(test_loader, leave=False):\n",
    "    x = x.to(DEVICE)\n",
    "    drug.bmg.to(DEVICE)\n",
    "    \n",
    "    result = model(x, drug).detach().cpu()\n",
    "    \n",
    "    test_labels.append(label)\n",
    "    output.append(result)"
   ]
  },
  {
   "cell_type": "code",
   "execution_count": null,
   "id": "5f154c5d1edd233c",
   "metadata": {},
   "outputs": [],
   "source": [
    "output = torch.cat(output).squeeze()\n",
    "test_labels = torch.cat(test_labels).int()"
   ]
  },
  {
   "cell_type": "code",
   "execution_count": null,
   "id": "a2d6fa86f82cb4c9",
   "metadata": {},
   "outputs": [
    {
     "data": {
      "text/plain": [
       "tensor(0.9175)"
      ]
     },
     "execution_count": null,
     "metadata": {},
     "output_type": "execute_result"
    }
   ],
   "source": [
    "from torchmetrics.classification import BinaryAUROC\n",
    "\n",
    "auRoc = BinaryAUROC()\n",
    "auc_roc = auRoc(torch.sigmoid(output), test_labels)\n",
    "auc_roc"
   ]
  },
  {
   "cell_type": "code",
   "execution_count": null,
   "id": "80107488beb89f83",
   "metadata": {},
   "outputs": [
    {
     "data": {
      "application/vnd.jupyter.widget-view+json": {
       "model_id": "e0791ddd9a014eccba2226d750d758b4",
       "version_major": 2,
       "version_minor": 0
      },
      "text/plain": [
       "Create single label Dataset:   0%|          | 0/11156 [00:00<?, ?it/s]"
      ]
     },
     "metadata": {},
     "output_type": "display_data"
    }
   ],
   "source": [
    "test_dataset_single_antibiotic = DriamsSingleAntibiotic(driams= test_dataset)\n",
    "test_loader = DataLoader(test_dataset_single_antibiotic, batch_size=len(test_dataset_single_antibiotic), shuffle=True)\n",
    "_, _, test_pos = next(iter(test_loader))"
   ]
  },
  {
   "cell_type": "code",
   "execution_count": null,
   "id": "5a09e3918715663",
   "metadata": {},
   "outputs": [
    {
     "name": "stdout",
     "output_type": "stream",
     "text": [
      "0.9140443880307046\n"
     ]
    }
   ],
   "source": [
    "roc_auc = {}\n",
    "macro_aucroc = 0\n",
    "\n",
    "for pos, antibiotic in enumerate(driams.selected_antibiotics):\n",
    "    out_part = output[test_pos == pos]\n",
    "    label_part = test_labels[test_pos == pos]\n",
    "    au_roc = auRoc(out_part, label_part.int())\n",
    "    roc_auc[antibiotic] = au_roc\n",
    "    macro_aucroc += au_roc.item()\n",
    "    \n",
    "    \n",
    "macro_aucroc = macro_aucroc / len(driams.selected_antibiotics)\n",
    "print(macro_aucroc)"
   ]
  }
 ],
 "metadata": {
  "kernelspec": {
   "display_name": "Python 3",
   "language": "python",
   "name": "python3"
  },
  "language_info": {
   "codemirror_mode": {
    "name": "ipython",
    "version": 2
   },
   "file_extension": ".py",
   "mimetype": "text/x-python",
   "name": "python",
   "nbconvert_exporter": "python",
   "pygments_lexer": "ipython2"
  }
 },
 "nbformat": 4,
 "nbformat_minor": 5
}
