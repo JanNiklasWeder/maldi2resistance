{
 "cells": [
  {
   "cell_type": "markdown",
   "id": "3d89aed94233e3ff",
   "metadata": {},
   "source": [
    "# Fully connected feedforward network implementing a loss mask"
   ]
  },
  {
   "cell_type": "code",
   "execution_count": null,
   "id": "1eaaf570-0600-4d60-9fde-fcebcff3ce4c",
   "metadata": {},
   "outputs": [],
   "source": [
    "import torchmetrics.classification\n",
    "from torch import cuda\n",
    "\n",
    "assert cuda.is_available()\n",
    "assert cuda.device_count() > 0"
   ]
  },
  {
   "cell_type": "code",
   "execution_count": null,
   "id": "c7e50fb9-601f-425a-bf79-6441170b27dd",
   "metadata": {},
   "outputs": [
    {
     "name": "stdout",
     "output_type": "stream",
     "text": [
      "NVIDIA GeForce RTX 3060 Ti\n"
     ]
    }
   ],
   "source": [
    "print(cuda.get_device_name(cuda.current_device()))\n"
   ]
  },
  {
   "cell_type": "code",
   "execution_count": null,
   "id": "6c4b645f-6b5e-428e-855c-64b7e33ff874",
   "metadata": {},
   "outputs": [],
   "source": [
    "import torch\n",
    "import torch.nn as nn"
   ]
  },
  {
   "cell_type": "code",
   "execution_count": null,
   "id": "5e8a6650-ef2b-44f1-9ea8-78912b15e9a9",
   "metadata": {},
   "outputs": [
    {
     "data": {
      "text/plain": [
       "<torch._C.Generator at 0x7f2c6ff5ec90>"
      ]
     },
     "execution_count": null,
     "metadata": {},
     "output_type": "execute_result"
    }
   ],
   "source": [
    "DEVICE = torch.device(\"cuda\")\n",
    "SEED = 76436278\n",
    "\n",
    "torch.manual_seed(SEED)"
   ]
  },
  {
   "cell_type": "markdown",
   "id": "23b5a248-98cc-42cc-99b2-49bdd5ca1f35",
   "metadata": {},
   "source": [
    "### Load the Dataset"
   ]
  },
  {
   "cell_type": "code",
   "execution_count": null,
   "id": "7a00707ac6b2975",
   "metadata": {},
   "outputs": [
    {
     "data": {
      "application/vnd.jupyter.widget-view+json": {
       "model_id": "3eb31e37b39349c1bbc4ed33671a9907",
       "version_major": 2,
       "version_minor": 0
      },
      "text/plain": [
       "Loading Spectra into Memory:   0%|          | 0/55780 [00:00<?, ?it/s]"
      ]
     },
     "metadata": {},
     "output_type": "display_data"
    },
    {
     "data": {
      "text/html": [
       "\n",
       "        <table>\n",
       "            <thead>\n",
       "                <tr>\n",
       "                    <th>Antibiotic:</th>\n",
       "                    <th> Amikacin </th><th> Amoxicillin-Clavulanic acid </th><th> Ampicillin </th><th> Ampicillin-Amoxicillin </th><th> Aztreonam </th><th> Benzylpenicillin </th><th> Cefazolin </th><th> Cefepime </th><th> Cefpodoxime </th><th> Ceftazidime </th><th> Ceftriaxone </th><th> Cefuroxime </th><th> Ciprofloxacin </th><th> Clarithromycin </th><th> Clindamycin </th><th> Colistin </th><th> Cotrimoxazole </th><th> Ertapenem </th><th> Erythromycin </th><th> Fosfomycin </th><th> Fosfomycin-Trometamol </th><th> Fusidic acid </th><th> Gentamicin </th><th> Imipenem </th><th> Levofloxacin </th><th> Meropenem </th><th> Mupirocin </th><th> Nitrofurantoin </th><th> Norfloxacin </th><th> Oxacillin </th><th> Penicillin </th><th> Piperacillin-Tazobactam </th><th> Polymyxin B </th><th> Rifampicin </th><th> Teicoplanin </th><th> Tetracycline </th><th> Tobramycin </th><th> Vancomycin </th>\n",
       "                </tr>\n",
       "            </thead>\n",
       "            <tbody>\n",
       "                <tr>\n",
       "                    <td>Number resistant:</td>\n",
       "                    <td> 1068 </td><td> 13366 </td><td> 8578 </td><td> 21966 </td><td> 628 </td><td> 618 </td><td> 4223 </td><td> 7383 </td><td> 2338 </td><td> 3470 </td><td> 8659 </td><td> 5855 </td><td> 9338 </td><td> 310 </td><td> 4381 </td><td> 2874 </td><td> 7405 </td><td> 427 </td><td> 5468 </td><td> 2303 </td><td> 1326 </td><td> 3620 </td><td> 3481 </td><td> 7560 </td><td> 4217 </td><td> 5194 </td><td> 570 </td><td> 1271 </td><td> 1205 </td><td> 5537 </td><td> 12431 </td><td> 7616 </td><td> 486 </td><td> 580 </td><td> 244 </td><td> 3534 </td><td> 1707 </td><td> 227 </td>\n",
       "                </tr>\n",
       "                <tr>\n",
       "                    <td>Number susceptible:</td>\n",
       "                    <td> 20941 </td><td> 24992 </td><td> 4194 </td><td> 4905 </td><td> 456 </td><td> 457 </td><td> 5813 </td><td> 31567 </td><td> 4382 </td><td> 24566 </td><td> 28464 </td><td> 8368 </td><td> 36822 </td><td> 1262 </td><td> 9841 </td><td> 15784 </td><td> 24590 </td><td> 21740 </td><td> 9044 </td><td> 10184 </td><td> 4803 </td><td> 8498 </td><td> 22662 </td><td> 31717 </td><td> 17989 </td><td> 27228 </td><td> 4656 </td><td> 3603 </td><td> 7031 </td><td> 7740 </td><td> 4286 </td><td> 31308 </td><td> 2305 </td><td> 14964 </td><td> 8486 </td><td> 10376 </td><td> 16809 </td><td> 20540 </td>\n",
       "                </tr>\n",
       "                <tr>\n",
       "                    <td>Number data points:</td>\n",
       "                    <td> 22009 </td><td> 38358 </td><td> 12772 </td><td> 26871 </td><td> 1084 </td><td> 1075 </td><td> 10036 </td><td> 38950 </td><td> 6720 </td><td> 28036 </td><td> 37123 </td><td> 14223 </td><td> 46160 </td><td> 1572 </td><td> 14222 </td><td> 18658 </td><td> 31995 </td><td> 22167 </td><td> 14512 </td><td> 12487 </td><td> 6129 </td><td> 12118 </td><td> 26143 </td><td> 39277 </td><td> 22206 </td><td> 32422 </td><td> 5226 </td><td> 4874 </td><td> 8236 </td><td> 13277 </td><td> 16717 </td><td> 38924 </td><td> 2791 </td><td> 15544 </td><td> 8730 </td><td> 13910 </td><td> 18516 </td><td> 20767 </td>\n",
       "                </tr>\n",
       "            </tbody>\n",
       "        </table>\n",
       "                "
      ],
      "text/plain": [
       "<src.maldi2resistance.data.driams.Driams at 0x7f2b5d8094d0>"
      ]
     },
     "execution_count": null,
     "metadata": {},
     "output_type": "execute_result"
    }
   ],
   "source": [
    "from src.maldi2resistance.data.driams import Driams\n",
    "\n",
    "driams = Driams(\n",
    "    root_dir=\"/home/jan/Uni/master/data/Driams\",\n",
    ")\n",
    "\n",
    "driams.loading_type = \"memory\"\n",
    "\n",
    "driams"
   ]
  },
  {
   "cell_type": "markdown",
   "id": "88d020a8-0832-45ad-b96a-10986c325aad",
   "metadata": {},
   "source": [
    "### Model"
   ]
  },
  {
   "cell_type": "code",
   "execution_count": null,
   "id": "2371f6c5-8021-450d-bca7-e57eddd2e916",
   "metadata": {},
   "outputs": [],
   "source": [
    "from multimodal_amr.models.modules import ResMLP\n",
    "\n",
    "\n",
    "class Model(nn.Module):\n",
    "    def __init__(self):\n",
    "        super(Model, self).__init__()\n",
    "        self.first = nn.Linear(18000 ,1024)\n",
    "        self.res_mlp = ResMLP(\n",
    "            n_layers= 5,\n",
    "            dim= 1024,\n",
    "            output_dim= len(driams.selected_antibiotics),\n",
    "            p_dropout=0.2,\n",
    "        )\n",
    "        \n",
    "    def forward(self, x):\n",
    "\n",
    "        h_ = self.first(x)\n",
    "        h_ = self.res_mlp(h_)\n",
    "        \n",
    "        output = torch.sigmoid(h_)\n",
    "\n",
    "        return output\n"
   ]
  },
  {
   "cell_type": "code",
   "execution_count": null,
   "id": "fbbd28ab5fd2a857",
   "metadata": {},
   "outputs": [
    {
     "data": {
      "text/plain": [
       "38"
      ]
     },
     "execution_count": null,
     "metadata": {},
     "output_type": "execute_result"
    }
   ],
   "source": [
    "len(driams.label_stats.columns)"
   ]
  },
  {
   "cell_type": "code",
   "execution_count": null,
   "id": "b81bd526-6a9c-4520-b121-9c01b4eb804a",
   "metadata": {},
   "outputs": [
    {
     "data": {
      "text/plain": [
       "Model(\n",
       "  (first): Linear(in_features=18000, out_features=1024, bias=True)\n",
       "  (res_mlp): ResMLP(\n",
       "    (net): Sequential(\n",
       "      (0): ResBlock(\n",
       "        (block): Sequential(\n",
       "          (0): ReLU()\n",
       "          (1): Linear(in_features=1024, out_features=1024, bias=True)\n",
       "          (2): Dropout(p=0.2, inplace=False)\n",
       "          (3): BatchNorm1d(1024, eps=1e-05, momentum=0.1, affine=True, track_running_stats=True)\n",
       "        )\n",
       "      )\n",
       "      (1): ResBlock(\n",
       "        (block): Sequential(\n",
       "          (0): ReLU()\n",
       "          (1): Linear(in_features=1024, out_features=1024, bias=True)\n",
       "          (2): Dropout(p=0.2, inplace=False)\n",
       "          (3): BatchNorm1d(1024, eps=1e-05, momentum=0.1, affine=True, track_running_stats=True)\n",
       "        )\n",
       "      )\n",
       "      (2): ResBlock(\n",
       "        (block): Sequential(\n",
       "          (0): ReLU()\n",
       "          (1): Linear(in_features=1024, out_features=1024, bias=True)\n",
       "          (2): Dropout(p=0.2, inplace=False)\n",
       "          (3): BatchNorm1d(1024, eps=1e-05, momentum=0.1, affine=True, track_running_stats=True)\n",
       "        )\n",
       "      )\n",
       "      (3): ResBlock(\n",
       "        (block): Sequential(\n",
       "          (0): ReLU()\n",
       "          (1): Linear(in_features=1024, out_features=1024, bias=True)\n",
       "          (2): Dropout(p=0.2, inplace=False)\n",
       "          (3): BatchNorm1d(1024, eps=1e-05, momentum=0.1, affine=True, track_running_stats=True)\n",
       "        )\n",
       "      )\n",
       "      (4): ResBlock(\n",
       "        (block): Sequential(\n",
       "          (0): ReLU()\n",
       "          (1): Linear(in_features=1024, out_features=1024, bias=True)\n",
       "          (2): Dropout(p=0.2, inplace=False)\n",
       "          (3): BatchNorm1d(1024, eps=1e-05, momentum=0.1, affine=True, track_running_stats=True)\n",
       "        )\n",
       "      )\n",
       "      (5): Linear(in_features=1024, out_features=38, bias=True)\n",
       "    )\n",
       "  )\n",
       ")"
      ]
     },
     "execution_count": null,
     "metadata": {},
     "output_type": "execute_result"
    }
   ],
   "source": [
    "model = Model()\n",
    "model.to(DEVICE)"
   ]
  },
  {
   "cell_type": "code",
   "execution_count": null,
   "id": "e361914c-9fb8-4a94-bb2c-95a3b68cda0b",
   "metadata": {},
   "outputs": [],
   "source": [
    "from torch.utils.data import DataLoader"
   ]
  },
  {
   "cell_type": "code",
   "execution_count": null,
   "id": "46e04927-8b3b-4278-9203-1306b0588e20",
   "metadata": {},
   "outputs": [],
   "source": [
    "gen = torch.Generator()\n",
    "\n",
    "batch_size = 128\n",
    "\n",
    "train_size = int(0.8 * len(driams))\n",
    "test_size = len(driams) - train_size\n",
    "train_dataset, test_dataset = torch.utils.data.random_split(driams, [train_size, test_size], generator=gen.manual_seed(SEED))\n",
    "\n",
    "train_loader = DataLoader(train_dataset, batch_size=batch_size, shuffle=True, drop_last=True)"
   ]
  },
  {
   "cell_type": "code",
   "execution_count": null,
   "id": "a96643a0-bd63-437b-a676-f3a4a1826910",
   "metadata": {},
   "outputs": [
    {
     "name": "stdout",
     "output_type": "stream",
     "text": [
      "Start training ...\n"
     ]
    },
    {
     "data": {
      "application/vnd.jupyter.widget-view+json": {
       "model_id": "16925094aa284603a65be8572c1cf726",
       "version_major": 2,
       "version_minor": 0
      },
      "text/plain": [
       "  0%|          | 0/30 [00:00<?, ?it/s]"
      ]
     },
     "metadata": {},
     "output_type": "display_data"
    },
    {
     "name": "stdout",
     "output_type": "stream",
     "text": [
      "\tAverage Loss: 0.000263 \tLearning rate: 0.001000\n",
      "\tAverage Loss: 0.000220 \tLearning rate: 0.001000\n",
      "\tAverage Loss: 0.000205 \tLearning rate: 0.001000\n",
      "\tAverage Loss: 0.000196 \tLearning rate: 0.001000\n",
      "\tAverage Loss: 0.000186 \tLearning rate: 0.001000\n",
      "\tAverage Loss: 0.000178 \tLearning rate: 0.001000\n",
      "\tAverage Loss: 0.000169 \tLearning rate: 0.001000\n",
      "\tAverage Loss: 0.000162 \tLearning rate: 0.001000\n",
      "\tAverage Loss: 0.000155 \tLearning rate: 0.001000\n",
      "\tAverage Loss: 0.000150 \tLearning rate: 0.000500\n",
      "\tAverage Loss: 0.000132 \tLearning rate: 0.000500\n",
      "\tAverage Loss: 0.000125 \tLearning rate: 0.000500\n",
      "\tAverage Loss: 0.000120 \tLearning rate: 0.000500\n",
      "\tAverage Loss: 0.000115 \tLearning rate: 0.000500\n",
      "\tAverage Loss: 0.000111 \tLearning rate: 0.000500\n",
      "\tAverage Loss: 0.000107 \tLearning rate: 0.000500\n",
      "\tAverage Loss: 0.000105 \tLearning rate: 0.000500\n",
      "\tAverage Loss: 0.000101 \tLearning rate: 0.000500\n",
      "\tAverage Loss: 0.000097 \tLearning rate: 0.000500\n",
      "\tAverage Loss: 0.000094 \tLearning rate: 0.000250\n",
      "\tAverage Loss: 0.000084 \tLearning rate: 0.000250\n",
      "\tAverage Loss: 0.000081 \tLearning rate: 0.000250\n",
      "\tAverage Loss: 0.000078 \tLearning rate: 0.000250\n",
      "\tAverage Loss: 0.000077 \tLearning rate: 0.000250\n",
      "\tAverage Loss: 0.000075 \tLearning rate: 0.000250\n",
      "\tAverage Loss: 0.000074 \tLearning rate: 0.000250\n",
      "\tAverage Loss: 0.000072 \tLearning rate: 0.000250\n",
      "\tAverage Loss: 0.000070 \tLearning rate: 0.000250\n",
      "\tAverage Loss: 0.000069 \tLearning rate: 0.000250\n",
      "\tAverage Loss: 0.000068 \tLearning rate: 0.000125\n",
      "Finish\n"
     ]
    }
   ],
   "source": [
    "from maldi2resistance.loss.maskedLoss import MaskedBCE\n",
    "from tqdm.auto import tqdm\n",
    "import torch.nn.functional as F\n",
    "\n",
    "from torch.optim import Adam\n",
    "from torch.optim.lr_scheduler import StepLR\n",
    "\n",
    "print(\"Start training ...\")\n",
    "model.train()\n",
    "\n",
    "optimizer = Adam(model.parameters(), lr=1e-3, amsgrad = True)\n",
    "scheduler = StepLR(optimizer, step_size=10, gamma=0.5)\n",
    "loss_per_batch = []\n",
    "\n",
    "criterion = nn.BCELoss()\n",
    "\n",
    "class_weights_negative = torch.tensor((1 - (driams.label_stats.loc[\"negative\"] / driams.label_stats.loc[\"n_sum\"])).values, device=DEVICE)\n",
    "class_weights_positive = torch.tensor((1 - (driams.label_stats.loc[\"positive\"] / driams.label_stats.loc[\"n_sum\"])).values, device=DEVICE)\n",
    "\n",
    "criterion = MaskedBCE(class_weights_positive= class_weights_negative, class_weights_negative= class_weights_negative)\n",
    "\n",
    "for epoch in tqdm(range(30)):\n",
    "    overall_loss = 0\n",
    "    \n",
    "    for batch_idx, (x, y) in enumerate(train_loader):\n",
    "\n",
    "        x = x.to(DEVICE)\n",
    "        y = y.to(DEVICE)\n",
    "        \n",
    "        optimizer.zero_grad()\n",
    "\n",
    "        # output, mean, log_var = model(x)\n",
    "        output = model(x)\n",
    "\n",
    "        #loss = loss_function(y, output, mean, log_var)\n",
    "        loss = criterion(output, y)\n",
    "        current_loss_value = loss.item()\n",
    "        loss_per_batch.append(current_loss_value)\n",
    "        \n",
    "        overall_loss += current_loss_value\n",
    "        \n",
    "        loss.backward()\n",
    "        optimizer.step()\n",
    "\n",
    "    scheduler.step()\n",
    "    with tqdm.external_write_mode():\n",
    "        print(f\"\\tAverage Loss: {overall_loss / (batch_idx*batch_size):.6f} \\tLearning rate: {scheduler.get_last_lr()[0]:.6f}\")\n",
    "\n",
    "\n",
    "print(\"Finish\")"
   ]
  },
  {
   "cell_type": "code",
   "execution_count": null,
   "id": "52b373a07bf392d6",
   "metadata": {},
   "outputs": [
    {
     "data": {
      "image/png": "[encoded data removed]",
      "text/plain": [
       "<Figure size 640x480 with 1 Axes>"
      ]
     },
     "metadata": {},
     "output_type": "display_data"
    }
   ],
   "source": [
    "import matplotlib.pyplot as plt \n",
    "\n",
    "plt.title(\"Loss per batch\") \n",
    "plt.xlabel(\"Batch idx\") \n",
    "plt.ylabel(\"Loss\") \n",
    "plt.plot(list(range(0,len(loss_per_batch))),loss_per_batch , color =\"red\") \n",
    "plt.show()"
   ]
  },
  {
   "cell_type": "code",
   "execution_count": null,
   "id": "01f78615-fd71-43f2-a7a1-c12f17be8950",
   "metadata": {},
   "outputs": [
    {
     "data": {
      "text/plain": [
       "Model(\n",
       "  (first): Linear(in_features=18000, out_features=1024, bias=True)\n",
       "  (res_mlp): ResMLP(\n",
       "    (net): Sequential(\n",
       "      (0): ResBlock(\n",
       "        (block): Sequential(\n",
       "          (0): ReLU()\n",
       "          (1): Linear(in_features=1024, out_features=1024, bias=True)\n",
       "          (2): Dropout(p=0.2, inplace=False)\n",
       "          (3): BatchNorm1d(1024, eps=1e-05, momentum=0.1, affine=True, track_running_stats=True)\n",
       "        )\n",
       "      )\n",
       "      (1): ResBlock(\n",
       "        (block): Sequential(\n",
       "          (0): ReLU()\n",
       "          (1): Linear(in_features=1024, out_features=1024, bias=True)\n",
       "          (2): Dropout(p=0.2, inplace=False)\n",
       "          (3): BatchNorm1d(1024, eps=1e-05, momentum=0.1, affine=True, track_running_stats=True)\n",
       "        )\n",
       "      )\n",
       "      (2): ResBlock(\n",
       "        (block): Sequential(\n",
       "          (0): ReLU()\n",
       "          (1): Linear(in_features=1024, out_features=1024, bias=True)\n",
       "          (2): Dropout(p=0.2, inplace=False)\n",
       "          (3): BatchNorm1d(1024, eps=1e-05, momentum=0.1, affine=True, track_running_stats=True)\n",
       "        )\n",
       "      )\n",
       "      (3): ResBlock(\n",
       "        (block): Sequential(\n",
       "          (0): ReLU()\n",
       "          (1): Linear(in_features=1024, out_features=1024, bias=True)\n",
       "          (2): Dropout(p=0.2, inplace=False)\n",
       "          (3): BatchNorm1d(1024, eps=1e-05, momentum=0.1, affine=True, track_running_stats=True)\n",
       "        )\n",
       "      )\n",
       "      (4): ResBlock(\n",
       "        (block): Sequential(\n",
       "          (0): ReLU()\n",
       "          (1): Linear(in_features=1024, out_features=1024, bias=True)\n",
       "          (2): Dropout(p=0.2, inplace=False)\n",
       "          (3): BatchNorm1d(1024, eps=1e-05, momentum=0.1, affine=True, track_running_stats=True)\n",
       "        )\n",
       "      )\n",
       "      (5): Linear(in_features=1024, out_features=38, bias=True)\n",
       "    )\n",
       "  )\n",
       ")"
      ]
     },
     "execution_count": null,
     "metadata": {},
     "output_type": "execute_result"
    }
   ],
   "source": [
    "model.eval()"
   ]
  },
  {
   "cell_type": "code",
   "execution_count": null,
   "id": "645c4916b1549621",
   "metadata": {},
   "outputs": [],
   "source": [
    "torch.save({\n",
    "            'model_state_dict': model.state_dict(),\n",
    "            'selected_antibiotics': driams.selected_antibiotics\n",
    "            }, './model.pt')"
   ]
  }
 ],
 "metadata": {
  "kernelspec": {
   "display_name": "Python 3 (ipykernel)",
   "language": "python",
   "name": "python3"
  },
  "language_info": {
   "codemirror_mode": {
    "name": "ipython",
    "version": 3
   },
   "file_extension": ".py",
   "mimetype": "text/x-python",
   "name": "python",
   "nbconvert_exporter": "python",
   "pygments_lexer": "ipython3"
  },
  "widgets": {
   "application/vnd.jupyter.widget-state+json": {
    "state": {},
    "version_major": 2,
    "version_minor": 0
   }
  }
 },
 "nbformat": 4,
 "nbformat_minor": 5
}
