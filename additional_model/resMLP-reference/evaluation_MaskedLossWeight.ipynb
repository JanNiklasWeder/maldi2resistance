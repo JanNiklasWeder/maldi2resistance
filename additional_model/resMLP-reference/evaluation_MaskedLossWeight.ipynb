{
 "cells": [
  {
   "cell_type": "code",
   "execution_count": null,
   "id": "98a8e32e91ed06aa",
   "metadata": {},
   "outputs": [],
   "source": [
    "from pathlib import Path\n",
    "import matplotlib.style\n",
    "import matplotlib as mpl\n",
    "import torch\n",
    "from tqdm.auto import tqdm\n",
    "\n",
    "DEVICE = torch.device(\"cpu\")\n",
    "SEED = 76436278\n",
    "\n",
    "torch.manual_seed(SEED)\n",
    "mpl.style.use(\"default\")\n",
    "\n",
    "checkpoint = torch.load('./model.pt')\n"
   ]
  },
  {
   "cell_type": "code",
   "execution_count": null,
   "id": "2ec3274c679933f6",
   "metadata": {},
   "outputs": [
    {
     "data": {
      "application/vnd.jupyter.widget-view+json": {
       "model_id": "0ba4aea33a384e9f9053e08479c288a8",
       "version_major": 2,
       "version_minor": 0
      },
      "text/plain": [
       "Loading Spectra into Memory:   0%|          | 0/55780 [00:00<?, ?it/s]"
      ]
     },
     "metadata": {},
     "output_type": "display_data"
    },
    {
     "data": {
      "text/html": [
       "\n",
       "        <table>\n",
       "            <thead>\n",
       "                <tr>\n",
       "                    <th>Antibiotic:</th>\n",
       "                    <th> Amikacin </th><th> Amoxicillin-Clavulanic acid </th><th> Ampicillin </th><th> Ampicillin-Amoxicillin </th><th> Aztreonam </th><th> Benzylpenicillin </th><th> Cefazolin </th><th> Cefepime </th><th> Cefpodoxime </th><th> Ceftazidime </th><th> Ceftriaxone </th><th> Cefuroxime </th><th> Ciprofloxacin </th><th> Clarithromycin </th><th> Clindamycin </th><th> Colistin </th><th> Cotrimoxazole </th><th> Ertapenem </th><th> Erythromycin </th><th> Fosfomycin </th><th> Fosfomycin-Trometamol </th><th> Fusidic acid </th><th> Gentamicin </th><th> Imipenem </th><th> Levofloxacin </th><th> Meropenem </th><th> Mupirocin </th><th> Nitrofurantoin </th><th> Norfloxacin </th><th> Oxacillin </th><th> Penicillin </th><th> Piperacillin-Tazobactam </th><th> Polymyxin B </th><th> Rifampicin </th><th> Teicoplanin </th><th> Tetracycline </th><th> Tobramycin </th><th> Vancomycin </th>\n",
       "                </tr>\n",
       "            </thead>\n",
       "            <tbody>\n",
       "                <tr>\n",
       "                    <td>Number resistant:</td>\n",
       "                    <td> 1068 </td><td> 13366 </td><td> 8578 </td><td> 21966 </td><td> 628 </td><td> 618 </td><td> 4223 </td><td> 7383 </td><td> 2338 </td><td> 3470 </td><td> 8659 </td><td> 5855 </td><td> 9338 </td><td> 310 </td><td> 4381 </td><td> 2874 </td><td> 7405 </td><td> 427 </td><td> 5468 </td><td> 2303 </td><td> 1326 </td><td> 3620 </td><td> 3481 </td><td> 7560 </td><td> 4217 </td><td> 5194 </td><td> 570 </td><td> 1271 </td><td> 1205 </td><td> 5537 </td><td> 12431 </td><td> 7616 </td><td> 486 </td><td> 580 </td><td> 244 </td><td> 3534 </td><td> 1707 </td><td> 227 </td>\n",
       "                </tr>\n",
       "                <tr>\n",
       "                    <td>Number susceptible:</td>\n",
       "                    <td> 20941 </td><td> 24992 </td><td> 4194 </td><td> 4905 </td><td> 456 </td><td> 457 </td><td> 5813 </td><td> 31567 </td><td> 4382 </td><td> 24566 </td><td> 28464 </td><td> 8368 </td><td> 36822 </td><td> 1262 </td><td> 9841 </td><td> 15784 </td><td> 24590 </td><td> 21740 </td><td> 9044 </td><td> 10184 </td><td> 4803 </td><td> 8498 </td><td> 22662 </td><td> 31717 </td><td> 17989 </td><td> 27228 </td><td> 4656 </td><td> 3603 </td><td> 7031 </td><td> 7740 </td><td> 4286 </td><td> 31308 </td><td> 2305 </td><td> 14964 </td><td> 8486 </td><td> 10376 </td><td> 16809 </td><td> 20540 </td>\n",
       "                </tr>\n",
       "                <tr>\n",
       "                    <td>Number data points:</td>\n",
       "                    <td> 22009 </td><td> 38358 </td><td> 12772 </td><td> 26871 </td><td> 1084 </td><td> 1075 </td><td> 10036 </td><td> 38950 </td><td> 6720 </td><td> 28036 </td><td> 37123 </td><td> 14223 </td><td> 46160 </td><td> 1572 </td><td> 14222 </td><td> 18658 </td><td> 31995 </td><td> 22167 </td><td> 14512 </td><td> 12487 </td><td> 6129 </td><td> 12118 </td><td> 26143 </td><td> 39277 </td><td> 22206 </td><td> 32422 </td><td> 5226 </td><td> 4874 </td><td> 8236 </td><td> 13277 </td><td> 16717 </td><td> 38924 </td><td> 2791 </td><td> 15544 </td><td> 8730 </td><td> 13910 </td><td> 18516 </td><td> 20767 </td>\n",
       "                </tr>\n",
       "            </tbody>\n",
       "        </table>\n",
       "                "
      ],
      "text/plain": [
       "<maldi2resistance.data.driams.Driams at 0x7f5d27e775d0>"
      ]
     },
     "execution_count": null,
     "metadata": {},
     "output_type": "execute_result"
    }
   ],
   "source": [
    "from maldi2resistance.data.driams import Driams\n",
    "\n",
    "driams = Driams(\n",
    "    root_dir=\"/home/jan/Uni/master/data/Driams\",\n",
    "    # antibiotics= ['Ciprofloxacin', 'Ceftriaxone', \"Cefepime\", \"Piperacillin-Tazobactam\", \"Tobramycin\"]\n",
    ")\n",
    "\n",
    "driams.loading_type = \"memory\"\n",
    "\n",
    "train_size = int(0.8 * len(driams))\n",
    "test_size = len(driams) - train_size\n",
    "\n",
    "driams"
   ]
  },
  {
   "cell_type": "code",
   "execution_count": null,
   "id": "dda68f836395bfbc",
   "metadata": {},
   "outputs": [
    {
     "data": {
      "application/vnd.jupyter.widget-view+json": {
       "model_id": "c80baf75b53344ab9e256999833d42ce",
       "version_major": 2,
       "version_minor": 0
      },
      "text/plain": [
       "Create single label Dataset:   0%|          | 0/11156 [00:00<?, ?it/s]"
      ]
     },
     "metadata": {},
     "output_type": "display_data"
    }
   ],
   "source": [
    "from maldi2resistance.data.driams import DriamsSingleAntibiotic\n",
    "from torch.utils.data import DataLoader\n",
    "\n",
    "gen = torch.Generator()\n",
    "\n",
    "\n",
    "batch_size = 128\n",
    "\n",
    "train_size = int(0.8 * len(driams))\n",
    "test_size = len(driams) - train_size\n",
    "train_dataset, test_dataset = torch.utils.data.random_split(driams, [train_size, test_size], generator=gen.manual_seed(SEED))\n",
    "\n",
    "test_dataset_single_antibiotic = DriamsSingleAntibiotic(driams= test_dataset, use_morganFingerprint4Drug= True)\n"
   ]
  },
  {
   "cell_type": "code",
   "execution_count": null,
   "id": "dd736f791d44caea",
   "metadata": {},
   "outputs": [
    {
     "data": {
      "text/html": [
       "<div>\n",
       "<style scoped>\n",
       "    .dataframe tbody tr th:only-of-type {\n",
       "        vertical-align: middle;\n",
       "    }\n",
       "\n",
       "    .dataframe tbody tr th {\n",
       "        vertical-align: top;\n",
       "    }\n",
       "\n",
       "    .dataframe thead th {\n",
       "        text-align: right;\n",
       "    }\n",
       "</style>\n",
       "<table border=\"1\" class=\"dataframe\">\n",
       "  <thead>\n",
       "    <tr style=\"text-align: right;\">\n",
       "      <th></th>\n",
       "      <th>Amikacin</th>\n",
       "      <th>Amoxicillin-Clavulanic acid</th>\n",
       "      <th>Ampicillin</th>\n",
       "      <th>Ampicillin-Amoxicillin</th>\n",
       "      <th>Aztreonam</th>\n",
       "      <th>Benzylpenicillin</th>\n",
       "      <th>Cefazolin</th>\n",
       "      <th>Cefepime</th>\n",
       "      <th>Cefpodoxime</th>\n",
       "      <th>Ceftazidime</th>\n",
       "      <th>...</th>\n",
       "      <th>Norfloxacin</th>\n",
       "      <th>Oxacillin</th>\n",
       "      <th>Penicillin</th>\n",
       "      <th>Piperacillin-Tazobactam</th>\n",
       "      <th>Polymyxin B</th>\n",
       "      <th>Rifampicin</th>\n",
       "      <th>Teicoplanin</th>\n",
       "      <th>Tetracycline</th>\n",
       "      <th>Tobramycin</th>\n",
       "      <th>Vancomycin</th>\n",
       "    </tr>\n",
       "  </thead>\n",
       "  <tbody>\n",
       "    <tr>\n",
       "      <th>positive</th>\n",
       "      <td>1068</td>\n",
       "      <td>13366</td>\n",
       "      <td>8578</td>\n",
       "      <td>21966</td>\n",
       "      <td>628</td>\n",
       "      <td>618</td>\n",
       "      <td>4223</td>\n",
       "      <td>7383</td>\n",
       "      <td>2338</td>\n",
       "      <td>3470</td>\n",
       "      <td>...</td>\n",
       "      <td>1205</td>\n",
       "      <td>5537</td>\n",
       "      <td>12431</td>\n",
       "      <td>7616</td>\n",
       "      <td>486</td>\n",
       "      <td>580</td>\n",
       "      <td>244</td>\n",
       "      <td>3534</td>\n",
       "      <td>1707</td>\n",
       "      <td>227</td>\n",
       "    </tr>\n",
       "    <tr>\n",
       "      <th>negative</th>\n",
       "      <td>20941</td>\n",
       "      <td>24992</td>\n",
       "      <td>4194</td>\n",
       "      <td>4905</td>\n",
       "      <td>456</td>\n",
       "      <td>457</td>\n",
       "      <td>5813</td>\n",
       "      <td>31567</td>\n",
       "      <td>4382</td>\n",
       "      <td>24566</td>\n",
       "      <td>...</td>\n",
       "      <td>7031</td>\n",
       "      <td>7740</td>\n",
       "      <td>4286</td>\n",
       "      <td>31308</td>\n",
       "      <td>2305</td>\n",
       "      <td>14964</td>\n",
       "      <td>8486</td>\n",
       "      <td>10376</td>\n",
       "      <td>16809</td>\n",
       "      <td>20540</td>\n",
       "    </tr>\n",
       "    <tr>\n",
       "      <th>n_sum</th>\n",
       "      <td>22009</td>\n",
       "      <td>38358</td>\n",
       "      <td>12772</td>\n",
       "      <td>26871</td>\n",
       "      <td>1084</td>\n",
       "      <td>1075</td>\n",
       "      <td>10036</td>\n",
       "      <td>38950</td>\n",
       "      <td>6720</td>\n",
       "      <td>28036</td>\n",
       "      <td>...</td>\n",
       "      <td>8236</td>\n",
       "      <td>13277</td>\n",
       "      <td>16717</td>\n",
       "      <td>38924</td>\n",
       "      <td>2791</td>\n",
       "      <td>15544</td>\n",
       "      <td>8730</td>\n",
       "      <td>13910</td>\n",
       "      <td>18516</td>\n",
       "      <td>20767</td>\n",
       "    </tr>\n",
       "  </tbody>\n",
       "</table>\n",
       "<p>3 rows × 38 columns</p>\n",
       "</div>"
      ],
      "text/plain": [
       "          Amikacin  Amoxicillin-Clavulanic acid  Ampicillin  \\\n",
       "positive      1068                        13366        8578   \n",
       "negative     20941                        24992        4194   \n",
       "n_sum        22009                        38358       12772   \n",
       "\n",
       "          Ampicillin-Amoxicillin  Aztreonam  Benzylpenicillin  Cefazolin  \\\n",
       "positive                   21966        628               618       4223   \n",
       "negative                    4905        456               457       5813   \n",
       "n_sum                      26871       1084              1075      10036   \n",
       "\n",
       "          Cefepime  Cefpodoxime  Ceftazidime  ...  Norfloxacin  Oxacillin  \\\n",
       "positive      7383         2338         3470  ...         1205       5537   \n",
       "negative     31567         4382        24566  ...         7031       7740   \n",
       "n_sum        38950         6720        28036  ...         8236      13277   \n",
       "\n",
       "          Penicillin  Piperacillin-Tazobactam  Polymyxin B  Rifampicin  \\\n",
       "positive       12431                     7616          486         580   \n",
       "negative        4286                    31308         2305       14964   \n",
       "n_sum          16717                    38924         2791       15544   \n",
       "\n",
       "          Teicoplanin  Tetracycline  Tobramycin  Vancomycin  \n",
       "positive          244          3534        1707         227  \n",
       "negative         8486         10376       16809       20540  \n",
       "n_sum            8730         13910       18516       20767  \n",
       "\n",
       "[3 rows x 38 columns]"
      ]
     },
     "execution_count": null,
     "metadata": {},
     "output_type": "execute_result"
    }
   ],
   "source": [
    "driams.label_stats"
   ]
  },
  {
   "cell_type": "code",
   "execution_count": null,
   "id": "e2f2f7cfe6a42ca7",
   "metadata": {},
   "outputs": [
    {
     "data": {
      "text/plain": [
       "38"
      ]
     },
     "execution_count": null,
     "metadata": {},
     "output_type": "execute_result"
    }
   ],
   "source": [
    "len(driams.selected_antibiotics)"
   ]
  },
  {
   "cell_type": "code",
   "execution_count": null,
   "id": "2c71b0be32d59b4",
   "metadata": {},
   "outputs": [],
   "source": [
    "from torch.utils.data import DataLoader\n",
    "\n",
    "test_loader = DataLoader(test_dataset_single_antibiotic, batch_size=512, shuffle=True)"
   ]
  },
  {
   "cell_type": "code",
   "execution_count": null,
   "id": "fe93a442c1dea4ec",
   "metadata": {},
   "outputs": [],
   "source": [
    "from multimodal_amr.models.modules import ResMLP\n",
    "from torch import nn\n",
    "\n",
    "\n",
    "class Residual_AMR_Classifier(nn.Module):\n",
    "    \"\"\"Overall model definition.\"\"\"\n",
    "\n",
    "    def __init__(self, config, n_input_spectrum, n_input_drug):\n",
    "        super().__init__()\n",
    "        self.config = config\n",
    "\n",
    "        # Sample embedding\n",
    "        if config[\"species_embedding_dim\"]==0 and config[\"conv_out_size\"]==config[\"sample_embedding_dim\"]:\n",
    "            self.sample_emb = nn.Identity()\n",
    "        elif config[\"species_embedding_dim\"]==0:\n",
    "            self.sample_emb = nn.Linear(\n",
    "                config[\"conv_out_size\"],\n",
    "                config[\"sample_embedding_dim\"],\n",
    "            )\n",
    "        else:\n",
    "            self.sample_emb = nn.Linear(\n",
    "                config[\"conv_out_size\"] + config[\"species_embedding_dim\"],\n",
    "                config[\"sample_embedding_dim\"],\n",
    "            )\n",
    "\n",
    "        # Maldi-tof spectrum embedding\n",
    "        # self.spectrum_emb = Conv1d_Block(output_dim=config[\"conv_out_size\"])\n",
    "        self.spectrum_emb = nn.Linear(n_input_spectrum ,config[\"conv_out_size\"])\n",
    "\n",
    "        # Drugs layers\n",
    "        # if config[\"drug_emb_type\"] == \"vae_embedding\" or config[\"drug_emb_type\"] == \"gnn_embedding\":\n",
    "        #     self.drug_emb = nn.Identity()\n",
    "        # elif config[\"drug_emb_type\"] == \"fingerprint\":\n",
    "        self.drug_emb = nn.Linear(\n",
    "            n_input_drug, config[\"drug_embedding_dim\"]\n",
    "        )\n",
    "\n",
    "        # Output network\n",
    "        self.net = ResMLP(\n",
    "            config[\"n_hidden_layers\"],\n",
    "            config[\"sample_embedding_dim\"] + config[\"drug_embedding_dim\"],\n",
    "            1,\n",
    "            p_dropout=0.2,\n",
    "        )\n",
    "\n",
    "    def forward(self, spectrum, fingerprint):\n",
    "        spectrum_embedding = self.spectrum_emb(spectrum)\n",
    "        dr_emb = self.drug_emb(fingerprint)\n",
    "\n",
    "        return self.net(torch.cat([dr_emb, spectrum_embedding], dim=1))\n",
    "\n",
    "\n",
    "\n",
    "\n",
    "conf = {\n",
    "    \"conv_out_size\": 512,\n",
    "    \"species_embedding_dim\":0,\n",
    "    \"sample_embedding_dim\":512,\n",
    "    \"drug_embedding_dim\":512,\n",
    "    \"n_hidden_layers\": 5,\n",
    "}\n",
    "        "
   ]
  },
  {
   "cell_type": "code",
   "execution_count": null,
   "id": "c12242a958bdc2ed",
   "metadata": {},
   "outputs": [
    {
     "data": {
      "text/plain": [
       "Residual_AMR_Classifier(\n",
       "  (sample_emb): Identity()\n",
       "  (spectrum_emb): Linear(in_features=18000, out_features=512, bias=True)\n",
       "  (drug_emb): Linear(in_features=1024, out_features=512, bias=True)\n",
       "  (net): ResMLP(\n",
       "    (net): Sequential(\n",
       "      (0): ResBlock(\n",
       "        (block): Sequential(\n",
       "          (0): ReLU()\n",
       "          (1): Linear(in_features=1024, out_features=1024, bias=True)\n",
       "          (2): Dropout(p=0.2, inplace=False)\n",
       "          (3): BatchNorm1d(1024, eps=1e-05, momentum=0.1, affine=True, track_running_stats=True)\n",
       "        )\n",
       "      )\n",
       "      (1): ResBlock(\n",
       "        (block): Sequential(\n",
       "          (0): ReLU()\n",
       "          (1): Linear(in_features=1024, out_features=1024, bias=True)\n",
       "          (2): Dropout(p=0.2, inplace=False)\n",
       "          (3): BatchNorm1d(1024, eps=1e-05, momentum=0.1, affine=True, track_running_stats=True)\n",
       "        )\n",
       "      )\n",
       "      (2): ResBlock(\n",
       "        (block): Sequential(\n",
       "          (0): ReLU()\n",
       "          (1): Linear(in_features=1024, out_features=1024, bias=True)\n",
       "          (2): Dropout(p=0.2, inplace=False)\n",
       "          (3): BatchNorm1d(1024, eps=1e-05, momentum=0.1, affine=True, track_running_stats=True)\n",
       "        )\n",
       "      )\n",
       "      (3): ResBlock(\n",
       "        (block): Sequential(\n",
       "          (0): ReLU()\n",
       "          (1): Linear(in_features=1024, out_features=1024, bias=True)\n",
       "          (2): Dropout(p=0.2, inplace=False)\n",
       "          (3): BatchNorm1d(1024, eps=1e-05, momentum=0.1, affine=True, track_running_stats=True)\n",
       "        )\n",
       "      )\n",
       "      (4): ResBlock(\n",
       "        (block): Sequential(\n",
       "          (0): ReLU()\n",
       "          (1): Linear(in_features=1024, out_features=1024, bias=True)\n",
       "          (2): Dropout(p=0.2, inplace=False)\n",
       "          (3): BatchNorm1d(1024, eps=1e-05, momentum=0.1, affine=True, track_running_stats=True)\n",
       "        )\n",
       "      )\n",
       "      (5): Linear(in_features=1024, out_features=1, bias=True)\n",
       "    )\n",
       "  )\n",
       ")"
      ]
     },
     "execution_count": null,
     "metadata": {},
     "output_type": "execute_result"
    }
   ],
   "source": [
    "from maldi2resistance.model.MLP import AeBasedMLP\n",
    "\n",
    "model = Residual_AMR_Classifier(config= conf,n_input_spectrum = 18000, n_input_drug= 1024)\n",
    "model.load_state_dict(checkpoint['model_state_dict'])\n",
    "\n",
    "model.to(DEVICE)"
   ]
  },
  {
   "cell_type": "code",
   "execution_count": null,
   "id": "4ed531fd65209fa0",
   "metadata": {},
   "outputs": [],
   "source": [
    "model = model.to(DEVICE)"
   ]
  },
  {
   "cell_type": "code",
   "execution_count": null,
   "id": "4850a9c3e7603202",
   "metadata": {},
   "outputs": [
    {
     "data": {
      "application/vnd.jupyter.widget-view+json": {
       "model_id": "baaec23f1185485db5fdcf6bd7e88b42",
       "version_major": 2,
       "version_minor": 0
      },
      "text/plain": [
       "  0%|          | 0/277 [00:00<?, ?it/s]"
      ]
     },
     "metadata": {},
     "output_type": "display_data"
    }
   ],
   "source": [
    "output = []\n",
    "test_labels = []\n",
    "\n",
    "for test_features, labels, test_pos in tqdm(test_loader, leave=False):\n",
    "    test_features = test_features.to(DEVICE)\n",
    "    test_pos = test_pos.to(DEVICE)\n",
    "    test_labels.append(labels)\n",
    "    \n",
    "    result = model(test_features, test_pos).detach().cpu()\n",
    "    \n",
    "    output.append(result)\n"
   ]
  },
  {
   "cell_type": "code",
   "execution_count": null,
   "id": "519023912b9287b3",
   "metadata": {},
   "outputs": [],
   "source": [
    "output = torch.cat(output).squeeze()\n",
    "test_labels = torch.cat(test_labels).int()"
   ]
  },
  {
   "cell_type": "code",
   "execution_count": null,
   "id": "354da26829ccf9c1",
   "metadata": {},
   "outputs": [
    {
     "data": {
      "text/plain": [
       "(tensor([0.0000, 0.0010, 0.0013,  ..., 1.0000, 1.0000, 1.0000]),\n",
       " tensor([0.0000, 0.1489, 0.1807,  ..., 1.0000, 1.0000, 1.0000]),\n",
       " tensor([1.0000e+00, 1.0000e+00, 1.0000e+00,  ..., 6.9361e-24, 3.5459e-24,\n",
       "         4.4026e-25]))"
      ]
     },
     "execution_count": null,
     "metadata": {},
     "output_type": "execute_result"
    }
   ],
   "source": [
    "from torchmetrics.classification import BinaryROC\n",
    "\n",
    "metric = BinaryROC()\n",
    "metric.update(output, test_labels)\n",
    "metric.compute()"
   ]
  },
  {
   "cell_type": "code",
   "execution_count": null,
   "id": "12a014fafe4291f1",
   "metadata": {},
   "outputs": [
    {
     "data": {
      "text/plain": [
       "tensor(0.9175)"
      ]
     },
     "execution_count": null,
     "metadata": {},
     "output_type": "execute_result"
    }
   ],
   "source": [
    "from torchmetrics.classification import BinaryAUROC\n",
    "\n",
    "auRoc = BinaryAUROC()\n",
    "auc_roc = auRoc(torch.sigmoid(output), test_labels)\n",
    "auc_roc"
   ]
  },
  {
   "cell_type": "code",
   "execution_count": null,
   "id": "6e1f5089783fc49f",
   "metadata": {},
   "outputs": [
    {
     "data": {
      "application/vnd.jupyter.widget-view+json": {
       "model_id": "858e45a8002140d5bf411b214797496d",
       "version_major": 2,
       "version_minor": 0
      },
      "text/plain": [
       "Create single label Dataset:   0%|          | 0/11156 [00:00<?, ?it/s]"
      ]
     },
     "metadata": {},
     "output_type": "display_data"
    }
   ],
   "source": [
    "test_dataset_single_antibiotic = DriamsSingleAntibiotic(driams= test_dataset, use_morganFingerprint4Drug= False)\n",
    "test_loader = DataLoader(test_dataset_single_antibiotic, batch_size=len(test_dataset_single_antibiotic), shuffle=True)"
   ]
  },
  {
   "cell_type": "code",
   "execution_count": null,
   "id": "68c1c876350f88a2",
   "metadata": {},
   "outputs": [
    {
     "data": {
      "text/plain": [
       "torch.Size([141408])"
      ]
     },
     "execution_count": null,
     "metadata": {},
     "output_type": "execute_result"
    }
   ],
   "source": [
    "output.shape"
   ]
  },
  {
   "cell_type": "code",
   "execution_count": null,
   "id": "42171ec0df09c92f",
   "metadata": {},
   "outputs": [
    {
     "data": {
      "text/plain": [
       "torch.Size([141408])"
      ]
     },
     "execution_count": null,
     "metadata": {},
     "output_type": "execute_result"
    }
   ],
   "source": [
    "test_pos.shape"
   ]
  },
  {
   "cell_type": "code",
   "execution_count": null,
   "id": "d573406416c35e2b",
   "metadata": {},
   "outputs": [],
   "source": [
    "_, _, test_pos = next(iter(test_loader))"
   ]
  },
  {
   "cell_type": "code",
   "execution_count": null,
   "id": "2f3f6758b7fd09",
   "metadata": {},
   "outputs": [
    {
     "name": "stdout",
     "output_type": "stream",
     "text": [
      "0.917578105863772\n"
     ]
    }
   ],
   "source": [
    "roc_auc = {}\n",
    "macro_aucroc = 0\n",
    "\n",
    "for pos, antibiotic in enumerate(driams.selected_antibiotics):\n",
    "    out_part = output[test_pos == pos]\n",
    "    label_part = test_labels[test_pos == pos]\n",
    "    au_roc = auRoc(out_part, label_part.int())\n",
    "    roc_auc[antibiotic] = au_roc\n",
    "    macro_aucroc += au_roc.item()\n",
    "    \n",
    "    \n",
    "macro_aucroc = macro_aucroc / len(driams.selected_antibiotics)\n",
    "print(macro_aucroc)"
   ]
  },
  {
   "cell_type": "code",
   "execution_count": null,
   "id": "e009b3a8dc2498b6",
   "metadata": {},
   "outputs": [
    {
     "data": {
      "text/plain": [
       "{'Amikacin': tensor(0.9166),\n",
       " 'Amoxicillin-Clavulanic acid': tensor(0.9206),\n",
       " 'Ampicillin': tensor(0.9249),\n",
       " 'Ampicillin-Amoxicillin': tensor(0.9189),\n",
       " 'Aztreonam': tensor(0.9378),\n",
       " 'Benzylpenicillin': tensor(0.9326),\n",
       " 'Cefazolin': tensor(0.9040),\n",
       " 'Cefepime': tensor(0.9245),\n",
       " 'Cefpodoxime': tensor(0.9241),\n",
       " 'Ceftazidime': tensor(0.9169),\n",
       " 'Ceftriaxone': tensor(0.9193),\n",
       " 'Cefuroxime': tensor(0.9175),\n",
       " 'Ciprofloxacin': tensor(0.9141),\n",
       " 'Clarithromycin': tensor(0.9335),\n",
       " 'Clindamycin': tensor(0.9195),\n",
       " 'Colistin': tensor(0.9123),\n",
       " 'Cotrimoxazole': tensor(0.9153),\n",
       " 'Ertapenem': tensor(0.9172),\n",
       " 'Erythromycin': tensor(0.9132),\n",
       " 'Fosfomycin': tensor(0.9134),\n",
       " 'Fosfomycin-Trometamol': tensor(0.9146),\n",
       " 'Fusidic acid': tensor(0.9010),\n",
       " 'Gentamicin': tensor(0.9143),\n",
       " 'Imipenem': tensor(0.9193),\n",
       " 'Levofloxacin': tensor(0.9229),\n",
       " 'Meropenem': tensor(0.9221),\n",
       " 'Mupirocin': tensor(0.9040),\n",
       " 'Nitrofurantoin': tensor(0.9083),\n",
       " 'Norfloxacin': tensor(0.9155),\n",
       " 'Oxacillin': tensor(0.9127),\n",
       " 'Penicillin': tensor(0.9153),\n",
       " 'Piperacillin-Tazobactam': tensor(0.9197),\n",
       " 'Polymyxin B': tensor(0.9105),\n",
       " 'Rifampicin': tensor(0.9234),\n",
       " 'Teicoplanin': tensor(0.9242),\n",
       " 'Tetracycline': tensor(0.9110),\n",
       " 'Tobramycin': tensor(0.9150),\n",
       " 'Vancomycin': tensor(0.9182)}"
      ]
     },
     "execution_count": null,
     "metadata": {},
     "output_type": "execute_result"
    }
   ],
   "source": [
    "roc_auc"
   ]
  }
 ],
 "metadata": {
  "kernelspec": {
   "display_name": "Python 3",
   "language": "python",
   "name": "python3"
  },
  "language_info": {
   "codemirror_mode": {
    "name": "ipython",
    "version": 2
   },
   "file_extension": ".py",
   "mimetype": "text/x-python",
   "name": "python",
   "nbconvert_exporter": "python",
   "pygments_lexer": "ipython2"
  }
 },
 "nbformat": 4,
 "nbformat_minor": 5
}
