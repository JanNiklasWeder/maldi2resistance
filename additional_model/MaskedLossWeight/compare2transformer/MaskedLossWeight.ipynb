{
 "cells": [
  {
   "cell_type": "markdown",
   "id": "3d89aed94233e3ff",
   "metadata": {},
   "source": [
    "# Fully connected feedforward network implementing a loss mask"
   ]
  },
  {
   "cell_type": "code",
   "execution_count": null,
   "id": "1eaaf570-0600-4d60-9fde-fcebcff3ce4c",
   "metadata": {},
   "outputs": [],
   "source": [
    "import torchmetrics.classification\n",
    "from torch import cuda\n",
    "assert cuda.is_available()\n",
    "assert cuda.device_count() > 0"
   ]
  },
  {
   "cell_type": "code",
   "execution_count": null,
   "id": "c7e50fb9-601f-425a-bf79-6441170b27dd",
   "metadata": {},
   "outputs": [
    {
     "name": "stdout",
     "output_type": "stream",
     "text": [
      "NVIDIA GeForce RTX 3060 Ti\n"
     ]
    }
   ],
   "source": [
    "print(cuda.get_device_name(cuda.current_device()))\n"
   ]
  },
  {
   "cell_type": "code",
   "execution_count": null,
   "id": "6c4b645f-6b5e-428e-855c-64b7e33ff874",
   "metadata": {},
   "outputs": [],
   "source": [
    "import torch\n",
    "import torch.nn as nn"
   ]
  },
  {
   "cell_type": "code",
   "execution_count": null,
   "id": "5e8a6650-ef2b-44f1-9ea8-78912b15e9a9",
   "metadata": {},
   "outputs": [
    {
     "data": {
      "text/plain": [
       "<torch._C.Generator at 0x7f27b358a6b0>"
      ]
     },
     "execution_count": null,
     "metadata": {},
     "output_type": "execute_result"
    }
   ],
   "source": [
    "DEVICE = torch.device(\"cuda\")\n",
    "SEED = 76436278\n",
    "\n",
    "torch.manual_seed(SEED)"
   ]
  },
  {
   "cell_type": "markdown",
   "id": "23b5a248-98cc-42cc-99b2-49bdd5ca1f35",
   "metadata": {},
   "source": [
    "### Load the Dataset"
   ]
  },
  {
   "cell_type": "code",
   "execution_count": null,
   "id": "852dac11879036ab",
   "metadata": {},
   "outputs": [],
   "source": [
    "replace_dict ={\n",
    "\"Ofloxacin Merged\": \"Levofloxacin\",\n",
    "\"Benzylpenicillin\": \"Penicillin\",\n",
    "\"Benzylpenicillin_others\": \"Penicillin\",\n",
    "\"Benzylpenicillin_with_meningitis\": \"Penicillin\",\n",
    "\"Benzylpenicillin_with_pneumonia\":\"Penicillin\",\n",
    "\"Penicillin_with_endokarditis\": \"Penicillin\",\n",
    "\"Penicillin_without_endokarditis\": \"Penicillin\",\n",
    "\"Penicillin_without_meningitis\":\"Penicillin\",\n",
    "\"Penicillin_with_meningitis\": \"Penicillin\",\n",
    "\"Penicillin_with_pneumonia\": \"Penicillin\",\n",
    "\"Penicillin_with_other_infections\": \"Penicillin\",\n",
    "\"Cefuroxime.1\": \"Cefuroxime\",\n",
    "\"Cotrimoxazol\": \"Cotrimoxazole\",\n",
    "\"Gentamicin_high_level\": \"Gentamicin\",\n",
    "\"Cefoxitin_screen\": \"Cefoxitin\",\n",
    "\"Teicoplanin_GRD\": \"Teicoplanin\",\n",
    "\"Vancomycin_GRD\": \"Vancomycin\",\n",
    "\"Rifampicin_1mg-l\": \"Rifampicin\",\n",
    "\"Meropenem_with_meningitis\": \"Meropenem\",\n",
    "\"Meropenem_without_meningitis\": \"Meropenem\",\n",
    "\"Meropenem_with_pneumonia\": \"Meropenem\",\n",
    "\"Amoxicillin-Clavulanic acid_uncomplicated_HWI\": \"Amoxicillin-Clavulanic acid\",\n",
    "}"
   ]
  },
  {
   "cell_type": "code",
   "execution_count": null,
   "id": "7a00707ac6b2975",
   "metadata": {},
   "outputs": [
    {
     "name": "stderr",
     "output_type": "stream",
     "text": [
      "/home/jan/Uni/master/src/maldi2resistance/data/driams.py:72: DtypeWarning: Columns (71) have mixed types. Specify dtype option on import or set low_memory=False.\n",
      "  self.__meta[key] = pd.read_csv(root_dir / f\"{site}/id/{year}/{year}_clean.csv\")\n"
     ]
    },
    {
     "data": {
      "application/vnd.jupyter.widget-view+json": {
       "model_id": "f08add2a01ea4a11a265935f014c0574",
       "version_major": 2,
       "version_minor": 0
      },
      "text/plain": [
       "Merging Antibiotics for ('DRIAMS-A', 2015):   0%|          | 0/22 [00:00<?, ?it/s]"
      ]
     },
     "metadata": {},
     "output_type": "display_data"
    },
    {
     "data": {
      "application/vnd.jupyter.widget-view+json": {
       "model_id": "5844f62b7095456883a9ceb197b5e4ba",
       "version_major": 2,
       "version_minor": 0
      },
      "text/plain": [
       "Merging Antibiotics for ('DRIAMS-A', 2016):   0%|          | 0/22 [00:00<?, ?it/s]"
      ]
     },
     "metadata": {},
     "output_type": "display_data"
    },
    {
     "data": {
      "application/vnd.jupyter.widget-view+json": {
       "model_id": "d1b3aa6cfe9347ef8466e1c4cd6d9880",
       "version_major": 2,
       "version_minor": 0
      },
      "text/plain": [
       "Merging Antibiotics for ('DRIAMS-A', 2017):   0%|          | 0/22 [00:00<?, ?it/s]"
      ]
     },
     "metadata": {},
     "output_type": "display_data"
    },
    {
     "data": {
      "application/vnd.jupyter.widget-view+json": {
       "model_id": "08e5d2da9a5048e0a1d2c1cf2f21d67d",
       "version_major": 2,
       "version_minor": 0
      },
      "text/plain": [
       "Merging Antibiotics for ('DRIAMS-A', 2018):   0%|          | 0/22 [00:00<?, ?it/s]"
      ]
     },
     "metadata": {},
     "output_type": "display_data"
    },
    {
     "data": {
      "application/vnd.jupyter.widget-view+json": {
       "model_id": "1202001a43214ae881144d4a6ebaac9a",
       "version_major": 2,
       "version_minor": 0
      },
      "text/plain": [
       "Merging Antibiotics for ('DRIAMS-B', 2018):   0%|          | 0/22 [00:00<?, ?it/s]"
      ]
     },
     "metadata": {},
     "output_type": "display_data"
    },
    {
     "data": {
      "application/vnd.jupyter.widget-view+json": {
       "model_id": "3f7dd136253345c3844e9cec4ce6a8ac",
       "version_major": 2,
       "version_minor": 0
      },
      "text/plain": [
       "Merging Antibiotics for ('DRIAMS-C', 2018):   0%|          | 0/22 [00:00<?, ?it/s]"
      ]
     },
     "metadata": {},
     "output_type": "display_data"
    },
    {
     "data": {
      "application/vnd.jupyter.widget-view+json": {
       "model_id": "b74ff3bcd2bc44378261fa55db9167f8",
       "version_major": 2,
       "version_minor": 0
      },
      "text/plain": [
       "Merging Antibiotics for ('DRIAMS-D', 2018):   0%|          | 0/22 [00:00<?, ?it/s]"
      ]
     },
     "metadata": {},
     "output_type": "display_data"
    },
    {
     "data": {
      "application/vnd.jupyter.widget-view+json": {
       "model_id": "20b72cd27d5f44428c6812bad590d978",
       "version_major": 2,
       "version_minor": 0
      },
      "text/plain": [
       "Loading Spectra into Memory:   0%|          | 0/53978 [00:00<?, ?it/s]"
      ]
     },
     "metadata": {},
     "output_type": "display_data"
    },
    {
     "data": {
      "text/html": [
       "\n",
       "        <table>\n",
       "            <thead>\n",
       "                <tr>\n",
       "                    <th>Antibiotic:</th>\n",
       "                    <th> Amikacin </th><th> Ampicillin </th><th> Ampicillin-Amoxicillin </th><th> Aztreonam </th><th> Cefazolin </th><th> Cefepime </th><th> Cefpodoxime </th><th> Ceftazidime </th><th> Ceftriaxone </th><th> Ciprofloxacin </th><th> Clarithromycin </th><th> Clindamycin </th><th> Colistin </th><th> Ertapenem </th><th> Erythromycin </th><th> Fosfomycin </th><th> Fosfomycin-Trometamol </th><th> Fusidic acid </th><th> Imipenem </th><th> Mupirocin </th><th> Nitrofurantoin </th><th> Norfloxacin </th><th> Oxacillin </th><th> Piperacillin-Tazobactam </th><th> Polymyxin B </th><th> Tetracycline </th><th> Tobramycin </th>\n",
       "                </tr>\n",
       "            </thead>\n",
       "            <tbody>\n",
       "                <tr>\n",
       "                    <td>Number resistant:</td>\n",
       "                    <td> 1068 </td><td> 8578 </td><td> 21966 </td><td> 628 </td><td> 4223 </td><td> 7383 </td><td> 2338 </td><td> 3470 </td><td> 8659 </td><td> 9338 </td><td> 310 </td><td> 4381 </td><td> 2874 </td><td> 427 </td><td> 5468 </td><td> 2303 </td><td> 1326 </td><td> 3620 </td><td> 7560 </td><td> 570 </td><td> 1271 </td><td> 1205 </td><td> 5537 </td><td> 7616 </td><td> 486 </td><td> 3534 </td><td> 1707 </td>\n",
       "                </tr>\n",
       "                <tr>\n",
       "                    <td>Number susceptible:</td>\n",
       "                    <td> 20941 </td><td> 4194 </td><td> 4905 </td><td> 456 </td><td> 5813 </td><td> 31567 </td><td> 4382 </td><td> 24566 </td><td> 28464 </td><td> 36822 </td><td> 1262 </td><td> 9841 </td><td> 15784 </td><td> 21740 </td><td> 9044 </td><td> 10184 </td><td> 4803 </td><td> 8498 </td><td> 31717 </td><td> 4656 </td><td> 3603 </td><td> 7031 </td><td> 7740 </td><td> 31308 </td><td> 2305 </td><td> 10376 </td><td> 16809 </td>\n",
       "                </tr>\n",
       "                <tr>\n",
       "                    <td>Number data points:</td>\n",
       "                    <td> 22009 </td><td> 12772 </td><td> 26871 </td><td> 1084 </td><td> 10036 </td><td> 38950 </td><td> 6720 </td><td> 28036 </td><td> 37123 </td><td> 46160 </td><td> 1572 </td><td> 14222 </td><td> 18658 </td><td> 22167 </td><td> 14512 </td><td> 12487 </td><td> 6129 </td><td> 12118 </td><td> 39277 </td><td> 5226 </td><td> 4874 </td><td> 8236 </td><td> 13277 </td><td> 38924 </td><td> 2791 </td><td> 13910 </td><td> 18516 </td>\n",
       "                </tr>\n",
       "            </tbody>\n",
       "        </table>\n",
       "                "
      ],
      "text/plain": [
       "<src.maldi2resistance.data.driams.Driams at 0x7f268a346010>"
      ]
     },
     "execution_count": null,
     "metadata": {},
     "output_type": "execute_result"
    }
   ],
   "source": [
    "from src.maldi2resistance.data.driams import Driams\n",
    "\n",
    "driams = Driams(\n",
    "    root_dir=\"/home/jan/Uni/master/data/Driams\",\n",
    "    replace_drug_names= replace_dict,\n",
    ")\n",
    "\n",
    "driams.loading_type = \"memory\"\n",
    "\n",
    "driams"
   ]
  },
  {
   "cell_type": "code",
   "execution_count": null,
   "id": "9c379bd7c8a80989",
   "metadata": {},
   "outputs": [
    {
     "data": {
      "text/html": [
       "<div>\n",
       "<style scoped>\n",
       "    .dataframe tbody tr th:only-of-type {\n",
       "        vertical-align: middle;\n",
       "    }\n",
       "\n",
       "    .dataframe tbody tr th {\n",
       "        vertical-align: top;\n",
       "    }\n",
       "\n",
       "    .dataframe thead th {\n",
       "        text-align: right;\n",
       "    }\n",
       "</style>\n",
       "<table border=\"1\" class=\"dataframe\">\n",
       "  <thead>\n",
       "    <tr style=\"text-align: right;\">\n",
       "      <th></th>\n",
       "      <th>Amikacin</th>\n",
       "      <th>Ampicillin</th>\n",
       "      <th>Ampicillin-Amoxicillin</th>\n",
       "      <th>Aztreonam</th>\n",
       "      <th>Cefazolin</th>\n",
       "      <th>Cefepime</th>\n",
       "      <th>Cefpodoxime</th>\n",
       "      <th>Ceftazidime</th>\n",
       "      <th>Ceftriaxone</th>\n",
       "      <th>Ciprofloxacin</th>\n",
       "      <th>...</th>\n",
       "      <th>Fusidic acid</th>\n",
       "      <th>Imipenem</th>\n",
       "      <th>Mupirocin</th>\n",
       "      <th>Nitrofurantoin</th>\n",
       "      <th>Norfloxacin</th>\n",
       "      <th>Oxacillin</th>\n",
       "      <th>Piperacillin-Tazobactam</th>\n",
       "      <th>Polymyxin B</th>\n",
       "      <th>Tetracycline</th>\n",
       "      <th>Tobramycin</th>\n",
       "    </tr>\n",
       "  </thead>\n",
       "  <tbody>\n",
       "    <tr>\n",
       "      <th>positive</th>\n",
       "      <td>1068</td>\n",
       "      <td>8578</td>\n",
       "      <td>21966</td>\n",
       "      <td>628</td>\n",
       "      <td>4223</td>\n",
       "      <td>7383</td>\n",
       "      <td>2338</td>\n",
       "      <td>3470</td>\n",
       "      <td>8659</td>\n",
       "      <td>9338</td>\n",
       "      <td>...</td>\n",
       "      <td>3620</td>\n",
       "      <td>7560</td>\n",
       "      <td>570</td>\n",
       "      <td>1271</td>\n",
       "      <td>1205</td>\n",
       "      <td>5537</td>\n",
       "      <td>7616</td>\n",
       "      <td>486</td>\n",
       "      <td>3534</td>\n",
       "      <td>1707</td>\n",
       "    </tr>\n",
       "    <tr>\n",
       "      <th>negative</th>\n",
       "      <td>20941</td>\n",
       "      <td>4194</td>\n",
       "      <td>4905</td>\n",
       "      <td>456</td>\n",
       "      <td>5813</td>\n",
       "      <td>31567</td>\n",
       "      <td>4382</td>\n",
       "      <td>24566</td>\n",
       "      <td>28464</td>\n",
       "      <td>36822</td>\n",
       "      <td>...</td>\n",
       "      <td>8498</td>\n",
       "      <td>31717</td>\n",
       "      <td>4656</td>\n",
       "      <td>3603</td>\n",
       "      <td>7031</td>\n",
       "      <td>7740</td>\n",
       "      <td>31308</td>\n",
       "      <td>2305</td>\n",
       "      <td>10376</td>\n",
       "      <td>16809</td>\n",
       "    </tr>\n",
       "    <tr>\n",
       "      <th>n_sum</th>\n",
       "      <td>22009</td>\n",
       "      <td>12772</td>\n",
       "      <td>26871</td>\n",
       "      <td>1084</td>\n",
       "      <td>10036</td>\n",
       "      <td>38950</td>\n",
       "      <td>6720</td>\n",
       "      <td>28036</td>\n",
       "      <td>37123</td>\n",
       "      <td>46160</td>\n",
       "      <td>...</td>\n",
       "      <td>12118</td>\n",
       "      <td>39277</td>\n",
       "      <td>5226</td>\n",
       "      <td>4874</td>\n",
       "      <td>8236</td>\n",
       "      <td>13277</td>\n",
       "      <td>38924</td>\n",
       "      <td>2791</td>\n",
       "      <td>13910</td>\n",
       "      <td>18516</td>\n",
       "    </tr>\n",
       "  </tbody>\n",
       "</table>\n",
       "<p>3 rows × 27 columns</p>\n",
       "</div>"
      ],
      "text/plain": [
       "          Amikacin  Ampicillin  Ampicillin-Amoxicillin  Aztreonam  Cefazolin  \\\n",
       "positive      1068        8578                   21966        628       4223   \n",
       "negative     20941        4194                    4905        456       5813   \n",
       "n_sum        22009       12772                   26871       1084      10036   \n",
       "\n",
       "          Cefepime  Cefpodoxime  Ceftazidime  Ceftriaxone  Ciprofloxacin  ...  \\\n",
       "positive      7383         2338         3470         8659           9338  ...   \n",
       "negative     31567         4382        24566        28464          36822  ...   \n",
       "n_sum        38950         6720        28036        37123          46160  ...   \n",
       "\n",
       "          Fusidic acid  Imipenem  Mupirocin  Nitrofurantoin  Norfloxacin  \\\n",
       "positive          3620      7560        570            1271         1205   \n",
       "negative          8498     31717       4656            3603         7031   \n",
       "n_sum            12118     39277       5226            4874         8236   \n",
       "\n",
       "          Oxacillin  Piperacillin-Tazobactam  Polymyxin B  Tetracycline  \\\n",
       "positive       5537                     7616          486          3534   \n",
       "negative       7740                    31308         2305         10376   \n",
       "n_sum         13277                    38924         2791         13910   \n",
       "\n",
       "          Tobramycin  \n",
       "positive        1707  \n",
       "negative       16809  \n",
       "n_sum          18516  \n",
       "\n",
       "[3 rows x 27 columns]"
      ]
     },
     "execution_count": null,
     "metadata": {},
     "output_type": "execute_result"
    }
   ],
   "source": [
    "driams.label_stats"
   ]
  },
  {
   "cell_type": "code",
   "execution_count": null,
   "id": "39ce9c9a85268c7a",
   "metadata": {},
   "outputs": [],
   "source": [
    "import json\n",
    "\n",
    "df = json.load(open(\"/home/jan/Uni/master/data/Driams/driams_split.json\"))\n",
    "\n",
    "for key, value in df.items():\n",
    "    if value in [\"A_train\", \"B_train\", \"C_train\", \"D_train\"]:\n",
    "        df[key] = \"train\"\n",
    "    elif value in [\"A_test\", \"B_test\", \"C_test\", \"D_test\"]:\n",
    "        df[key] = \"test\""
   ]
  },
  {
   "cell_type": "code",
   "execution_count": null,
   "id": "5b0e5e4c580f9243",
   "metadata": {},
   "outputs": [],
   "source": [
    "indices_train = []\n",
    "indices_test = []\n",
    "\n",
    "for idx in range(len(driams)):\n",
    "    site, year, code = driams.get_site_year_key(idx)\n",
    "    if site != \"DRIAMS-A\":\n",
    "        continue\n",
    "    \n",
    "    key = f\"{site}/{year}/{code}.txt\"\n",
    "    \n",
    "    if df[key] == \"train\":\n",
    "        indices_train.append(idx)\n",
    "    elif df[key] == \"test\":\n",
    "        indices_test.append(idx)\n",
    "    else:\n",
    "        continue\n",
    "        "
   ]
  },
  {
   "cell_type": "code",
   "execution_count": null,
   "id": "f8e6bbe0b37e0f52",
   "metadata": {},
   "outputs": [
    {
     "data": {
      "text/plain": [
       "26879"
      ]
     },
     "execution_count": null,
     "metadata": {},
     "output_type": "execute_result"
    }
   ],
   "source": [
    "len(indices_train)"
   ]
  },
  {
   "cell_type": "code",
   "execution_count": null,
   "id": "175aa57d7d39049",
   "metadata": {},
   "outputs": [
    {
     "data": {
      "text/plain": [
       "4826"
      ]
     },
     "execution_count": null,
     "metadata": {},
     "output_type": "execute_result"
    }
   ],
   "source": [
    "len(indices_test)"
   ]
  },
  {
   "cell_type": "code",
   "execution_count": null,
   "id": "900a8224c476dbc",
   "metadata": {},
   "outputs": [],
   "source": [
    "from torch.utils.data import Subset\n",
    "\n",
    "test_set = Subset(driams, indices= indices_test)\n",
    "train_set = Subset(driams, indices=indices_train)"
   ]
  },
  {
   "cell_type": "code",
   "execution_count": null,
   "id": "fbbd28ab5fd2a857",
   "metadata": {},
   "outputs": [
    {
     "data": {
      "text/plain": [
       "27"
      ]
     },
     "execution_count": null,
     "metadata": {},
     "output_type": "execute_result"
    }
   ],
   "source": [
    "len(driams.label_stats.columns)"
   ]
  },
  {
   "cell_type": "code",
   "execution_count": null,
   "id": "b81bd526-6a9c-4520-b121-9c01b4eb804a",
   "metadata": {},
   "outputs": [
    {
     "data": {
      "text/plain": [
       "AeBasedMLP(\n",
       "  (encoder): Encoder(\n",
       "    (input): Linear(in_features=18000, out_features=4096, bias=True)\n",
       "    (layer_1): Linear(in_features=4096, out_features=4096, bias=True)\n",
       "    (layer_2): Linear(in_features=4096, out_features=2048, bias=True)\n",
       "    (LeakyReLU): LeakyReLU(negative_slope=0.2)\n",
       "  )\n",
       "  (decoder): Decoder(\n",
       "    (input): Linear(in_features=2048, out_features=4096, bias=True)\n",
       "    (layer_1): Linear(in_features=4096, out_features=4096, bias=True)\n",
       "    (layer_2): Linear(in_features=4096, out_features=27, bias=True)\n",
       "    (LeakyReLU): LeakyReLU(negative_slope=0.2)\n",
       "  )\n",
       ")"
      ]
     },
     "execution_count": null,
     "metadata": {},
     "output_type": "execute_result"
    }
   ],
   "source": [
    "from maldi2resistance.model.MLP import AeBasedMLP\n",
    "\n",
    "model = AeBasedMLP(input_dim=18000, output_dim=len(driams.selected_antibiotics), hidden_dim=4096, latent_dim=2048)\n",
    "model.to(DEVICE)"
   ]
  },
  {
   "cell_type": "code",
   "execution_count": null,
   "id": "e361914c-9fb8-4a94-bb2c-95a3b68cda0b",
   "metadata": {},
   "outputs": [],
   "source": [
    "from torch.utils.data import DataLoader"
   ]
  },
  {
   "cell_type": "code",
   "execution_count": null,
   "id": "46e04927-8b3b-4278-9203-1306b0588e20",
   "metadata": {},
   "outputs": [],
   "source": [
    "gen = torch.Generator()\n",
    "\n",
    "\n",
    "batch_size = 128\n",
    "\n",
    "train_loader = DataLoader(train_set, batch_size=batch_size, shuffle=True, drop_last=True, pin_memory= True)"
   ]
  },
  {
   "cell_type": "code",
   "execution_count": null,
   "id": "a96643a0-bd63-437b-a676-f3a4a1826910",
   "metadata": {},
   "outputs": [
    {
     "name": "stdout",
     "output_type": "stream",
     "text": [
      "Start training ...\n"
     ]
    },
    {
     "data": {
      "application/vnd.jupyter.widget-view+json": {
       "model_id": "c95312223c85406daafbf3dc6956fc12",
       "version_major": 2,
       "version_minor": 0
      },
      "text/plain": [
       "  0%|          | 0/30 [00:00<?, ?it/s]"
      ]
     },
     "metadata": {},
     "output_type": "display_data"
    },
    {
     "name": "stdout",
     "output_type": "stream",
     "text": [
      "\tAverage Loss: 0.000316 \tLearning rate: 0.001000\n",
      "\tAverage Loss: 0.000261 \tLearning rate: 0.001000\n",
      "\tAverage Loss: 0.000240 \tLearning rate: 0.001000\n",
      "\tAverage Loss: 0.000227 \tLearning rate: 0.001000\n",
      "\tAverage Loss: 0.000217 \tLearning rate: 0.001000\n",
      "\tAverage Loss: 0.000206 \tLearning rate: 0.001000\n",
      "\tAverage Loss: 0.000203 \tLearning rate: 0.001000\n",
      "\tAverage Loss: 0.000196 \tLearning rate: 0.001000\n",
      "\tAverage Loss: 0.000190 \tLearning rate: 0.001000\n",
      "\tAverage Loss: 0.000182 \tLearning rate: 0.000500\n",
      "\tAverage Loss: 0.000162 \tLearning rate: 0.000500\n",
      "\tAverage Loss: 0.000154 \tLearning rate: 0.000500\n",
      "\tAverage Loss: 0.000150 \tLearning rate: 0.000500\n",
      "\tAverage Loss: 0.000143 \tLearning rate: 0.000500\n",
      "\tAverage Loss: 0.000139 \tLearning rate: 0.000500\n",
      "\tAverage Loss: 0.000135 \tLearning rate: 0.000500\n",
      "\tAverage Loss: 0.000127 \tLearning rate: 0.000500\n",
      "\tAverage Loss: 0.000123 \tLearning rate: 0.000500\n",
      "\tAverage Loss: 0.000117 \tLearning rate: 0.000500\n",
      "\tAverage Loss: 0.000109 \tLearning rate: 0.000250\n",
      "\tAverage Loss: 0.000092 \tLearning rate: 0.000250\n",
      "\tAverage Loss: 0.000085 \tLearning rate: 0.000250\n",
      "\tAverage Loss: 0.000079 \tLearning rate: 0.000250\n",
      "\tAverage Loss: 0.000075 \tLearning rate: 0.000250\n",
      "\tAverage Loss: 0.000072 \tLearning rate: 0.000250\n",
      "\tAverage Loss: 0.000065 \tLearning rate: 0.000250\n",
      "\tAverage Loss: 0.000063 \tLearning rate: 0.000250\n",
      "\tAverage Loss: 0.000060 \tLearning rate: 0.000250\n",
      "\tAverage Loss: 0.000054 \tLearning rate: 0.000250\n",
      "\tAverage Loss: 0.000052 \tLearning rate: 0.000125\n",
      "Finish\n"
     ]
    }
   ],
   "source": [
    "from maldi2resistance.loss.maskedLoss import MaskedBCE\n",
    "from tqdm.auto import tqdm\n",
    "import torch.nn.functional as F\n",
    "\n",
    "from torch.optim import Adam\n",
    "from torch.optim.lr_scheduler import StepLR\n",
    "\n",
    "print(\"Start training ...\")\n",
    "model.train()\n",
    "\n",
    "optimizer = Adam(model.parameters(), lr=1e-3, amsgrad = True)\n",
    "scheduler = StepLR(optimizer, step_size=10, gamma=0.5)\n",
    "loss_per_batch = []\n",
    "\n",
    "\n",
    "class_weights_negative = torch.tensor((1 - (driams.label_stats.loc[\"negative\"] / driams.label_stats.loc[\"n_sum\"])).values, device=DEVICE)\n",
    "class_weights_positive = torch.tensor((1 - (driams.label_stats.loc[\"positive\"] / driams.label_stats.loc[\"n_sum\"])).values, device=DEVICE)\n",
    "\n",
    "criterion = MaskedBCE(class_weights_positive= class_weights_negative, class_weights_negative= class_weights_negative)\n",
    "\n",
    "for epoch in tqdm(range(30)):\n",
    "    overall_loss = 0\n",
    "    \n",
    "    for batch_idx, (x, y) in enumerate(train_loader):\n",
    "\n",
    "        x = x.to(DEVICE,non_blocking=True)\n",
    "        y = y.to(DEVICE,non_blocking=True)\n",
    "        \n",
    "        optimizer.zero_grad()\n",
    "        output = model(x)\n",
    "        \n",
    "        loss = criterion(output, y)\n",
    "\n",
    "        current_loss_value = loss.item()\n",
    "        loss_per_batch.append(current_loss_value)\n",
    "        \n",
    "        overall_loss += current_loss_value\n",
    "        \n",
    "        loss.backward()\n",
    "        optimizer.step()\n",
    "\n",
    "    scheduler.step()\n",
    "    with tqdm.external_write_mode():\n",
    "        print(f\"\\tAverage Loss: {overall_loss / (batch_idx*batch_size):.6f} \\tLearning rate: {scheduler.get_last_lr()[0]:.6f}\")\n",
    "\n",
    "\n",
    "print(\"Finish\")"
   ]
  },
  {
   "cell_type": "code",
   "execution_count": null,
   "id": "8b707a90ed07c120",
   "metadata": {},
   "outputs": [
    {
     "data": {
      "image/png": "[encoded data removed]",
      "text/plain": [
       "<Figure size 640x480 with 1 Axes>"
      ]
     },
     "metadata": {},
     "output_type": "display_data"
    }
   ],
   "source": [
    "import matplotlib.pyplot as plt \n",
    "\n",
    "plt.title(\"Loss per batch\") \n",
    "plt.xlabel(\"Batch idx\") \n",
    "plt.ylabel(\"Loss\") \n",
    "plt.plot(list(range(0,len(loss_per_batch))),loss_per_batch , color =\"red\") \n",
    "plt.show()"
   ]
  },
  {
   "cell_type": "code",
   "execution_count": null,
   "id": "01f78615-fd71-43f2-a7a1-c12f17be8950",
   "metadata": {},
   "outputs": [
    {
     "data": {
      "text/plain": [
       "AeBasedMLP(\n",
       "  (encoder): Encoder(\n",
       "    (input): Linear(in_features=18000, out_features=4096, bias=True)\n",
       "    (layer_1): Linear(in_features=4096, out_features=4096, bias=True)\n",
       "    (layer_2): Linear(in_features=4096, out_features=2048, bias=True)\n",
       "    (LeakyReLU): LeakyReLU(negative_slope=0.2)\n",
       "  )\n",
       "  (decoder): Decoder(\n",
       "    (input): Linear(in_features=2048, out_features=4096, bias=True)\n",
       "    (layer_1): Linear(in_features=4096, out_features=4096, bias=True)\n",
       "    (layer_2): Linear(in_features=4096, out_features=27, bias=True)\n",
       "    (LeakyReLU): LeakyReLU(negative_slope=0.2)\n",
       "  )\n",
       ")"
      ]
     },
     "execution_count": null,
     "metadata": {},
     "output_type": "execute_result"
    }
   ],
   "source": [
    "model.eval()"
   ]
  },
  {
   "cell_type": "code",
   "execution_count": null,
   "id": "645c4916b1549621",
   "metadata": {},
   "outputs": [],
   "source": [
    "torch.save({\n",
    "            'model_state_dict': model.state_dict(),\n",
    "            'selected_antibiotics': driams.selected_antibiotics\n",
    "            }, './model.pt')"
   ]
  },
  {
   "cell_type": "code",
   "execution_count": null,
   "id": "d1930e290fa5f0a2",
   "metadata": {},
   "outputs": [
    {
     "data": {
      "text/plain": [
       "4080"
      ]
     },
     "execution_count": null,
     "metadata": {},
     "output_type": "execute_result"
    }
   ],
   "source": [
    "import gc\n",
    "\n",
    "torch.cuda.empty_cache()\n",
    "gc.collect()"
   ]
  },
  {
   "cell_type": "code",
   "execution_count": null,
   "id": "f02951a796a68e1b",
   "metadata": {},
   "outputs": [],
   "source": [
    "test_loader = DataLoader(test_set, batch_size=len(test_set), shuffle=True)\n",
    "test_features, test_labels = next(iter(test_loader))"
   ]
  },
  {
   "cell_type": "code",
   "execution_count": null,
   "id": "e9c6058667930b41",
   "metadata": {},
   "outputs": [],
   "source": [
    "test_features = test_features.to(DEVICE)\n",
    "test_labels = test_labels.to(DEVICE)"
   ]
  },
  {
   "cell_type": "code",
   "execution_count": null,
   "id": "1e3e7bec2063d1bf",
   "metadata": {},
   "outputs": [],
   "source": [
    "output = model(test_features)"
   ]
  },
  {
   "cell_type": "code",
   "execution_count": null,
   "id": "b0fb0d32b53ed906",
   "metadata": {},
   "outputs": [
    {
     "name": "stdout",
     "output_type": "stream",
     "text": [
      "(0.8780769109725952, 0.7282666122471845)\n"
     ]
    },
    {
     "data": {
      "image/png": "[encoded data removed]",
      "text/plain": [
       "<Figure size 640x480 with 1 Axes>"
      ]
     },
     "metadata": {},
     "output_type": "display_data"
    }
   ],
   "source": [
    "from maldi2resistance.metric.ROC import MultiLabelRocNan\n",
    "import matplotlib.pyplot as plt\n",
    "\n",
    "ml_roc = MultiLabelRocNan()\n",
    "print(ml_roc.compute(output,test_labels,driams.selected_antibiotics, create_csv=\"./ROC_results.csv\"))\n",
    "fig_, ax_ = ml_roc()\n",
    "\n",
    "plt.savefig(\"./ROC_results.png\", transparent=True, format= \"png\", bbox_inches = \"tight\")\n",
    "plt.show()"
   ]
  },
  {
   "cell_type": "code",
   "execution_count": null,
   "id": "889c1eeb3f4ee9eb",
   "metadata": {},
   "outputs": [
    {
     "name": "stdout",
     "output_type": "stream",
     "text": [
      "(0.8008812069892883, 0.5277257575825961)\n"
     ]
    },
    {
     "data": {
      "image/png": "[encoded data removed]",
      "text/plain": [
       "<Figure size 640x480 with 1 Axes>"
      ]
     },
     "metadata": {},
     "output_type": "display_data"
    }
   ],
   "source": [
    "from maldi2resistance.metric.PrecisionRecall import MultiLabelPRNan\n",
    "import matplotlib.pyplot as plt\n",
    "\n",
    "ml_pr = MultiLabelPRNan()\n",
    "print(ml_pr.compute(output,test_labels,driams.selected_antibiotics, create_csv=\"./PR_results.csv\"))\n",
    "\n",
    "fig_, ax_ = ml_pr()\n",
    "\n",
    "plt.savefig(\"./PR_results.png\", transparent=True, format= \"png\", bbox_inches = \"tight\")\n",
    "plt.show()"
   ]
  }
 ],
 "metadata": {
  "kernelspec": {
   "display_name": "Python 3 (ipykernel)",
   "language": "python",
   "name": "python3"
  },
  "language_info": {
   "codemirror_mode": {
    "name": "ipython",
    "version": 3
   },
   "file_extension": ".py",
   "mimetype": "text/x-python",
   "name": "python",
   "nbconvert_exporter": "python",
   "pygments_lexer": "ipython3"
  },
  "widgets": {
   "application/vnd.jupyter.widget-state+json": {
    "state": {},
    "version_major": 2,
    "version_minor": 0
   }
  }
 },
 "nbformat": 4,
 "nbformat_minor": 5
}
