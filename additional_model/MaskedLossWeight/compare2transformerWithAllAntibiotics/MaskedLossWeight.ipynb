{
 "cells": [
  {
   "cell_type": "markdown",
   "id": "3d89aed94233e3ff",
   "metadata": {},
   "source": [
    "# Fully connected feedforward network implementing a loss mask"
   ]
  },
  {
   "cell_type": "code",
   "execution_count": null,
   "id": "1eaaf570-0600-4d60-9fde-fcebcff3ce4c",
   "metadata": {},
   "outputs": [],
   "source": [
    "import torchmetrics.classification\n",
    "from torch import cuda\n",
    "assert cuda.is_available()\n",
    "assert cuda.device_count() > 0"
   ]
  },
  {
   "cell_type": "code",
   "execution_count": null,
   "id": "c7e50fb9-601f-425a-bf79-6441170b27dd",
   "metadata": {},
   "outputs": [
    {
     "name": "stdout",
     "output_type": "stream",
     "text": [
      "NVIDIA GeForce RTX 3060 Ti\n"
     ]
    }
   ],
   "source": [
    "print(cuda.get_device_name(cuda.current_device()))\n"
   ]
  },
  {
   "cell_type": "code",
   "execution_count": null,
   "id": "6c4b645f-6b5e-428e-855c-64b7e33ff874",
   "metadata": {},
   "outputs": [],
   "source": [
    "import torch\n",
    "import torch.nn as nn"
   ]
  },
  {
   "cell_type": "code",
   "execution_count": null,
   "id": "5e8a6650-ef2b-44f1-9ea8-78912b15e9a9",
   "metadata": {},
   "outputs": [
    {
     "data": {
      "text/plain": [
       "<torch._C.Generator at 0x7f27b358a6b0>"
      ]
     },
     "execution_count": null,
     "metadata": {},
     "output_type": "execute_result"
    }
   ],
   "source": [
    "DEVICE = torch.device(\"cuda\")\n",
    "SEED = 76436278\n",
    "\n",
    "torch.manual_seed(SEED)"
   ]
  },
  {
   "cell_type": "markdown",
   "id": "23b5a248-98cc-42cc-99b2-49bdd5ca1f35",
   "metadata": {},
   "source": [
    "### Load the Dataset"
   ]
  },
  {
   "cell_type": "code",
   "execution_count": null,
   "id": "852dac11879036ab",
   "metadata": {},
   "outputs": [],
   "source": [
    "replace_dict ={\n",
    "\"Ofloxacin Merged\": \"Levofloxacin\",\n",
    "\"Benzylpenicillin\": \"Penicillin\",\n",
    "\"Benzylpenicillin_others\": \"Penicillin\",\n",
    "\"Benzylpenicillin_with_meningitis\": \"Penicillin\",\n",
    "\"Benzylpenicillin_with_pneumonia\":\"Penicillin\",\n",
    "\"Penicillin_with_endokarditis\": \"Penicillin\",\n",
    "\"Penicillin_without_endokarditis\": \"Penicillin\",\n",
    "\"Penicillin_without_meningitis\":\"Penicillin\",\n",
    "\"Penicillin_with_meningitis\": \"Penicillin\",\n",
    "\"Penicillin_with_pneumonia\": \"Penicillin\",\n",
    "\"Penicillin_with_other_infections\": \"Penicillin\",\n",
    "\"Cefuroxime.1\": \"Cefuroxime\",\n",
    "\"Cotrimoxazol\": \"Cotrimoxazole\",\n",
    "\"Gentamicin_high_level\": \"Gentamicin\",\n",
    "\"Cefoxitin_screen\": \"Cefoxitin\",\n",
    "\"Teicoplanin_GRD\": \"Teicoplanin\",\n",
    "\"Vancomycin_GRD\": \"Vancomycin\",\n",
    "\"Rifampicin_1mg-l\": \"Rifampicin\",\n",
    "\"Meropenem_with_meningitis\": \"Meropenem\",\n",
    "\"Meropenem_without_meningitis\": \"Meropenem\",\n",
    "\"Meropenem_with_pneumonia\": \"Meropenem\",\n",
    "\"Amoxicillin-Clavulanic acid_uncomplicated_HWI\": \"Amoxicillin-Clavulanic acid\",\n",
    "}"
   ]
  },
  {
   "cell_type": "code",
   "execution_count": null,
   "id": "7a00707ac6b2975",
   "metadata": {},
   "outputs": [
    {
     "name": "stderr",
     "output_type": "stream",
     "text": [
      "/home/jan/Uni/master/src/maldi2resistance/data/driams.py:72: DtypeWarning: Columns (71) have mixed types. Specify dtype option on import or set low_memory=False.\n",
      "  self.__meta[key] = pd.read_csv(root_dir / f\"{site}/id/{year}/{year}_clean.csv\")\n"
     ]
    },
    {
     "data": {
      "application/vnd.jupyter.widget-view+json": {
       "model_id": "adda2c17294049668e88ad1485e43231",
       "version_major": 2,
       "version_minor": 0
      },
      "text/plain": [
       "Merging Antibiotics for ('DRIAMS-A', 2015):   0%|          | 0/22 [00:00<?, ?it/s]"
      ]
     },
     "metadata": {},
     "output_type": "display_data"
    },
    {
     "data": {
      "application/vnd.jupyter.widget-view+json": {
       "model_id": "b03fdd8f6368409d8e696f2db8f64122",
       "version_major": 2,
       "version_minor": 0
      },
      "text/plain": [
       "Merging Antibiotics for ('DRIAMS-A', 2016):   0%|          | 0/22 [00:00<?, ?it/s]"
      ]
     },
     "metadata": {},
     "output_type": "display_data"
    },
    {
     "data": {
      "application/vnd.jupyter.widget-view+json": {
       "model_id": "33a0771885754ce68337f6b149ab3693",
       "version_major": 2,
       "version_minor": 0
      },
      "text/plain": [
       "Merging Antibiotics for ('DRIAMS-A', 2017):   0%|          | 0/22 [00:00<?, ?it/s]"
      ]
     },
     "metadata": {},
     "output_type": "display_data"
    },
    {
     "data": {
      "application/vnd.jupyter.widget-view+json": {
       "model_id": "ceb7a458f97f422a8bc2906bd0ba19d2",
       "version_major": 2,
       "version_minor": 0
      },
      "text/plain": [
       "Merging Antibiotics for ('DRIAMS-A', 2018):   0%|          | 0/22 [00:00<?, ?it/s]"
      ]
     },
     "metadata": {},
     "output_type": "display_data"
    },
    {
     "data": {
      "application/vnd.jupyter.widget-view+json": {
       "model_id": "333a882452024805897d5b4502ef849d",
       "version_major": 2,
       "version_minor": 0
      },
      "text/plain": [
       "Merging Antibiotics for ('DRIAMS-B', 2018):   0%|          | 0/22 [00:00<?, ?it/s]"
      ]
     },
     "metadata": {},
     "output_type": "display_data"
    },
    {
     "data": {
      "application/vnd.jupyter.widget-view+json": {
       "model_id": "67970de36bfa42f28e78b14fd583e059",
       "version_major": 2,
       "version_minor": 0
      },
      "text/plain": [
       "Merging Antibiotics for ('DRIAMS-C', 2018):   0%|          | 0/22 [00:00<?, ?it/s]"
      ]
     },
     "metadata": {},
     "output_type": "display_data"
    },
    {
     "data": {
      "application/vnd.jupyter.widget-view+json": {
       "model_id": "fb4e9487db624935b045a42945b0949e",
       "version_major": 2,
       "version_minor": 0
      },
      "text/plain": [
       "Merging Antibiotics for ('DRIAMS-D', 2018):   0%|          | 0/22 [00:00<?, ?it/s]"
      ]
     },
     "metadata": {},
     "output_type": "display_data"
    },
    {
     "data": {
      "application/vnd.jupyter.widget-view+json": {
       "model_id": "327fe48ad72540c98e00dc5f3cc2de43",
       "version_major": 2,
       "version_minor": 0
      },
      "text/plain": [
       "Loading Spectra into Memory:   0%|          | 0/53978 [00:00<?, ?it/s]"
      ]
     },
     "metadata": {},
     "output_type": "display_data"
    },
    {
     "data": {
      "text/html": [
       "\n",
       "        <table>\n",
       "            <thead>\n",
       "                <tr>\n",
       "                    <th>Antibiotic:</th>\n",
       "                    <th> 5-Fluorocytosine </th><th> Amikacin </th><th> Aminoglycosides </th><th> Amoxicillin </th><th> Amoxicillin-Clavulanic acid </th><th> Amphotericin B </th><th> Ampicillin </th><th> Ampicillin-Amoxicillin </th><th> Ampicillin-Sulbactam </th><th> Anidulafungin </th><th> Azithromycin </th><th> Aztreonam </th><th> Bacitracin </th><th> Caspofungin </th><th> Cefalotin-Cefazolin </th><th> Cefazolin </th><th> Cefepime </th><th> Cefixime </th><th> Cefotaxime </th><th> Cefoxitin </th><th> Cefpodoxime </th><th> Ceftarolin </th><th> Ceftazidime </th><th> Ceftazidime-Avibactam </th><th> Ceftobiprole </th><th> Ceftolozane-Tazobactam </th><th> Ceftriaxone </th><th> Cefuroxime </th><th> Chloramphenicol </th><th> Ciprofloxacin </th><th> Clarithromycin </th><th> Clindamycin </th><th> Clindamycin_induced </th><th> Colistin </th><th> Cotrimoxazole </th><th> Daptomycin </th><th> Doxycycline </th><th> ESBL </th><th> Ertapenem </th><th> Erythromycin </th><th> Ethambutol_5mg-l </th><th> Fluconazole </th><th> Fosfomycin </th><th> Fosfomycin-Trometamol </th><th> Fusidic acid </th><th> Gentamicin </th><th> Imipenem </th><th> Isavuconazole </th><th> Isoniazid_.1mg-l </th><th> Isoniazid_.4mg-l </th><th> Itraconazole </th><th> Levofloxacin </th><th> Linezolid </th><th> MRSA </th><th> Meropenem </th><th> Meropenem-Vaborbactam </th><th> Metronidazole </th><th> Micafungin </th><th> Minocycline </th><th> Moxifloxacin </th><th> Mupirocin </th><th> Nitrofurantoin </th><th> Norfloxacin </th><th> Novobiocin </th><th> Ofloxacin </th><th> Oxacillin </th><th> Pefloxacin </th><th> Penicillin </th><th> Piperacillin </th><th> Piperacillin-Tazobactam </th><th> Polymyxin B </th><th> Posaconazole </th><th> Pristinamycin </th><th> Pyrazinamide </th><th> Quinolones </th><th> Quinupristin-Dalfopristin </th><th> Rifampicin </th><th> Sparfloxacin </th><th> Strepomycin_high_level </th><th> Streptomycin </th><th> Teicoplanin </th><th> Telithromycin </th><th> Tetracycline </th><th> Ticarcillin </th><th> Ticarcillin-Clavulan acid </th><th> Tigecycline </th><th> Tobramycin </th><th> Vancomycin </th><th> Voriconazole </th>\n",
       "                </tr>\n",
       "            </thead>\n",
       "            <tbody>\n",
       "                <tr>\n",
       "                    <td>Number resistant:</td>\n",
       "                    <td> 25 </td><td> 1068 </td><td> 20 </td><td> 136 </td><td> 24 </td><td> 0 </td><td> 8578 </td><td> 21966 </td><td> 156 </td><td> 191 </td><td> 14 </td><td> 628 </td><td> 4 </td><td> 37 </td><td> 51 </td><td> 4223 </td><td> 7383 </td><td> 6 </td><td> 1 </td><td> 5 </td><td> 2338 </td><td> 10 </td><td> 3470 </td><td> 16 </td><td> 38 </td><td> 36 </td><td> 8659 </td><td> 0 </td><td> 29 </td><td> 9338 </td><td> 310 </td><td> 4381 </td><td> 0 </td><td> 2874 </td><td> 196 </td><td> 145 </td><td> 56 </td><td> 0 </td><td> 427 </td><td> 5468 </td><td> 0 </td><td> 265 </td><td> 2303 </td><td> 1326 </td><td> 3620 </td><td> 142 </td><td> 7560 </td><td> 1 </td><td> 0 </td><td> 0 </td><td> 252 </td><td> 0 </td><td> 21 </td><td> 0 </td><td> 0 </td><td> 0 </td><td> 19 </td><td> 103 </td><td> 22 </td><td> 95 </td><td> 570 </td><td> 1271 </td><td> 1205 </td><td> 7 </td><td> 3 </td><td> 5537 </td><td> 0 </td><td> 51 </td><td> 33 </td><td> 7616 </td><td> 486 </td><td> 51 </td><td> 0 </td><td> 0 </td><td> 12 </td><td> 0 </td><td> 2 </td><td> 0 </td><td> 26 </td><td> 0 </td><td> 2 </td><td> 0 </td><td> 3534 </td><td> 161 </td><td> 109 </td><td> 52 </td><td> 1707 </td><td> 0 </td><td> 29 </td>\n",
       "                </tr>\n",
       "                <tr>\n",
       "                    <td>Number susceptible:</td>\n",
       "                    <td> 668 </td><td> 20941 </td><td> 102 </td><td> 493 </td><td> 53 </td><td> 629 </td><td> 4194 </td><td> 4905 </td><td> 145 </td><td> 484 </td><td> 136 </td><td> 456 </td><td> 0 </td><td> 662 </td><td> 1 </td><td> 5813 </td><td> 31567 </td><td> 68 </td><td> 34 </td><td> 47 </td><td> 4382 </td><td> 27 </td><td> 24566 </td><td> 56 </td><td> 24 </td><td> 73 </td><td> 28464 </td><td> 3 </td><td> 200 </td><td> 36822 </td><td> 1262 </td><td> 9841 </td><td> 0 </td><td> 15784 </td><td> 1553 </td><td> 12358 </td><td> 886 </td><td> 0 </td><td> 21740 </td><td> 9044 </td><td> 0 </td><td> 423 </td><td> 10184 </td><td> 4803 </td><td> 8498 </td><td> 759 </td><td> 31717 </td><td> 4 </td><td> 0 </td><td> 0 </td><td> 416 </td><td> 0 </td><td> 17048 </td><td> 0 </td><td> 70 </td><td> 6 </td><td> 365 </td><td> 577 </td><td> 54 </td><td> 413 </td><td> 4656 </td><td> 3603 </td><td> 7031 </td><td> 93 </td><td> 0 </td><td> 7740 </td><td> 0 </td><td> 241 </td><td> 219 </td><td> 31308 </td><td> 2305 </td><td> 361 </td><td> 0 </td><td> 0 </td><td> 199 </td><td> 0 </td><td> 8 </td><td> 0 </td><td> 60 </td><td> 0 </td><td> 10 </td><td> 27 </td><td> 10376 </td><td> 68 </td><td> 131 </td><td> 16253 </td><td> 16809 </td><td> 12 </td><td> 486 </td>\n",
       "                </tr>\n",
       "                <tr>\n",
       "                    <td>Number data points:</td>\n",
       "                    <td> 693 </td><td> 22009 </td><td> 122 </td><td> 629 </td><td> 77 </td><td> 629 </td><td> 12772 </td><td> 26871 </td><td> 301 </td><td> 675 </td><td> 150 </td><td> 1084 </td><td> 4 </td><td> 699 </td><td> 52 </td><td> 10036 </td><td> 38950 </td><td> 74 </td><td> 35 </td><td> 52 </td><td> 6720 </td><td> 37 </td><td> 28036 </td><td> 72 </td><td> 62 </td><td> 109 </td><td> 37123 </td><td> 3 </td><td> 229 </td><td> 46160 </td><td> 1572 </td><td> 14222 </td><td> 0 </td><td> 18658 </td><td> 1749 </td><td> 12503 </td><td> 942 </td><td> 0 </td><td> 22167 </td><td> 14512 </td><td> 0 </td><td> 688 </td><td> 12487 </td><td> 6129 </td><td> 12118 </td><td> 901 </td><td> 39277 </td><td> 5 </td><td> 0 </td><td> 0 </td><td> 668 </td><td> 0 </td><td> 17069 </td><td> 0 </td><td> 70 </td><td> 6 </td><td> 384 </td><td> 680 </td><td> 76 </td><td> 508 </td><td> 5226 </td><td> 4874 </td><td> 8236 </td><td> 100 </td><td> 3 </td><td> 13277 </td><td> 0 </td><td> 292 </td><td> 252 </td><td> 38924 </td><td> 2791 </td><td> 412 </td><td> 0 </td><td> 0 </td><td> 211 </td><td> 0 </td><td> 10 </td><td> 0 </td><td> 86 </td><td> 0 </td><td> 12 </td><td> 27 </td><td> 13910 </td><td> 229 </td><td> 240 </td><td> 16305 </td><td> 18516 </td><td> 12 </td><td> 515 </td>\n",
       "                </tr>\n",
       "            </tbody>\n",
       "        </table>\n",
       "                "
      ],
      "text/plain": [
       "<src.maldi2resistance.data.driams.Driams at 0x7f272cae9e50>"
      ]
     },
     "execution_count": null,
     "metadata": {},
     "output_type": "execute_result"
    }
   ],
   "source": [
    "from src.maldi2resistance.data.driams import Driams\n",
    "\n",
    "driams = Driams(\n",
    "    root_dir=\"/home/jan/Uni/master/data/Driams\",\n",
    "    replace_drug_names= replace_dict,\n",
    "    cutoff_value=None,\n",
    "    cutoff_value_negative=None,\n",
    "    cutoff_value_positive=None,\n",
    ")\n",
    "\n",
    "driams.loading_type = \"memory\"\n",
    "\n",
    "driams"
   ]
  },
  {
   "cell_type": "code",
   "execution_count": null,
   "id": "9c379bd7c8a80989",
   "metadata": {},
   "outputs": [
    {
     "data": {
      "text/html": [
       "<div>\n",
       "<style scoped>\n",
       "    .dataframe tbody tr th:only-of-type {\n",
       "        vertical-align: middle;\n",
       "    }\n",
       "\n",
       "    .dataframe tbody tr th {\n",
       "        vertical-align: top;\n",
       "    }\n",
       "\n",
       "    .dataframe thead th {\n",
       "        text-align: right;\n",
       "    }\n",
       "</style>\n",
       "<table border=\"1\" class=\"dataframe\">\n",
       "  <thead>\n",
       "    <tr style=\"text-align: right;\">\n",
       "      <th></th>\n",
       "      <th>5-Fluorocytosine</th>\n",
       "      <th>Amikacin</th>\n",
       "      <th>Aminoglycosides</th>\n",
       "      <th>Amoxicillin</th>\n",
       "      <th>Amoxicillin-Clavulanic acid</th>\n",
       "      <th>Amphotericin B</th>\n",
       "      <th>Ampicillin</th>\n",
       "      <th>Ampicillin-Amoxicillin</th>\n",
       "      <th>Ampicillin-Sulbactam</th>\n",
       "      <th>Anidulafungin</th>\n",
       "      <th>...</th>\n",
       "      <th>Streptomycin</th>\n",
       "      <th>Teicoplanin</th>\n",
       "      <th>Telithromycin</th>\n",
       "      <th>Tetracycline</th>\n",
       "      <th>Ticarcillin</th>\n",
       "      <th>Ticarcillin-Clavulan acid</th>\n",
       "      <th>Tigecycline</th>\n",
       "      <th>Tobramycin</th>\n",
       "      <th>Vancomycin</th>\n",
       "      <th>Voriconazole</th>\n",
       "    </tr>\n",
       "  </thead>\n",
       "  <tbody>\n",
       "    <tr>\n",
       "      <th>positive</th>\n",
       "      <td>25</td>\n",
       "      <td>1068</td>\n",
       "      <td>20</td>\n",
       "      <td>136</td>\n",
       "      <td>24</td>\n",
       "      <td>0</td>\n",
       "      <td>8578</td>\n",
       "      <td>21966</td>\n",
       "      <td>156</td>\n",
       "      <td>191</td>\n",
       "      <td>...</td>\n",
       "      <td>0</td>\n",
       "      <td>2</td>\n",
       "      <td>0</td>\n",
       "      <td>3534</td>\n",
       "      <td>161</td>\n",
       "      <td>109</td>\n",
       "      <td>52</td>\n",
       "      <td>1707</td>\n",
       "      <td>0</td>\n",
       "      <td>29</td>\n",
       "    </tr>\n",
       "    <tr>\n",
       "      <th>negative</th>\n",
       "      <td>668</td>\n",
       "      <td>20941</td>\n",
       "      <td>102</td>\n",
       "      <td>493</td>\n",
       "      <td>53</td>\n",
       "      <td>629</td>\n",
       "      <td>4194</td>\n",
       "      <td>4905</td>\n",
       "      <td>145</td>\n",
       "      <td>484</td>\n",
       "      <td>...</td>\n",
       "      <td>0</td>\n",
       "      <td>10</td>\n",
       "      <td>27</td>\n",
       "      <td>10376</td>\n",
       "      <td>68</td>\n",
       "      <td>131</td>\n",
       "      <td>16253</td>\n",
       "      <td>16809</td>\n",
       "      <td>12</td>\n",
       "      <td>486</td>\n",
       "    </tr>\n",
       "    <tr>\n",
       "      <th>n_sum</th>\n",
       "      <td>693</td>\n",
       "      <td>22009</td>\n",
       "      <td>122</td>\n",
       "      <td>629</td>\n",
       "      <td>77</td>\n",
       "      <td>629</td>\n",
       "      <td>12772</td>\n",
       "      <td>26871</td>\n",
       "      <td>301</td>\n",
       "      <td>675</td>\n",
       "      <td>...</td>\n",
       "      <td>0</td>\n",
       "      <td>12</td>\n",
       "      <td>27</td>\n",
       "      <td>13910</td>\n",
       "      <td>229</td>\n",
       "      <td>240</td>\n",
       "      <td>16305</td>\n",
       "      <td>18516</td>\n",
       "      <td>12</td>\n",
       "      <td>515</td>\n",
       "    </tr>\n",
       "  </tbody>\n",
       "</table>\n",
       "<p>3 rows × 89 columns</p>\n",
       "</div>"
      ],
      "text/plain": [
       "          5-Fluorocytosine  Amikacin  Aminoglycosides  Amoxicillin  \\\n",
       "positive                25      1068               20          136   \n",
       "negative               668     20941              102          493   \n",
       "n_sum                  693     22009              122          629   \n",
       "\n",
       "          Amoxicillin-Clavulanic acid  Amphotericin B  Ampicillin  \\\n",
       "positive                           24               0        8578   \n",
       "negative                           53             629        4194   \n",
       "n_sum                              77             629       12772   \n",
       "\n",
       "          Ampicillin-Amoxicillin  Ampicillin-Sulbactam  Anidulafungin  ...  \\\n",
       "positive                   21966                   156            191  ...   \n",
       "negative                    4905                   145            484  ...   \n",
       "n_sum                      26871                   301            675  ...   \n",
       "\n",
       "          Streptomycin  Teicoplanin  Telithromycin  Tetracycline  Ticarcillin  \\\n",
       "positive             0            2              0          3534          161   \n",
       "negative             0           10             27         10376           68   \n",
       "n_sum                0           12             27         13910          229   \n",
       "\n",
       "          Ticarcillin-Clavulan acid  Tigecycline  Tobramycin  Vancomycin  \\\n",
       "positive                        109           52        1707           0   \n",
       "negative                        131        16253       16809          12   \n",
       "n_sum                           240        16305       18516          12   \n",
       "\n",
       "          Voriconazole  \n",
       "positive            29  \n",
       "negative           486  \n",
       "n_sum              515  \n",
       "\n",
       "[3 rows x 89 columns]"
      ]
     },
     "execution_count": null,
     "metadata": {},
     "output_type": "execute_result"
    }
   ],
   "source": [
    "driams.label_stats"
   ]
  },
  {
   "cell_type": "code",
   "execution_count": null,
   "id": "39ce9c9a85268c7a",
   "metadata": {},
   "outputs": [],
   "source": [
    "import json\n",
    "\n",
    "df = json.load(open(\"/home/jan/Uni/master/data/Driams/driams_split.json\"))\n",
    "\n",
    "for key, value in df.items():\n",
    "    if value in [\"A_train\", \"B_train\", \"C_train\", \"D_train\"]:\n",
    "        df[key] = \"train\"\n",
    "    elif value in [\"A_test\", \"B_test\", \"C_test\", \"D_test\"]:\n",
    "        df[key] = \"test\""
   ]
  },
  {
   "cell_type": "code",
   "execution_count": null,
   "id": "5b0e5e4c580f9243",
   "metadata": {},
   "outputs": [],
   "source": [
    "indices_train = []\n",
    "indices_test = []\n",
    "\n",
    "for idx in range(len(driams)):\n",
    "    site, year, code = driams.get_site_year_key(idx)\n",
    "    if site != \"DRIAMS-A\":\n",
    "        continue\n",
    "    \n",
    "    key = f\"{site}/{year}/{code}.txt\"\n",
    "    \n",
    "    if df[key] == \"train\":\n",
    "        indices_train.append(idx)\n",
    "    elif df[key] == \"test\":\n",
    "        indices_test.append(idx)\n",
    "    else:\n",
    "        continue\n",
    "        "
   ]
  },
  {
   "cell_type": "code",
   "execution_count": null,
   "id": "f8e6bbe0b37e0f52",
   "metadata": {},
   "outputs": [
    {
     "data": {
      "text/plain": [
       "26879"
      ]
     },
     "execution_count": null,
     "metadata": {},
     "output_type": "execute_result"
    }
   ],
   "source": [
    "len(indices_train)"
   ]
  },
  {
   "cell_type": "code",
   "execution_count": null,
   "id": "175aa57d7d39049",
   "metadata": {},
   "outputs": [
    {
     "data": {
      "text/plain": [
       "4826"
      ]
     },
     "execution_count": null,
     "metadata": {},
     "output_type": "execute_result"
    }
   ],
   "source": [
    "len(indices_test)"
   ]
  },
  {
   "cell_type": "code",
   "execution_count": null,
   "id": "900a8224c476dbc",
   "metadata": {},
   "outputs": [],
   "source": [
    "from torch.utils.data import Subset\n",
    "\n",
    "test_set = Subset(driams, indices= indices_test)\n",
    "train_set = Subset(driams, indices=indices_train)"
   ]
  },
  {
   "cell_type": "code",
   "execution_count": null,
   "id": "fbbd28ab5fd2a857",
   "metadata": {},
   "outputs": [
    {
     "data": {
      "text/plain": [
       "89"
      ]
     },
     "execution_count": null,
     "metadata": {},
     "output_type": "execute_result"
    }
   ],
   "source": [
    "len(driams.label_stats.columns)"
   ]
  },
  {
   "cell_type": "code",
   "execution_count": null,
   "id": "b81bd526-6a9c-4520-b121-9c01b4eb804a",
   "metadata": {},
   "outputs": [
    {
     "data": {
      "text/plain": [
       "AeBasedMLP(\n",
       "  (encoder): Encoder(\n",
       "    (input): Linear(in_features=18000, out_features=4096, bias=True)\n",
       "    (layer_1): Linear(in_features=4096, out_features=4096, bias=True)\n",
       "    (layer_2): Linear(in_features=4096, out_features=2048, bias=True)\n",
       "    (LeakyReLU): LeakyReLU(negative_slope=0.2)\n",
       "  )\n",
       "  (decoder): Decoder(\n",
       "    (input): Linear(in_features=2048, out_features=4096, bias=True)\n",
       "    (layer_1): Linear(in_features=4096, out_features=4096, bias=True)\n",
       "    (layer_2): Linear(in_features=4096, out_features=89, bias=True)\n",
       "    (LeakyReLU): LeakyReLU(negative_slope=0.2)\n",
       "  )\n",
       ")"
      ]
     },
     "execution_count": null,
     "metadata": {},
     "output_type": "execute_result"
    }
   ],
   "source": [
    "from maldi2resistance.model.MLP import AeBasedMLP\n",
    "\n",
    "model = AeBasedMLP(input_dim=18000, output_dim=len(driams.selected_antibiotics), hidden_dim=4096, latent_dim=2048)\n",
    "model.to(DEVICE)"
   ]
  },
  {
   "cell_type": "code",
   "execution_count": null,
   "id": "e361914c-9fb8-4a94-bb2c-95a3b68cda0b",
   "metadata": {},
   "outputs": [],
   "source": [
    "from torch.utils.data import DataLoader"
   ]
  },
  {
   "cell_type": "code",
   "execution_count": null,
   "id": "46e04927-8b3b-4278-9203-1306b0588e20",
   "metadata": {},
   "outputs": [],
   "source": [
    "gen = torch.Generator()\n",
    "\n",
    "\n",
    "batch_size = 128\n",
    "\n",
    "train_loader = DataLoader(train_set, batch_size=batch_size, shuffle=True, drop_last=True, pin_memory= True)"
   ]
  },
  {
   "cell_type": "code",
   "execution_count": null,
   "id": "a96643a0-bd63-437b-a676-f3a4a1826910",
   "metadata": {},
   "outputs": [
    {
     "name": "stdout",
     "output_type": "stream",
     "text": [
      "Start training ...\n"
     ]
    },
    {
     "data": {
      "application/vnd.jupyter.widget-view+json": {
       "model_id": "222f5169028a447fbbd6df2a227638b7",
       "version_major": 2,
       "version_minor": 0
      },
      "text/plain": [
       "  0%|          | 0/30 [00:00<?, ?it/s]"
      ]
     },
     "metadata": {},
     "output_type": "display_data"
    },
    {
     "name": "stdout",
     "output_type": "stream",
     "text": [
      "\tAverage Loss: 0.000096 \tLearning rate: 0.001000\n",
      "\tAverage Loss: 0.000081 \tLearning rate: 0.001000\n",
      "\tAverage Loss: 0.000075 \tLearning rate: 0.001000\n",
      "\tAverage Loss: 0.000071 \tLearning rate: 0.001000\n",
      "\tAverage Loss: 0.000068 \tLearning rate: 0.001000\n",
      "\tAverage Loss: 0.000065 \tLearning rate: 0.001000\n",
      "\tAverage Loss: 0.000063 \tLearning rate: 0.001000\n",
      "\tAverage Loss: 0.000062 \tLearning rate: 0.001000\n",
      "\tAverage Loss: 0.000059 \tLearning rate: 0.001000\n",
      "\tAverage Loss: 0.000058 \tLearning rate: 0.000500\n",
      "\tAverage Loss: 0.000052 \tLearning rate: 0.000500\n",
      "\tAverage Loss: 0.000050 \tLearning rate: 0.000500\n",
      "\tAverage Loss: 0.000048 \tLearning rate: 0.000500\n",
      "\tAverage Loss: 0.000047 \tLearning rate: 0.000500\n",
      "\tAverage Loss: 0.000046 \tLearning rate: 0.000500\n",
      "\tAverage Loss: 0.000045 \tLearning rate: 0.000500\n",
      "\tAverage Loss: 0.000042 \tLearning rate: 0.000500\n",
      "\tAverage Loss: 0.000042 \tLearning rate: 0.000500\n",
      "\tAverage Loss: 0.000040 \tLearning rate: 0.000500\n",
      "\tAverage Loss: 0.000038 \tLearning rate: 0.000250\n",
      "\tAverage Loss: 0.000033 \tLearning rate: 0.000250\n",
      "\tAverage Loss: 0.000030 \tLearning rate: 0.000250\n",
      "\tAverage Loss: 0.000029 \tLearning rate: 0.000250\n",
      "\tAverage Loss: 0.000028 \tLearning rate: 0.000250\n",
      "\tAverage Loss: 0.000026 \tLearning rate: 0.000250\n",
      "\tAverage Loss: 0.000025 \tLearning rate: 0.000250\n",
      "\tAverage Loss: 0.000023 \tLearning rate: 0.000250\n",
      "\tAverage Loss: 0.000022 \tLearning rate: 0.000250\n",
      "\tAverage Loss: 0.000021 \tLearning rate: 0.000250\n",
      "\tAverage Loss: 0.000020 \tLearning rate: 0.000125\n",
      "Finish\n"
     ]
    }
   ],
   "source": [
    "from maldi2resistance.loss.maskedLoss import MaskedBCE\n",
    "from tqdm.auto import tqdm\n",
    "import torch.nn.functional as F\n",
    "\n",
    "from torch.optim import Adam\n",
    "from torch.optim.lr_scheduler import StepLR\n",
    "\n",
    "print(\"Start training ...\")\n",
    "model.train()\n",
    "\n",
    "optimizer = Adam(model.parameters(), lr=1e-3, amsgrad = True)\n",
    "scheduler = StepLR(optimizer, step_size=10, gamma=0.5)\n",
    "loss_per_batch = []\n",
    "\n",
    "\n",
    "class_weights_negative = torch.tensor((1 - (driams.label_stats.loc[\"negative\"] / driams.label_stats.loc[\"n_sum\"])).values, device=DEVICE)\n",
    "class_weights_positive = torch.tensor((1 - (driams.label_stats.loc[\"positive\"] / driams.label_stats.loc[\"n_sum\"])).values, device=DEVICE)\n",
    "\n",
    "criterion = MaskedBCE(class_weights_positive= class_weights_negative, class_weights_negative= class_weights_negative)\n",
    "\n",
    "for epoch in tqdm(range(30)):\n",
    "    overall_loss = 0\n",
    "    \n",
    "    for batch_idx, (x, y) in enumerate(train_loader):\n",
    "\n",
    "        x = x.to(DEVICE,non_blocking=True)\n",
    "        y = y.to(DEVICE,non_blocking=True)\n",
    "        \n",
    "        optimizer.zero_grad()\n",
    "        output = model(x)\n",
    "        \n",
    "        loss = criterion(output, y)\n",
    "\n",
    "        current_loss_value = loss.item()\n",
    "        loss_per_batch.append(current_loss_value)\n",
    "        \n",
    "        overall_loss += current_loss_value\n",
    "        \n",
    "        loss.backward()\n",
    "        optimizer.step()\n",
    "\n",
    "    scheduler.step()\n",
    "    with tqdm.external_write_mode():\n",
    "        print(f\"\\tAverage Loss: {overall_loss / (batch_idx*batch_size):.6f} \\tLearning rate: {scheduler.get_last_lr()[0]:.6f}\")\n",
    "\n",
    "\n",
    "print(\"Finish\")"
   ]
  },
  {
   "cell_type": "code",
   "execution_count": null,
   "id": "8b707a90ed07c120",
   "metadata": {},
   "outputs": [
    {
     "data": {
      "image/png": "[encoded data removed]",
      "text/plain": [
       "<Figure size 640x480 with 1 Axes>"
      ]
     },
     "metadata": {},
     "output_type": "display_data"
    }
   ],
   "source": [
    "import matplotlib.pyplot as plt \n",
    "\n",
    "plt.title(\"Loss per batch\") \n",
    "plt.xlabel(\"Batch idx\") \n",
    "plt.ylabel(\"Loss\") \n",
    "plt.plot(list(range(0,len(loss_per_batch))),loss_per_batch , color =\"red\") \n",
    "plt.show()"
   ]
  },
  {
   "cell_type": "code",
   "execution_count": null,
   "id": "01f78615-fd71-43f2-a7a1-c12f17be8950",
   "metadata": {},
   "outputs": [
    {
     "data": {
      "text/plain": [
       "AeBasedMLP(\n",
       "  (encoder): Encoder(\n",
       "    (input): Linear(in_features=18000, out_features=4096, bias=True)\n",
       "    (layer_1): Linear(in_features=4096, out_features=4096, bias=True)\n",
       "    (layer_2): Linear(in_features=4096, out_features=2048, bias=True)\n",
       "    (LeakyReLU): LeakyReLU(negative_slope=0.2)\n",
       "  )\n",
       "  (decoder): Decoder(\n",
       "    (input): Linear(in_features=2048, out_features=4096, bias=True)\n",
       "    (layer_1): Linear(in_features=4096, out_features=4096, bias=True)\n",
       "    (layer_2): Linear(in_features=4096, out_features=89, bias=True)\n",
       "    (LeakyReLU): LeakyReLU(negative_slope=0.2)\n",
       "  )\n",
       ")"
      ]
     },
     "execution_count": null,
     "metadata": {},
     "output_type": "execute_result"
    }
   ],
   "source": [
    "model.eval()"
   ]
  },
  {
   "cell_type": "code",
   "execution_count": null,
   "id": "645c4916b1549621",
   "metadata": {},
   "outputs": [],
   "source": [
    "torch.save({\n",
    "            'model_state_dict': model.state_dict(),\n",
    "            'selected_antibiotics': driams.selected_antibiotics\n",
    "            }, './model.pt')"
   ]
  },
  {
   "cell_type": "code",
   "execution_count": null,
   "id": "d1930e290fa5f0a2",
   "metadata": {},
   "outputs": [
    {
     "data": {
      "text/plain": [
       "3100"
      ]
     },
     "execution_count": null,
     "metadata": {},
     "output_type": "execute_result"
    }
   ],
   "source": [
    "import gc\n",
    "\n",
    "torch.cuda.empty_cache()\n",
    "gc.collect()"
   ]
  },
  {
   "cell_type": "code",
   "execution_count": null,
   "id": "f02951a796a68e1b",
   "metadata": {},
   "outputs": [],
   "source": [
    "test_loader = DataLoader(test_set, batch_size=len(test_set), shuffle=True)\n",
    "test_features, test_labels = next(iter(test_loader))"
   ]
  },
  {
   "cell_type": "code",
   "execution_count": null,
   "id": "e9c6058667930b41",
   "metadata": {},
   "outputs": [],
   "source": [
    "test_features = test_features.to(DEVICE)\n",
    "test_labels = test_labels.to(DEVICE)"
   ]
  },
  {
   "cell_type": "code",
   "execution_count": null,
   "id": "1e3e7bec2063d1bf",
   "metadata": {},
   "outputs": [],
   "source": [
    "output = model(test_features)"
   ]
  },
  {
   "cell_type": "code",
   "execution_count": null,
   "id": "b0fb0d32b53ed906",
   "metadata": {},
   "outputs": [
    {
     "name": "stderr",
     "output_type": "stream",
     "text": [
      "/home/jan/anaconda3/envs/master_backend/lib/python3.11/site-packages/torchmetrics/utilities/prints.py:43: UserWarning: No positive samples in targets, true positive value should be meaningless. Returning zero tensor in true positive score\n",
      "  warnings.warn(*args, **kwargs)  # noqa: B028\n",
      "/home/jan/anaconda3/envs/master_backend/lib/python3.11/site-packages/torchmetrics/utilities/prints.py:43: UserWarning: No negative samples in targets, false positive value should be meaningless. Returning zero tensor in false positive score\n",
      "  warnings.warn(*args, **kwargs)  # noqa: B028\n"
     ]
    },
    {
     "name": "stdout",
     "output_type": "stream",
     "text": [
      "(0.8783422112464905, 0.3915875708119253)\n"
     ]
    },
    {
     "data": {
      "image/png": "[encoded data removed]",
      "text/plain": [
       "<Figure size 640x480 with 1 Axes>"
      ]
     },
     "metadata": {},
     "output_type": "display_data"
    }
   ],
   "source": [
    "from maldi2resistance.metric.ROC import MultiLabelRocNan\n",
    "import matplotlib.pyplot as plt\n",
    "\n",
    "ml_roc = MultiLabelRocNan()\n",
    "print(ml_roc.compute(output,test_labels,driams.selected_antibiotics, create_csv=\"./ROC_results.csv\"))\n",
    "fig_, ax_ = ml_roc()\n",
    "\n",
    "plt.savefig(\"./ROC_results.png\", transparent=True, format= \"png\", bbox_inches = \"tight\")\n",
    "plt.show()"
   ]
  },
  {
   "cell_type": "code",
   "execution_count": null,
   "id": "889c1eeb3f4ee9eb",
   "metadata": {},
   "outputs": [
    {
     "name": "stdout",
     "output_type": "stream",
     "text": [
      "(0.7861087918281555, 0.2994282720139606)\n"
     ]
    },
    {
     "data": {
      "image/png": "[encoded data removed]",
      "text/plain": [
       "<Figure size 640x480 with 1 Axes>"
      ]
     },
     "metadata": {},
     "output_type": "display_data"
    }
   ],
   "source": [
    "from maldi2resistance.metric.PrecisionRecall import MultiLabelPRNan\n",
    "import matplotlib.pyplot as plt\n",
    "\n",
    "ml_pr = MultiLabelPRNan()\n",
    "print(ml_pr.compute(output,test_labels,driams.selected_antibiotics, create_csv=\"./PR_results.csv\"))\n",
    "\n",
    "fig_, ax_ = ml_pr()\n",
    "\n",
    "plt.savefig(\"./PR_results.png\", transparent=True, format= \"png\", bbox_inches = \"tight\")\n",
    "plt.show()"
   ]
  }
 ],
 "metadata": {
  "kernelspec": {
   "display_name": "Python 3 (ipykernel)",
   "language": "python",
   "name": "python3"
  },
  "language_info": {
   "codemirror_mode": {
    "name": "ipython",
    "version": 3
   },
   "file_extension": ".py",
   "mimetype": "text/x-python",
   "name": "python",
   "nbconvert_exporter": "python",
   "pygments_lexer": "ipython3"
  },
  "widgets": {
   "application/vnd.jupyter.widget-state+json": {
    "state": {},
    "version_major": 2,
    "version_minor": 0
   }
  }
 },
 "nbformat": 4,
 "nbformat_minor": 5
}
