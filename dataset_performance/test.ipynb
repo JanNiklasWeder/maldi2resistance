{
 "cells": [
  {
   "cell_type": "code",
   "outputs": [],
   "source": [
    "import os\n",
    "import pandas as pd\n",
    "import numpy as np\n",
    "from torch.utils.data import Dataset\n",
    "import torch\n",
    "\n",
    "from maldi_learn.vectorization import BinningVectorizer\n",
    "\n",
    "\n",
    "class DRIAMS(Dataset):\n",
    "    def __init__(self):\n",
    "        self.selected_antibiotics = ['Penicillin', 'Ceftriaxone', 'Vancomycin', 'Piperacillin-Tazobactam',\n",
    "       'Ciprofloxacin', 'Cefepime', 'Cotrimoxazole', 'Meropenem']\n",
    "\n",
    "        self.meta = pd.read_csv(\"../data/Driams/DRIAMS-A/id/2018/2018_clean.csv\")\n",
    "\n",
    "        self.meta[self.selected_antibiotics] = self.meta[self.selected_antibiotics][self.meta[self.selected_antibiotics].isin([\"S\",\"I\",\"R\",\"-\"])]\n",
    "        self.meta[self.selected_antibiotics] = self.meta[self.selected_antibiotics].replace({\"-\": np.nan, \"R\": 0,\"I\": 0, \"S\": 1})\n",
    "        self.meta.dropna(inplace=True,ignore_index=True)\n",
    "        \n",
    "        self.dir = \"../data/Driams/DRIAMS-A/preprocessed/2018/\"\n",
    "        self.transform = BinningVectorizer(18000, min_bin=2000, max_bin=20000)\n",
    "\n",
    "\n",
    "    def __len__(self):\n",
    "        return len(self.meta.index)\n",
    "\n",
    "    def __getitem__(self, idx):\n",
    "        id = self.meta.loc[idx, \"code\"]\n",
    "\n",
    "        path = os.path.join(f\"{self.dir}{id}.txt\")\n",
    "        spectrum = pd.read_csv(path, sep='\\s+', comment= \"#\")\n",
    "        \n",
    "        labels = self.meta.loc[idx, self.selected_antibiotics]\n",
    "        labels = labels.astype(\"float32\")\n",
    "\n",
    "        min_range = min(spectrum[\"mass.spectra.\"])\n",
    "        min_range = min(min_range, self.transform.min_bin)\n",
    "        max_range = max(spectrum[\"mass.spectra.\"])\n",
    "        max_range = max(max_range, self.transform.max_bin)\n",
    "        bin_edges_ = np.linspace(min_range, max_range, self.transform.n_bins + 1)\n",
    "\n",
    "        times = spectrum[\"mass.spectra.\"]\n",
    "        valid = (times > bin_edges_[0]) & (times <= bin_edges_[-1])\n",
    "        vec = np.histogram(spectrum[\"mass.spectra.\"], bins=bin_edges_, weights=spectrum[\"intensity.spectra.\"])[0]\n",
    "        tensor = torch.from_numpy(np.float32(vec))\n",
    "\n",
    "        return tensor, torch.from_numpy(labels.values)"
   ],
   "metadata": {
    "collapsed": false,
    "ExecuteTime": {
     "end_time": "2024-05-31T15:24:40.876695Z",
     "start_time": "2024-05-31T15:24:37.637689Z"
    }
   },
   "id": "b561bd98d9d9e074",
   "execution_count": 1
  },
  {
   "cell_type": "code",
   "outputs": [
    {
     "name": "stderr",
     "output_type": "stream",
     "text": [
      "/tmp/ipykernel_506210/3023434007.py:18: FutureWarning: Downcasting behavior in `replace` is deprecated and will be removed in a future version. To retain the old behavior, explicitly call `result.infer_objects(copy=False)`. To opt-in to the future behavior, set `pd.set_option('future.no_silent_downcasting', True)`\n",
      "  self.meta[self.selected_antibiotics] = self.meta[self.selected_antibiotics].replace({\"-\": np.nan, \"R\": 0,\"I\": 0, \"S\": 1})\n"
     ]
    }
   ],
   "source": [
    "from torch.utils.data import DataLoader\n",
    "\n",
    "driams = DRIAMS()\n",
    "loader = DataLoader(driams, batch_size=64, shuffle=True, drop_last= True)"
   ],
   "metadata": {
    "collapsed": false,
    "ExecuteTime": {
     "end_time": "2024-05-31T14:47:50.344821Z",
     "start_time": "2024-05-31T14:47:49.569685Z"
    }
   },
   "id": "6eb546654f770bc",
   "execution_count": 2
  },
  {
   "cell_type": "code",
   "outputs": [],
   "source": [
    "def loadalldata():\n",
    "    for _ in loader:\n",
    "        continue"
   ],
   "metadata": {
    "collapsed": false,
    "ExecuteTime": {
     "end_time": "2024-05-31T14:47:50.348948Z",
     "start_time": "2024-05-31T14:47:50.346175Z"
    }
   },
   "id": "54158d3e2d20ef2d",
   "execution_count": 3
  },
  {
   "cell_type": "code",
   "outputs": [
    {
     "data": {
      "text/plain": "[38.54298223501246,\n 34.05232154800615,\n 33.62475699199422,\n 33.622133554003085,\n 33.81009316499694,\n 33.41008228500141,\n 33.35115543300344,\n 33.31514028899255,\n 33.70088799200312,\n 34.985334288998274]"
     },
     "execution_count": 4,
     "metadata": {},
     "output_type": "execute_result"
    }
   ],
   "source": [
    "import timeit\n",
    "\n",
    "result_pandas = []\n",
    "\n",
    "for _ in range(10):\n",
    "    result_pandas.append(timeit.Timer(loadalldata).timeit(number=1))\n",
    "# calculate the average\n",
    "result_pandas"
   ],
   "metadata": {
    "collapsed": false,
    "ExecuteTime": {
     "end_time": "2024-05-31T14:53:32.778082Z",
     "start_time": "2024-05-31T14:47:50.350056Z"
    }
   },
   "id": "a34a146de63261fe",
   "execution_count": 4
  },
  {
   "cell_type": "code",
   "outputs": [],
   "source": [
    "result_pandas = [38.54298223501246,\n",
    " 34.05232154800615,\n",
    " 33.62475699199422,\n",
    " 33.622133554003085,\n",
    " 33.81009316499694,\n",
    " 33.41008228500141,\n",
    " 33.35115543300344,\n",
    " 33.31514028899255,\n",
    " 33.70088799200312,\n",
    " 34.985334288998274]"
   ],
   "metadata": {
    "collapsed": false
   },
   "id": "5b7a06ca3d6b84c9"
  },
  {
   "cell_type": "code",
   "outputs": [],
   "source": [
    "import polars\n",
    "\n",
    "class DRIAMS(Dataset):\n",
    "    def __init__(self):\n",
    "        self.selected_antibiotics = ['Penicillin', 'Ceftriaxone', 'Vancomycin', 'Piperacillin-Tazobactam',\n",
    "       'Ciprofloxacin', 'Cefepime', 'Cotrimoxazole', 'Meropenem']\n",
    "\n",
    "        self.meta = pd.read_csv(\"../data/Driams/DRIAMS-A/id/2018/2018_clean.csv\")\n",
    "\n",
    "        self.meta[self.selected_antibiotics] = self.meta[self.selected_antibiotics][self.meta[self.selected_antibiotics].isin([\"S\",\"I\",\"R\",\"-\"])]\n",
    "        self.meta[self.selected_antibiotics] = self.meta[self.selected_antibiotics].replace({\"-\": np.nan, \"R\": 0,\"I\": 0, \"S\": 1})\n",
    "        self.meta.dropna(inplace=True,ignore_index=True)\n",
    "        \n",
    "        self.dir = \"../data/Driams/DRIAMS-A/preprocessed/2018/\"\n",
    "        self.transform = BinningVectorizer(18000, min_bin=2000, max_bin=20000)\n",
    "\n",
    "\n",
    "    def __len__(self):\n",
    "        return len(self.meta.index)\n",
    "\n",
    "    def __getitem__(self, idx):\n",
    "        id = self.meta.loc[idx, \"code\"]\n",
    "\n",
    "        path = os.path.join(f\"{self.dir}{id}.txt\")\n",
    "        spectrum = polars.read_csv(path, separator=' ', comment_prefix = \"#\")\n",
    "        \n",
    "        labels = self.meta.loc[idx, self.selected_antibiotics]\n",
    "        labels = labels.astype(\"float32\")\n",
    "\n",
    "        min_range = min(spectrum[\"mass.spectra.\"])\n",
    "        min_range = min(min_range, self.transform.min_bin)\n",
    "        max_range = max(spectrum[\"mass.spectra.\"])\n",
    "        max_range = max(max_range, self.transform.max_bin)\n",
    "        bin_edges_ = np.linspace(min_range, max_range, self.transform.n_bins + 1)\n",
    "\n",
    "        times = spectrum[\"mass.spectra.\"]\n",
    "        valid = (times > bin_edges_[0]) & (times <= bin_edges_[-1])\n",
    "        vec = np.histogram(spectrum[\"mass.spectra.\"], bins=bin_edges_, weights=spectrum[\"intensity.spectra.\"])[0]\n",
    "        tensor = torch.from_numpy(np.float32(vec))\n",
    "\n",
    "        return tensor, torch.from_numpy(labels.values)"
   ],
   "metadata": {
    "collapsed": false,
    "ExecuteTime": {
     "end_time": "2024-05-31T14:53:32.904891Z",
     "start_time": "2024-05-31T14:53:32.780408Z"
    }
   },
   "id": "43d65b7f9307e9d0",
   "execution_count": 5
  },
  {
   "cell_type": "code",
   "outputs": [
    {
     "name": "stderr",
     "output_type": "stream",
     "text": [
      "/tmp/ipykernel_506210/4121952156.py:11: FutureWarning: Downcasting behavior in `replace` is deprecated and will be removed in a future version. To retain the old behavior, explicitly call `result.infer_objects(copy=False)`. To opt-in to the future behavior, set `pd.set_option('future.no_silent_downcasting', True)`\n",
      "  self.meta[self.selected_antibiotics] = self.meta[self.selected_antibiotics].replace({\"-\": np.nan, \"R\": 0,\"I\": 0, \"S\": 1})\n"
     ]
    }
   ],
   "source": [
    "from torch.utils.data import DataLoader\n",
    "\n",
    "driams = DRIAMS()\n",
    "loader = DataLoader(driams, batch_size=64, shuffle=True, drop_last= True)"
   ],
   "metadata": {
    "collapsed": false,
    "ExecuteTime": {
     "end_time": "2024-05-31T14:53:33.260897Z",
     "start_time": "2024-05-31T14:53:32.906494Z"
    }
   },
   "id": "f856978d7efe076c",
   "execution_count": 6
  },
  {
   "cell_type": "code",
   "outputs": [],
   "source": [
    "def loadalldata():\n",
    "    for _ in loader:\n",
    "        continue"
   ],
   "metadata": {
    "collapsed": false,
    "ExecuteTime": {
     "end_time": "2024-05-31T14:53:33.269713Z",
     "start_time": "2024-05-31T14:53:33.264943Z"
    }
   },
   "id": "2fd59906a2e32cd3",
   "execution_count": 7
  },
  {
   "cell_type": "code",
   "outputs": [
    {
     "data": {
      "text/plain": "[15.820284066998283,\n 15.291565140010789,\n 15.71043348700914,\n 15.782293251992087,\n 16.970831714992528,\n 16.107691868994152,\n 17.22435426499578,\n 18.340394825994736,\n 17.494993004002026,\n 17.49683939300303]"
     },
     "execution_count": 8,
     "metadata": {},
     "output_type": "execute_result"
    }
   ],
   "source": [
    "import timeit\n",
    "\n",
    "result_polars = []\n",
    "\n",
    "for _ in range(10):\n",
    "    result_polars.append(timeit.Timer(loadalldata).timeit(number=1))\n",
    "    \n",
    "result_polars"
   ],
   "metadata": {
    "collapsed": false,
    "ExecuteTime": {
     "end_time": "2024-05-31T14:56:19.537348Z",
     "start_time": "2024-05-31T14:53:33.271083Z"
    }
   },
   "id": "fe349c3f137c4865",
   "execution_count": 8
  },
  {
   "cell_type": "code",
   "outputs": [],
   "source": [
    "result_polars = [15.820284066998283,\n",
    " 15.291565140010789,\n",
    " 15.71043348700914,\n",
    " 15.782293251992087,\n",
    " 16.970831714992528,\n",
    " 16.107691868994152,\n",
    " 17.22435426499578,\n",
    " 18.340394825994736,\n",
    " 17.494993004002026,\n",
    " 17.49683939300303]"
   ],
   "metadata": {
    "collapsed": false
   },
   "id": "a5682d342e98f5b2"
  },
  {
   "cell_type": "code",
   "outputs": [],
   "source": [
    "class DRIAMS(Dataset):\n",
    "    def __init__(self):\n",
    "        self.selected_antibiotics = ['Penicillin', 'Ceftriaxone', 'Vancomycin', 'Piperacillin-Tazobactam',\n",
    "       'Ciprofloxacin', 'Cefepime', 'Cotrimoxazole', 'Meropenem']\n",
    "\n",
    "        self.meta = pd.read_csv(\"../data/Driams/DRIAMS-A/id/2018/2018_clean.csv\")\n",
    "\n",
    "        self.meta[self.selected_antibiotics] = self.meta[self.selected_antibiotics][self.meta[self.selected_antibiotics].isin([\"S\",\"I\",\"R\",\"-\"])]\n",
    "        self.meta[self.selected_antibiotics] = self.meta[self.selected_antibiotics].replace({\"-\": np.nan, \"R\": 0,\"I\": 0, \"S\": 1})\n",
    "        self.meta.dropna(inplace=True,ignore_index=True)\n",
    "        \n",
    "        self.dir = \"../data/Driams/DRIAMS-A/preprocessed/2018/\"\n",
    "        self.transform = BinningVectorizer(18000, min_bin=2000, max_bin=20000)\n",
    "\n",
    "\n",
    "    def __len__(self):\n",
    "        return len(self.meta.index)\n",
    "\n",
    "    def __getitem__(self, idx):\n",
    "        id = self.meta.loc[idx, \"code\"]\n",
    "\n",
    "        path = os.path.join(f\"{self.dir}{id}.txt\")\n",
    "        spectrum = pd.read_csv(path, sep=' ', engine= \"pyarrow\", skiprows = 2, header = 2)\n",
    "        \n",
    "        labels = self.meta.loc[idx, self.selected_antibiotics]\n",
    "        labels = labels.astype(\"float32\")\n",
    "\n",
    "        min_range = min(spectrum[\"mass.spectra.\"])\n",
    "        min_range = min(min_range, self.transform.min_bin)\n",
    "        max_range = max(spectrum[\"mass.spectra.\"])\n",
    "        max_range = max(max_range, self.transform.max_bin)\n",
    "        bin_edges_ = np.linspace(min_range, max_range, self.transform.n_bins + 1)\n",
    "\n",
    "        times = spectrum[\"mass.spectra.\"]\n",
    "        valid = (times > bin_edges_[0]) & (times <= bin_edges_[-1])\n",
    "        vec = np.histogram(spectrum[\"mass.spectra.\"], bins=bin_edges_, weights=spectrum[\"intensity.spectra.\"])[0]\n",
    "        tensor = torch.from_numpy(np.float32(vec))\n",
    "\n",
    "        return tensor, torch.from_numpy(labels.values)"
   ],
   "metadata": {
    "collapsed": false,
    "ExecuteTime": {
     "end_time": "2024-05-31T14:56:19.551910Z",
     "start_time": "2024-05-31T14:56:19.539123Z"
    }
   },
   "id": "21e3b38be954b98d",
   "execution_count": 9
  },
  {
   "cell_type": "code",
   "outputs": [
    {
     "name": "stderr",
     "output_type": "stream",
     "text": [
      "/tmp/ipykernel_506210/2914337821.py:9: FutureWarning: Downcasting behavior in `replace` is deprecated and will be removed in a future version. To retain the old behavior, explicitly call `result.infer_objects(copy=False)`. To opt-in to the future behavior, set `pd.set_option('future.no_silent_downcasting', True)`\n",
      "  self.meta[self.selected_antibiotics] = self.meta[self.selected_antibiotics].replace({\"-\": np.nan, \"R\": 0,\"I\": 0, \"S\": 1})\n"
     ]
    },
    {
     "data": {
      "text/plain": "[26.16419681799016,\n 27.45790529200167,\n 26.395152655008133,\n 27.5912802870007,\n 25.30875223201292,\n 25.00190786800522,\n 24.433556490999763,\n 24.81148859199311,\n 25.11939408699982,\n 24.20830324299459]"
     },
     "execution_count": 10,
     "metadata": {},
     "output_type": "execute_result"
    }
   ],
   "source": [
    "from torch.utils.data import DataLoader\n",
    "\n",
    "driams = DRIAMS()\n",
    "loader = DataLoader(driams, batch_size=64, shuffle=True, drop_last= True)\n",
    "\n",
    "def loadalldata():\n",
    "    for _ in loader:\n",
    "        continue\n",
    "        \n",
    "import timeit\n",
    "\n",
    "result_pyarrow = []\n",
    "\n",
    "for _ in range(10):\n",
    "    result_pyarrow.append(timeit.Timer(loadalldata).timeit(number=1))\n",
    "    \n",
    "result_pyarrow"
   ],
   "metadata": {
    "collapsed": false,
    "ExecuteTime": {
     "end_time": "2024-05-31T15:00:36.437706Z",
     "start_time": "2024-05-31T14:56:19.554149Z"
    }
   },
   "id": "1a2ca4052dce79ed",
   "execution_count": 10
  },
  {
   "cell_type": "code",
   "outputs": [],
   "source": [
    "result_pyarrow = [26.16419681799016,\n",
    " 27.45790529200167,\n",
    " 26.395152655008133,\n",
    " 27.5912802870007,\n",
    " 25.30875223201292,\n",
    " 25.00190786800522,\n",
    " 24.433556490999763,\n",
    " 24.81148859199311,\n",
    " 25.11939408699982,\n",
    " 24.20830324299459]"
   ],
   "metadata": {
    "collapsed": false
   },
   "id": "dcc3db8d15534685"
  },
  {
   "cell_type": "code",
   "outputs": [],
   "source": [
    "from torch.utils.data import Dataset\n",
    "import pandas as pd\n",
    "import numpy as np\n",
    "\n",
    "class DRIAMS(Dataset):\n",
    "    def __init__(self):\n",
    "        self.selected_antibiotics = ['Penicillin', 'Ceftriaxone', 'Vancomycin', 'Piperacillin-Tazobactam',\n",
    "       'Ciprofloxacin', 'Cefepime', 'Cotrimoxazole', 'Meropenem']\n",
    "\n",
    "        self.meta = pd.read_csv(\"../data/Driams/DRIAMS-A/id/2018/2018_clean.csv\")\n",
    "\n",
    "        self.meta[self.selected_antibiotics] = self.meta[self.selected_antibiotics][self.meta[self.selected_antibiotics].isin([\"S\",\"I\",\"R\",\"-\"])]\n",
    "        self.meta[self.selected_antibiotics] = self.meta[self.selected_antibiotics].replace({\"-\": np.nan, \"R\": 0,\"I\": 0, \"S\": 1})\n",
    "        self.meta.dropna(inplace=True,ignore_index=True)\n",
    "        \n",
    "        self.dir = \"../data/Driams/DRIAMS-A/preprocessed/2018/\"\n",
    "        self.transform = BinningVectorizer(18000, min_bin=2000, max_bin=20000)\n",
    "\n",
    "\n",
    "    def __len__(self):\n",
    "        return len(self.meta.index)\n",
    "\n",
    "    def __getitem__(self, idx):\n",
    "        id = self.meta.loc[idx, \"code\"]\n",
    "\n",
    "        path = os.path.join(f\"{self.dir}{id}.txt\")\n",
    "        spectrum = np.genfromtxt(path,skip_header = 3,names = [\"massspectra\", \"intensityspectra\"], dtype = np.float32)\n",
    "        \n",
    "        labels = self.meta.loc[idx, self.selected_antibiotics]\n",
    "        labels = labels.astype(\"float32\")\n",
    "\n",
    "        min_range = min(spectrum[\"massspectra\"])\n",
    "        min_range = min(min_range, self.transform.min_bin)\n",
    "        max_range = max(spectrum[\"massspectra\"])\n",
    "        max_range = max(max_range, self.transform.max_bin)\n",
    "        bin_edges_ = np.linspace(min_range, max_range, self.transform.n_bins + 1)\n",
    "\n",
    "        times = spectrum[\"massspectra\"]\n",
    "        valid = (times > bin_edges_[0]) & (times <= bin_edges_[-1])\n",
    "        vec = np.histogram(spectrum[\"massspectra\"], bins=bin_edges_, weights=spectrum[\"intensityspectra\"])[0]\n",
    "        tensor = torch.from_numpy(np.float32(vec))\n",
    "\n",
    "        return tensor, torch.from_numpy(labels.values)"
   ],
   "metadata": {
    "collapsed": false,
    "ExecuteTime": {
     "end_time": "2024-05-31T15:00:36.447816Z",
     "start_time": "2024-05-31T15:00:36.439148Z"
    }
   },
   "id": "9adeb4d3deb81d5f",
   "execution_count": 11
  },
  {
   "cell_type": "code",
   "outputs": [
    {
     "name": "stderr",
     "output_type": "stream",
     "text": [
      "/tmp/ipykernel_506210/4227088279.py:13: FutureWarning: Downcasting behavior in `replace` is deprecated and will be removed in a future version. To retain the old behavior, explicitly call `result.infer_objects(copy=False)`. To opt-in to the future behavior, set `pd.set_option('future.no_silent_downcasting', True)`\n",
      "  self.meta[self.selected_antibiotics] = self.meta[self.selected_antibiotics].replace({\"-\": np.nan, \"R\": 0,\"I\": 0, \"S\": 1})\n"
     ]
    },
    {
     "data": {
      "text/plain": "[99.67195300399908,\n 100.24804145999951,\n 105.51859697699547,\n 108.03765478699643,\n 114.84337878899532,\n 105.67098381801043,\n 106.0676439650124,\n 107.46306798100704,\n 103.34276368799328,\n 104.50932237898814]"
     },
     "execution_count": 12,
     "metadata": {},
     "output_type": "execute_result"
    }
   ],
   "source": [
    "from torch.utils.data import DataLoader\n",
    "\n",
    "driams = DRIAMS()\n",
    "loader = DataLoader(driams, batch_size=64, shuffle=True, drop_last= True)\n",
    "\n",
    "def loadalldata():\n",
    "    for _ in loader:\n",
    "        continue\n",
    "        \n",
    "import timeit\n",
    "\n",
    "result_numpy = []\n",
    "\n",
    "for _ in range(10):\n",
    "    result_numpy.append(timeit.Timer(loadalldata).timeit(number=1))\n",
    "    \n",
    "result_numpy"
   ],
   "metadata": {
    "collapsed": false,
    "ExecuteTime": {
     "end_time": "2024-05-31T15:18:12.183363Z",
     "start_time": "2024-05-31T15:00:36.448652Z"
    }
   },
   "id": "42d500c840e19c7",
   "execution_count": 12
  },
  {
   "cell_type": "code",
   "outputs": [],
   "source": [
    "result_numpy = [99.67195300399908,\n",
    " 100.24804145999951,\n",
    " 105.51859697699547,\n",
    " 108.03765478699643,\n",
    " 114.84337878899532,\n",
    " 105.67098381801043,\n",
    " 106.0676439650124,\n",
    " 107.46306798100704,\n",
    " 103.34276368799328,\n",
    " 104.50932237898814]"
   ],
   "metadata": {
    "collapsed": false
   },
   "id": "d4cbe5b237f63049"
  },
  {
   "cell_type": "code",
   "outputs": [
    {
     "name": "stderr",
     "output_type": "stream",
     "text": [
      "/home/jan/Uni/master/src/maldi2resistance/data/driams.py:69: FutureWarning: Downcasting behavior in `replace` is deprecated and will be removed in a future version. To retain the old behavior, explicitly call `result.infer_objects(copy=False)`. To opt-in to the future behavior, set `pd.set_option('future.no_silent_downcasting', True)`\n",
      "  selected_columns.replace(replace_dict, inplace = True)\n"
     ]
    }
   ],
   "source": [
    "from src.maldi2resistance.data.driams import Driams\n",
    "\n",
    "driams = Driams(\n",
    "    root_dir=\"../data/Driams\",\n",
    "    sites=[\"DRIAMS-A\"],\n",
    "    years=[2018],\n",
    "    antibiotics= ['Penicillin', 'Ceftriaxone', 'Vancomycin', 'Piperacillin-Tazobactam','Ciprofloxacin', 'Cefepime', 'Cotrimoxazole', 'Meropenem']\n",
    ")"
   ],
   "metadata": {
    "collapsed": false,
    "ExecuteTime": {
     "end_time": "2024-05-31T15:24:46.817322Z",
     "start_time": "2024-05-31T15:24:46.436749Z"
    }
   },
   "id": "8ed002c705a6accb",
   "execution_count": 2
  },
  {
   "cell_type": "code",
   "outputs": [],
   "source": [
    "from torch.utils.data import DataLoader\n",
    "\n",
    "loader = DataLoader(driams, batch_size=64, shuffle=True, drop_last= True)\n",
    "\n",
    "def loadalldata():\n",
    "    for _ in loader:\n",
    "        continue\n",
    "        \n",
    "import timeit\n",
    "\n",
    "result_implemented = []\n",
    "\n",
    "for _ in range(10):\n",
    "    result_implemented.append(timeit.Timer(loadalldata).timeit(number=1))\n",
    "    \n",
    "result_implemented"
   ],
   "metadata": {
    "collapsed": false,
    "is_executing": true,
    "ExecuteTime": {
     "start_time": "2024-05-31T15:24:48.608869Z"
    }
   },
   "id": "a7104248198ac48d",
   "execution_count": null
  },
  {
   "cell_type": "code",
   "outputs": [],
   "source": [
    "result_implemented"
   ],
   "metadata": {
    "collapsed": false,
    "ExecuteTime": {
     "end_time": "2024-05-31T15:18:13.167799Z",
     "start_time": "2024-05-31T15:18:13.167695Z"
    }
   },
   "id": "5105549cb637aa6"
  },
  {
   "cell_type": "code",
   "outputs": [],
   "source": [
    "%matplotlib inline\n",
    "\n",
    "import matplotlib.pyplot as plt\n",
    "import numpy as np\n",
    "  \n",
    "fig, ax = plt.subplots()\n",
    " \n",
    "# Creating plot\n",
    "\n",
    "ax.boxplot([result_pandas, result_pyarrow,result_polars, result_numpy])\n",
    "ax.set_xticklabels([\"Pandas\", \"Pyarrow\", \"Polars\", \"Numpy\"])\n",
    "ax.set_title(\"Test runtime of pytorch Dataset implementations\")\n",
    "ax.set_xlabel('Implementation')\n",
    "ax.set_ylabel('Run time in seconds')\n",
    " \n",
    "# show plot\n",
    "#plt.savefig(\"../data/created_figures/runtime_test.png\")\n",
    "plt.show()"
   ],
   "metadata": {
    "collapsed": false
   },
   "id": "62d84f595641cdb8",
   "execution_count": null
  },
  {
   "cell_type": "code",
   "outputs": [],
   "source": [
    "from maldi_nn.scripts.process_DRIAMS import DRIAMS_raw_spectra_to_h5torch\n",
    "\n",
    "#DRIAMS_raw_spectra_to_h5torch(\"/home/jan/Uni/master/data/Driams/\",\"/home/jan/Uni/master/data/Driams_complete\")"
   ],
   "metadata": {
    "collapsed": false
   },
   "id": "541540a0c8f2ea6f",
   "execution_count": null
  }
 ],
 "metadata": {
  "kernelspec": {
   "display_name": "Python 3",
   "language": "python",
   "name": "python3"
  },
  "language_info": {
   "codemirror_mode": {
    "name": "ipython",
    "version": 2
   },
   "file_extension": ".py",
   "mimetype": "text/x-python",
   "name": "python",
   "nbconvert_exporter": "python",
   "pygments_lexer": "ipython2",
   "version": "2.7.6"
  }
 },
 "nbformat": 4,
 "nbformat_minor": 5
}
