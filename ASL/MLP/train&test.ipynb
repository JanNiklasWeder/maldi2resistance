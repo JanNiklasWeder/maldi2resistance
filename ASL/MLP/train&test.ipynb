{
 "cells": [
  {
   "cell_type": "markdown",
   "id": "3d89aed94233e3ff",
   "metadata": {},
   "source": [
    "# Fully connected feedforward network implementing a loss mask"
   ]
  },
  {
   "cell_type": "code",
   "execution_count": null,
   "id": "1eaaf570-0600-4d60-9fde-fcebcff3ce4c",
   "metadata": {},
   "outputs": [],
   "source": [
    "import torchmetrics.classification\n",
    "from torch import cuda\n",
    "assert cuda.is_available()\n",
    "assert cuda.device_count() > 0"
   ]
  },
  {
   "cell_type": "code",
   "execution_count": null,
   "id": "c7e50fb9-601f-425a-bf79-6441170b27dd",
   "metadata": {},
   "outputs": [
    {
     "name": "stdout",
     "output_type": "stream",
     "text": [
      "NVIDIA GeForce RTX 3060 Ti\n"
     ]
    }
   ],
   "source": [
    "print(cuda.get_device_name(cuda.current_device()))\n"
   ]
  },
  {
   "cell_type": "code",
   "execution_count": null,
   "id": "6c4b645f-6b5e-428e-855c-64b7e33ff874",
   "metadata": {},
   "outputs": [],
   "source": [
    "import torch\n",
    "import torch.nn as nn"
   ]
  },
  {
   "cell_type": "code",
   "execution_count": null,
   "id": "5e8a6650-ef2b-44f1-9ea8-78912b15e9a9",
   "metadata": {},
   "outputs": [
    {
     "data": {
      "text/plain": [
       "<torch._C.Generator at 0x7fde5d9eafb0>"
      ]
     },
     "execution_count": null,
     "metadata": {},
     "output_type": "execute_result"
    }
   ],
   "source": [
    "DEVICE = torch.device(\"cuda\")\n",
    "SEED = 76436278\n",
    "\n",
    "torch.manual_seed(SEED)"
   ]
  },
  {
   "cell_type": "markdown",
   "id": "23b5a248-98cc-42cc-99b2-49bdd5ca1f35",
   "metadata": {},
   "source": [
    "### Load the Dataset"
   ]
  },
  {
   "cell_type": "code",
   "execution_count": null,
   "id": "7a00707ac6b2975",
   "metadata": {},
   "outputs": [
    {
     "name": "stderr",
     "output_type": "stream",
     "text": [
      "/home/jan/Uni/master/src/maldi2resistance/data/driams.py:86: UserWarning: Metafile for Site (DRIAMS-B) and Year (2015) combination not found!\n",
      "  warnings.warn(\n",
      "/home/jan/Uni/master/src/maldi2resistance/data/driams.py:86: UserWarning: Metafile for Site (DRIAMS-B) and Year (2016) combination not found!\n",
      "  warnings.warn(\n",
      "/home/jan/Uni/master/src/maldi2resistance/data/driams.py:86: UserWarning: Metafile for Site (DRIAMS-B) and Year (2017) combination not found!\n",
      "  warnings.warn(\n",
      "/home/jan/Uni/master/src/maldi2resistance/data/driams.py:86: UserWarning: Metafile for Site (DRIAMS-C) and Year (2015) combination not found!\n",
      "  warnings.warn(\n",
      "/home/jan/Uni/master/src/maldi2resistance/data/driams.py:86: UserWarning: Metafile for Site (DRIAMS-C) and Year (2016) combination not found!\n",
      "  warnings.warn(\n",
      "/home/jan/Uni/master/src/maldi2resistance/data/driams.py:86: UserWarning: Metafile for Site (DRIAMS-C) and Year (2017) combination not found!\n",
      "  warnings.warn(\n",
      "/home/jan/Uni/master/src/maldi2resistance/data/driams.py:86: UserWarning: Metafile for Site (DRIAMS-D) and Year (2015) combination not found!\n",
      "  warnings.warn(\n",
      "/home/jan/Uni/master/src/maldi2resistance/data/driams.py:86: UserWarning: Metafile for Site (DRIAMS-D) and Year (2016) combination not found!\n",
      "  warnings.warn(\n",
      "/home/jan/Uni/master/src/maldi2resistance/data/driams.py:86: UserWarning: Metafile for Site (DRIAMS-D) and Year (2017) combination not found!\n",
      "  warnings.warn(\n"
     ]
    },
    {
     "data": {
      "application/vnd.jupyter.widget-view+json": {
       "model_id": "05339a1e85cd4530beaf2aaf8eb8bbbb",
       "version_major": 2,
       "version_minor": 0
      },
      "text/plain": [
       "Loading Spectra into Memory:   0%|          | 0/55780 [00:00<?, ?it/s]"
      ]
     },
     "metadata": {},
     "output_type": "display_data"
    },
    {
     "data": {
      "text/html": [
       "\n",
       "        <table>\n",
       "            <thead>\n",
       "                <tr>\n",
       "                    <th>Antibiotic:</th>\n",
       "                    <th> Amikacin </th><th> Amoxicillin-Clavulanic acid </th><th> Ampicillin </th><th> Ampicillin-Amoxicillin </th><th> Aztreonam </th><th> Benzylpenicillin </th><th> Cefazolin </th><th> Cefepime </th><th> Cefpodoxime </th><th> Ceftazidime </th><th> Ceftriaxone </th><th> Cefuroxime </th><th> Ciprofloxacin </th><th> Clarithromycin </th><th> Clindamycin </th><th> Colistin </th><th> Cotrimoxazole </th><th> Ertapenem </th><th> Erythromycin </th><th> Fosfomycin </th><th> Fosfomycin-Trometamol </th><th> Fusidic acid </th><th> Gentamicin </th><th> Imipenem </th><th> Levofloxacin </th><th> Meropenem </th><th> Mupirocin </th><th> Nitrofurantoin </th><th> Norfloxacin </th><th> Oxacillin </th><th> Penicillin </th><th> Piperacillin-Tazobactam </th><th> Polymyxin B </th><th> Rifampicin </th><th> Teicoplanin </th><th> Tetracycline </th><th> Tobramycin </th><th> Vancomycin </th>\n",
       "                </tr>\n",
       "            </thead>\n",
       "            <tbody>\n",
       "                <tr>\n",
       "                    <td>Number resistant:</td>\n",
       "                    <td> 1068 </td><td> 13366 </td><td> 8578 </td><td> 21966 </td><td> 628 </td><td> 618 </td><td> 4223 </td><td> 7383 </td><td> 2338 </td><td> 3470 </td><td> 8659 </td><td> 5855 </td><td> 9338 </td><td> 310 </td><td> 4381 </td><td> 2874 </td><td> 7405 </td><td> 427 </td><td> 5468 </td><td> 2303 </td><td> 1326 </td><td> 3620 </td><td> 3481 </td><td> 7560 </td><td> 4217 </td><td> 5194 </td><td> 570 </td><td> 1271 </td><td> 1205 </td><td> 5537 </td><td> 12431 </td><td> 7616 </td><td> 486 </td><td> 580 </td><td> 244 </td><td> 3534 </td><td> 1707 </td><td> 227 </td>\n",
       "                </tr>\n",
       "                <tr>\n",
       "                    <td>Number susceptible:</td>\n",
       "                    <td> 20941 </td><td> 24992 </td><td> 4194 </td><td> 4905 </td><td> 456 </td><td> 457 </td><td> 5813 </td><td> 31567 </td><td> 4382 </td><td> 24566 </td><td> 28464 </td><td> 8368 </td><td> 36822 </td><td> 1262 </td><td> 9841 </td><td> 15784 </td><td> 24590 </td><td> 21740 </td><td> 9044 </td><td> 10184 </td><td> 4803 </td><td> 8498 </td><td> 22662 </td><td> 31717 </td><td> 17989 </td><td> 27228 </td><td> 4656 </td><td> 3603 </td><td> 7031 </td><td> 7740 </td><td> 4286 </td><td> 31308 </td><td> 2305 </td><td> 14964 </td><td> 8486 </td><td> 10376 </td><td> 16809 </td><td> 20540 </td>\n",
       "                </tr>\n",
       "                <tr>\n",
       "                    <td>Number data points:</td>\n",
       "                    <td> 22009 </td><td> 38358 </td><td> 12772 </td><td> 26871 </td><td> 1084 </td><td> 1075 </td><td> 10036 </td><td> 38950 </td><td> 6720 </td><td> 28036 </td><td> 37123 </td><td> 14223 </td><td> 46160 </td><td> 1572 </td><td> 14222 </td><td> 18658 </td><td> 31995 </td><td> 22167 </td><td> 14512 </td><td> 12487 </td><td> 6129 </td><td> 12118 </td><td> 26143 </td><td> 39277 </td><td> 22206 </td><td> 32422 </td><td> 5226 </td><td> 4874 </td><td> 8236 </td><td> 13277 </td><td> 16717 </td><td> 38924 </td><td> 2791 </td><td> 15544 </td><td> 8730 </td><td> 13910 </td><td> 18516 </td><td> 20767 </td>\n",
       "                </tr>\n",
       "            </tbody>\n",
       "        </table>\n",
       "                "
      ],
      "text/plain": [
       "<src.maldi2resistance.data.driams.Driams at 0x7fde2396a2d0>"
      ]
     },
     "execution_count": null,
     "metadata": {},
     "output_type": "execute_result"
    }
   ],
   "source": [
    "from src.maldi2resistance.data.driams import Driams\n",
    "\n",
    "driams = Driams(\n",
    "    root_dir=\"/home/jan/Uni/master/data/Driams\",\n",
    ")\n",
    "\n",
    "driams.loading_type = \"memory\"\n",
    "\n",
    "driams"
   ]
  },
  {
   "cell_type": "code",
   "execution_count": null,
   "id": "fbbd28ab5fd2a857",
   "metadata": {},
   "outputs": [
    {
     "data": {
      "text/plain": [
       "38"
      ]
     },
     "execution_count": null,
     "metadata": {},
     "output_type": "execute_result"
    }
   ],
   "source": [
    "len(driams.label_stats.columns)"
   ]
  },
  {
   "cell_type": "code",
   "execution_count": null,
   "id": "b81bd526-6a9c-4520-b121-9c01b4eb804a",
   "metadata": {},
   "outputs": [],
   "source": [
    "from maldi2resistance.model.MLP import AeBasedMLP\n",
    "import copy\n",
    "\n",
    "model = AeBasedMLP(input_dim=18000, output_dim=len(driams.selected_antibiotics), hidden_dim=4096, latent_dim=2048)\n",
    "model = model.to(DEVICE)\n",
    "\n",
    "model_state = copy.deepcopy(model.state_dict()) "
   ]
  },
  {
   "cell_type": "code",
   "execution_count": null,
   "id": "7d6f3eacba0f0d98",
   "metadata": {},
   "outputs": [
    {
     "name": "stdout",
     "output_type": "stream",
     "text": [
      "=================================================================\n",
      "Layer (type:depth-idx)                   Param #\n",
      "=================================================================\n",
      "AeBasedMLP                               --\n",
      "├─Encoder: 1-1                           --\n",
      "│    └─Linear: 2-1                       73,732,096\n",
      "│    └─Linear: 2-2                       16,781,312\n",
      "│    └─Linear: 2-3                       8,390,656\n",
      "│    └─LeakyReLU: 2-4                    --\n",
      "├─Decoder: 1-2                           --\n",
      "│    └─Linear: 2-5                       8,392,704\n",
      "│    └─Linear: 2-6                       16,781,312\n",
      "│    └─Linear: 2-7                       155,686\n",
      "│    └─LeakyReLU: 2-8                    --\n",
      "=================================================================\n",
      "Total params: 124,233,766\n",
      "Trainable params: 124,233,766\n",
      "Non-trainable params: 0\n",
      "=================================================================\n"
     ]
    }
   ],
   "source": [
    "from torchinfo import summary\n",
    "\n",
    "print(summary(model))"
   ]
  },
  {
   "cell_type": "code",
   "execution_count": null,
   "id": "e361914c-9fb8-4a94-bb2c-95a3b68cda0b",
   "metadata": {},
   "outputs": [],
   "source": [
    "from torch.utils.data import DataLoader"
   ]
  },
  {
   "cell_type": "code",
   "execution_count": null,
   "id": "a96643a0-bd63-437b-a676-f3a4a1826910",
   "metadata": {},
   "outputs": [
    {
     "name": "stdout",
     "output_type": "stream",
     "text": [
      "Start training ...\n"
     ]
    },
    {
     "data": {
      "application/vnd.jupyter.widget-view+json": {
       "model_id": "08fa02d2f25842b08337b4321548ecb1",
       "version_major": 2,
       "version_minor": 0
      },
      "text/plain": [
       "  0%|          | 0/30 [00:00<?, ?it/s]"
      ]
     },
     "metadata": {},
     "output_type": "display_data"
    },
    {
     "name": "stdout",
     "output_type": "stream",
     "text": [
      "\tAverage Loss: 0.953779 \tLearning rate: 0.001000\n",
      "\tAverage Loss: 0.814933 \tLearning rate: 0.001000\n",
      "\tAverage Loss: 0.766495 \tLearning rate: 0.001000\n",
      "\tAverage Loss: 0.733904 \tLearning rate: 0.001000\n",
      "\tAverage Loss: 0.700965 \tLearning rate: 0.001000\n",
      "\tAverage Loss: 0.686782 \tLearning rate: 0.001000\n",
      "\tAverage Loss: 0.656412 \tLearning rate: 0.001000\n",
      "\tAverage Loss: 0.643268 \tLearning rate: 0.001000\n",
      "\tAverage Loss: 0.621132 \tLearning rate: 0.001000\n",
      "\tAverage Loss: 0.601237 \tLearning rate: 0.000500\n",
      "\tAverage Loss: 0.539066 \tLearning rate: 0.000500\n",
      "\tAverage Loss: 0.518192 \tLearning rate: 0.000500\n",
      "\tAverage Loss: 0.496925 \tLearning rate: 0.000500\n",
      "\tAverage Loss: 0.490261 \tLearning rate: 0.000500\n",
      "\tAverage Loss: 0.472453 \tLearning rate: 0.000500\n",
      "\tAverage Loss: 0.449708 \tLearning rate: 0.000500\n",
      "\tAverage Loss: 0.440909 \tLearning rate: 0.000500\n",
      "\tAverage Loss: 0.415383 \tLearning rate: 0.000500\n",
      "\tAverage Loss: 0.406101 \tLearning rate: 0.000500\n",
      "\tAverage Loss: 0.393210 \tLearning rate: 0.000250\n",
      "\tAverage Loss: 0.325452 \tLearning rate: 0.000250\n",
      "\tAverage Loss: 0.301772 \tLearning rate: 0.000250\n",
      "\tAverage Loss: 0.285861 \tLearning rate: 0.000250\n",
      "\tAverage Loss: 0.269451 \tLearning rate: 0.000250\n",
      "\tAverage Loss: 0.251948 \tLearning rate: 0.000250\n",
      "\tAverage Loss: 0.239080 \tLearning rate: 0.000250\n",
      "\tAverage Loss: 0.221563 \tLearning rate: 0.000250\n",
      "\tAverage Loss: 0.212605 \tLearning rate: 0.000250\n",
      "\tAverage Loss: 0.202340 \tLearning rate: 0.000250\n",
      "\tAverage Loss: 0.187556 \tLearning rate: 0.000125\n",
      "Finished Fold 0\n"
     ]
    },
    {
     "data": {
      "application/vnd.jupyter.widget-view+json": {
       "model_id": "be200285989349e18c8befc7f36cff24",
       "version_major": 2,
       "version_minor": 0
      },
      "text/plain": [
       "  0%|          | 0/30 [00:00<?, ?it/s]"
      ]
     },
     "metadata": {},
     "output_type": "display_data"
    },
    {
     "name": "stdout",
     "output_type": "stream",
     "text": [
      "\tAverage Loss: 0.947678 \tLearning rate: 0.001000\n",
      "\tAverage Loss: 0.810949 \tLearning rate: 0.001000\n",
      "\tAverage Loss: 0.763670 \tLearning rate: 0.001000\n",
      "\tAverage Loss: 0.719293 \tLearning rate: 0.001000\n",
      "\tAverage Loss: 0.699873 \tLearning rate: 0.001000\n",
      "\tAverage Loss: 0.678231 \tLearning rate: 0.001000\n",
      "\tAverage Loss: 0.656942 \tLearning rate: 0.001000\n",
      "\tAverage Loss: 0.631371 \tLearning rate: 0.001000\n",
      "\tAverage Loss: 0.617470 \tLearning rate: 0.001000\n",
      "\tAverage Loss: 0.609772 \tLearning rate: 0.000500\n",
      "\tAverage Loss: 0.541890 \tLearning rate: 0.000500\n",
      "\tAverage Loss: 0.524694 \tLearning rate: 0.000500\n",
      "\tAverage Loss: 0.502937 \tLearning rate: 0.000500\n",
      "\tAverage Loss: 0.486336 \tLearning rate: 0.000500\n",
      "\tAverage Loss: 0.469775 \tLearning rate: 0.000500\n",
      "\tAverage Loss: 0.458391 \tLearning rate: 0.000500\n",
      "\tAverage Loss: 0.435914 \tLearning rate: 0.000500\n",
      "\tAverage Loss: 0.424075 \tLearning rate: 0.000500\n",
      "\tAverage Loss: 0.398682 \tLearning rate: 0.000500\n",
      "\tAverage Loss: 0.392577 \tLearning rate: 0.000250\n",
      "\tAverage Loss: 0.326991 \tLearning rate: 0.000250\n",
      "\tAverage Loss: 0.301408 \tLearning rate: 0.000250\n",
      "\tAverage Loss: 0.286958 \tLearning rate: 0.000250\n",
      "\tAverage Loss: 0.266959 \tLearning rate: 0.000250\n",
      "\tAverage Loss: 0.255388 \tLearning rate: 0.000250\n",
      "\tAverage Loss: 0.247302 \tLearning rate: 0.000250\n",
      "\tAverage Loss: 0.221657 \tLearning rate: 0.000250\n",
      "\tAverage Loss: 0.207732 \tLearning rate: 0.000250\n",
      "\tAverage Loss: 0.191790 \tLearning rate: 0.000250\n",
      "\tAverage Loss: 0.181509 \tLearning rate: 0.000125\n",
      "Finished Fold 1\n"
     ]
    },
    {
     "data": {
      "application/vnd.jupyter.widget-view+json": {
       "model_id": "d955d3bcd3a546f1b1e282d43c3e1b22",
       "version_major": 2,
       "version_minor": 0
      },
      "text/plain": [
       "  0%|          | 0/30 [00:00<?, ?it/s]"
      ]
     },
     "metadata": {},
     "output_type": "display_data"
    },
    {
     "name": "stdout",
     "output_type": "stream",
     "text": [
      "\tAverage Loss: 0.947124 \tLearning rate: 0.001000\n",
      "\tAverage Loss: 0.812953 \tLearning rate: 0.001000\n",
      "\tAverage Loss: 0.769211 \tLearning rate: 0.001000\n",
      "\tAverage Loss: 0.732486 \tLearning rate: 0.001000\n",
      "\tAverage Loss: 0.706379 \tLearning rate: 0.001000\n",
      "\tAverage Loss: 0.682778 \tLearning rate: 0.001000\n",
      "\tAverage Loss: 0.662349 \tLearning rate: 0.001000\n",
      "\tAverage Loss: 0.639401 \tLearning rate: 0.001000\n",
      "\tAverage Loss: 0.620141 \tLearning rate: 0.001000\n",
      "\tAverage Loss: 0.605238 \tLearning rate: 0.000500\n",
      "\tAverage Loss: 0.538841 \tLearning rate: 0.000500\n",
      "\tAverage Loss: 0.521176 \tLearning rate: 0.000500\n",
      "\tAverage Loss: 0.504375 \tLearning rate: 0.000500\n",
      "\tAverage Loss: 0.486979 \tLearning rate: 0.000500\n",
      "\tAverage Loss: 0.473004 \tLearning rate: 0.000500\n",
      "\tAverage Loss: 0.458764 \tLearning rate: 0.000500\n",
      "\tAverage Loss: 0.443586 \tLearning rate: 0.000500\n",
      "\tAverage Loss: 0.424785 \tLearning rate: 0.000500\n",
      "\tAverage Loss: 0.416305 \tLearning rate: 0.000500\n",
      "\tAverage Loss: 0.401919 \tLearning rate: 0.000250\n",
      "\tAverage Loss: 0.333201 \tLearning rate: 0.000250\n",
      "\tAverage Loss: 0.311219 \tLearning rate: 0.000250\n",
      "\tAverage Loss: 0.291268 \tLearning rate: 0.000250\n",
      "\tAverage Loss: 0.273853 \tLearning rate: 0.000250\n",
      "\tAverage Loss: 0.257195 \tLearning rate: 0.000250\n",
      "\tAverage Loss: 0.244597 \tLearning rate: 0.000250\n",
      "\tAverage Loss: 0.227803 \tLearning rate: 0.000250\n",
      "\tAverage Loss: 0.214593 \tLearning rate: 0.000250\n",
      "\tAverage Loss: 0.214187 \tLearning rate: 0.000250\n",
      "\tAverage Loss: 0.191967 \tLearning rate: 0.000125\n",
      "Finished Fold 2\n"
     ]
    },
    {
     "data": {
      "application/vnd.jupyter.widget-view+json": {
       "model_id": "b3d3169a19bd42ccb0d0cd2143686ef4",
       "version_major": 2,
       "version_minor": 0
      },
      "text/plain": [
       "  0%|          | 0/30 [00:00<?, ?it/s]"
      ]
     },
     "metadata": {},
     "output_type": "display_data"
    },
    {
     "name": "stdout",
     "output_type": "stream",
     "text": [
      "\tAverage Loss: 0.938971 \tLearning rate: 0.001000\n",
      "\tAverage Loss: 0.817253 \tLearning rate: 0.001000\n",
      "\tAverage Loss: 0.771441 \tLearning rate: 0.001000\n",
      "\tAverage Loss: 0.730599 \tLearning rate: 0.001000\n",
      "\tAverage Loss: 0.708160 \tLearning rate: 0.001000\n",
      "\tAverage Loss: 0.683862 \tLearning rate: 0.001000\n",
      "\tAverage Loss: 0.659497 \tLearning rate: 0.001000\n",
      "\tAverage Loss: 0.640780 \tLearning rate: 0.001000\n",
      "\tAverage Loss: 0.620271 \tLearning rate: 0.001000\n",
      "\tAverage Loss: 0.607355 \tLearning rate: 0.000500\n",
      "\tAverage Loss: 0.545694 \tLearning rate: 0.000500\n",
      "\tAverage Loss: 0.522304 \tLearning rate: 0.000500\n",
      "\tAverage Loss: 0.509019 \tLearning rate: 0.000500\n",
      "\tAverage Loss: 0.497623 \tLearning rate: 0.000500\n",
      "\tAverage Loss: 0.476326 \tLearning rate: 0.000500\n",
      "\tAverage Loss: 0.460789 \tLearning rate: 0.000500\n",
      "\tAverage Loss: 0.446439 \tLearning rate: 0.000500\n",
      "\tAverage Loss: 0.430214 \tLearning rate: 0.000500\n",
      "\tAverage Loss: 0.411332 \tLearning rate: 0.000500\n",
      "\tAverage Loss: 0.400351 \tLearning rate: 0.000250\n",
      "\tAverage Loss: 0.334807 \tLearning rate: 0.000250\n",
      "\tAverage Loss: 0.313924 \tLearning rate: 0.000250\n",
      "\tAverage Loss: 0.298856 \tLearning rate: 0.000250\n",
      "\tAverage Loss: 0.282811 \tLearning rate: 0.000250\n",
      "\tAverage Loss: 0.264088 \tLearning rate: 0.000250\n",
      "\tAverage Loss: 0.251634 \tLearning rate: 0.000250\n",
      "\tAverage Loss: 0.236204 \tLearning rate: 0.000250\n",
      "\tAverage Loss: 0.225493 \tLearning rate: 0.000250\n",
      "\tAverage Loss: 0.205083 \tLearning rate: 0.000250\n",
      "\tAverage Loss: 0.194602 \tLearning rate: 0.000125\n",
      "Finished Fold 3\n"
     ]
    },
    {
     "data": {
      "application/vnd.jupyter.widget-view+json": {
       "model_id": "591d0dc8c304448da71392256c052f4d",
       "version_major": 2,
       "version_minor": 0
      },
      "text/plain": [
       "  0%|          | 0/30 [00:00<?, ?it/s]"
      ]
     },
     "metadata": {},
     "output_type": "display_data"
    },
    {
     "name": "stdout",
     "output_type": "stream",
     "text": [
      "\tAverage Loss: 0.936848 \tLearning rate: 0.001000\n",
      "\tAverage Loss: 0.812015 \tLearning rate: 0.001000\n",
      "\tAverage Loss: 0.771022 \tLearning rate: 0.001000\n",
      "\tAverage Loss: 0.734882 \tLearning rate: 0.001000\n",
      "\tAverage Loss: 0.709874 \tLearning rate: 0.001000\n",
      "\tAverage Loss: 0.683270 \tLearning rate: 0.001000\n",
      "\tAverage Loss: 0.665590 \tLearning rate: 0.001000\n",
      "\tAverage Loss: 0.638524 \tLearning rate: 0.001000\n",
      "\tAverage Loss: 0.619011 \tLearning rate: 0.001000\n",
      "\tAverage Loss: 0.604071 \tLearning rate: 0.000500\n",
      "\tAverage Loss: 0.543324 \tLearning rate: 0.000500\n",
      "\tAverage Loss: 0.523247 \tLearning rate: 0.000500\n",
      "\tAverage Loss: 0.510604 \tLearning rate: 0.000500\n",
      "\tAverage Loss: 0.492698 \tLearning rate: 0.000500\n",
      "\tAverage Loss: 0.475976 \tLearning rate: 0.000500\n",
      "\tAverage Loss: 0.453908 \tLearning rate: 0.000500\n",
      "\tAverage Loss: 0.441506 \tLearning rate: 0.000500\n",
      "\tAverage Loss: 0.427852 \tLearning rate: 0.000500\n",
      "\tAverage Loss: 0.415252 \tLearning rate: 0.000500\n",
      "\tAverage Loss: 0.401485 \tLearning rate: 0.000250\n",
      "\tAverage Loss: 0.333483 \tLearning rate: 0.000250\n",
      "\tAverage Loss: 0.309138 \tLearning rate: 0.000250\n",
      "\tAverage Loss: 0.292207 \tLearning rate: 0.000250\n",
      "\tAverage Loss: 0.275033 \tLearning rate: 0.000250\n",
      "\tAverage Loss: 0.255621 \tLearning rate: 0.000250\n",
      "\tAverage Loss: 0.245597 \tLearning rate: 0.000250\n",
      "\tAverage Loss: 0.231537 \tLearning rate: 0.000250\n",
      "\tAverage Loss: 0.221639 \tLearning rate: 0.000250\n",
      "\tAverage Loss: 0.199821 \tLearning rate: 0.000250\n",
      "\tAverage Loss: 0.185064 \tLearning rate: 0.000125\n",
      "Finished Fold 4\n"
     ]
    }
   ],
   "source": [
    "from maldi2resistance.loss.asymmetricLoss import AsymmetricLoss\n",
    "from maldi2resistance.metric.PrecisionRecall import MultiLabelPRNan\n",
    "from pathlib import Path\n",
    "from maldi2resistance.metric.ROC import MultiLabelRocNan\n",
    "from maldi2resistance.loss.maskedLoss import MaskedBCE\n",
    "from tqdm.auto import tqdm\n",
    "import matplotlib.pyplot as plt\n",
    "\n",
    "from torch.optim import Adam\n",
    "from torch.optim.lr_scheduler import StepLR\n",
    "\n",
    "print(\"Start training ...\")\n",
    "model.train()\n",
    "\n",
    "batch_size = 128\n",
    "fig_path = Path(\"./kfold/figures\")\n",
    "fig_path.mkdir(parents=True, exist_ok=True)\n",
    "\n",
    "loss_per_batch = []\n",
    "\n",
    "criterion = AsymmetricLoss()\n",
    "\n",
    "gen = torch.Generator()\n",
    "\n",
    "for fold, (train_data, test_data) in enumerate(driams.getK_fold(n_splits=5, shuffle=True, random_state= SEED)):\n",
    "    \n",
    "    train_loader = DataLoader(train_data, batch_size=batch_size, shuffle=True, drop_last=True, generator= gen.manual_seed(SEED))\n",
    "    test_loader = DataLoader(test_data, batch_size=len(test_data), shuffle=True, drop_last=True, generator= gen.manual_seed(SEED))\n",
    "    \n",
    "    model.load_state_dict(model_state)\n",
    "    model.train()\n",
    "    \n",
    "    optimizer = Adam(model.parameters(), lr=1e-3, amsgrad = True)\n",
    "    scheduler = StepLR(optimizer, step_size=10, gamma=0.5)\n",
    "\n",
    "    for epoch in tqdm(range(30)):\n",
    "        overall_loss = 0\n",
    "        \n",
    "        for batch_idx, (x, y) in enumerate(train_loader):\n",
    "    \n",
    "            x = x.to(DEVICE)\n",
    "            y = y.to(DEVICE)\n",
    "            \n",
    "            optimizer.zero_grad()\n",
    "    \n",
    "            output = model(x)\n",
    "        \n",
    "            loss = criterion(output, y)\n",
    "            current_loss_value = loss.item()\n",
    "            loss_per_batch.append(current_loss_value)\n",
    "            \n",
    "            overall_loss += current_loss_value\n",
    "            \n",
    "            loss.backward()\n",
    "            optimizer.step()\n",
    "    \n",
    "        scheduler.step()\n",
    "        with tqdm.external_write_mode():\n",
    "            print(f\"\\tAverage Loss: {overall_loss / (batch_idx*batch_size):.6f} \\tLearning rate: {scheduler.get_last_lr()[0]:.6f}\")\n",
    "    \n",
    "    \n",
    "    print(f\"Finished Fold {fold}\")\n",
    "    \n",
    "    model.eval()\n",
    "    \n",
    "    DEVICE = torch.device(\"cpu\")\n",
    "    test_features, test_labels = next(iter(test_loader))\n",
    "    test_features = test_features.to(DEVICE)\n",
    "    test_labels = test_labels.to(DEVICE)\n",
    "    model = model.to(DEVICE)\n",
    "    \n",
    "    ml_roc = MultiLabelRocNan()\n",
    "    output = model(test_features)\n",
    "    \n",
    "    \n",
    "    ml_roc.compute(output,test_labels,driams.selected_antibiotics, create_csv=f\"./kfold/csv/fold-{fold}_ROC.csv\")\n",
    "    fig_, ax_ = ml_roc()\n",
    "    \n",
    "    plt.savefig(fig_path / f\"fold-{fold}_ROC.png\", transparent=True, format= \"png\", bbox_inches = \"tight\")\n",
    "    plt.close()\n",
    "    \n",
    "    ml_pr = MultiLabelPRNan()\n",
    "    ml_pr.compute(output,test_labels,driams.selected_antibiotics, create_csv=f\"./kfold/csv/fold-{fold}_PrecisionRecall.csv\")\n",
    "    \n",
    "    fig_, ax_ = ml_pr()\n",
    "    \n",
    "    plt.savefig(fig_path / f\"fold-{fold}_PrecisionRecall.png\", transparent=True, format= \"png\", bbox_inches = \"tight\")\n",
    "    plt.close()\n",
    "    \n",
    "    DEVICE = torch.device(\"cuda\")\n",
    "    model = model.to(DEVICE)"
   ]
  },
  {
   "cell_type": "code",
   "execution_count": null,
   "id": "f600e6963c560e2a",
   "metadata": {},
   "outputs": [],
   "source": [
    "import pandas\n",
    "micro = []\n",
    "macro = []\n",
    "\n",
    "for fold in range(0,5):\n",
    "    csv = pandas.read_csv(f\"./kfold/csv/fold-{fold}_ROC.csv\")\n",
    "    micro.append(csv[csv[\"class\"] == \"micro\"][\"ROCAUC\"])\n",
    "    macro.append(csv[csv[\"class\"] == \"macro\"][\"ROCAUC\"])"
   ]
  },
  {
   "cell_type": "code",
   "execution_count": null,
   "id": "ebb9df2adbe214c3",
   "metadata": {},
   "outputs": [
    {
     "name": "stdout",
     "output_type": "stream",
     "text": [
      "Mean\t: 0.9301816463470459\n",
      " SD \t: 0.0008667747575244399\n"
     ]
    }
   ],
   "source": [
    "import numpy as np\n",
    "\n",
    "print(f\"Mean\\t: {np.mean(micro)}\")\n",
    "print(f\" SD \\t: {np.std(micro) }\")"
   ]
  },
  {
   "cell_type": "code",
   "execution_count": null,
   "id": "bef0009f0d5188f2",
   "metadata": {},
   "outputs": [
    {
     "name": "stdout",
     "output_type": "stream",
     "text": [
      "Mean\t: 0.8994799805314917\n",
      " SD \t: 0.0023500148577302944\n"
     ]
    }
   ],
   "source": [
    "print(f\"Mean\\t: {np.mean(macro)}\")\n",
    "print(f\" SD \\t: {np.std(macro) }\")"
   ]
  },
  {
   "cell_type": "code",
   "execution_count": null,
   "id": "725ffecb8ed7b801",
   "metadata": {},
   "outputs": [],
   "source": [
    "import pandas\n",
    "micro = []\n",
    "macro = []\n",
    "\n",
    "for fold in range(0,5):\n",
    "    csv = pandas.read_csv(f\"./kfold/csv/fold-{fold}_PrecisionRecall.csv\")\n",
    "    micro.append(csv[csv[\"class\"] == \"micro\"][\"PrecisionRecallAUC\"])\n",
    "    macro.append(csv[csv[\"class\"] == \"macro\"][\"PrecisionRecallAUC\"])"
   ]
  },
  {
   "cell_type": "code",
   "execution_count": null,
   "id": "22ef9d9c2528e40e",
   "metadata": {},
   "outputs": [
    {
     "name": "stdout",
     "output_type": "stream",
     "text": [
      "Mean\t: 0.8684738755226136\n",
      " SD \t: 0.004694932920371596\n"
     ]
    }
   ],
   "source": [
    "import numpy as np\n",
    "\n",
    "print(f\"Mean\\t: {np.mean(micro)}\")\n",
    "print(f\" SD \\t: {np.std(micro) }\")"
   ]
  },
  {
   "cell_type": "code",
   "execution_count": null,
   "id": "beaf511fa04a85e6",
   "metadata": {},
   "outputs": [
    {
     "name": "stdout",
     "output_type": "stream",
     "text": [
      "Mean\t: 0.782263079913039\n",
      " SD \t: 0.005540890263325638\n"
     ]
    }
   ],
   "source": [
    "print(f\"Mean\\t: {np.mean(macro)}\")\n",
    "print(f\" SD \\t: {np.std(macro) }\")"
   ]
  }
 ],
 "metadata": {
  "kernelspec": {
   "display_name": "Python 3 (ipykernel)",
   "language": "python",
   "name": "python3"
  },
  "language_info": {
   "codemirror_mode": {
    "name": "ipython",
    "version": 3
   },
   "file_extension": ".py",
   "mimetype": "text/x-python",
   "name": "python",
   "nbconvert_exporter": "python",
   "pygments_lexer": "ipython3"
  },
  "widgets": {
   "application/vnd.jupyter.widget-state+json": {
    "state": {},
    "version_major": 2,
    "version_minor": 0
   }
  }
 },
 "nbformat": 4,
 "nbformat_minor": 5
}
