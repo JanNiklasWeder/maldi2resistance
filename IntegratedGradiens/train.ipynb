{
 "cells": [
  {
   "cell_type": "markdown",
   "id": "3d89aed94233e3ff",
   "metadata": {},
   "source": [
    "# Fully connected feedforward network implementing a loss mask"
   ]
  },
  {
   "cell_type": "code",
   "execution_count": null,
   "id": "1eaaf570-0600-4d60-9fde-fcebcff3ce4c",
   "metadata": {},
   "outputs": [],
   "source": [
    "import torchmetrics.classification\n",
    "from torch import cuda\n",
    "assert cuda.is_available()\n",
    "assert cuda.device_count() > 0"
   ]
  },
  {
   "cell_type": "code",
   "execution_count": null,
   "id": "c7e50fb9-601f-425a-bf79-6441170b27dd",
   "metadata": {},
   "outputs": [
    {
     "name": "stdout",
     "output_type": "stream",
     "text": [
      "NVIDIA GeForce RTX 3060 Ti\n"
     ]
    }
   ],
   "source": [
    "print(cuda.get_device_name(cuda.current_device()))\n"
   ]
  },
  {
   "cell_type": "code",
   "execution_count": null,
   "id": "6c4b645f-6b5e-428e-855c-64b7e33ff874",
   "metadata": {},
   "outputs": [],
   "source": [
    "import torch"
   ]
  },
  {
   "cell_type": "code",
   "execution_count": null,
   "id": "5e8a6650-ef2b-44f1-9ea8-78912b15e9a9",
   "metadata": {},
   "outputs": [
    {
     "data": {
      "text/plain": [
       "<torch._C.Generator at 0x7f0f03f765d0>"
      ]
     },
     "execution_count": null,
     "metadata": {},
     "output_type": "execute_result"
    }
   ],
   "source": [
    "DEVICE = torch.device(\"cuda\")\n",
    "SEED = 76436278\n",
    "\n",
    "torch.manual_seed(SEED)"
   ]
  },
  {
   "cell_type": "markdown",
   "id": "23b5a248-98cc-42cc-99b2-49bdd5ca1f35",
   "metadata": {},
   "source": [
    "### Load the Dataset"
   ]
  },
  {
   "cell_type": "code",
   "execution_count": null,
   "id": "7a00707ac6b2975",
   "metadata": {},
   "outputs": [
    {
     "name": "stderr",
     "output_type": "stream",
     "text": [
      "/home/jan/Uni/master/src/maldi2resistance/data/driams.py:52: DtypeWarning: Columns (71) have mixed types. Specify dtype option on import or set low_memory=False.\n",
      "  self.__meta[key] = pd.read_csv(root_dir / f\"{site}/id/{year}/{year}_clean.csv\")\n",
      "100%|██████████| 55780/55780 [00:11<00:00, 4749.47it/s]\n"
     ]
    },
    {
     "data": {
      "text/html": [
       "<div>\n",
       "<style scoped>\n",
       "    .dataframe tbody tr th:only-of-type {\n",
       "        vertical-align: middle;\n",
       "    }\n",
       "\n",
       "    .dataframe tbody tr th {\n",
       "        vertical-align: top;\n",
       "    }\n",
       "\n",
       "    .dataframe thead th {\n",
       "        text-align: right;\n",
       "    }\n",
       "</style>\n",
       "<table border=\"1\" class=\"dataframe\">\n",
       "  <thead>\n",
       "    <tr style=\"text-align: right;\">\n",
       "      <th></th>\n",
       "      <th>Amikacin</th>\n",
       "      <th>Amoxicillin-Clavulanic acid</th>\n",
       "      <th>Ampicillin</th>\n",
       "      <th>Ampicillin-Amoxicillin</th>\n",
       "      <th>Aztreonam</th>\n",
       "      <th>Benzylpenicillin</th>\n",
       "      <th>Cefazolin</th>\n",
       "      <th>Cefepime</th>\n",
       "      <th>Cefpodoxime</th>\n",
       "      <th>Ceftazidime</th>\n",
       "      <th>...</th>\n",
       "      <th>Norfloxacin</th>\n",
       "      <th>Oxacillin</th>\n",
       "      <th>Penicillin</th>\n",
       "      <th>Piperacillin-Tazobactam</th>\n",
       "      <th>Polymyxin B</th>\n",
       "      <th>Rifampicin</th>\n",
       "      <th>Teicoplanin</th>\n",
       "      <th>Tetracycline</th>\n",
       "      <th>Tobramycin</th>\n",
       "      <th>Vancomycin</th>\n",
       "    </tr>\n",
       "  </thead>\n",
       "  <tbody>\n",
       "    <tr>\n",
       "      <th>positive</th>\n",
       "      <td>1068</td>\n",
       "      <td>13366</td>\n",
       "      <td>8578</td>\n",
       "      <td>21966</td>\n",
       "      <td>628</td>\n",
       "      <td>618</td>\n",
       "      <td>4223</td>\n",
       "      <td>7383</td>\n",
       "      <td>2338</td>\n",
       "      <td>3470</td>\n",
       "      <td>...</td>\n",
       "      <td>1205</td>\n",
       "      <td>5537</td>\n",
       "      <td>12431</td>\n",
       "      <td>7616</td>\n",
       "      <td>486</td>\n",
       "      <td>580</td>\n",
       "      <td>244</td>\n",
       "      <td>3534</td>\n",
       "      <td>1707</td>\n",
       "      <td>227</td>\n",
       "    </tr>\n",
       "    <tr>\n",
       "      <th>negative</th>\n",
       "      <td>20941</td>\n",
       "      <td>24992</td>\n",
       "      <td>4194</td>\n",
       "      <td>4905</td>\n",
       "      <td>456</td>\n",
       "      <td>457</td>\n",
       "      <td>5813</td>\n",
       "      <td>31567</td>\n",
       "      <td>4382</td>\n",
       "      <td>24566</td>\n",
       "      <td>...</td>\n",
       "      <td>7031</td>\n",
       "      <td>7740</td>\n",
       "      <td>4286</td>\n",
       "      <td>31308</td>\n",
       "      <td>2305</td>\n",
       "      <td>14964</td>\n",
       "      <td>8486</td>\n",
       "      <td>10376</td>\n",
       "      <td>16809</td>\n",
       "      <td>20540</td>\n",
       "    </tr>\n",
       "    <tr>\n",
       "      <th>n_sum</th>\n",
       "      <td>22009</td>\n",
       "      <td>38358</td>\n",
       "      <td>12772</td>\n",
       "      <td>26871</td>\n",
       "      <td>1084</td>\n",
       "      <td>1075</td>\n",
       "      <td>10036</td>\n",
       "      <td>38950</td>\n",
       "      <td>6720</td>\n",
       "      <td>28036</td>\n",
       "      <td>...</td>\n",
       "      <td>8236</td>\n",
       "      <td>13277</td>\n",
       "      <td>16717</td>\n",
       "      <td>38924</td>\n",
       "      <td>2791</td>\n",
       "      <td>15544</td>\n",
       "      <td>8730</td>\n",
       "      <td>13910</td>\n",
       "      <td>18516</td>\n",
       "      <td>20767</td>\n",
       "    </tr>\n",
       "  </tbody>\n",
       "</table>\n",
       "<p>3 rows × 38 columns</p>\n",
       "</div>"
      ],
      "text/plain": [
       "          Amikacin  Amoxicillin-Clavulanic acid  Ampicillin  \\\n",
       "positive      1068                        13366        8578   \n",
       "negative     20941                        24992        4194   \n",
       "n_sum        22009                        38358       12772   \n",
       "\n",
       "          Ampicillin-Amoxicillin  Aztreonam  Benzylpenicillin  Cefazolin  \\\n",
       "positive                   21966        628               618       4223   \n",
       "negative                    4905        456               457       5813   \n",
       "n_sum                      26871       1084              1075      10036   \n",
       "\n",
       "          Cefepime  Cefpodoxime  Ceftazidime  ...  Norfloxacin  Oxacillin  \\\n",
       "positive      7383         2338         3470  ...         1205       5537   \n",
       "negative     31567         4382        24566  ...         7031       7740   \n",
       "n_sum        38950         6720        28036  ...         8236      13277   \n",
       "\n",
       "          Penicillin  Piperacillin-Tazobactam  Polymyxin B  Rifampicin  \\\n",
       "positive       12431                     7616          486         580   \n",
       "negative        4286                    31308         2305       14964   \n",
       "n_sum          16717                    38924         2791       15544   \n",
       "\n",
       "          Teicoplanin  Tetracycline  Tobramycin  Vancomycin  \n",
       "positive          244          3534        1707         227  \n",
       "negative         8486         10376       16809       20540  \n",
       "n_sum            8730         13910       18516       20767  \n",
       "\n",
       "[3 rows x 38 columns]"
      ]
     },
     "execution_count": null,
     "metadata": {},
     "output_type": "execute_result"
    }
   ],
   "source": [
    "from src.maldi2resistance.data.driams import Driams\n",
    "\n",
    "driams = Driams(\n",
    "    root_dir=\"/home/jan/Uni/master/data/Driams\",\n",
    ")\n",
    "\n",
    "driams.loading_type = \"memory\"\n",
    "\n",
    "driams.label_stats"
   ]
  },
  {
   "cell_type": "code",
   "execution_count": null,
   "id": "81593d9f467a690d",
   "metadata": {},
   "outputs": [
    {
     "data": {
      "text/plain": [
       "38"
      ]
     },
     "execution_count": null,
     "metadata": {},
     "output_type": "execute_result"
    }
   ],
   "source": [
    "len(driams.selected_antibiotics)"
   ]
  },
  {
   "cell_type": "code",
   "execution_count": null,
   "id": "b81bd526-6a9c-4520-b121-9c01b4eb804a",
   "metadata": {},
   "outputs": [],
   "source": [
    "from maldi2resistance.model.MLP import AeBasedMLP\n",
    "\n",
    "model = AeBasedMLP(input_dim=18000, output_dim = len(driams.selected_antibiotics))"
   ]
  },
  {
   "cell_type": "code",
   "execution_count": null,
   "id": "46e04927-8b3b-4278-9203-1306b0588e20",
   "metadata": {},
   "outputs": [],
   "source": [
    "from torch.utils.data import DataLoader\n",
    "\n",
    "batch_size = 128\n",
    "\n",
    "train_loader = DataLoader(driams, batch_size=batch_size, shuffle=True, drop_last=True, pin_memory= True)"
   ]
  },
  {
   "cell_type": "code",
   "execution_count": null,
   "id": "a96643a0-bd63-437b-a676-f3a4a1826910",
   "metadata": {},
   "outputs": [
    {
     "name": "stdout",
     "output_type": "stream",
     "text": [
      "Start training ...\n"
     ]
    },
    {
     "data": {
      "application/vnd.jupyter.widget-view+json": {
       "model_id": "c0a4cfc7b0704fb5a58a9b6f04c89221",
       "version_major": 2,
       "version_minor": 0
      },
      "text/plain": [
       "  0%|          | 0/30 [00:00<?, ?it/s]"
      ]
     },
     "metadata": {},
     "output_type": "display_data"
    },
    {
     "name": "stdout",
     "output_type": "stream",
     "text": [
      "\tAverage Loss: 0.000266 \tLearning rate: 0.001000\n",
      "\tAverage Loss: 0.000223 \tLearning rate: 0.001000\n",
      "\tAverage Loss: 0.000209 \tLearning rate: 0.001000\n",
      "\tAverage Loss: 0.000199 \tLearning rate: 0.001000\n",
      "\tAverage Loss: 0.000191 \tLearning rate: 0.001000\n",
      "\tAverage Loss: 0.000184 \tLearning rate: 0.001000\n",
      "\tAverage Loss: 0.000178 \tLearning rate: 0.001000\n",
      "\tAverage Loss: 0.000173 \tLearning rate: 0.001000\n",
      "\tAverage Loss: 0.000168 \tLearning rate: 0.001000\n",
      "\tAverage Loss: 0.000162 \tLearning rate: 0.000500\n",
      "\tAverage Loss: 0.000146 \tLearning rate: 0.000500\n",
      "\tAverage Loss: 0.000140 \tLearning rate: 0.000500\n",
      "\tAverage Loss: 0.000136 \tLearning rate: 0.000500\n",
      "\tAverage Loss: 0.000130 \tLearning rate: 0.000500\n",
      "\tAverage Loss: 0.000126 \tLearning rate: 0.000500\n",
      "\tAverage Loss: 0.000121 \tLearning rate: 0.000500\n",
      "\tAverage Loss: 0.000118 \tLearning rate: 0.000500\n",
      "\tAverage Loss: 0.000115 \tLearning rate: 0.000500\n",
      "\tAverage Loss: 0.000109 \tLearning rate: 0.000500\n",
      "\tAverage Loss: 0.000104 \tLearning rate: 0.000250\n",
      "\tAverage Loss: 0.000088 \tLearning rate: 0.000250\n",
      "\tAverage Loss: 0.000081 \tLearning rate: 0.000250\n",
      "\tAverage Loss: 0.000076 \tLearning rate: 0.000250\n",
      "\tAverage Loss: 0.000072 \tLearning rate: 0.000250\n",
      "\tAverage Loss: 0.000068 \tLearning rate: 0.000250\n",
      "\tAverage Loss: 0.000064 \tLearning rate: 0.000250\n",
      "\tAverage Loss: 0.000061 \tLearning rate: 0.000250\n",
      "\tAverage Loss: 0.000055 \tLearning rate: 0.000250\n",
      "\tAverage Loss: 0.000052 \tLearning rate: 0.000250\n",
      "\tAverage Loss: 0.000049 \tLearning rate: 0.000125\n",
      "Finish\n"
     ]
    }
   ],
   "source": [
    "from maldi2resistance.loss.maskedLoss import MaskedBCE\n",
    "from tqdm.auto import tqdm\n",
    "\n",
    "from torch.optim import Adam\n",
    "from torch.optim.lr_scheduler import StepLR\n",
    "\n",
    "print(\"Start training ...\")\n",
    "model.train()\n",
    "\n",
    "optimizer = Adam(model.parameters(), lr=1e-3, amsgrad = True)\n",
    "scheduler = StepLR(optimizer, step_size=10, gamma=0.5)\n",
    "loss_per_batch = []\n",
    "\n",
    "class_weights_negative = torch.tensor((1 - (driams.label_stats.loc[\"negative\"] / driams.label_stats.loc[\"n_sum\"])).values, device=DEVICE)\n",
    "class_weights_positive = torch.tensor((1 - (driams.label_stats.loc[\"positive\"] / driams.label_stats.loc[\"n_sum\"])).values, device=DEVICE)\n",
    "\n",
    "criterion = MaskedBCE(class_weights_positive= class_weights_negative, class_weights_negative= class_weights_negative)\n",
    "\n",
    "for epoch in tqdm(range(30)):\n",
    "    overall_loss = 0\n",
    "    \n",
    "    for batch_idx, (x, y) in enumerate(train_loader):\n",
    "        \n",
    "        x = x.to(DEVICE, non_blocking=True)\n",
    "        y = y.to(DEVICE, non_blocking=True)\n",
    "        \n",
    "        optimizer.zero_grad()\n",
    "\n",
    "        output = model(x)\n",
    "\n",
    "        loss = criterion(output, y)\n",
    "        current_loss_value = loss.item()\n",
    "        loss_per_batch.append(current_loss_value)\n",
    "        \n",
    "        overall_loss += current_loss_value\n",
    "        \n",
    "        loss.backward()\n",
    "        optimizer.step()\n",
    "\n",
    "    scheduler.step()\n",
    "    with tqdm.external_write_mode():\n",
    "        print(f\"\\tAverage Loss: {overall_loss / (batch_idx*batch_size):.6f} \\tLearning rate: {scheduler.get_last_lr()[0]:.6f}\")\n",
    "\n",
    "\n",
    "print(\"Finish\")"
   ]
  },
  {
   "cell_type": "code",
   "execution_count": null,
   "id": "8b707a90ed07c120",
   "metadata": {},
   "outputs": [
    {
     "data": {
      "image/png": "[encoded data removed]",
      "text/plain": [
       "<Figure size 640x480 with 1 Axes>"
      ]
     },
     "metadata": {},
     "output_type": "display_data"
    }
   ],
   "source": [
    "import matplotlib.pyplot as plt \n",
    "\n",
    "plt.title(\"Loss per batch\") \n",
    "plt.xlabel(\"Batch idx\") \n",
    "plt.ylabel(\"Loss\") \n",
    "plt.plot(list(range(0,len(loss_per_batch))),loss_per_batch , color =\"red\") \n",
    "plt.show()"
   ]
  },
  {
   "cell_type": "code",
   "execution_count": null,
   "id": "01f78615-fd71-43f2-a7a1-c12f17be8950",
   "metadata": {},
   "outputs": [
    {
     "data": {
      "text/plain": [
       "AeBasedMLP(\n",
       "  (encoder): Encoder(\n",
       "    (input): Linear(in_features=18000, out_features=4096, bias=True)\n",
       "    (layer_1): Linear(in_features=4096, out_features=4096, bias=True)\n",
       "    (layer_2): Linear(in_features=4096, out_features=2048, bias=True)\n",
       "    (LeakyReLU): LeakyReLU(negative_slope=0.2)\n",
       "  )\n",
       "  (decoder): Decoder(\n",
       "    (input): Linear(in_features=2048, out_features=4096, bias=True)\n",
       "    (layer_1): Linear(in_features=4096, out_features=4096, bias=True)\n",
       "    (layer_2): Linear(in_features=4096, out_features=38, bias=True)\n",
       "    (LeakyReLU): LeakyReLU(negative_slope=0.2)\n",
       "  )\n",
       ")"
      ]
     },
     "execution_count": null,
     "metadata": {},
     "output_type": "execute_result"
    }
   ],
   "source": [
    "model.eval()"
   ]
  },
  {
   "cell_type": "code",
   "execution_count": null,
   "id": "645c4916b1549621",
   "metadata": {},
   "outputs": [],
   "source": [
    "torch.save({\n",
    "            'model_state_dict': model.state_dict(),\n",
    "            'selected_antibiotics': driams.selected_antibiotics\n",
    "            }, './model.pt')"
   ]
  }
 ],
 "metadata": {
  "kernelspec": {
   "display_name": "Python 3 (ipykernel)",
   "language": "python",
   "name": "python3"
  },
  "language_info": {
   "codemirror_mode": {
    "name": "ipython",
    "version": 3
   },
   "file_extension": ".py",
   "mimetype": "text/x-python",
   "name": "python",
   "nbconvert_exporter": "python",
   "pygments_lexer": "ipython3"
  },
  "widgets": {
   "application/vnd.jupyter.widget-state+json": {
    "state": {},
    "version_major": 2,
    "version_minor": 0
   }
  }
 },
 "nbformat": 4,
 "nbformat_minor": 5
}
