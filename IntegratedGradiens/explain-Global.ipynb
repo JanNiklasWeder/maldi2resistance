{
 "cells": [
  {
   "cell_type": "code",
   "execution_count": null,
   "id": "initial_id",
   "metadata": {},
   "outputs": [
    {
     "name": "stderr",
     "output_type": "stream",
     "text": [
      "Using `tqdm.autonotebook.tqdm` in notebook mode. Use `tqdm.tqdm` instead to force console mode (e.g. in jupyter console)\n"
     ]
    }
   ],
   "source": [
    "import numpy as np\n",
    "import torch\n",
    "from torch import nn, optim\n",
    "from torch.nn import functional as F\n",
    "from torchvision import datasets, transforms\n",
    "from pathlib import Path\n",
    "import matplotlib.style\n",
    "import matplotlib as mpl\n",
    "import torch\n",
    "\n",
    "import shap\n",
    "\n",
    "DEVICE = torch.device(\"cuda\")\n",
    "SEED = 76436278\n",
    "\n",
    "torch.manual_seed(SEED)\n",
    "mpl.style.use(\"default\")\n",
    "\n",
    "checkpoint = torch.load('./model.pt')\n",
    "\n",
    "fig_path = Path(f\"./figures/\")\n",
    "fig_path.mkdir(parents=True, exist_ok=True)"
   ]
  },
  {
   "cell_type": "code",
   "execution_count": null,
   "id": "fe88cc27dd56cedf",
   "metadata": {},
   "outputs": [
    {
     "data": {
      "text/html": [
       "<div>\n",
       "<style scoped>\n",
       "    .dataframe tbody tr th:only-of-type {\n",
       "        vertical-align: middle;\n",
       "    }\n",
       "\n",
       "    .dataframe tbody tr th {\n",
       "        vertical-align: top;\n",
       "    }\n",
       "\n",
       "    .dataframe thead th {\n",
       "        text-align: right;\n",
       "    }\n",
       "</style>\n",
       "<table border=\"1\" class=\"dataframe\">\n",
       "  <thead>\n",
       "    <tr style=\"text-align: right;\">\n",
       "      <th></th>\n",
       "      <th>Amikacin</th>\n",
       "      <th>Amoxicillin-Clavulanic acid</th>\n",
       "      <th>Ampicillin</th>\n",
       "      <th>Ampicillin-Amoxicillin</th>\n",
       "      <th>Aztreonam</th>\n",
       "      <th>Benzylpenicillin</th>\n",
       "      <th>Cefazolin</th>\n",
       "      <th>Cefepime</th>\n",
       "      <th>Cefpodoxime</th>\n",
       "      <th>Ceftazidime</th>\n",
       "      <th>...</th>\n",
       "      <th>Norfloxacin</th>\n",
       "      <th>Oxacillin</th>\n",
       "      <th>Penicillin</th>\n",
       "      <th>Piperacillin-Tazobactam</th>\n",
       "      <th>Polymyxin B</th>\n",
       "      <th>Rifampicin</th>\n",
       "      <th>Teicoplanin</th>\n",
       "      <th>Tetracycline</th>\n",
       "      <th>Tobramycin</th>\n",
       "      <th>Vancomycin</th>\n",
       "    </tr>\n",
       "  </thead>\n",
       "  <tbody>\n",
       "    <tr>\n",
       "      <th>positive</th>\n",
       "      <td>1068</td>\n",
       "      <td>13366</td>\n",
       "      <td>8578</td>\n",
       "      <td>21966</td>\n",
       "      <td>628</td>\n",
       "      <td>618</td>\n",
       "      <td>4223</td>\n",
       "      <td>7383</td>\n",
       "      <td>2338</td>\n",
       "      <td>3470</td>\n",
       "      <td>...</td>\n",
       "      <td>1205</td>\n",
       "      <td>5537</td>\n",
       "      <td>12431</td>\n",
       "      <td>7616</td>\n",
       "      <td>486</td>\n",
       "      <td>580</td>\n",
       "      <td>244</td>\n",
       "      <td>3534</td>\n",
       "      <td>1707</td>\n",
       "      <td>227</td>\n",
       "    </tr>\n",
       "    <tr>\n",
       "      <th>negative</th>\n",
       "      <td>20941</td>\n",
       "      <td>24992</td>\n",
       "      <td>4194</td>\n",
       "      <td>4905</td>\n",
       "      <td>456</td>\n",
       "      <td>457</td>\n",
       "      <td>5813</td>\n",
       "      <td>31567</td>\n",
       "      <td>4382</td>\n",
       "      <td>24566</td>\n",
       "      <td>...</td>\n",
       "      <td>7031</td>\n",
       "      <td>7740</td>\n",
       "      <td>4286</td>\n",
       "      <td>31308</td>\n",
       "      <td>2305</td>\n",
       "      <td>14964</td>\n",
       "      <td>8486</td>\n",
       "      <td>10376</td>\n",
       "      <td>16809</td>\n",
       "      <td>20540</td>\n",
       "    </tr>\n",
       "    <tr>\n",
       "      <th>n_sum</th>\n",
       "      <td>22009</td>\n",
       "      <td>38358</td>\n",
       "      <td>12772</td>\n",
       "      <td>26871</td>\n",
       "      <td>1084</td>\n",
       "      <td>1075</td>\n",
       "      <td>10036</td>\n",
       "      <td>38950</td>\n",
       "      <td>6720</td>\n",
       "      <td>28036</td>\n",
       "      <td>...</td>\n",
       "      <td>8236</td>\n",
       "      <td>13277</td>\n",
       "      <td>16717</td>\n",
       "      <td>38924</td>\n",
       "      <td>2791</td>\n",
       "      <td>15544</td>\n",
       "      <td>8730</td>\n",
       "      <td>13910</td>\n",
       "      <td>18516</td>\n",
       "      <td>20767</td>\n",
       "    </tr>\n",
       "  </tbody>\n",
       "</table>\n",
       "<p>3 rows × 38 columns</p>\n",
       "</div>"
      ],
      "text/plain": [
       "          Amikacin  Amoxicillin-Clavulanic acid  Ampicillin  \\\n",
       "positive      1068                        13366        8578   \n",
       "negative     20941                        24992        4194   \n",
       "n_sum        22009                        38358       12772   \n",
       "\n",
       "          Ampicillin-Amoxicillin  Aztreonam  Benzylpenicillin  Cefazolin  \\\n",
       "positive                   21966        628               618       4223   \n",
       "negative                    4905        456               457       5813   \n",
       "n_sum                      26871       1084              1075      10036   \n",
       "\n",
       "          Cefepime  Cefpodoxime  Ceftazidime  ...  Norfloxacin  Oxacillin  \\\n",
       "positive      7383         2338         3470  ...         1205       5537   \n",
       "negative     31567         4382        24566  ...         7031       7740   \n",
       "n_sum        38950         6720        28036  ...         8236      13277   \n",
       "\n",
       "          Penicillin  Piperacillin-Tazobactam  Polymyxin B  Rifampicin  \\\n",
       "positive       12431                     7616          486         580   \n",
       "negative        4286                    31308         2305       14964   \n",
       "n_sum          16717                    38924         2791       15544   \n",
       "\n",
       "          Teicoplanin  Tetracycline  Tobramycin  Vancomycin  \n",
       "positive          244          3534        1707         227  \n",
       "negative         8486         10376       16809       20540  \n",
       "n_sum            8730         13910       18516       20767  \n",
       "\n",
       "[3 rows x 38 columns]"
      ]
     },
     "execution_count": null,
     "metadata": {},
     "output_type": "execute_result"
    }
   ],
   "source": [
    "from src.maldi2resistance.data.driams import Driams\n",
    "\n",
    "driams = Driams(\n",
    "    root_dir=\"/home/jan/Uni/master/data/Driams\",\n",
    "    antibiotics= checkpoint[\"selected_antibiotics\"],\n",
    ")\n",
    "\n",
    "#driams.loading_type = \"memory\"\n",
    "\n",
    "driams.label_stats"
   ]
  },
  {
   "cell_type": "code",
   "execution_count": null,
   "id": "fe5f8b0b42644343",
   "metadata": {},
   "outputs": [
    {
     "data": {
      "text/plain": [
       "AeBasedMLP(\n",
       "  (encoder): Encoder(\n",
       "    (input): Linear(in_features=18000, out_features=4096, bias=True)\n",
       "    (layer_1): Linear(in_features=4096, out_features=4096, bias=True)\n",
       "    (layer_2): Linear(in_features=4096, out_features=2048, bias=True)\n",
       "    (LeakyReLU): LeakyReLU(negative_slope=0.2)\n",
       "  )\n",
       "  (decoder): Decoder(\n",
       "    (input): Linear(in_features=2048, out_features=4096, bias=True)\n",
       "    (layer_1): Linear(in_features=4096, out_features=4096, bias=True)\n",
       "    (layer_2): Linear(in_features=4096, out_features=38, bias=True)\n",
       "    (LeakyReLU): LeakyReLU(negative_slope=0.2)\n",
       "  )\n",
       ")"
      ]
     },
     "execution_count": null,
     "metadata": {},
     "output_type": "execute_result"
    }
   ],
   "source": [
    "from maldi2resistance.model.MLP import AeBasedMLP\n",
    "\n",
    "model = AeBasedMLP(input_dim=18000, output_dim=len(driams.selected_antibiotics))\n",
    "model.load_state_dict(checkpoint['model_state_dict'])\n",
    "\n",
    "model.eval()"
   ]
  },
  {
   "cell_type": "code",
   "execution_count": null,
   "id": "310f607b5de88599",
   "metadata": {},
   "outputs": [],
   "source": [
    "from torch.utils.data import DataLoader\n",
    "\n"
   ]
  },
  {
   "cell_type": "code",
   "execution_count": null,
   "id": "596eda6a2a090570",
   "metadata": {},
   "outputs": [],
   "source": [
    "model = model.to(DEVICE)\n",
    "\n",
    "#test_features = test_features.to(DEVICE)\n",
    "#test_labels = test_labels.to(DEVICE)"
   ]
  },
  {
   "cell_type": "code",
   "execution_count": null,
   "id": "f5e0e8508976f05a",
   "metadata": {},
   "outputs": [],
   "source": [
    "from captum.attr import IntegratedGradients\n",
    "from captum.attr import LayerConductance\n",
    "from captum.attr import NeuronConductance"
   ]
  },
  {
   "cell_type": "code",
   "execution_count": null,
   "id": "b7dd8130e9b29c93",
   "metadata": {},
   "outputs": [
    {
     "data": {
      "application/vnd.jupyter.widget-view+json": {
       "model_id": "6e74f305ed3141f2a323666376172684",
       "version_major": 2,
       "version_minor": 0
      },
      "text/plain": [
       "  0%|          | 0/14 [00:00<?, ?it/s]"
      ]
     },
     "metadata": {},
     "output_type": "display_data"
    },
    {
     "data": {
      "application/vnd.jupyter.widget-view+json": {
       "model_id": "feb607b05c8c4e2fa07eff34d1712a49",
       "version_major": 2,
       "version_minor": 0
      },
      "text/plain": [
       "Loading Spectra into Memory:   0%|          | 0/22206 [00:00<?, ?it/s]"
      ]
     },
     "metadata": {},
     "output_type": "display_data"
    },
    {
     "data": {
      "application/vnd.jupyter.widget-view+json": {
       "model_id": "66381e13720c47e791f04487d2874ff7",
       "version_major": 2,
       "version_minor": 0
      },
      "text/plain": [
       "  0%|          | 0/222 [00:00<?, ?it/s]"
      ]
     },
     "metadata": {},
     "output_type": "display_data"
    },
    {
     "name": "stderr",
     "output_type": "stream",
     "text": [
      "Mean of empty slice.\n",
      "invalid value encountered in divide\n"
     ]
    },
    {
     "data": {
      "application/vnd.jupyter.widget-view+json": {
       "model_id": "3f698b473e7945e1abc3de1adcd59800",
       "version_major": 2,
       "version_minor": 0
      },
      "text/plain": [
       "Loading Spectra into Memory:   0%|          | 0/32422 [00:00<?, ?it/s]"
      ]
     },
     "metadata": {},
     "output_type": "display_data"
    },
    {
     "data": {
      "application/vnd.jupyter.widget-view+json": {
       "model_id": "6221df936a274327b2c8a6d5b57133b2",
       "version_major": 2,
       "version_minor": 0
      },
      "text/plain": [
       "  0%|          | 0/324 [00:00<?, ?it/s]"
      ]
     },
     "metadata": {},
     "output_type": "display_data"
    },
    {
     "name": "stderr",
     "output_type": "stream",
     "text": [
      "Mean of empty slice.\n",
      "invalid value encountered in divide\n"
     ]
    },
    {
     "data": {
      "application/vnd.jupyter.widget-view+json": {
       "model_id": "76bbebabd65248b79bd0f41f4b3fd389",
       "version_major": 2,
       "version_minor": 0
      },
      "text/plain": [
       "Loading Spectra into Memory:   0%|          | 0/5226 [00:00<?, ?it/s]"
      ]
     },
     "metadata": {},
     "output_type": "display_data"
    },
    {
     "data": {
      "application/vnd.jupyter.widget-view+json": {
       "model_id": "82aa1df743534eba906550dcfb21e588",
       "version_major": 2,
       "version_minor": 0
      },
      "text/plain": [
       "  0%|          | 0/52 [00:00<?, ?it/s]"
      ]
     },
     "metadata": {},
     "output_type": "display_data"
    },
    {
     "name": "stderr",
     "output_type": "stream",
     "text": [
      "Mean of empty slice.\n",
      "invalid value encountered in divide\n"
     ]
    },
    {
     "data": {
      "application/vnd.jupyter.widget-view+json": {
       "model_id": "07c9f4123eec41d0b50c92da634a8464",
       "version_major": 2,
       "version_minor": 0
      },
      "text/plain": [
       "Loading Spectra into Memory:   0%|          | 0/4874 [00:00<?, ?it/s]"
      ]
     },
     "metadata": {},
     "output_type": "display_data"
    },
    {
     "data": {
      "application/vnd.jupyter.widget-view+json": {
       "model_id": "82ffb7a541834709a4e5f54dacf32318",
       "version_major": 2,
       "version_minor": 0
      },
      "text/plain": [
       "  0%|          | 0/48 [00:00<?, ?it/s]"
      ]
     },
     "metadata": {},
     "output_type": "display_data"
    },
    {
     "name": "stderr",
     "output_type": "stream",
     "text": [
      "Mean of empty slice.\n",
      "invalid value encountered in divide\n"
     ]
    },
    {
     "data": {
      "application/vnd.jupyter.widget-view+json": {
       "model_id": "786a9b47e73f47e5b738cf77fbce0f2f",
       "version_major": 2,
       "version_minor": 0
      },
      "text/plain": [
       "Loading Spectra into Memory:   0%|          | 0/8236 [00:00<?, ?it/s]"
      ]
     },
     "metadata": {},
     "output_type": "display_data"
    },
    {
     "data": {
      "application/vnd.jupyter.widget-view+json": {
       "model_id": "0156fb201f414b24bd1cf8db1620428b",
       "version_major": 2,
       "version_minor": 0
      },
      "text/plain": [
       "  0%|          | 0/82 [00:00<?, ?it/s]"
      ]
     },
     "metadata": {},
     "output_type": "display_data"
    },
    {
     "name": "stderr",
     "output_type": "stream",
     "text": [
      "Mean of empty slice.\n",
      "invalid value encountered in divide\n"
     ]
    },
    {
     "data": {
      "application/vnd.jupyter.widget-view+json": {
       "model_id": "c3290de298c34cf4bca85ac583ccd486",
       "version_major": 2,
       "version_minor": 0
      },
      "text/plain": [
       "Loading Spectra into Memory:   0%|          | 0/13277 [00:00<?, ?it/s]"
      ]
     },
     "metadata": {},
     "output_type": "display_data"
    },
    {
     "data": {
      "application/vnd.jupyter.widget-view+json": {
       "model_id": "a76dac52d1644859b7ca1157328cddb7",
       "version_major": 2,
       "version_minor": 0
      },
      "text/plain": [
       "  0%|          | 0/132 [00:00<?, ?it/s]"
      ]
     },
     "metadata": {},
     "output_type": "display_data"
    },
    {
     "name": "stderr",
     "output_type": "stream",
     "text": [
      "Mean of empty slice.\n",
      "invalid value encountered in divide\n"
     ]
    },
    {
     "data": {
      "application/vnd.jupyter.widget-view+json": {
       "model_id": "07eda9b668224652a65085fd41819207",
       "version_major": 2,
       "version_minor": 0
      },
      "text/plain": [
       "Loading Spectra into Memory:   0%|          | 0/16717 [00:00<?, ?it/s]"
      ]
     },
     "metadata": {},
     "output_type": "display_data"
    },
    {
     "data": {
      "application/vnd.jupyter.widget-view+json": {
       "model_id": "2e6606b0900c49d1bb84df7aff952f83",
       "version_major": 2,
       "version_minor": 0
      },
      "text/plain": [
       "  0%|          | 0/167 [00:00<?, ?it/s]"
      ]
     },
     "metadata": {},
     "output_type": "display_data"
    },
    {
     "name": "stderr",
     "output_type": "stream",
     "text": [
      "Mean of empty slice.\n",
      "invalid value encountered in divide\n"
     ]
    },
    {
     "data": {
      "application/vnd.jupyter.widget-view+json": {
       "model_id": "823f45ef78a74494bec38d7aca3a675b",
       "version_major": 2,
       "version_minor": 0
      },
      "text/plain": [
       "Loading Spectra into Memory:   0%|          | 0/38924 [00:00<?, ?it/s]"
      ]
     },
     "metadata": {},
     "output_type": "display_data"
    },
    {
     "data": {
      "application/vnd.jupyter.widget-view+json": {
       "model_id": "8af4ebb8d1c142d694549ff48e073d97",
       "version_major": 2,
       "version_minor": 0
      },
      "text/plain": [
       "  0%|          | 0/389 [00:00<?, ?it/s]"
      ]
     },
     "metadata": {},
     "output_type": "display_data"
    },
    {
     "name": "stderr",
     "output_type": "stream",
     "text": [
      "Mean of empty slice.\n",
      "invalid value encountered in divide\n"
     ]
    },
    {
     "data": {
      "application/vnd.jupyter.widget-view+json": {
       "model_id": "4ff22449faf5403cb33e715219feb6c5",
       "version_major": 2,
       "version_minor": 0
      },
      "text/plain": [
       "Loading Spectra into Memory:   0%|          | 0/2791 [00:00<?, ?it/s]"
      ]
     },
     "metadata": {},
     "output_type": "display_data"
    },
    {
     "data": {
      "application/vnd.jupyter.widget-view+json": {
       "model_id": "ae23cee4c03a48849c8359ef8eb9a3de",
       "version_major": 2,
       "version_minor": 0
      },
      "text/plain": [
       "  0%|          | 0/27 [00:00<?, ?it/s]"
      ]
     },
     "metadata": {},
     "output_type": "display_data"
    },
    {
     "name": "stderr",
     "output_type": "stream",
     "text": [
      "Mean of empty slice.\n",
      "invalid value encountered in divide\n"
     ]
    },
    {
     "data": {
      "application/vnd.jupyter.widget-view+json": {
       "model_id": "1355a9e783774e3c854fb35eb7e81ec2",
       "version_major": 2,
       "version_minor": 0
      },
      "text/plain": [
       "Loading Spectra into Memory:   0%|          | 0/15544 [00:00<?, ?it/s]"
      ]
     },
     "metadata": {},
     "output_type": "display_data"
    },
    {
     "data": {
      "application/vnd.jupyter.widget-view+json": {
       "model_id": "f7e1a821f41c49c3bfae7c17abe40fde",
       "version_major": 2,
       "version_minor": 0
      },
      "text/plain": [
       "  0%|          | 0/155 [00:00<?, ?it/s]"
      ]
     },
     "metadata": {},
     "output_type": "display_data"
    },
    {
     "name": "stderr",
     "output_type": "stream",
     "text": [
      "Mean of empty slice.\n",
      "invalid value encountered in divide\n"
     ]
    },
    {
     "data": {
      "application/vnd.jupyter.widget-view+json": {
       "model_id": "b67e47e04ffd4e84aa55e4130cd9b722",
       "version_major": 2,
       "version_minor": 0
      },
      "text/plain": [
       "Loading Spectra into Memory:   0%|          | 0/8730 [00:00<?, ?it/s]"
      ]
     },
     "metadata": {},
     "output_type": "display_data"
    },
    {
     "data": {
      "application/vnd.jupyter.widget-view+json": {
       "model_id": "2d1d5011f6f14b64a8aecfde24455124",
       "version_major": 2,
       "version_minor": 0
      },
      "text/plain": [
       "  0%|          | 0/87 [00:00<?, ?it/s]"
      ]
     },
     "metadata": {},
     "output_type": "display_data"
    },
    {
     "name": "stderr",
     "output_type": "stream",
     "text": [
      "Mean of empty slice.\n",
      "invalid value encountered in divide\n"
     ]
    },
    {
     "data": {
      "application/vnd.jupyter.widget-view+json": {
       "model_id": "4fc8f47312e54447ba7dcc1366ae9e05",
       "version_major": 2,
       "version_minor": 0
      },
      "text/plain": [
       "Loading Spectra into Memory:   0%|          | 0/13910 [00:00<?, ?it/s]"
      ]
     },
     "metadata": {},
     "output_type": "display_data"
    },
    {
     "data": {
      "application/vnd.jupyter.widget-view+json": {
       "model_id": "5a5be425da7c4bf7a5d7ab7e10909ecc",
       "version_major": 2,
       "version_minor": 0
      },
      "text/plain": [
       "  0%|          | 0/139 [00:00<?, ?it/s]"
      ]
     },
     "metadata": {},
     "output_type": "display_data"
    },
    {
     "name": "stderr",
     "output_type": "stream",
     "text": [
      "Mean of empty slice.\n",
      "invalid value encountered in divide\n"
     ]
    },
    {
     "data": {
      "application/vnd.jupyter.widget-view+json": {
       "model_id": "0bf117c7087241878ba03def7a810c43",
       "version_major": 2,
       "version_minor": 0
      },
      "text/plain": [
       "Loading Spectra into Memory:   0%|          | 0/18516 [00:00<?, ?it/s]"
      ]
     },
     "metadata": {},
     "output_type": "display_data"
    },
    {
     "data": {
      "application/vnd.jupyter.widget-view+json": {
       "model_id": "cce25eff34514e0383c2916e4b90c48b",
       "version_major": 2,
       "version_minor": 0
      },
      "text/plain": [
       "  0%|          | 0/185 [00:00<?, ?it/s]"
      ]
     },
     "metadata": {},
     "output_type": "display_data"
    },
    {
     "name": "stderr",
     "output_type": "stream",
     "text": [
      "Mean of empty slice.\n",
      "invalid value encountered in divide\n"
     ]
    },
    {
     "data": {
      "application/vnd.jupyter.widget-view+json": {
       "model_id": "49948c596dcc491ea86a84f31b36b7a9",
       "version_major": 2,
       "version_minor": 0
      },
      "text/plain": [
       "Loading Spectra into Memory:   0%|          | 0/20767 [00:00<?, ?it/s]"
      ]
     },
     "metadata": {},
     "output_type": "display_data"
    },
    {
     "data": {
      "application/vnd.jupyter.widget-view+json": {
       "model_id": "f2e1d6ac49254bbd9939227704b49cc6",
       "version_major": 2,
       "version_minor": 0
      },
      "text/plain": [
       "  0%|          | 0/207 [00:00<?, ?it/s]"
      ]
     },
     "metadata": {},
     "output_type": "display_data"
    },
    {
     "name": "stderr",
     "output_type": "stream",
     "text": [
      "Mean of empty slice.\n",
      "invalid value encountered in divide\n"
     ]
    }
   ],
   "source": [
    "import matplotlib.pyplot as plt\n",
    "from tqdm.auto import tqdm\n",
    "import gc\n",
    "\n",
    "for antibiotic in tqdm(driams.selected_antibiotics[24:]):\n",
    "    ig = IntegratedGradients(model, multiply_by_inputs=True)\n",
    "    pos = driams.selected_antibiotics.index(antibiotic)\n",
    "    \n",
    "    driams_local = Driams(\n",
    "        root_dir=\"/home/jan/Uni/master/data/Driams\",\n",
    "        antibiotics= [antibiotic],\n",
    "        cutoff_value=None,\n",
    "        cutoff_value_negative=None,\n",
    "        cutoff_value_positive=None,\n",
    "    )\n",
    "    driams_local.loading_type = \"memory\"\n",
    "    \n",
    "    test_size = len(driams_local)\n",
    "    test_loader = DataLoader(driams_local, batch_size= test_size, shuffle=True)\n",
    "    test_features, test_labels = next(iter(test_loader))\n",
    "    \n",
    "    i = 0\n",
    "    results = []\n",
    "    for idx in tqdm(range(100,test_size, 100)):\n",
    "        feature_part = test_features[i:idx,:].to(DEVICE)\n",
    "        \n",
    "        attr = ig.attribute(feature_part, target= pos)\n",
    "        attr = attr.detach().cpu().numpy()\n",
    "        results.append(attr)\n",
    "        i = idx\n",
    "        \n",
    "        del feature_part\n",
    "        torch.cuda.empty_cache()\n",
    "        gc.collect()\n",
    "\n",
    "    feature_part = test_features[i:,:].to(DEVICE)\n",
    "    attr = ig.attribute(feature_part, target= pos)\n",
    "    attr = attr.detach().cpu().numpy()\n",
    "    results.append(attr)\n",
    "    del feature_part\n",
    "    torch.cuda.empty_cache()\n",
    "    gc.collect()\n",
    "    \n",
    "    result_numpy = np.concatenate(results, axis = 0)\n",
    "    results4resistant = result_numpy[torch.squeeze(test_labels==1)]\n",
    "    results4susceptible = result_numpy[torch.squeeze(test_labels==0)]\n",
    "    \n",
    "    \n",
    "    average_positive = np.mean(results4resistant, axis=0, where=results4resistant>0)\n",
    "    average_negative = np.mean(results4resistant, axis=0, where=results4resistant < 0)\n",
    "    zeroes = np.zeros(18000)\n",
    "    \n",
    "    plt.bar(np.arange(len(result_numpy[0]))+2000,average_positive, bottom= zeroes)\n",
    "    plt.bar(np.arange(len(result_numpy[0]))+2000,average_negative, bottom= zeroes)\n",
    "    plt.ylim(-0.015,0.015)\n",
    "    \n",
    "    fig_name = f\"{antibiotic}-negative-positive.png\"\n",
    "    plt.savefig(fig_path /\"resistant\" / fig_name , transparent=True, format= \"png\", bbox_inches = \"tight\")\n",
    "    plt.close()\n",
    "    \n",
    "    average_positive = np.mean(results4susceptible, axis=0, where=results4susceptible > 0)\n",
    "    average_negative = np.mean(results4susceptible, axis=0, where=results4susceptible < 0)\n",
    "    \n",
    "    plt.bar(np.arange(len(result_numpy[0]))+2000,average_positive, bottom= zeroes)\n",
    "    plt.bar(np.arange(len(result_numpy[0]))+2000,average_negative, bottom= zeroes)\n",
    "    plt.ylim(-0.015,0.015)\n",
    "    \n",
    "    fig_name = f\"{antibiotic}-negative-positive.png\"\n",
    "    plt.savefig(fig_path /\"susceptible\" / fig_name , transparent=True, format= \"png\", bbox_inches = \"tight\")\n",
    "    plt.close()\n"
   ]
  }
 ],
 "metadata": {
  "kernelspec": {
   "display_name": "Python 3",
   "language": "python",
   "name": "python3"
  },
  "language_info": {
   "codemirror_mode": {
    "name": "ipython",
    "version": 2
   },
   "file_extension": ".py",
   "mimetype": "text/x-python",
   "name": "python",
   "nbconvert_exporter": "python",
   "pygments_lexer": "ipython2"
  }
 },
 "nbformat": 4,
 "nbformat_minor": 5
}
