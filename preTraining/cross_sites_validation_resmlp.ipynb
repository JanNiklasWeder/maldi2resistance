{
 "cells": [
  {
   "cell_type": "markdown",
   "id": "3d89aed94233e3ff",
   "metadata": {},
   "source": [
    "# Fully connected feedforward network implementing a loss mask"
   ]
  },
  {
   "cell_type": "code",
   "execution_count": 1,
   "id": "6c4b645f-6b5e-428e-855c-64b7e33ff874",
   "metadata": {},
   "outputs": [
    {
     "name": "stdout",
     "output_type": "stream",
     "text": [
      "NVIDIA RTX 2000 Ada Generation Laptop GPU\n"
     ]
    }
   ],
   "source": [
    "import sys\n",
    "sys.path.insert(0,'../')\n",
    "import torch\n",
    "import torchmetrics.classification\n",
    "from torch import cuda\n",
    "from maldi2resistance.model.MultilabelResMLP import MultilabelResMLP\n",
    "from src.maldi2resistance.data.driams import Driams\n",
    "assert cuda.is_available()\n",
    "assert cuda.device_count() > 0\n",
    "print(cuda.get_device_name(cuda.current_device()))"
   ]
  },
  {
   "cell_type": "code",
   "execution_count": 2,
   "id": "6b99e2d0-8d75-45ff-9863-64b59aa7a6a7",
   "metadata": {},
   "outputs": [],
   "source": [
    "All_antibiotics = [\"5-Fluorocytosine\"\n",
    ",\"Amikacin\"\n",
    ",\"Aminoglycosides\"\n",
    ",\"Amoxicillin\"\n",
    ",\"Amoxicillin-Clavulanic acid\"\n",
    ",\"Amoxicillin-Clavulanic acid_uncomplicated_HWI\"\n",
    ",\"Amoxicillin+Clavulanic acid\"\n",
    ",\"AmphotericinB\"\n",
    ",\"Ampicillin\"\n",
    ",\"Ampicillin-Amoxicillin\"\n",
    ",\"Ampicillin-Sulbactam\"\n",
    ",\"Ampicillin+Sulbactam\"\n",
    ",\"Anidulafungin\"\n",
    ",\"Azithromycin\"\n",
    ",\"Aztreonam\"\n",
    ",\"Bacitracin\"\n",
    ",\"Benzylpenicillin\"\n",
    ",\"Benzylpenicillin_others\"\n",
    ",\"Benzylpenicillin_with_meningitis\"\n",
    ",\"Benzylpenicillin_with_pneumonia\"\n",
    ",\"Caspofungin\"\n",
    ",\"Cefalotin-Cefazolin\"\n",
    ",\"Cefazolin\"\n",
    ",\"Cefepime\"\n",
    ",\"Cefixime\"\n",
    ",\"Cefotaxim\"\n",
    ",\"Cefotaxime\"\n",
    ",\"Cefoxitin\"\n",
    ",\"Cefoxitin_screen\"\n",
    ",\"Cefpodoxime\"\n",
    ",\"Ceftarolin\"\n",
    ",\"Ceftazidime\"\n",
    ",\"Ceftazidime-Avibactam\"\n",
    ",\"Ceftobiprole\"\n",
    ",\"Ceftolozane-Tazobactam\"\n",
    ",\"Ceftriaxone\"\n",
    ",\"Cefuroxime\"\n",
    ",\"Chloramphenicol\"\n",
    ",\"Ciprofloxacin\"\n",
    ",\"Clarithromycin\"\n",
    ",\"Clindamycin\"\n",
    ",\"Colistin\"\n",
    ",\"Cotrimoxazol\"\n",
    ",\"Cotrimoxazole\"\n",
    ",\"Daptomycin\"\n",
    ",\"Doxycycline\"\n",
    ",\"Ertapenem\"\n",
    ",\"Erythromycin\"\n",
    ",\"Fluconazol\"\n",
    ",\"Fluconazole\"\n",
    ",\"Fosfomycin\"\n",
    ",\"Fosfomycin-Trometamol\"\n",
    ",\"Fusidic acid\"\n",
    ",\"Gentamicin\"\n",
    ",\"Gentamicin_high_level\"\n",
    ",\"Imipenem\"\n",
    ",\"Isavuconazole\"\n",
    ",\"Itraconazole\"\n",
    ",\"Levofloxacin\"\n",
    ",\"Linezolid\"\n",
    ",\"Meropenem\"\n",
    ",\"Meropenem_with_meningitis\"\n",
    ",\"Meropenem_without_meningitis\"\n",
    ",\"Metronidazole\"\n",
    ",\"Micafungin\"\n",
    ",\"Minocycline\"\n",
    ",\"Moxifloxacin\"\n",
    ",\"Mupirocin\"\n",
    ",\"Neomycin\"\n",
    ",\"Nitrofurantoin\"\n",
    ",\"Norfloxacin\"\n",
    ",\"Novobiocin\"\n",
    ",\"Oxacillin\"\n",
    ",\"Penicillin\"\n",
    ",\"Penicillin_with_endokarditis\"\n",
    ",\"Penicillin_with_meningitis\"\n",
    ",\"Penicillin_with_other_infections\"\n",
    ",\"Penicillin_with_pneumonia\"\n",
    ",\"Penicillin_without_endokarditis\"\n",
    ",\"PenicillinG\"\n",
    ",\"Piperacillin\"\n",
    ",\"Piperacillin-Tazobactam\"\n",
    ",\"Polymyxin B\"\n",
    ",\"Posaconazole\"\n",
    ",\"Quinolones\"\n",
    ",\"Rifampicin\"\n",
    ",\"Rifampicin_1mg-l\"\n",
    ",\"Strepomycin_high_level\"\n",
    ",\"Teicoplanin\"\n",
    ",\"Teicoplanin_GRD\"\n",
    ",\"Tetracycline\"\n",
    ",\"Ticarcillin\"\n",
    ",\"Ticarcillin-Clavulan acid\"\n",
    ",\"Tigecycline\"\n",
    ",\"Tobramycin\"\n",
    ",\"Vancomycin\"\n",
    ",\"Voriconazole\"]"
   ]
  },
  {
   "cell_type": "markdown",
   "id": "23b5a248-98cc-42cc-99b2-49bdd5ca1f35",
   "metadata": {},
   "source": [
    "### Load the Dataset"
   ]
  },
  {
   "cell_type": "code",
   "execution_count": 3,
   "id": "7a00707ac6b2975",
   "metadata": {},
   "outputs": [
    {
     "data": {
      "application/vnd.jupyter.widget-view+json": {
       "model_id": "",
       "version_major": 2,
       "version_minor": 0
      },
      "text/plain": [
       "Loading Spectra into Memory:   0%|          | 0/38331 [00:00<?, ?it/s]"
      ]
     },
     "metadata": {},
     "output_type": "display_data"
    }
   ],
   "source": [
    "driams = Driams(\n",
    "    root_dir=\"/home/youngjunpark/MS_data\",\n",
    "    sites=[\"DRIAMS-A\"],\n",
    "    #years=[2020,2021],\n",
    "    cutoff_value=1,\n",
    "    cutoff_value_positive=1,\n",
    "    cutoff_value_negative=1,\n",
    "    antibiotics=All_antibiotics,\n",
    ")\n",
    "\n",
    "driams.loading_type = \"memory\"\n",
    "\n",
    "driams.label_stats.to_csv('driams_a_test.stat')"
   ]
  },
  {
   "cell_type": "markdown",
   "id": "a5824528-2d5d-4b10-a18c-cd374cfdbb43",
   "metadata": {},
   "source": [
    "# Load done"
   ]
  },
  {
   "cell_type": "code",
   "execution_count": 4,
   "id": "81593d9f467a690d",
   "metadata": {},
   "outputs": [
    {
     "data": {
      "text/plain": [
       "97"
      ]
     },
     "execution_count": 4,
     "metadata": {},
     "output_type": "execute_result"
    }
   ],
   "source": [
    "DEVICE = torch.device(\"cuda\")\n",
    "SEED = 76436278\n",
    "\n",
    "torch.manual_seed(SEED)\n",
    "\n",
    "len(driams.selected_antibiotics)"
   ]
  },
  {
   "cell_type": "code",
   "execution_count": 5,
   "id": "b81bd526-6a9c-4520-b121-9c01b4eb804a",
   "metadata": {},
   "outputs": [
    {
     "data": {
      "text/plain": [
       "MultilabelResMLP(\n",
       "  (first): Linear(in_features=18000, out_features=256, bias=True)\n",
       "  (res_mlp): ResMLP(\n",
       "    (net): Sequential(\n",
       "      (0): ResBlock(\n",
       "        (block): Sequential(\n",
       "          (0): ReLU()\n",
       "          (1): Linear(in_features=256, out_features=256, bias=True)\n",
       "          (2): Dropout(p=0.2, inplace=False)\n",
       "          (3): BatchNorm1d(256, eps=1e-05, momentum=0.1, affine=True, track_running_stats=True)\n",
       "        )\n",
       "      )\n",
       "      (1): ResBlock(\n",
       "        (block): Sequential(\n",
       "          (0): ReLU()\n",
       "          (1): Linear(in_features=256, out_features=256, bias=True)\n",
       "          (2): Dropout(p=0.2, inplace=False)\n",
       "          (3): BatchNorm1d(256, eps=1e-05, momentum=0.1, affine=True, track_running_stats=True)\n",
       "        )\n",
       "      )\n",
       "      (2): ResBlock(\n",
       "        (block): Sequential(\n",
       "          (0): ReLU()\n",
       "          (1): Linear(in_features=256, out_features=256, bias=True)\n",
       "          (2): Dropout(p=0.2, inplace=False)\n",
       "          (3): BatchNorm1d(256, eps=1e-05, momentum=0.1, affine=True, track_running_stats=True)\n",
       "        )\n",
       "      )\n",
       "      (3): ResBlock(\n",
       "        (block): Sequential(\n",
       "          (0): ReLU()\n",
       "          (1): Linear(in_features=256, out_features=256, bias=True)\n",
       "          (2): Dropout(p=0.2, inplace=False)\n",
       "          (3): BatchNorm1d(256, eps=1e-05, momentum=0.1, affine=True, track_running_stats=True)\n",
       "        )\n",
       "      )\n",
       "      (4): ResBlock(\n",
       "        (block): Sequential(\n",
       "          (0): ReLU()\n",
       "          (1): Linear(in_features=256, out_features=256, bias=True)\n",
       "          (2): Dropout(p=0.2, inplace=False)\n",
       "          (3): BatchNorm1d(256, eps=1e-05, momentum=0.1, affine=True, track_running_stats=True)\n",
       "        )\n",
       "      )\n",
       "      (5): Linear(in_features=256, out_features=97, bias=True)\n",
       "    )\n",
       "  )\n",
       ")"
      ]
     },
     "execution_count": 5,
     "metadata": {},
     "output_type": "execute_result"
    }
   ],
   "source": [
    "from maldi2resistance.model.MLP import AeBasedMLP\n",
    "LATENT_SIZE = 256\n",
    "#model = AeBasedMLP(input_dim=18000, output_dim = len(driams.selected_antibiotics))\n",
    "model = MultilabelResMLP(input_dim=18000, output_dim=len(driams.selected_antibiotics), hidden_dim=LATENT_SIZE)\n",
    "model.to(DEVICE)"
   ]
  },
  {
   "cell_type": "code",
   "execution_count": 6,
   "id": "46e04927-8b3b-4278-9203-1306b0588e20",
   "metadata": {},
   "outputs": [],
   "source": [
    "from torch.utils.data import DataLoader\n",
    "\n",
    "batch_size = 128\n",
    "\n",
    "train_loader = DataLoader(driams, batch_size=batch_size, shuffle=True, drop_last=True, pin_memory= True)"
   ]
  },
  {
   "cell_type": "code",
   "execution_count": 7,
   "id": "a96643a0-bd63-437b-a676-f3a4a1826910",
   "metadata": {},
   "outputs": [
    {
     "name": "stdout",
     "output_type": "stream",
     "text": [
      "Start training ...\n"
     ]
    },
    {
     "data": {
      "application/vnd.jupyter.widget-view+json": {
       "model_id": "4c7d98b97eaf49f098ccec1b6467e3b5",
       "version_major": 2,
       "version_minor": 0
      },
      "text/plain": [
       "  0%|          | 0/40 [00:00<?, ?it/s]"
      ]
     },
     "metadata": {},
     "output_type": "display_data"
    },
    {
     "name": "stdout",
     "output_type": "stream",
     "text": [
      "\tAverage Loss: 0.000122 \tLearning rate: 0.001000\n",
      "\tAverage Loss: 0.000099 \tLearning rate: 0.001000\n",
      "\tAverage Loss: 0.000092 \tLearning rate: 0.001000\n",
      "\tAverage Loss: 0.000087 \tLearning rate: 0.001000\n",
      "\tAverage Loss: 0.000083 \tLearning rate: 0.001000\n",
      "\tAverage Loss: 0.000079 \tLearning rate: 0.001000\n",
      "\tAverage Loss: 0.000076 \tLearning rate: 0.001000\n",
      "\tAverage Loss: 0.000073 \tLearning rate: 0.001000\n",
      "\tAverage Loss: 0.000069 \tLearning rate: 0.001000\n",
      "\tAverage Loss: 0.000067 \tLearning rate: 0.000500\n",
      "\tAverage Loss: 0.000060 \tLearning rate: 0.000500\n",
      "\tAverage Loss: 0.000058 \tLearning rate: 0.000500\n",
      "\tAverage Loss: 0.000056 \tLearning rate: 0.000500\n",
      "\tAverage Loss: 0.000054 \tLearning rate: 0.000500\n",
      "\tAverage Loss: 0.000052 \tLearning rate: 0.000500\n",
      "\tAverage Loss: 0.000051 \tLearning rate: 0.000500\n",
      "\tAverage Loss: 0.000050 \tLearning rate: 0.000500\n",
      "\tAverage Loss: 0.000049 \tLearning rate: 0.000500\n",
      "\tAverage Loss: 0.000048 \tLearning rate: 0.000500\n",
      "\tAverage Loss: 0.000046 \tLearning rate: 0.000250\n",
      "\tAverage Loss: 0.000042 \tLearning rate: 0.000250\n",
      "\tAverage Loss: 0.000041 \tLearning rate: 0.000250\n",
      "\tAverage Loss: 0.000041 \tLearning rate: 0.000250\n",
      "\tAverage Loss: 0.000040 \tLearning rate: 0.000250\n",
      "\tAverage Loss: 0.000039 \tLearning rate: 0.000250\n",
      "\tAverage Loss: 0.000038 \tLearning rate: 0.000250\n",
      "\tAverage Loss: 0.000038 \tLearning rate: 0.000250\n",
      "\tAverage Loss: 0.000038 \tLearning rate: 0.000250\n",
      "\tAverage Loss: 0.000037 \tLearning rate: 0.000250\n",
      "\tAverage Loss: 0.000036 \tLearning rate: 0.000125\n",
      "\tAverage Loss: 0.000034 \tLearning rate: 0.000125\n",
      "\tAverage Loss: 0.000034 \tLearning rate: 0.000125\n",
      "\tAverage Loss: 0.000033 \tLearning rate: 0.000125\n",
      "\tAverage Loss: 0.000033 \tLearning rate: 0.000125\n",
      "\tAverage Loss: 0.000033 \tLearning rate: 0.000125\n",
      "\tAverage Loss: 0.000032 \tLearning rate: 0.000125\n",
      "\tAverage Loss: 0.000032 \tLearning rate: 0.000125\n",
      "\tAverage Loss: 0.000032 \tLearning rate: 0.000125\n",
      "\tAverage Loss: 0.000031 \tLearning rate: 0.000125\n",
      "\tAverage Loss: 0.000031 \tLearning rate: 0.000063\n",
      "Finish\n"
     ]
    }
   ],
   "source": [
    "from maldi2resistance.loss.maskedLoss import MaskedBCE\n",
    "from tqdm.auto import tqdm\n",
    "\n",
    "from torch.optim import Adam\n",
    "from torch.optim.lr_scheduler import StepLR\n",
    "\n",
    "print(\"Start training ...\")\n",
    "model.train()\n",
    "\n",
    "optimizer = Adam(model.parameters(), lr=1e-3, amsgrad = True)\n",
    "scheduler = StepLR(optimizer, step_size=10, gamma=0.5)\n",
    "loss_per_batch = []\n",
    "\n",
    "class_weights_negative = torch.tensor((1 - (driams.label_stats.loc[\"negative\"] / driams.label_stats.loc[\"n_sum\"])).values, device=DEVICE)\n",
    "class_weights_positive = torch.tensor((1 - (driams.label_stats.loc[\"positive\"] / driams.label_stats.loc[\"n_sum\"])).values, device=DEVICE)\n",
    "\n",
    "criterion = MaskedBCE(class_weights_positive= class_weights_negative, class_weights_negative= class_weights_negative)\n",
    "\n",
    "for epoch in tqdm(range(40)):\n",
    "    overall_loss = 0\n",
    "    \n",
    "    for batch_idx, (x, y) in enumerate(train_loader):\n",
    "        \n",
    "        x = x.to(DEVICE, non_blocking=True)\n",
    "        y = y.to(DEVICE, non_blocking=True)\n",
    "        \n",
    "        optimizer.zero_grad()\n",
    "\n",
    "        output = model(x)\n",
    "\n",
    "        loss = criterion(output, y)\n",
    "        current_loss_value = loss.item()\n",
    "        loss_per_batch.append(current_loss_value)\n",
    "        \n",
    "        overall_loss += current_loss_value\n",
    "        \n",
    "        loss.backward()\n",
    "        optimizer.step()\n",
    "\n",
    "    scheduler.step()\n",
    "    with tqdm.external_write_mode():\n",
    "        print(f\"\\tAverage Loss: {overall_loss / (batch_idx*batch_size):.6f} \\tLearning rate: {scheduler.get_last_lr()[0]:.6f}\")\n",
    "\n",
    "\n",
    "print(\"Finish\")"
   ]
  },
  {
   "cell_type": "code",
   "execution_count": 8,
   "id": "8b707a90ed07c120",
   "metadata": {},
   "outputs": [
    {
     "data": {
      "image/png": "[encoded data removed]",
      "text/plain": [
       "<Figure size 640x480 with 1 Axes>"
      ]
     },
     "metadata": {},
     "output_type": "display_data"
    }
   ],
   "source": [
    "import matplotlib.pyplot as plt \n",
    "\n",
    "plt.title(\"Loss per batch\") \n",
    "plt.xlabel(\"Batch idx\") \n",
    "plt.ylabel(\"Loss\") \n",
    "plt.plot(list(range(0,len(loss_per_batch))),loss_per_batch , color =\"red\") \n",
    "plt.show()"
   ]
  },
  {
   "cell_type": "code",
   "execution_count": 9,
   "id": "01f78615-fd71-43f2-a7a1-c12f17be8950",
   "metadata": {},
   "outputs": [
    {
     "data": {
      "text/plain": [
       "MultilabelResMLP(\n",
       "  (first): Linear(in_features=18000, out_features=256, bias=True)\n",
       "  (res_mlp): ResMLP(\n",
       "    (net): Sequential(\n",
       "      (0): ResBlock(\n",
       "        (block): Sequential(\n",
       "          (0): ReLU()\n",
       "          (1): Linear(in_features=256, out_features=256, bias=True)\n",
       "          (2): Dropout(p=0.2, inplace=False)\n",
       "          (3): BatchNorm1d(256, eps=1e-05, momentum=0.1, affine=True, track_running_stats=True)\n",
       "        )\n",
       "      )\n",
       "      (1): ResBlock(\n",
       "        (block): Sequential(\n",
       "          (0): ReLU()\n",
       "          (1): Linear(in_features=256, out_features=256, bias=True)\n",
       "          (2): Dropout(p=0.2, inplace=False)\n",
       "          (3): BatchNorm1d(256, eps=1e-05, momentum=0.1, affine=True, track_running_stats=True)\n",
       "        )\n",
       "      )\n",
       "      (2): ResBlock(\n",
       "        (block): Sequential(\n",
       "          (0): ReLU()\n",
       "          (1): Linear(in_features=256, out_features=256, bias=True)\n",
       "          (2): Dropout(p=0.2, inplace=False)\n",
       "          (3): BatchNorm1d(256, eps=1e-05, momentum=0.1, affine=True, track_running_stats=True)\n",
       "        )\n",
       "      )\n",
       "      (3): ResBlock(\n",
       "        (block): Sequential(\n",
       "          (0): ReLU()\n",
       "          (1): Linear(in_features=256, out_features=256, bias=True)\n",
       "          (2): Dropout(p=0.2, inplace=False)\n",
       "          (3): BatchNorm1d(256, eps=1e-05, momentum=0.1, affine=True, track_running_stats=True)\n",
       "        )\n",
       "      )\n",
       "      (4): ResBlock(\n",
       "        (block): Sequential(\n",
       "          (0): ReLU()\n",
       "          (1): Linear(in_features=256, out_features=256, bias=True)\n",
       "          (2): Dropout(p=0.2, inplace=False)\n",
       "          (3): BatchNorm1d(256, eps=1e-05, momentum=0.1, affine=True, track_running_stats=True)\n",
       "        )\n",
       "      )\n",
       "      (5): Linear(in_features=256, out_features=97, bias=True)\n",
       "    )\n",
       "  )\n",
       ")"
      ]
     },
     "execution_count": 9,
     "metadata": {},
     "output_type": "execute_result"
    }
   ],
   "source": [
    "model.eval()"
   ]
  },
  {
   "cell_type": "code",
   "execution_count": 10,
   "id": "645c4916b1549621",
   "metadata": {},
   "outputs": [],
   "source": [
    "torch.save({\n",
    "            'model_state_dict': model.state_dict(),\n",
    "            'selected_antibiotics': driams.selected_antibiotics\n",
    "            }, f'./DRIAMS_model_97_antibiotics_seed_{SEED}.pt')"
   ]
  },
  {
   "cell_type": "markdown",
   "id": "0e27a4d9-fb11-4d4b-8a0a-185f68ae63c8",
   "metadata": {},
   "source": [
    "# Eval"
   ]
  },
  {
   "cell_type": "code",
   "execution_count": 32,
   "id": "9355d6a3-a9f2-4f93-a75a-08baea7f10d7",
   "metadata": {},
   "outputs": [
    {
     "name": "stderr",
     "output_type": "stream",
     "text": [
      "/tmp/ipykernel_109821/263783473.py:12: FutureWarning: You are using `torch.load` with `weights_only=False` (the current default value), which uses the default pickle module implicitly. It is possible to construct malicious pickle data which will execute arbitrary code during unpickling (See https://github.com/pytorch/pytorch/blob/main/SECURITY.md#untrusted-models for more details). In a future release, the default value for `weights_only` will be flipped to `True`. This limits the functions that could be executed during unpickling. Arbitrary objects will no longer be allowed to be loaded via this mode unless they are explicitly allowlisted by the user via `torch.serialization.add_safe_globals`. We recommend you start setting `weights_only=True` for any use case where you don't have full control of the loaded file. Please open an issue on GitHub for any issues related to this experimental feature.\n",
      "  checkpoint = torch.load(f'./DRIAMS_model_97_antibiotics_seed_{SEED}.pt')\n"
     ]
    }
   ],
   "source": [
    "import math\n",
    "from pathlib import Path\n",
    "import matplotlib.style\n",
    "import matplotlib as mpl\n",
    "import torch\n",
    "\n",
    "DEVICE = torch.device(\"cuda\")\n",
    "\n",
    "torch.manual_seed(SEED)\n",
    "mpl.style.use(\"default\")\n",
    "\n",
    "checkpoint = torch.load(f'./DRIAMS_model_97_antibiotics_seed_{SEED}.pt')\n",
    "\n",
    "site = [\"DRIAMS-D\"]\n",
    "\n",
    "path = Path(f\"./train_on_DRIAMS-A/{site[0]}_{SEED}-results/\")\n",
    "path.mkdir(parents=True, exist_ok=True)"
   ]
  },
  {
   "cell_type": "code",
   "execution_count": 33,
   "id": "3c39c68c-e515-4e6a-a53c-9e88e666968e",
   "metadata": {},
   "outputs": [
    {
     "name": "stderr",
     "output_type": "stream",
     "text": [
      "/home/youngjunpark/Git/my_maldi/maldi2resistance/preTraining/../src/maldi2resistance/data/driams.py:86: UserWarning: Metafile for Site (DRIAMS-D) and Year (2015) combination not found!\n",
      "  warnings.warn(\n",
      "/home/youngjunpark/Git/my_maldi/maldi2resistance/preTraining/../src/maldi2resistance/data/driams.py:86: UserWarning: Metafile for Site (DRIAMS-D) and Year (2016) combination not found!\n",
      "  warnings.warn(\n",
      "/home/youngjunpark/Git/my_maldi/maldi2resistance/preTraining/../src/maldi2resistance/data/driams.py:86: UserWarning: Metafile for Site (DRIAMS-D) and Year (2017) combination not found!\n",
      "  warnings.warn(\n"
     ]
    },
    {
     "data": {
      "application/vnd.jupyter.widget-view+json": {
       "model_id": "",
       "version_major": 2,
       "version_minor": 0
      },
      "text/plain": [
       "Loading Spectra into Memory:   0%|          | 0/10369 [00:00<?, ?it/s]"
      ]
     },
     "metadata": {},
     "output_type": "display_data"
    },
    {
     "data": {
      "text/html": [
       "<div>\n",
       "<style scoped>\n",
       "    .dataframe tbody tr th:only-of-type {\n",
       "        vertical-align: middle;\n",
       "    }\n",
       "\n",
       "    .dataframe tbody tr th {\n",
       "        vertical-align: top;\n",
       "    }\n",
       "\n",
       "    .dataframe thead th {\n",
       "        text-align: right;\n",
       "    }\n",
       "</style>\n",
       "<table border=\"1\" class=\"dataframe\">\n",
       "  <thead>\n",
       "    <tr style=\"text-align: right;\">\n",
       "      <th></th>\n",
       "      <th>5-Fluorocytosine</th>\n",
       "      <th>Amikacin</th>\n",
       "      <th>Aminoglycosides</th>\n",
       "      <th>Amoxicillin</th>\n",
       "      <th>Amoxicillin+Clavulanic acid</th>\n",
       "      <th>Amoxicillin-Clavulanic acid</th>\n",
       "      <th>Amoxicillin-Clavulanic acid_uncomplicated_HWI</th>\n",
       "      <th>AmphotericinB</th>\n",
       "      <th>Ampicillin</th>\n",
       "      <th>Ampicillin+Sulbactam</th>\n",
       "      <th>...</th>\n",
       "      <th>Strepomycin_high_level</th>\n",
       "      <th>Teicoplanin</th>\n",
       "      <th>Teicoplanin_GRD</th>\n",
       "      <th>Tetracycline</th>\n",
       "      <th>Ticarcillin</th>\n",
       "      <th>Ticarcillin-Clavulan acid</th>\n",
       "      <th>Tigecycline</th>\n",
       "      <th>Tobramycin</th>\n",
       "      <th>Vancomycin</th>\n",
       "      <th>Voriconazole</th>\n",
       "    </tr>\n",
       "  </thead>\n",
       "  <tbody>\n",
       "    <tr>\n",
       "      <th>positive</th>\n",
       "      <td>0</td>\n",
       "      <td>34</td>\n",
       "      <td>0</td>\n",
       "      <td>0</td>\n",
       "      <td>0</td>\n",
       "      <td>1516</td>\n",
       "      <td>0</td>\n",
       "      <td>0</td>\n",
       "      <td>4840</td>\n",
       "      <td>0</td>\n",
       "      <td>...</td>\n",
       "      <td>0</td>\n",
       "      <td>8</td>\n",
       "      <td>0</td>\n",
       "      <td>299</td>\n",
       "      <td>161</td>\n",
       "      <td>104</td>\n",
       "      <td>2</td>\n",
       "      <td>12</td>\n",
       "      <td>17</td>\n",
       "      <td>0</td>\n",
       "    </tr>\n",
       "    <tr>\n",
       "      <th>negative</th>\n",
       "      <td>0</td>\n",
       "      <td>1981</td>\n",
       "      <td>0</td>\n",
       "      <td>0</td>\n",
       "      <td>0</td>\n",
       "      <td>5080</td>\n",
       "      <td>0</td>\n",
       "      <td>0</td>\n",
       "      <td>2037</td>\n",
       "      <td>0</td>\n",
       "      <td>...</td>\n",
       "      <td>0</td>\n",
       "      <td>279</td>\n",
       "      <td>0</td>\n",
       "      <td>2747</td>\n",
       "      <td>68</td>\n",
       "      <td>131</td>\n",
       "      <td>3066</td>\n",
       "      <td>313</td>\n",
       "      <td>3314</td>\n",
       "      <td>0</td>\n",
       "    </tr>\n",
       "    <tr>\n",
       "      <th>n_sum</th>\n",
       "      <td>0</td>\n",
       "      <td>2015</td>\n",
       "      <td>0</td>\n",
       "      <td>0</td>\n",
       "      <td>0</td>\n",
       "      <td>6596</td>\n",
       "      <td>0</td>\n",
       "      <td>0</td>\n",
       "      <td>6877</td>\n",
       "      <td>0</td>\n",
       "      <td>...</td>\n",
       "      <td>0</td>\n",
       "      <td>287</td>\n",
       "      <td>0</td>\n",
       "      <td>3046</td>\n",
       "      <td>229</td>\n",
       "      <td>235</td>\n",
       "      <td>3068</td>\n",
       "      <td>325</td>\n",
       "      <td>3331</td>\n",
       "      <td>0</td>\n",
       "    </tr>\n",
       "  </tbody>\n",
       "</table>\n",
       "<p>3 rows × 97 columns</p>\n",
       "</div>"
      ],
      "text/plain": [
       "          5-Fluorocytosine  Amikacin  Aminoglycosides  Amoxicillin  \\\n",
       "positive                 0        34                0            0   \n",
       "negative                 0      1981                0            0   \n",
       "n_sum                    0      2015                0            0   \n",
       "\n",
       "          Amoxicillin+Clavulanic acid  Amoxicillin-Clavulanic acid  \\\n",
       "positive                            0                         1516   \n",
       "negative                            0                         5080   \n",
       "n_sum                               0                         6596   \n",
       "\n",
       "          Amoxicillin-Clavulanic acid_uncomplicated_HWI  AmphotericinB  \\\n",
       "positive                                              0              0   \n",
       "negative                                              0              0   \n",
       "n_sum                                                 0              0   \n",
       "\n",
       "          Ampicillin  Ampicillin+Sulbactam  ...  Strepomycin_high_level  \\\n",
       "positive        4840                     0  ...                       0   \n",
       "negative        2037                     0  ...                       0   \n",
       "n_sum           6877                     0  ...                       0   \n",
       "\n",
       "          Teicoplanin  Teicoplanin_GRD  Tetracycline  Ticarcillin  \\\n",
       "positive            8                0           299          161   \n",
       "negative          279                0          2747           68   \n",
       "n_sum             287                0          3046          229   \n",
       "\n",
       "          Ticarcillin-Clavulan acid  Tigecycline  Tobramycin  Vancomycin  \\\n",
       "positive                        104            2          12          17   \n",
       "negative                        131         3066         313        3314   \n",
       "n_sum                           235         3068         325        3331   \n",
       "\n",
       "          Voriconazole  \n",
       "positive             0  \n",
       "negative             0  \n",
       "n_sum                0  \n",
       "\n",
       "[3 rows x 97 columns]"
      ]
     },
     "execution_count": 33,
     "metadata": {},
     "output_type": "execute_result"
    }
   ],
   "source": [
    "from src.maldi2resistance.data.driams import Driams\n",
    "\n",
    "driams = Driams(\n",
    "    root_dir=\"/home/youngjunpark/MS_data\",\n",
    "    sites=site,\n",
    "    #years=[2020,2021],\n",
    "    antibiotics= All_antibiotics,\n",
    "    cutoff_value= 1,\n",
    "    cutoff_value_negative= 1,\n",
    "    cutoff_value_positive= 1\n",
    ")\n",
    "\n",
    "driams.loading_type = \"memory\"\n",
    "\n",
    "driams.label_stats"
   ]
  },
  {
   "cell_type": "code",
   "execution_count": 34,
   "id": "3448966d-dc55-466e-ad16-f4aa9d326272",
   "metadata": {},
   "outputs": [
    {
     "data": {
      "text/plain": [
       "<All keys matched successfully>"
      ]
     },
     "execution_count": 34,
     "metadata": {},
     "output_type": "execute_result"
    }
   ],
   "source": [
    "from maldi2resistance.model.MLP import AeBasedMLP\n",
    "\n",
    "model = MultilabelResMLP(input_dim=18000, output_dim=len(driams.selected_antibiotics), hidden_dim=LATENT_SIZE)\n",
    "model.to(DEVICE)\n",
    "model.load_state_dict(checkpoint['model_state_dict'])\n",
    "\n",
    "#model.eval()"
   ]
  },
  {
   "cell_type": "code",
   "execution_count": 35,
   "id": "dd418f18-53ab-4bac-be78-d4358a85aea7",
   "metadata": {},
   "outputs": [],
   "source": [
    "from torch.utils.data import DataLoader\n",
    "\n",
    "test_size = len(driams)\n",
    "test_loader = DataLoader(driams, batch_size= test_size, shuffle=True)\n",
    "test_features, test_labels = next(iter(test_loader))"
   ]
  },
  {
   "cell_type": "code",
   "execution_count": 36,
   "id": "4d70acd3-6545-446d-bd78-1123d882ea71",
   "metadata": {},
   "outputs": [],
   "source": [
    "test_features = test_features.view(test_size, 18000)\n",
    "test_features = test_features.to(DEVICE)\n",
    "\n",
    "test_labels = test_labels.view(test_size, len(driams.selected_antibiotics))\n",
    "test_labels = test_labels.to(DEVICE)\n",
    "\n",
    "output = model(test_features)"
   ]
  },
  {
   "cell_type": "code",
   "execution_count": 37,
   "id": "08b24505-3fc9-41f1-8fff-0a89e3b5a26e",
   "metadata": {},
   "outputs": [
    {
     "name": "stderr",
     "output_type": "stream",
     "text": [
      "/home/youngjunpark/miniconda3/envs/py311/lib/python3.11/site-packages/torchmetrics/utilities/prints.py:43: UserWarning: No negative samples in targets, false positive value should be meaningless. Returning zero tensor in false positive score\n",
      "  warnings.warn(*args, **kwargs)  # noqa: B028\n",
      "/home/youngjunpark/miniconda3/envs/py311/lib/python3.11/site-packages/torchmetrics/utilities/prints.py:43: UserWarning: No positive samples in targets, true positive value should be meaningless. Returning zero tensor in true positive score\n",
      "  warnings.warn(*args, **kwargs)  # noqa: B028\n"
     ]
    },
    {
     "name": "stdout",
     "output_type": "stream",
     "text": [
      "(0.8244659900665283, 0.5767971064363208)\n"
     ]
    },
    {
     "data": {
      "image/png": "[encoded data removed]",
      "text/plain": [
       "<Figure size 640x480 with 1 Axes>"
      ]
     },
     "metadata": {},
     "output_type": "display_data"
    }
   ],
   "source": [
    "from matplotlib import pyplot as plt\n",
    "from maldi2resistance.metric.ROC import MultiLabelRocNan\n",
    "\n",
    "ml_roc = MultiLabelRocNan()\n",
    "print(ml_roc.compute(output,test_labels,driams.selected_antibiotics, create_csv=path /\"ROC_results.csv\"))\n",
    "fig_, ax_ = ml_roc()\n",
    "\n",
    "plt.savefig(path / \"ROC.png\", transparent=True, format= \"png\", bbox_inches = \"tight\")\n",
    "plt.show()"
   ]
  },
  {
   "cell_type": "code",
   "execution_count": 38,
   "id": "9552d759-e207-4779-962e-ac794f84bf08",
   "metadata": {},
   "outputs": [
    {
     "name": "stdout",
     "output_type": "stream",
     "text": [
      "(0.45979976654052734, 0.26974542040775035)\n"
     ]
    },
    {
     "data": {
      "image/png": "[encoded data removed]",
      "text/plain": [
       "<Figure size 640x480 with 1 Axes>"
      ]
     },
     "metadata": {},
     "output_type": "display_data"
    }
   ],
   "source": [
    "from maldi2resistance.metric.PrecisionRecall import MultiLabelPRNan\n",
    "import matplotlib.pyplot as plt\n",
    "\n",
    "ml_pr = MultiLabelPRNan()\n",
    "print(ml_pr.compute(output,test_labels,driams.selected_antibiotics, create_csv=path / \"PR_results.csv\"))\n",
    "\n",
    "fig_, ax_ = ml_pr()\n",
    "\n",
    "plt.savefig(path / \"PrecisionRecall.png\", transparent=True, format= \"png\", bbox_inches = \"tight\")\n",
    "plt.show()"
   ]
  },
  {
   "cell_type": "code",
   "execution_count": null,
   "id": "1187249d-435e-4515-8adb-cc3482782474",
   "metadata": {},
   "outputs": [],
   "source": []
  },
  {
   "cell_type": "code",
   "execution_count": null,
   "id": "dde2497f-b568-4b7a-b9b0-1e0bfaefae6f",
   "metadata": {},
   "outputs": [],
   "source": []
  }
 ],
 "metadata": {
  "kernelspec": {
   "display_name": "Python 3 (ipykernel)",
   "language": "python",
   "name": "python3"
  },
  "language_info": {
   "codemirror_mode": {
    "name": "ipython",
    "version": 3
   },
   "file_extension": ".py",
   "mimetype": "text/x-python",
   "name": "python",
   "nbconvert_exporter": "python",
   "pygments_lexer": "ipython3",
   "version": "3.11.8"
  },
  "widgets": {
   "application/vnd.jupyter.widget-state+json": {
    "state": {},
    "version_major": 2,
    "version_minor": 0
   }
  }
 },
 "nbformat": 4,
 "nbformat_minor": 5
}
