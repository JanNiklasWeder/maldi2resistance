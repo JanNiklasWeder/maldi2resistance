{
 "cells": [
  {
   "cell_type": "markdown",
   "id": "3d89aed94233e3ff",
   "metadata": {},
   "source": [
    "# Fully connected feedforward network implementing a loss mask"
   ]
  },
  {
   "cell_type": "code",
   "execution_count": null,
   "id": "1eaaf570-0600-4d60-9fde-fcebcff3ce4c",
   "metadata": {},
   "outputs": [],
   "source": [
    "import torchmetrics.classification\n",
    "from torch import cuda\n",
    "assert cuda.is_available()\n",
    "assert cuda.device_count() > 0"
   ]
  },
  {
   "cell_type": "code",
   "execution_count": null,
   "id": "c7e50fb9-601f-425a-bf79-6441170b27dd",
   "metadata": {},
   "outputs": [
    {
     "name": "stdout",
     "output_type": "stream",
     "text": [
      "NVIDIA GeForce RTX 3060 Ti\n"
     ]
    }
   ],
   "source": [
    "print(cuda.get_device_name(cuda.current_device()))\n"
   ]
  },
  {
   "cell_type": "code",
   "execution_count": null,
   "id": "6c4b645f-6b5e-428e-855c-64b7e33ff874",
   "metadata": {},
   "outputs": [],
   "source": [
    "import torch"
   ]
  },
  {
   "cell_type": "code",
   "execution_count": null,
   "id": "5e8a6650-ef2b-44f1-9ea8-78912b15e9a9",
   "metadata": {},
   "outputs": [
    {
     "data": {
      "text/plain": [
       "<torch._C.Generator at 0x7f8c48f32470>"
      ]
     },
     "execution_count": null,
     "metadata": {},
     "output_type": "execute_result"
    }
   ],
   "source": [
    "DEVICE = torch.device(\"cuda\")\n",
    "SEED = 76436278\n",
    "\n",
    "torch.manual_seed(SEED)"
   ]
  },
  {
   "cell_type": "markdown",
   "id": "23b5a248-98cc-42cc-99b2-49bdd5ca1f35",
   "metadata": {},
   "source": [
    "### Load the Dataset"
   ]
  },
  {
   "cell_type": "code",
   "execution_count": null,
   "id": "7a00707ac6b2975",
   "metadata": {},
   "outputs": [
    {
     "name": "stderr",
     "output_type": "stream",
     "text": [
      "/home/jan/Uni/master/src/maldi2resistance/data/driams.py:52: DtypeWarning: Columns (71) have mixed types. Specify dtype option on import or set low_memory=False.\n",
      "  self.__meta[key] = pd.read_csv(root_dir / f\"{site}/id/{year}/{year}_clean.csv\")\n",
      "100%|██████████| 38331/38331 [00:08<00:00, 4419.01it/s]\n"
     ]
    },
    {
     "data": {
      "text/html": [
       "<div>\n",
       "<style scoped>\n",
       "    .dataframe tbody tr th:only-of-type {\n",
       "        vertical-align: middle;\n",
       "    }\n",
       "\n",
       "    .dataframe tbody tr th {\n",
       "        vertical-align: top;\n",
       "    }\n",
       "\n",
       "    .dataframe thead th {\n",
       "        text-align: right;\n",
       "    }\n",
       "</style>\n",
       "<table border=\"1\" class=\"dataframe\">\n",
       "  <thead>\n",
       "    <tr style=\"text-align: right;\">\n",
       "      <th></th>\n",
       "      <th>Amikacin</th>\n",
       "      <th>Amoxicillin-Clavulanic acid</th>\n",
       "      <th>Ampicillin-Amoxicillin</th>\n",
       "      <th>Cefazolin</th>\n",
       "      <th>Cefepime</th>\n",
       "      <th>Cefpodoxime</th>\n",
       "      <th>Ceftazidime</th>\n",
       "      <th>Ceftriaxone</th>\n",
       "      <th>Cefuroxime</th>\n",
       "      <th>Ciprofloxacin</th>\n",
       "      <th>...</th>\n",
       "      <th>Meropenem</th>\n",
       "      <th>Nitrofurantoin</th>\n",
       "      <th>Norfloxacin</th>\n",
       "      <th>Oxacillin</th>\n",
       "      <th>Penicillin</th>\n",
       "      <th>Piperacillin-Tazobactam</th>\n",
       "      <th>Rifampicin</th>\n",
       "      <th>Teicoplanin</th>\n",
       "      <th>Tetracycline</th>\n",
       "      <th>Tobramycin</th>\n",
       "    </tr>\n",
       "  </thead>\n",
       "  <tbody>\n",
       "    <tr>\n",
       "      <th>positive</th>\n",
       "      <td>975</td>\n",
       "      <td>9920</td>\n",
       "      <td>21966</td>\n",
       "      <td>4223</td>\n",
       "      <td>6518</td>\n",
       "      <td>2338</td>\n",
       "      <td>2455</td>\n",
       "      <td>7299</td>\n",
       "      <td>4475</td>\n",
       "      <td>7462</td>\n",
       "      <td>...</td>\n",
       "      <td>5145</td>\n",
       "      <td>412</td>\n",
       "      <td>871</td>\n",
       "      <td>4641</td>\n",
       "      <td>9881</td>\n",
       "      <td>6546</td>\n",
       "      <td>542</td>\n",
       "      <td>226</td>\n",
       "      <td>3082</td>\n",
       "      <td>1695</td>\n",
       "    </tr>\n",
       "    <tr>\n",
       "      <th>negative</th>\n",
       "      <td>16247</td>\n",
       "      <td>15308</td>\n",
       "      <td>4905</td>\n",
       "      <td>5813</td>\n",
       "      <td>21958</td>\n",
       "      <td>4382</td>\n",
       "      <td>14937</td>\n",
       "      <td>19246</td>\n",
       "      <td>6103</td>\n",
       "      <td>23081</td>\n",
       "      <td>...</td>\n",
       "      <td>24386</td>\n",
       "      <td>1696</td>\n",
       "      <td>5234</td>\n",
       "      <td>6344</td>\n",
       "      <td>3525</td>\n",
       "      <td>21852</td>\n",
       "      <td>10424</td>\n",
       "      <td>7465</td>\n",
       "      <td>6836</td>\n",
       "      <td>16495</td>\n",
       "    </tr>\n",
       "    <tr>\n",
       "      <th>n_sum</th>\n",
       "      <td>17222</td>\n",
       "      <td>25228</td>\n",
       "      <td>26871</td>\n",
       "      <td>10036</td>\n",
       "      <td>28476</td>\n",
       "      <td>6720</td>\n",
       "      <td>17392</td>\n",
       "      <td>26545</td>\n",
       "      <td>10578</td>\n",
       "      <td>30543</td>\n",
       "      <td>...</td>\n",
       "      <td>29531</td>\n",
       "      <td>2108</td>\n",
       "      <td>6105</td>\n",
       "      <td>10985</td>\n",
       "      <td>13406</td>\n",
       "      <td>28398</td>\n",
       "      <td>10966</td>\n",
       "      <td>7691</td>\n",
       "      <td>9918</td>\n",
       "      <td>18190</td>\n",
       "    </tr>\n",
       "  </tbody>\n",
       "</table>\n",
       "<p>3 rows × 30 columns</p>\n",
       "</div>"
      ],
      "text/plain": [
       "          Amikacin  Amoxicillin-Clavulanic acid  Ampicillin-Amoxicillin  \\\n",
       "positive       975                         9920                   21966   \n",
       "negative     16247                        15308                    4905   \n",
       "n_sum        17222                        25228                   26871   \n",
       "\n",
       "          Cefazolin  Cefepime  Cefpodoxime  Ceftazidime  Ceftriaxone  \\\n",
       "positive       4223      6518         2338         2455         7299   \n",
       "negative       5813     21958         4382        14937        19246   \n",
       "n_sum         10036     28476         6720        17392        26545   \n",
       "\n",
       "          Cefuroxime  Ciprofloxacin  ...  Meropenem  Nitrofurantoin  \\\n",
       "positive        4475           7462  ...       5145             412   \n",
       "negative        6103          23081  ...      24386            1696   \n",
       "n_sum          10578          30543  ...      29531            2108   \n",
       "\n",
       "          Norfloxacin  Oxacillin  Penicillin  Piperacillin-Tazobactam  \\\n",
       "positive          871       4641        9881                     6546   \n",
       "negative         5234       6344        3525                    21852   \n",
       "n_sum            6105      10985       13406                    28398   \n",
       "\n",
       "          Rifampicin  Teicoplanin  Tetracycline  Tobramycin  \n",
       "positive         542          226          3082        1695  \n",
       "negative       10424         7465          6836       16495  \n",
       "n_sum          10966         7691          9918       18190  \n",
       "\n",
       "[3 rows x 30 columns]"
      ]
     },
     "execution_count": null,
     "metadata": {},
     "output_type": "execute_result"
    }
   ],
   "source": [
    "from src.maldi2resistance.data.driams import Driams\n",
    "\n",
    "driams = Driams(\n",
    "    root_dir=\"/home/jan/Uni/master/data/Driams\",\n",
    "    sites=[\"DRIAMS-A\"],\n",
    ")\n",
    "\n",
    "driams.loading_type = \"memory\"\n",
    "\n",
    "driams.label_stats"
   ]
  },
  {
   "cell_type": "code",
   "execution_count": null,
   "id": "81593d9f467a690d",
   "metadata": {},
   "outputs": [
    {
     "data": {
      "text/plain": [
       "30"
      ]
     },
     "execution_count": null,
     "metadata": {},
     "output_type": "execute_result"
    }
   ],
   "source": [
    "len(driams.selected_antibiotics)"
   ]
  },
  {
   "cell_type": "code",
   "execution_count": null,
   "id": "b81bd526-6a9c-4520-b121-9c01b4eb804a",
   "metadata": {},
   "outputs": [],
   "source": [
    "from maldi2resistance.model.MLP import AeBasedMLP\n",
    "\n",
    "model = AeBasedMLP(input_dim=18000, output_dim = len(driams.selected_antibiotics))"
   ]
  },
  {
   "cell_type": "code",
   "execution_count": null,
   "id": "46e04927-8b3b-4278-9203-1306b0588e20",
   "metadata": {},
   "outputs": [],
   "source": [
    "from torch.utils.data import DataLoader\n",
    "\n",
    "batch_size = 128\n",
    "\n",
    "train_loader = DataLoader(driams, batch_size=batch_size, shuffle=True, drop_last=True, pin_memory= True)"
   ]
  },
  {
   "cell_type": "code",
   "execution_count": null,
   "id": "a96643a0-bd63-437b-a676-f3a4a1826910",
   "metadata": {},
   "outputs": [
    {
     "name": "stdout",
     "output_type": "stream",
     "text": [
      "Start training ...\n"
     ]
    },
    {
     "data": {
      "application/vnd.jupyter.widget-view+json": {
       "model_id": "3eeffa5594384b1a98aa4c9f60f9f20a",
       "version_major": 2,
       "version_minor": 0
      },
      "text/plain": [
       "  0%|          | 0/30 [00:00<?, ?it/s]"
      ]
     },
     "metadata": {},
     "output_type": "display_data"
    },
    {
     "name": "stdout",
     "output_type": "stream",
     "text": [
      "\tAverage Loss: 0.000420 \tLearning rate: 0.001000\n",
      "\tAverage Loss: 0.000335 \tLearning rate: 0.001000\n",
      "\tAverage Loss: 0.000312 \tLearning rate: 0.001000\n",
      "\tAverage Loss: 0.000294 \tLearning rate: 0.001000\n",
      "\tAverage Loss: 0.000283 \tLearning rate: 0.001000\n",
      "\tAverage Loss: 0.000272 \tLearning rate: 0.001000\n",
      "\tAverage Loss: 0.000262 \tLearning rate: 0.001000\n",
      "\tAverage Loss: 0.000253 \tLearning rate: 0.001000\n",
      "\tAverage Loss: 0.000246 \tLearning rate: 0.001000\n",
      "\tAverage Loss: 0.000238 \tLearning rate: 0.000500\n",
      "\tAverage Loss: 0.000210 \tLearning rate: 0.000500\n",
      "\tAverage Loss: 0.000205 \tLearning rate: 0.000500\n",
      "\tAverage Loss: 0.000200 \tLearning rate: 0.000500\n",
      "\tAverage Loss: 0.000192 \tLearning rate: 0.000500\n",
      "\tAverage Loss: 0.000185 \tLearning rate: 0.000500\n",
      "\tAverage Loss: 0.000178 \tLearning rate: 0.000500\n",
      "\tAverage Loss: 0.000176 \tLearning rate: 0.000500\n",
      "\tAverage Loss: 0.000167 \tLearning rate: 0.000500\n",
      "\tAverage Loss: 0.000159 \tLearning rate: 0.000500\n",
      "\tAverage Loss: 0.000153 \tLearning rate: 0.000250\n",
      "\tAverage Loss: 0.000131 \tLearning rate: 0.000250\n",
      "\tAverage Loss: 0.000124 \tLearning rate: 0.000250\n",
      "\tAverage Loss: 0.000115 \tLearning rate: 0.000250\n",
      "\tAverage Loss: 0.000110 \tLearning rate: 0.000250\n",
      "\tAverage Loss: 0.000103 \tLearning rate: 0.000250\n",
      "\tAverage Loss: 0.000097 \tLearning rate: 0.000250\n",
      "\tAverage Loss: 0.000091 \tLearning rate: 0.000250\n",
      "\tAverage Loss: 0.000086 \tLearning rate: 0.000250\n",
      "\tAverage Loss: 0.000084 \tLearning rate: 0.000250\n",
      "\tAverage Loss: 0.000080 \tLearning rate: 0.000125\n",
      "Finish\n"
     ]
    }
   ],
   "source": [
    "from maldi2resistance.loss.maskedLoss import MaskedBCE\n",
    "from tqdm.auto import tqdm\n",
    "\n",
    "from torch.optim import Adam\n",
    "from torch.optim.lr_scheduler import StepLR\n",
    "\n",
    "print(\"Start training ...\")\n",
    "model.train()\n",
    "\n",
    "optimizer = Adam(model.parameters(), lr=1e-3, amsgrad = True)\n",
    "scheduler = StepLR(optimizer, step_size=10, gamma=0.5)\n",
    "loss_per_batch = []\n",
    "\n",
    "class_weights_negative = torch.tensor((1 - (driams.label_stats.loc[\"negative\"] / driams.label_stats.loc[\"n_sum\"])).values, device=DEVICE)\n",
    "class_weights_positive = torch.tensor((1 - (driams.label_stats.loc[\"positive\"] / driams.label_stats.loc[\"n_sum\"])).values, device=DEVICE)\n",
    "\n",
    "criterion = MaskedBCE(class_weights_positive= class_weights_negative, class_weights_negative= class_weights_negative)\n",
    "\n",
    "for epoch in tqdm(range(30)):\n",
    "    overall_loss = 0\n",
    "    \n",
    "    for batch_idx, (x, y) in enumerate(train_loader):\n",
    "        \n",
    "        x = x.to(DEVICE, non_blocking=True)\n",
    "        y = y.to(DEVICE, non_blocking=True)\n",
    "        \n",
    "        optimizer.zero_grad()\n",
    "\n",
    "        output = model(x)\n",
    "\n",
    "        loss = criterion(output, y)\n",
    "        current_loss_value = loss.item()\n",
    "        loss_per_batch.append(current_loss_value)\n",
    "        \n",
    "        overall_loss += current_loss_value\n",
    "        \n",
    "        loss.backward()\n",
    "        optimizer.step()\n",
    "\n",
    "    scheduler.step()\n",
    "    with tqdm.external_write_mode():\n",
    "        print(f\"\\tAverage Loss: {overall_loss / (batch_idx*batch_size):.6f} \\tLearning rate: {scheduler.get_last_lr()[0]:.6f}\")\n",
    "\n",
    "\n",
    "print(\"Finish\")"
   ]
  },
  {
   "cell_type": "code",
   "execution_count": null,
   "id": "8b707a90ed07c120",
   "metadata": {},
   "outputs": [
    {
     "data": {
      "image/png": "[encoded data removed]",
      "text/plain": [
       "<Figure size 640x480 with 1 Axes>"
      ]
     },
     "metadata": {},
     "output_type": "display_data"
    }
   ],
   "source": [
    "import matplotlib.pyplot as plt \n",
    "\n",
    "plt.title(\"Loss per batch\") \n",
    "plt.xlabel(\"Batch idx\") \n",
    "plt.ylabel(\"Loss\") \n",
    "plt.plot(list(range(0,len(loss_per_batch))),loss_per_batch , color =\"red\") \n",
    "plt.show()"
   ]
  },
  {
   "cell_type": "code",
   "execution_count": null,
   "id": "01f78615-fd71-43f2-a7a1-c12f17be8950",
   "metadata": {},
   "outputs": [
    {
     "data": {
      "text/plain": [
       "AeBasedMLP(\n",
       "  (encoder): Encoder(\n",
       "    (input): Linear(in_features=18000, out_features=4096, bias=True)\n",
       "    (layer_1): Linear(in_features=4096, out_features=4096, bias=True)\n",
       "    (layer_2): Linear(in_features=4096, out_features=2048, bias=True)\n",
       "    (LeakyReLU): LeakyReLU(negative_slope=0.2)\n",
       "  )\n",
       "  (decoder): Decoder(\n",
       "    (input): Linear(in_features=2048, out_features=4096, bias=True)\n",
       "    (layer_1): Linear(in_features=4096, out_features=4096, bias=True)\n",
       "    (layer_2): Linear(in_features=4096, out_features=30, bias=True)\n",
       "    (LeakyReLU): LeakyReLU(negative_slope=0.2)\n",
       "  )\n",
       ")"
      ]
     },
     "execution_count": null,
     "metadata": {},
     "output_type": "execute_result"
    }
   ],
   "source": [
    "model.eval()"
   ]
  },
  {
   "cell_type": "code",
   "execution_count": null,
   "id": "645c4916b1549621",
   "metadata": {},
   "outputs": [],
   "source": [
    "torch.save({\n",
    "            'model_state_dict': model.state_dict(),\n",
    "            'selected_antibiotics': driams.selected_antibiotics\n",
    "            }, './model.pt')"
   ]
  }
 ],
 "metadata": {
  "kernelspec": {
   "display_name": "Python 3 (ipykernel)",
   "language": "python",
   "name": "python3"
  },
  "language_info": {
   "codemirror_mode": {
    "name": "ipython",
    "version": 3
   },
   "file_extension": ".py",
   "mimetype": "text/x-python",
   "name": "python",
   "nbconvert_exporter": "python",
   "pygments_lexer": "ipython3"
  },
  "widgets": {
   "application/vnd.jupyter.widget-state+json": {
    "state": {},
    "version_major": 2,
    "version_minor": 0
   }
  }
 },
 "nbformat": 4,
 "nbformat_minor": 5
}
