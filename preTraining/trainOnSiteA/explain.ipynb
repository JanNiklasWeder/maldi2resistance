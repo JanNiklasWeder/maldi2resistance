{
 "cells": [
  {
   "cell_type": "code",
   "execution_count": null,
   "id": "initial_id",
   "metadata": {},
   "outputs": [],
   "source": [
    "import numpy as np\n",
    "import torch\n",
    "from torch import nn, optim\n",
    "from torch.nn import functional as F\n",
    "from torchvision import datasets, transforms\n",
    "from pathlib import Path\n",
    "import matplotlib.style\n",
    "import matplotlib as mpl\n",
    "import torch\n",
    "\n",
    "import shap\n",
    "\n",
    "DEVICE = torch.device(\"cpu\")\n",
    "SEED = 76436278\n",
    "\n",
    "torch.manual_seed(SEED)\n",
    "mpl.style.use(\"default\")\n",
    "\n",
    "checkpoint = torch.load('./model.pt')\n",
    "\n",
    "site = [\"DRIAMS-B\"]\n",
    "\n",
    "fig_path = Path(f\"./figures/{site[0]}\")\n",
    "fig_path.mkdir(parents=True, exist_ok=True)"
   ]
  },
  {
   "cell_type": "code",
   "execution_count": null,
   "id": "fe88cc27dd56cedf",
   "metadata": {},
   "outputs": [
    {
     "name": "stderr",
     "output_type": "stream",
     "text": [
      "100%|██████████| 2371/2371 [00:00<00:00, 4702.86it/s]\n"
     ]
    },
    {
     "data": {
      "text/html": [
       "<div>\n",
       "<style scoped>\n",
       "    .dataframe tbody tr th:only-of-type {\n",
       "        vertical-align: middle;\n",
       "    }\n",
       "\n",
       "    .dataframe tbody tr th {\n",
       "        vertical-align: top;\n",
       "    }\n",
       "\n",
       "    .dataframe thead th {\n",
       "        text-align: right;\n",
       "    }\n",
       "</style>\n",
       "<table border=\"1\" class=\"dataframe\">\n",
       "  <thead>\n",
       "    <tr style=\"text-align: right;\">\n",
       "      <th></th>\n",
       "      <th>Amikacin</th>\n",
       "      <th>Amoxicillin-Clavulanic acid</th>\n",
       "      <th>Ampicillin-Amoxicillin</th>\n",
       "      <th>Cefazolin</th>\n",
       "      <th>Cefepime</th>\n",
       "      <th>Cefpodoxime</th>\n",
       "      <th>Ceftazidime</th>\n",
       "      <th>Ceftriaxone</th>\n",
       "      <th>Cefuroxime</th>\n",
       "      <th>Ciprofloxacin</th>\n",
       "      <th>...</th>\n",
       "      <th>Meropenem</th>\n",
       "      <th>Nitrofurantoin</th>\n",
       "      <th>Norfloxacin</th>\n",
       "      <th>Oxacillin</th>\n",
       "      <th>Penicillin</th>\n",
       "      <th>Piperacillin-Tazobactam</th>\n",
       "      <th>Rifampicin</th>\n",
       "      <th>Teicoplanin</th>\n",
       "      <th>Tetracycline</th>\n",
       "      <th>Tobramycin</th>\n",
       "    </tr>\n",
       "  </thead>\n",
       "  <tbody>\n",
       "    <tr>\n",
       "      <th>positive</th>\n",
       "      <td>26</td>\n",
       "      <td>536</td>\n",
       "      <td>0</td>\n",
       "      <td>0</td>\n",
       "      <td>269</td>\n",
       "      <td>0</td>\n",
       "      <td>106</td>\n",
       "      <td>115</td>\n",
       "      <td>304</td>\n",
       "      <td>339</td>\n",
       "      <td>...</td>\n",
       "      <td>11</td>\n",
       "      <td>534</td>\n",
       "      <td>143</td>\n",
       "      <td>186</td>\n",
       "      <td>0</td>\n",
       "      <td>188</td>\n",
       "      <td>13</td>\n",
       "      <td>10</td>\n",
       "      <td>130</td>\n",
       "      <td>0</td>\n",
       "    </tr>\n",
       "    <tr>\n",
       "      <th>negative</th>\n",
       "      <td>900</td>\n",
       "      <td>1454</td>\n",
       "      <td>0</td>\n",
       "      <td>0</td>\n",
       "      <td>1420</td>\n",
       "      <td>0</td>\n",
       "      <td>834</td>\n",
       "      <td>970</td>\n",
       "      <td>499</td>\n",
       "      <td>1680</td>\n",
       "      <td>...</td>\n",
       "      <td>905</td>\n",
       "      <td>481</td>\n",
       "      <td>657</td>\n",
       "      <td>545</td>\n",
       "      <td>0</td>\n",
       "      <td>987</td>\n",
       "      <td>789</td>\n",
       "      <td>736</td>\n",
       "      <td>747</td>\n",
       "      <td>0</td>\n",
       "    </tr>\n",
       "    <tr>\n",
       "      <th>n_sum</th>\n",
       "      <td>926</td>\n",
       "      <td>1990</td>\n",
       "      <td>0</td>\n",
       "      <td>0</td>\n",
       "      <td>1689</td>\n",
       "      <td>0</td>\n",
       "      <td>940</td>\n",
       "      <td>1085</td>\n",
       "      <td>803</td>\n",
       "      <td>2019</td>\n",
       "      <td>...</td>\n",
       "      <td>916</td>\n",
       "      <td>1015</td>\n",
       "      <td>800</td>\n",
       "      <td>731</td>\n",
       "      <td>0</td>\n",
       "      <td>1175</td>\n",
       "      <td>802</td>\n",
       "      <td>746</td>\n",
       "      <td>877</td>\n",
       "      <td>0</td>\n",
       "    </tr>\n",
       "  </tbody>\n",
       "</table>\n",
       "<p>3 rows × 30 columns</p>\n",
       "</div>"
      ],
      "text/plain": [
       "          Amikacin  Amoxicillin-Clavulanic acid  Ampicillin-Amoxicillin  \\\n",
       "positive        26                          536                       0   \n",
       "negative       900                         1454                       0   \n",
       "n_sum          926                         1990                       0   \n",
       "\n",
       "          Cefazolin  Cefepime  Cefpodoxime  Ceftazidime  Ceftriaxone  \\\n",
       "positive          0       269            0          106          115   \n",
       "negative          0      1420            0          834          970   \n",
       "n_sum             0      1689            0          940         1085   \n",
       "\n",
       "          Cefuroxime  Ciprofloxacin  ...  Meropenem  Nitrofurantoin  \\\n",
       "positive         304            339  ...         11             534   \n",
       "negative         499           1680  ...        905             481   \n",
       "n_sum            803           2019  ...        916            1015   \n",
       "\n",
       "          Norfloxacin  Oxacillin  Penicillin  Piperacillin-Tazobactam  \\\n",
       "positive          143        186           0                      188   \n",
       "negative          657        545           0                      987   \n",
       "n_sum             800        731           0                     1175   \n",
       "\n",
       "          Rifampicin  Teicoplanin  Tetracycline  Tobramycin  \n",
       "positive          13           10           130           0  \n",
       "negative         789          736           747           0  \n",
       "n_sum            802          746           877           0  \n",
       "\n",
       "[3 rows x 30 columns]"
      ]
     },
     "execution_count": null,
     "metadata": {},
     "output_type": "execute_result"
    }
   ],
   "source": [
    "from src.maldi2resistance.data.driams import Driams\n",
    "\n",
    "driams = Driams(\n",
    "    root_dir=\"/home/jan/Uni/master/data/Driams\",\n",
    "    sites=site,\n",
    "    antibiotics= checkpoint[\"selected_antibiotics\"],\n",
    "    cutoff_value= None,\n",
    "    cutoff_value_negative= None,\n",
    "    cutoff_value_positive= None\n",
    ")\n",
    "\n",
    "driams.loading_type = \"memory\"\n",
    "\n",
    "driams.label_stats"
   ]
  },
  {
   "cell_type": "code",
   "execution_count": null,
   "id": "fe5f8b0b42644343",
   "metadata": {},
   "outputs": [
    {
     "data": {
      "text/plain": [
       "AeBasedMLP(\n",
       "  (encoder): Encoder(\n",
       "    (input): Linear(in_features=18000, out_features=4096, bias=True)\n",
       "    (layer_1): Linear(in_features=4096, out_features=4096, bias=True)\n",
       "    (layer_2): Linear(in_features=4096, out_features=2048, bias=True)\n",
       "    (LeakyReLU): LeakyReLU(negative_slope=0.2)\n",
       "  )\n",
       "  (decoder): Decoder(\n",
       "    (input): Linear(in_features=2048, out_features=4096, bias=True)\n",
       "    (layer_1): Linear(in_features=4096, out_features=4096, bias=True)\n",
       "    (layer_2): Linear(in_features=4096, out_features=30, bias=True)\n",
       "    (LeakyReLU): LeakyReLU(negative_slope=0.2)\n",
       "  )\n",
       ")"
      ]
     },
     "execution_count": null,
     "metadata": {},
     "output_type": "execute_result"
    }
   ],
   "source": [
    "from maldi2resistance.model.MLP import AeBasedMLP\n",
    "\n",
    "model = AeBasedMLP(input_dim=18000, output_dim=len(driams.selected_antibiotics))\n",
    "model.load_state_dict(checkpoint['model_state_dict'])\n",
    "\n",
    "model.eval()"
   ]
  },
  {
   "cell_type": "code",
   "execution_count": null,
   "id": "310f607b5de88599",
   "metadata": {},
   "outputs": [],
   "source": [
    "from torch.utils.data import DataLoader\n",
    "\n",
    "test_size = len(driams)\n",
    "test_loader = DataLoader(driams, batch_size= test_size, shuffle=True)\n",
    "test_features, test_labels = next(iter(test_loader))"
   ]
  },
  {
   "cell_type": "code",
   "execution_count": null,
   "id": "596eda6a2a090570",
   "metadata": {},
   "outputs": [],
   "source": [
    "model = model.to(DEVICE)\n",
    "\n",
    "test_features = test_features.to(DEVICE)\n",
    "test_labels = test_labels.to(DEVICE)"
   ]
  },
  {
   "cell_type": "code",
   "execution_count": null,
   "id": "f5e0e8508976f05a",
   "metadata": {},
   "outputs": [],
   "source": [
    "from captum.attr import IntegratedGradients\n",
    "from captum.attr import LayerConductance\n",
    "from captum.attr import NeuronConductance"
   ]
  },
  {
   "cell_type": "code",
   "execution_count": null,
   "id": "f0d3561dfa0372bf",
   "metadata": {},
   "outputs": [],
   "source": [
    "ig = IntegratedGradients(model)\n",
    "pos = driams.selected_antibiotics.index(\"Ertapenem\")"
   ]
  },
  {
   "cell_type": "code",
   "execution_count": null,
   "id": "e183482b89e64a8a",
   "metadata": {},
   "outputs": [],
   "source": [
    "attr, delta = ig.attribute(test_features, target= pos, return_convergence_delta= True)\n",
    "attr = attr.detach().cpu().numpy()"
   ]
  },
  {
   "cell_type": "code",
   "execution_count": null,
   "id": "69ea62a5bfa28071",
   "metadata": {},
   "outputs": [],
   "source": [
    "import matplotlib.pyplot as plt\n",
    "\n",
    "plt.bar(np.arange(len(attr[0])),np.mean(attr,axis=0))\n",
    "fig_name = f\"IntegratedGradientsBeforeFinetuning@90.png\"\n",
    "plt.savefig(fig_path / fig_name , transparent=True, format= \"png\", bbox_inches = \"tight\")\n",
    "plt.show()\n",
    "plt.close()"
   ]
  },
  {
   "cell_type": "code",
   "execution_count": null,
   "id": "e658b5eb62f71378",
   "metadata": {},
   "outputs": [
    {
     "data": {
      "text/plain": [
       "AeBasedMLP(\n",
       "  (encoder): Encoder(\n",
       "    (input): Linear(in_features=18000, out_features=4096, bias=True)\n",
       "    (layer_1): Linear(in_features=4096, out_features=4096, bias=True)\n",
       "    (layer_2): Linear(in_features=4096, out_features=2048, bias=True)\n",
       "    (LeakyReLU): LeakyReLU(negative_slope=0.2)\n",
       "  )\n",
       "  (decoder): Decoder(\n",
       "    (input): Linear(in_features=2048, out_features=4096, bias=True)\n",
       "    (layer_1): Linear(in_features=4096, out_features=4096, bias=True)\n",
       "    (layer_2): Linear(in_features=4096, out_features=30, bias=True)\n",
       "    (LeakyReLU): LeakyReLU(negative_slope=0.2)\n",
       "  )\n",
       ")"
      ]
     },
     "execution_count": null,
     "metadata": {},
     "output_type": "execute_result"
    }
   ],
   "source": [
    "checkpoint = torch.load('./modelWith90@SiteB.pt')\n",
    "model.load_state_dict(checkpoint['model_state_dict'])\n",
    "\n",
    "model.eval()"
   ]
  },
  {
   "cell_type": "code",
   "execution_count": null,
   "id": "156b21042a94838",
   "metadata": {},
   "outputs": [],
   "source": [
    "attr, delta = ig.attribute(test_features, target= pos, return_convergence_delta= True)\n",
    "attr = attr.detach().cpu().numpy()"
   ]
  },
  {
   "cell_type": "code",
   "execution_count": null,
   "id": "de807af9d927e266",
   "metadata": {},
   "outputs": [
    {
     "data": {
      "image/png": "[encoded data removed]",
      "text/plain": [
       "<Figure size 640x480 with 1 Axes>"
      ]
     },
     "metadata": {},
     "output_type": "display_data"
    }
   ],
   "source": [
    "import matplotlib.pyplot as plt\n",
    "\n",
    "plot = plt.bar(np.arange(len(attr[0])),np.mean(attr,axis=0))\n",
    "fig_name = f\"IntegratedGradientsAfterFinetuning@90.png\"\n",
    "plt.savefig(fig_path / fig_name , format= \"png\", bbox_inches = \"tight\")\n",
    "plt.show()\n",
    "plt.close()"
   ]
  },
  {
   "cell_type": "code",
   "execution_count": null,
   "id": "24f0d9f652545e94",
   "metadata": {},
   "outputs": [
    {
     "data": {
      "image/png": "[encoded data removed]",
      "text/plain": [
       "<Figure size 640x480 with 1 Axes>"
      ]
     },
     "metadata": {},
     "output_type": "display_data"
    }
   ],
   "source": [
    "checkpoint = torch.load('./modelTrainedOnlyOnB.pt')\n",
    "model.load_state_dict(checkpoint['model_state_dict'])\n",
    "\n",
    "model.eval()\n",
    "\n",
    "attr, delta = ig.attribute(test_features, target= pos, return_convergence_delta= True)\n",
    "attr = attr.detach().cpu().numpy()\n",
    "\n",
    "plot = plt.bar(np.arange(len(attr[0])),np.mean(attr,axis=0))\n",
    "fig_name = f\"IntegratedGradientsTrainedOnlyOnB.png\"\n",
    "plt.savefig(fig_path / fig_name , format= \"png\", bbox_inches = \"tight\")\n",
    "plt.show()\n",
    "plt.close()"
   ]
  }
 ],
 "metadata": {
  "kernelspec": {
   "display_name": "Python 3",
   "language": "python",
   "name": "python3"
  },
  "language_info": {
   "codemirror_mode": {
    "name": "ipython",
    "version": 2
   },
   "file_extension": ".py",
   "mimetype": "text/x-python",
   "name": "python",
   "nbconvert_exporter": "python",
   "pygments_lexer": "ipython2"
  }
 },
 "nbformat": 4,
 "nbformat_minor": 5
}
