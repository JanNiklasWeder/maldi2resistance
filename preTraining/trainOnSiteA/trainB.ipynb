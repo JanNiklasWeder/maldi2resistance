{
 "cells": [
  {
   "cell_type": "markdown",
   "id": "3d89aed94233e3ff",
   "metadata": {},
   "source": [
    "# Fully connected feedforward network implementing a loss mask"
   ]
  },
  {
   "cell_type": "code",
   "execution_count": null,
   "id": "1eaaf570-0600-4d60-9fde-fcebcff3ce4c",
   "metadata": {},
   "outputs": [],
   "source": [
    "import torchmetrics.classification\n",
    "from torch import cuda\n",
    "assert cuda.is_available()\n",
    "assert cuda.device_count() > 0"
   ]
  },
  {
   "cell_type": "code",
   "execution_count": null,
   "id": "c7e50fb9-601f-425a-bf79-6441170b27dd",
   "metadata": {},
   "outputs": [
    {
     "name": "stdout",
     "output_type": "stream",
     "text": [
      "NVIDIA GeForce RTX 3060 Ti\n"
     ]
    }
   ],
   "source": [
    "print(cuda.get_device_name(cuda.current_device()))\n"
   ]
  },
  {
   "cell_type": "code",
   "execution_count": null,
   "id": "6c4b645f-6b5e-428e-855c-64b7e33ff874",
   "metadata": {},
   "outputs": [],
   "source": [
    "import torch"
   ]
  },
  {
   "cell_type": "code",
   "execution_count": null,
   "id": "5e8a6650-ef2b-44f1-9ea8-78912b15e9a9",
   "metadata": {},
   "outputs": [],
   "source": [
    "DEVICE = torch.device(\"cuda\")\n",
    "SEED = 76436278\n",
    "\n",
    "torch.manual_seed(SEED)\n",
    "\n",
    "checkpoint = torch.load('./model.pt')\n",
    "site = [\"DRIAMS-B\"]"
   ]
  },
  {
   "cell_type": "markdown",
   "id": "23b5a248-98cc-42cc-99b2-49bdd5ca1f35",
   "metadata": {},
   "source": [
    "### Load the Dataset"
   ]
  },
  {
   "cell_type": "code",
   "execution_count": null,
   "id": "7a00707ac6b2975",
   "metadata": {},
   "outputs": [
    {
     "name": "stderr",
     "output_type": "stream",
     "text": [
      "100%|██████████| 2371/2371 [00:00<00:00, 4638.58it/s]\n"
     ]
    },
    {
     "data": {
      "text/html": [
       "<div>\n",
       "<style scoped>\n",
       "    .dataframe tbody tr th:only-of-type {\n",
       "        vertical-align: middle;\n",
       "    }\n",
       "\n",
       "    .dataframe tbody tr th {\n",
       "        vertical-align: top;\n",
       "    }\n",
       "\n",
       "    .dataframe thead th {\n",
       "        text-align: right;\n",
       "    }\n",
       "</style>\n",
       "<table border=\"1\" class=\"dataframe\">\n",
       "  <thead>\n",
       "    <tr style=\"text-align: right;\">\n",
       "      <th></th>\n",
       "      <th>Amikacin</th>\n",
       "      <th>Amoxicillin-Clavulanic acid</th>\n",
       "      <th>Ampicillin-Amoxicillin</th>\n",
       "      <th>Cefazolin</th>\n",
       "      <th>Cefepime</th>\n",
       "      <th>Cefpodoxime</th>\n",
       "      <th>Ceftazidime</th>\n",
       "      <th>Ceftriaxone</th>\n",
       "      <th>Cefuroxime</th>\n",
       "      <th>Ciprofloxacin</th>\n",
       "      <th>...</th>\n",
       "      <th>Meropenem</th>\n",
       "      <th>Nitrofurantoin</th>\n",
       "      <th>Norfloxacin</th>\n",
       "      <th>Oxacillin</th>\n",
       "      <th>Penicillin</th>\n",
       "      <th>Piperacillin-Tazobactam</th>\n",
       "      <th>Rifampicin</th>\n",
       "      <th>Teicoplanin</th>\n",
       "      <th>Tetracycline</th>\n",
       "      <th>Tobramycin</th>\n",
       "    </tr>\n",
       "  </thead>\n",
       "  <tbody>\n",
       "    <tr>\n",
       "      <th>positive</th>\n",
       "      <td>26</td>\n",
       "      <td>536</td>\n",
       "      <td>0</td>\n",
       "      <td>0</td>\n",
       "      <td>269</td>\n",
       "      <td>0</td>\n",
       "      <td>106</td>\n",
       "      <td>115</td>\n",
       "      <td>304</td>\n",
       "      <td>339</td>\n",
       "      <td>...</td>\n",
       "      <td>11</td>\n",
       "      <td>534</td>\n",
       "      <td>143</td>\n",
       "      <td>186</td>\n",
       "      <td>0</td>\n",
       "      <td>188</td>\n",
       "      <td>13</td>\n",
       "      <td>10</td>\n",
       "      <td>130</td>\n",
       "      <td>0</td>\n",
       "    </tr>\n",
       "    <tr>\n",
       "      <th>negative</th>\n",
       "      <td>900</td>\n",
       "      <td>1454</td>\n",
       "      <td>0</td>\n",
       "      <td>0</td>\n",
       "      <td>1420</td>\n",
       "      <td>0</td>\n",
       "      <td>834</td>\n",
       "      <td>970</td>\n",
       "      <td>499</td>\n",
       "      <td>1680</td>\n",
       "      <td>...</td>\n",
       "      <td>905</td>\n",
       "      <td>481</td>\n",
       "      <td>657</td>\n",
       "      <td>545</td>\n",
       "      <td>0</td>\n",
       "      <td>987</td>\n",
       "      <td>789</td>\n",
       "      <td>736</td>\n",
       "      <td>747</td>\n",
       "      <td>0</td>\n",
       "    </tr>\n",
       "    <tr>\n",
       "      <th>n_sum</th>\n",
       "      <td>926</td>\n",
       "      <td>1990</td>\n",
       "      <td>0</td>\n",
       "      <td>0</td>\n",
       "      <td>1689</td>\n",
       "      <td>0</td>\n",
       "      <td>940</td>\n",
       "      <td>1085</td>\n",
       "      <td>803</td>\n",
       "      <td>2019</td>\n",
       "      <td>...</td>\n",
       "      <td>916</td>\n",
       "      <td>1015</td>\n",
       "      <td>800</td>\n",
       "      <td>731</td>\n",
       "      <td>0</td>\n",
       "      <td>1175</td>\n",
       "      <td>802</td>\n",
       "      <td>746</td>\n",
       "      <td>877</td>\n",
       "      <td>0</td>\n",
       "    </tr>\n",
       "  </tbody>\n",
       "</table>\n",
       "<p>3 rows × 30 columns</p>\n",
       "</div>"
      ],
      "text/plain": [
       "          Amikacin  Amoxicillin-Clavulanic acid  Ampicillin-Amoxicillin  \\\n",
       "positive        26                          536                       0   \n",
       "negative       900                         1454                       0   \n",
       "n_sum          926                         1990                       0   \n",
       "\n",
       "          Cefazolin  Cefepime  Cefpodoxime  Ceftazidime  Ceftriaxone  \\\n",
       "positive          0       269            0          106          115   \n",
       "negative          0      1420            0          834          970   \n",
       "n_sum             0      1689            0          940         1085   \n",
       "\n",
       "          Cefuroxime  Ciprofloxacin  ...  Meropenem  Nitrofurantoin  \\\n",
       "positive         304            339  ...         11             534   \n",
       "negative         499           1680  ...        905             481   \n",
       "n_sum            803           2019  ...        916            1015   \n",
       "\n",
       "          Norfloxacin  Oxacillin  Penicillin  Piperacillin-Tazobactam  \\\n",
       "positive          143        186           0                      188   \n",
       "negative          657        545           0                      987   \n",
       "n_sum             800        731           0                     1175   \n",
       "\n",
       "          Rifampicin  Teicoplanin  Tetracycline  Tobramycin  \n",
       "positive          13           10           130           0  \n",
       "negative         789          736           747           0  \n",
       "n_sum            802          746           877           0  \n",
       "\n",
       "[3 rows x 30 columns]"
      ]
     },
     "execution_count": null,
     "metadata": {},
     "output_type": "execute_result"
    }
   ],
   "source": [
    "from src.maldi2resistance.data.driams import Driams\n",
    "\n",
    "driams = Driams(\n",
    "    root_dir=\"/home/jan/Uni/master/data/Driams\",\n",
    "    sites=site,\n",
    "    antibiotics= checkpoint[\"selected_antibiotics\"],\n",
    "    cutoff_value= None,\n",
    "    cutoff_value_negative= None,\n",
    "    cutoff_value_positive= None\n",
    ")\n",
    "\n",
    "driams.loading_type = \"memory\"\n",
    "\n",
    "driams.label_stats"
   ]
  },
  {
   "cell_type": "code",
   "execution_count": null,
   "id": "81593d9f467a690d",
   "metadata": {},
   "outputs": [
    {
     "data": {
      "text/plain": [
       "30"
      ]
     },
     "execution_count": null,
     "metadata": {},
     "output_type": "execute_result"
    }
   ],
   "source": [
    "len(driams.selected_antibiotics)"
   ]
  },
  {
   "cell_type": "code",
   "execution_count": null,
   "id": "b81bd526-6a9c-4520-b121-9c01b4eb804a",
   "metadata": {},
   "outputs": [],
   "source": [
    "from maldi2resistance.model.MLP import AeBasedMLP\n",
    "\n",
    "model = AeBasedMLP(input_dim=18000, output_dim = len(driams.selected_antibiotics))"
   ]
  },
  {
   "cell_type": "code",
   "execution_count": null,
   "id": "46e04927-8b3b-4278-9203-1306b0588e20",
   "metadata": {},
   "outputs": [],
   "source": [
    "from torch.utils.data import DataLoader\n",
    "\n",
    "batch_size = 128\n",
    "\n",
    "train_loader = DataLoader(driams, batch_size=batch_size, shuffle=True, drop_last=True, pin_memory= True)"
   ]
  },
  {
   "cell_type": "code",
   "execution_count": null,
   "id": "a96643a0-bd63-437b-a676-f3a4a1826910",
   "metadata": {},
   "outputs": [
    {
     "name": "stdout",
     "output_type": "stream",
     "text": [
      "Start training ...\n"
     ]
    },
    {
     "data": {
      "application/vnd.jupyter.widget-view+json": {
       "model_id": "47e37198514d405a912d00ec761bca9a",
       "version_major": 2,
       "version_minor": 0
      },
      "text/plain": [
       "  0%|          | 0/30 [00:00<?, ?it/s]"
      ]
     },
     "metadata": {},
     "output_type": "display_data"
    },
    {
     "name": "stdout",
     "output_type": "stream",
     "text": [
      "\tAverage Loss: 0.000261 \tLearning rate: 0.001000\n",
      "\tAverage Loss: 0.000205 \tLearning rate: 0.001000\n",
      "\tAverage Loss: 0.000177 \tLearning rate: 0.001000\n",
      "\tAverage Loss: 0.000156 \tLearning rate: 0.001000\n",
      "\tAverage Loss: 0.000145 \tLearning rate: 0.001000\n",
      "\tAverage Loss: 0.000139 \tLearning rate: 0.001000\n",
      "\tAverage Loss: 0.000136 \tLearning rate: 0.001000\n",
      "\tAverage Loss: 0.000132 \tLearning rate: 0.001000\n",
      "\tAverage Loss: 0.000146 \tLearning rate: 0.001000\n",
      "\tAverage Loss: 0.000126 \tLearning rate: 0.000500\n",
      "\tAverage Loss: 0.000110 \tLearning rate: 0.000500\n",
      "\tAverage Loss: 0.000098 \tLearning rate: 0.000500\n",
      "\tAverage Loss: 0.000101 \tLearning rate: 0.000500\n",
      "\tAverage Loss: 0.000092 \tLearning rate: 0.000500\n",
      "\tAverage Loss: 0.000096 \tLearning rate: 0.000500\n",
      "\tAverage Loss: 0.000089 \tLearning rate: 0.000500\n",
      "\tAverage Loss: 0.000082 \tLearning rate: 0.000500\n",
      "\tAverage Loss: 0.000076 \tLearning rate: 0.000500\n",
      "\tAverage Loss: 0.000073 \tLearning rate: 0.000500\n",
      "\tAverage Loss: 0.000069 \tLearning rate: 0.000250\n",
      "\tAverage Loss: 0.000062 \tLearning rate: 0.000250\n",
      "\tAverage Loss: 0.000057 \tLearning rate: 0.000250\n",
      "\tAverage Loss: 0.000054 \tLearning rate: 0.000250\n",
      "\tAverage Loss: 0.000050 \tLearning rate: 0.000250\n",
      "\tAverage Loss: 0.000049 \tLearning rate: 0.000250\n",
      "\tAverage Loss: 0.000048 \tLearning rate: 0.000250\n",
      "\tAverage Loss: 0.000050 \tLearning rate: 0.000250\n",
      "\tAverage Loss: 0.000045 \tLearning rate: 0.000250\n",
      "\tAverage Loss: 0.000044 \tLearning rate: 0.000250\n",
      "\tAverage Loss: 0.000043 \tLearning rate: 0.000125\n",
      "Finish\n"
     ]
    }
   ],
   "source": [
    "from maldi2resistance.loss.maskedLoss import MaskedBCE\n",
    "from tqdm.auto import tqdm\n",
    "\n",
    "from torch.optim import Adam\n",
    "from torch.optim.lr_scheduler import StepLR\n",
    "\n",
    "print(\"Start training ...\")\n",
    "model.train()\n",
    "\n",
    "optimizer = Adam(model.parameters(), lr=1e-3, amsgrad = True)\n",
    "scheduler = StepLR(optimizer, step_size=10, gamma=0.5)\n",
    "loss_per_batch = []\n",
    "\n",
    "class_weights_negative = torch.tensor((1 - (driams.label_stats.loc[\"negative\"] / driams.label_stats.loc[\"n_sum\"])).values, device=DEVICE)\n",
    "class_weights_positive = torch.tensor((1 - (driams.label_stats.loc[\"positive\"] / driams.label_stats.loc[\"n_sum\"])).values, device=DEVICE)\n",
    "\n",
    "criterion = MaskedBCE(class_weights_positive= class_weights_negative, class_weights_negative= class_weights_negative)\n",
    "\n",
    "for epoch in tqdm(range(30)):\n",
    "    overall_loss = 0\n",
    "    \n",
    "    for batch_idx, (x, y) in enumerate(train_loader):\n",
    "        \n",
    "        x = x.to(DEVICE, non_blocking=True)\n",
    "        y = y.to(DEVICE, non_blocking=True)\n",
    "        \n",
    "        optimizer.zero_grad()\n",
    "\n",
    "        output = model(x)\n",
    "\n",
    "        loss = criterion(output, y)\n",
    "        current_loss_value = loss.item()\n",
    "        loss_per_batch.append(current_loss_value)\n",
    "        \n",
    "        overall_loss += current_loss_value\n",
    "        \n",
    "        loss.backward()\n",
    "        optimizer.step()\n",
    "\n",
    "    scheduler.step()\n",
    "    with tqdm.external_write_mode():\n",
    "        print(f\"\\tAverage Loss: {overall_loss / (batch_idx*batch_size):.6f} \\tLearning rate: {scheduler.get_last_lr()[0]:.6f}\")\n",
    "\n",
    "\n",
    "print(\"Finish\")"
   ]
  },
  {
   "cell_type": "code",
   "execution_count": null,
   "id": "8b707a90ed07c120",
   "metadata": {},
   "outputs": [
    {
     "data": {
      "image/png": "[encoded data removed]",
      "text/plain": [
       "<Figure size 640x480 with 1 Axes>"
      ]
     },
     "metadata": {},
     "output_type": "display_data"
    }
   ],
   "source": [
    "import matplotlib.pyplot as plt \n",
    "\n",
    "plt.title(\"Loss per batch\") \n",
    "plt.xlabel(\"Batch idx\") \n",
    "plt.ylabel(\"Loss\") \n",
    "plt.plot(list(range(0,len(loss_per_batch))),loss_per_batch , color =\"red\") \n",
    "plt.show()"
   ]
  },
  {
   "cell_type": "code",
   "execution_count": null,
   "id": "01f78615-fd71-43f2-a7a1-c12f17be8950",
   "metadata": {},
   "outputs": [
    {
     "data": {
      "text/plain": [
       "AeBasedMLP(\n",
       "  (encoder): Encoder(\n",
       "    (input): Linear(in_features=18000, out_features=4096, bias=True)\n",
       "    (layer_1): Linear(in_features=4096, out_features=4096, bias=True)\n",
       "    (layer_2): Linear(in_features=4096, out_features=2048, bias=True)\n",
       "    (LeakyReLU): LeakyReLU(negative_slope=0.2)\n",
       "  )\n",
       "  (decoder): Decoder(\n",
       "    (input): Linear(in_features=2048, out_features=4096, bias=True)\n",
       "    (layer_1): Linear(in_features=4096, out_features=4096, bias=True)\n",
       "    (layer_2): Linear(in_features=4096, out_features=30, bias=True)\n",
       "    (LeakyReLU): LeakyReLU(negative_slope=0.2)\n",
       "  )\n",
       ")"
      ]
     },
     "execution_count": null,
     "metadata": {},
     "output_type": "execute_result"
    }
   ],
   "source": [
    "model.eval()"
   ]
  },
  {
   "cell_type": "code",
   "execution_count": null,
   "id": "645c4916b1549621",
   "metadata": {},
   "outputs": [],
   "source": [
    "torch.save({\n",
    "            'model_state_dict': model.state_dict(),\n",
    "            'selected_antibiotics': driams.selected_antibiotics\n",
    "            }, './modelTrainedOnlyOnB.pt')"
   ]
  }
 ],
 "metadata": {
  "kernelspec": {
   "display_name": "Python 3 (ipykernel)",
   "language": "python",
   "name": "python3"
  },
  "language_info": {
   "codemirror_mode": {
    "name": "ipython",
    "version": 3
   },
   "file_extension": ".py",
   "mimetype": "text/x-python",
   "name": "python",
   "nbconvert_exporter": "python",
   "pygments_lexer": "ipython3"
  },
  "widgets": {
   "application/vnd.jupyter.widget-state+json": {
    "state": {},
    "version_major": 2,
    "version_minor": 0
   }
  }
 },
 "nbformat": 4,
 "nbformat_minor": 5
}
