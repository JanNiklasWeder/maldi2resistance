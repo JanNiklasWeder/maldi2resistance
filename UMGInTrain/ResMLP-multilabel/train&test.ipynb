{
 "cells": [
  {
   "cell_type": "markdown",
   "id": "3d89aed94233e3ff",
   "metadata": {},
   "source": [
    "# Fully connected feedforward network implementing a loss mask"
   ]
  },
  {
   "cell_type": "code",
   "execution_count": null,
   "id": "1eaaf570-0600-4d60-9fde-fcebcff3ce4c",
   "metadata": {},
   "outputs": [],
   "source": [
    "import torchmetrics.classification\n",
    "from torch import cuda\n",
    "assert cuda.is_available()\n",
    "assert cuda.device_count() > 0"
   ]
  },
  {
   "cell_type": "code",
   "execution_count": null,
   "id": "c7e50fb9-601f-425a-bf79-6441170b27dd",
   "metadata": {},
   "outputs": [
    {
     "name": "stdout",
     "output_type": "stream",
     "text": [
      "NVIDIA GeForce RTX 3060 Ti\n"
     ]
    }
   ],
   "source": [
    "print(cuda.get_device_name(cuda.current_device()))\n"
   ]
  },
  {
   "cell_type": "code",
   "execution_count": null,
   "id": "6c4b645f-6b5e-428e-855c-64b7e33ff874",
   "metadata": {},
   "outputs": [],
   "source": [
    "import torch\n",
    "import torch.nn as nn"
   ]
  },
  {
   "cell_type": "code",
   "execution_count": null,
   "id": "5e8a6650-ef2b-44f1-9ea8-78912b15e9a9",
   "metadata": {},
   "outputs": [
    {
     "data": {
      "text/plain": [
       "<torch._C.Generator at 0x7ff6e03aefb0>"
      ]
     },
     "execution_count": null,
     "metadata": {},
     "output_type": "execute_result"
    }
   ],
   "source": [
    "DEVICE = torch.device(\"cuda\")\n",
    "SEED = 76436278\n",
    "\n",
    "torch.manual_seed(SEED)"
   ]
  },
  {
   "cell_type": "markdown",
   "id": "23b5a248-98cc-42cc-99b2-49bdd5ca1f35",
   "metadata": {},
   "source": [
    "### Load the Dataset"
   ]
  },
  {
   "cell_type": "code",
   "execution_count": null,
   "id": "7a00707ac6b2975",
   "metadata": {},
   "outputs": [
    {
     "name": "stderr",
     "output_type": "stream",
     "text": [
      "/home/jan/Uni/master/src/maldi2resistance/data/driams.py:86: UserWarning: Metafile for Site (DRIAMS-B) and Year (2015) combination not found!\n",
      "  warnings.warn(\n",
      "/home/jan/Uni/master/src/maldi2resistance/data/driams.py:86: UserWarning: Metafile for Site (DRIAMS-B) and Year (2016) combination not found!\n",
      "  warnings.warn(\n",
      "/home/jan/Uni/master/src/maldi2resistance/data/driams.py:86: UserWarning: Metafile for Site (DRIAMS-B) and Year (2017) combination not found!\n",
      "  warnings.warn(\n",
      "/home/jan/Uni/master/src/maldi2resistance/data/driams.py:86: UserWarning: Metafile for Site (DRIAMS-C) and Year (2015) combination not found!\n",
      "  warnings.warn(\n",
      "/home/jan/Uni/master/src/maldi2resistance/data/driams.py:86: UserWarning: Metafile for Site (DRIAMS-C) and Year (2016) combination not found!\n",
      "  warnings.warn(\n",
      "/home/jan/Uni/master/src/maldi2resistance/data/driams.py:86: UserWarning: Metafile for Site (DRIAMS-C) and Year (2017) combination not found!\n",
      "  warnings.warn(\n",
      "/home/jan/Uni/master/src/maldi2resistance/data/driams.py:86: UserWarning: Metafile for Site (DRIAMS-D) and Year (2015) combination not found!\n",
      "  warnings.warn(\n",
      "/home/jan/Uni/master/src/maldi2resistance/data/driams.py:86: UserWarning: Metafile for Site (DRIAMS-D) and Year (2016) combination not found!\n",
      "  warnings.warn(\n",
      "/home/jan/Uni/master/src/maldi2resistance/data/driams.py:86: UserWarning: Metafile for Site (DRIAMS-D) and Year (2017) combination not found!\n",
      "  warnings.warn(\n"
     ]
    },
    {
     "data": {
      "application/vnd.jupyter.widget-view+json": {
       "model_id": "3886c441f09c4149bb631f4fd0bd563f",
       "version_major": 2,
       "version_minor": 0
      },
      "text/plain": [
       "Loading Spectra into Memory:   0%|          | 0/55780 [00:00<?, ?it/s]"
      ]
     },
     "metadata": {},
     "output_type": "display_data"
    },
    {
     "data": {
      "application/vnd.jupyter.widget-view+json": {
       "model_id": "625228283cc84fbcb6272785c6508b29",
       "version_major": 2,
       "version_minor": 0
      },
      "text/plain": [
       "Loading Spectra into Memory:   0%|          | 0/73745 [00:00<?, ?it/s]"
      ]
     },
     "metadata": {},
     "output_type": "display_data"
    },
    {
     "data": {
      "text/html": [
       "\n",
       "        <table>\n",
       "            <thead>\n",
       "                <tr>\n",
       "                    <th>Antibiotic:</th>\n",
       "                    <th> Amikacin </th><th> Amoxicillin-Clavulanic acid </th><th> Ampicillin </th><th> Ampicillin-Amoxicillin </th><th> Aztreonam </th><th> Benzylpenicillin </th><th> Cefazolin </th><th> Cefepime </th><th> Cefpodoxime </th><th> Ceftazidime </th><th> Ceftriaxone </th><th> Cefuroxime </th><th> Ciprofloxacin </th><th> Clarithromycin </th><th> Clindamycin </th><th> Colistin </th><th> Cotrimoxazole </th><th> Ertapenem </th><th> Erythromycin </th><th> Fosfomycin </th><th> Fosfomycin-Trometamol </th><th> Fusidic acid </th><th> Gentamicin </th><th> Imipenem </th><th> Levofloxacin </th><th> Meropenem </th><th> Mupirocin </th><th> Nitrofurantoin </th><th> Norfloxacin </th><th> Oxacillin </th><th> Penicillin </th><th> Piperacillin-Tazobactam </th><th> Polymyxin B </th><th> Rifampicin </th><th> Teicoplanin </th><th> Tetracycline </th><th> Tobramycin </th><th> Vancomycin </th>\n",
       "                </tr>\n",
       "            </thead>\n",
       "            <tbody>\n",
       "                <tr>\n",
       "                    <td>Number resistant:</td>\n",
       "                    <td> 1068 </td><td> 13366 </td><td> 8578 </td><td> 21966 </td><td> 628 </td><td> 618 </td><td> 4223 </td><td> 7383 </td><td> 2338 </td><td> 3470 </td><td> 8659 </td><td> 5855 </td><td> 9338 </td><td> 310 </td><td> 4381 </td><td> 2874 </td><td> 7405 </td><td> 427 </td><td> 5468 </td><td> 2303 </td><td> 1326 </td><td> 3620 </td><td> 3481 </td><td> 7560 </td><td> 4217 </td><td> 5194 </td><td> 570 </td><td> 1271 </td><td> 1205 </td><td> 5537 </td><td> 12431 </td><td> 7616 </td><td> 486 </td><td> 580 </td><td> 244 </td><td> 3534 </td><td> 1707 </td><td> 227 </td>\n",
       "                </tr>\n",
       "                <tr>\n",
       "                    <td>Number susceptible:</td>\n",
       "                    <td> 20941 </td><td> 24992 </td><td> 4194 </td><td> 4905 </td><td> 456 </td><td> 457 </td><td> 5813 </td><td> 31567 </td><td> 4382 </td><td> 24566 </td><td> 28464 </td><td> 8368 </td><td> 36822 </td><td> 1262 </td><td> 9841 </td><td> 15784 </td><td> 24590 </td><td> 21740 </td><td> 9044 </td><td> 10184 </td><td> 4803 </td><td> 8498 </td><td> 22662 </td><td> 31717 </td><td> 17989 </td><td> 27228 </td><td> 4656 </td><td> 3603 </td><td> 7031 </td><td> 7740 </td><td> 4286 </td><td> 31308 </td><td> 2305 </td><td> 14964 </td><td> 8486 </td><td> 10376 </td><td> 16809 </td><td> 20540 </td>\n",
       "                </tr>\n",
       "                <tr>\n",
       "                    <td>Number data points:</td>\n",
       "                    <td> 22009 </td><td> 38358 </td><td> 12772 </td><td> 26871 </td><td> 1084 </td><td> 1075 </td><td> 10036 </td><td> 38950 </td><td> 6720 </td><td> 28036 </td><td> 37123 </td><td> 14223 </td><td> 46160 </td><td> 1572 </td><td> 14222 </td><td> 18658 </td><td> 31995 </td><td> 22167 </td><td> 14512 </td><td> 12487 </td><td> 6129 </td><td> 12118 </td><td> 26143 </td><td> 39277 </td><td> 22206 </td><td> 32422 </td><td> 5226 </td><td> 4874 </td><td> 8236 </td><td> 13277 </td><td> 16717 </td><td> 38924 </td><td> 2791 </td><td> 15544 </td><td> 8730 </td><td> 13910 </td><td> 18516 </td><td> 20767 </td>\n",
       "                </tr>\n",
       "            </tbody>\n",
       "        </table>\n",
       "                "
      ],
      "text/plain": [
       "<src.maldi2resistance.data.driams.Driams at 0x7ff64472f9d0>"
      ]
     },
     "execution_count": null,
     "metadata": {},
     "output_type": "execute_result"
    }
   ],
   "source": [
    "from src.maldi2resistance.data.driams import Driams\n",
    "\n",
    "driams = Driams(\n",
    "    root_dir=\"/home/jan/Uni/master/data/Driams\",\n",
    ")\n",
    "umg = Driams(\n",
    "    root_dir=\"/home/jan/Uni/master/data/Driams\",\n",
    "    bin_size=1,\n",
    "    sites=[\"UMG\"],\n",
    "    years=[2020,2021],\n",
    "    antibiotics=driams.selected_antibiotics,\n",
    ")\n",
    "\n",
    "driams.loading_type = \"memory\"\n",
    "umg.loading_type = \"memory\"\n",
    "\n",
    "driams"
   ]
  },
  {
   "cell_type": "code",
   "execution_count": null,
   "id": "fbbd28ab5fd2a857",
   "metadata": {},
   "outputs": [
    {
     "data": {
      "text/plain": [
       "38"
      ]
     },
     "execution_count": null,
     "metadata": {},
     "output_type": "execute_result"
    }
   ],
   "source": [
    "len(driams.label_stats.columns)"
   ]
  },
  {
   "cell_type": "code",
   "execution_count": null,
   "id": "b81bd526-6a9c-4520-b121-9c01b4eb804a",
   "metadata": {},
   "outputs": [],
   "source": [
    "import copy\n",
    "from maldi2resistance.model.MultilabelResMLP import MultilabelResMLP\n",
    "\n",
    "model = MultilabelResMLP( input_dim= 18000, output_dim= len(driams.selected_antibiotics), hidden_dim=256)\n",
    "model = model.to(DEVICE)\n",
    "\n",
    "model_state = copy.deepcopy(model.state_dict()) "
   ]
  },
  {
   "cell_type": "code",
   "execution_count": null,
   "id": "13a7cb14d7e874ab",
   "metadata": {},
   "outputs": [
    {
     "name": "stdout",
     "output_type": "stream",
     "text": [
      "======================================================================\n",
      "Layer (type:depth-idx)                        Param #\n",
      "======================================================================\n",
      "MultilabelResMLP                              --\n",
      "├─Linear: 1-1                                 4,608,256\n",
      "├─ResMLP: 1-2                                 --\n",
      "│    └─Sequential: 2-1                        --\n",
      "│    │    └─ResBlock: 3-1                     66,304\n",
      "│    │    └─ResBlock: 3-2                     66,304\n",
      "│    │    └─ResBlock: 3-3                     66,304\n",
      "│    │    └─ResBlock: 3-4                     66,304\n",
      "│    │    └─ResBlock: 3-5                     66,304\n",
      "│    │    └─Linear: 3-6                       9,766\n",
      "======================================================================\n",
      "Total params: 4,949,542\n",
      "Trainable params: 4,949,542\n",
      "Non-trainable params: 0\n",
      "======================================================================\n"
     ]
    }
   ],
   "source": [
    "from torchinfo import summary\n",
    "\n",
    "print(summary(model))"
   ]
  },
  {
   "cell_type": "code",
   "execution_count": null,
   "id": "e361914c-9fb8-4a94-bb2c-95a3b68cda0b",
   "metadata": {},
   "outputs": [],
   "source": [
    "from torch.utils.data import DataLoader"
   ]
  },
  {
   "cell_type": "code",
   "execution_count": null,
   "id": "a96643a0-bd63-437b-a676-f3a4a1826910",
   "metadata": {},
   "outputs": [
    {
     "name": "stdout",
     "output_type": "stream",
     "text": [
      "Start training ...\n"
     ]
    },
    {
     "data": {
      "application/vnd.jupyter.widget-view+json": {
       "model_id": "3c884e66af544d069ba03c8b0646a624",
       "version_major": 2,
       "version_minor": 0
      },
      "text/plain": [
       "  0%|          | 0/30 [00:00<?, ?it/s]"
      ]
     },
     "metadata": {},
     "output_type": "display_data"
    },
    {
     "name": "stdout",
     "output_type": "stream",
     "text": [
      "\tAverage Loss: 0.000703 \tLearning rate: 0.001000\n",
      "\tAverage Loss: 0.000579 \tLearning rate: 0.001000\n",
      "\tAverage Loss: 0.000543 \tLearning rate: 0.001000\n",
      "\tAverage Loss: 0.000522 \tLearning rate: 0.001000\n",
      "\tAverage Loss: 0.000503 \tLearning rate: 0.001000\n",
      "\tAverage Loss: 0.000489 \tLearning rate: 0.001000\n",
      "\tAverage Loss: 0.000474 \tLearning rate: 0.001000\n",
      "\tAverage Loss: 0.000461 \tLearning rate: 0.001000\n",
      "\tAverage Loss: 0.000451 \tLearning rate: 0.001000\n",
      "\tAverage Loss: 0.000439 \tLearning rate: 0.000500\n",
      "\tAverage Loss: 0.000407 \tLearning rate: 0.000500\n",
      "\tAverage Loss: 0.000398 \tLearning rate: 0.000500\n",
      "\tAverage Loss: 0.000389 \tLearning rate: 0.000500\n",
      "\tAverage Loss: 0.000383 \tLearning rate: 0.000500\n",
      "\tAverage Loss: 0.000375 \tLearning rate: 0.000500\n",
      "\tAverage Loss: 0.000371 \tLearning rate: 0.000500\n",
      "\tAverage Loss: 0.000364 \tLearning rate: 0.000500\n",
      "\tAverage Loss: 0.000358 \tLearning rate: 0.000500\n",
      "\tAverage Loss: 0.000352 \tLearning rate: 0.000500\n",
      "\tAverage Loss: 0.000349 \tLearning rate: 0.000250\n",
      "\tAverage Loss: 0.000327 \tLearning rate: 0.000250\n",
      "\tAverage Loss: 0.000321 \tLearning rate: 0.000250\n",
      "\tAverage Loss: 0.000318 \tLearning rate: 0.000250\n",
      "\tAverage Loss: 0.000314 \tLearning rate: 0.000250\n",
      "\tAverage Loss: 0.000310 \tLearning rate: 0.000250\n",
      "\tAverage Loss: 0.000307 \tLearning rate: 0.000250\n",
      "\tAverage Loss: 0.000304 \tLearning rate: 0.000250\n",
      "\tAverage Loss: 0.000300 \tLearning rate: 0.000250\n",
      "\tAverage Loss: 0.000297 \tLearning rate: 0.000250\n",
      "\tAverage Loss: 0.000293 \tLearning rate: 0.000125\n",
      "Finished Fold 0\n"
     ]
    },
    {
     "data": {
      "application/vnd.jupyter.widget-view+json": {
       "model_id": "48dcfcd7181b444380c782cc43a07fdb",
       "version_major": 2,
       "version_minor": 0
      },
      "text/plain": [
       "  0%|          | 0/30 [00:00<?, ?it/s]"
      ]
     },
     "metadata": {},
     "output_type": "display_data"
    },
    {
     "name": "stdout",
     "output_type": "stream",
     "text": [
      "\tAverage Loss: 0.000703 \tLearning rate: 0.001000\n",
      "\tAverage Loss: 0.000579 \tLearning rate: 0.001000\n",
      "\tAverage Loss: 0.000545 \tLearning rate: 0.001000\n",
      "\tAverage Loss: 0.000523 \tLearning rate: 0.001000\n",
      "\tAverage Loss: 0.000504 \tLearning rate: 0.001000\n",
      "\tAverage Loss: 0.000489 \tLearning rate: 0.001000\n",
      "\tAverage Loss: 0.000476 \tLearning rate: 0.001000\n",
      "\tAverage Loss: 0.000464 \tLearning rate: 0.001000\n",
      "\tAverage Loss: 0.000453 \tLearning rate: 0.001000\n",
      "\tAverage Loss: 0.000442 \tLearning rate: 0.000500\n",
      "\tAverage Loss: 0.000410 \tLearning rate: 0.000500\n",
      "\tAverage Loss: 0.000400 \tLearning rate: 0.000500\n",
      "\tAverage Loss: 0.000392 \tLearning rate: 0.000500\n",
      "\tAverage Loss: 0.000385 \tLearning rate: 0.000500\n",
      "\tAverage Loss: 0.000377 \tLearning rate: 0.000500\n",
      "\tAverage Loss: 0.000371 \tLearning rate: 0.000500\n",
      "\tAverage Loss: 0.000365 \tLearning rate: 0.000500\n",
      "\tAverage Loss: 0.000359 \tLearning rate: 0.000500\n",
      "\tAverage Loss: 0.000353 \tLearning rate: 0.000500\n",
      "\tAverage Loss: 0.000349 \tLearning rate: 0.000250\n",
      "\tAverage Loss: 0.000327 \tLearning rate: 0.000250\n",
      "\tAverage Loss: 0.000322 \tLearning rate: 0.000250\n",
      "\tAverage Loss: 0.000317 \tLearning rate: 0.000250\n",
      "\tAverage Loss: 0.000314 \tLearning rate: 0.000250\n",
      "\tAverage Loss: 0.000311 \tLearning rate: 0.000250\n",
      "\tAverage Loss: 0.000307 \tLearning rate: 0.000250\n",
      "\tAverage Loss: 0.000303 \tLearning rate: 0.000250\n",
      "\tAverage Loss: 0.000300 \tLearning rate: 0.000250\n",
      "\tAverage Loss: 0.000297 \tLearning rate: 0.000250\n",
      "\tAverage Loss: 0.000293 \tLearning rate: 0.000125\n",
      "Finished Fold 1\n"
     ]
    },
    {
     "data": {
      "application/vnd.jupyter.widget-view+json": {
       "model_id": "21a8cd7ef6554f7396acd155505ce737",
       "version_major": 2,
       "version_minor": 0
      },
      "text/plain": [
       "  0%|          | 0/30 [00:00<?, ?it/s]"
      ]
     },
     "metadata": {},
     "output_type": "display_data"
    },
    {
     "name": "stdout",
     "output_type": "stream",
     "text": [
      "\tAverage Loss: 0.000703 \tLearning rate: 0.001000\n",
      "\tAverage Loss: 0.000578 \tLearning rate: 0.001000\n",
      "\tAverage Loss: 0.000545 \tLearning rate: 0.001000\n",
      "\tAverage Loss: 0.000523 \tLearning rate: 0.001000\n",
      "\tAverage Loss: 0.000504 \tLearning rate: 0.001000\n",
      "\tAverage Loss: 0.000489 \tLearning rate: 0.001000\n",
      "\tAverage Loss: 0.000476 \tLearning rate: 0.001000\n",
      "\tAverage Loss: 0.000464 \tLearning rate: 0.001000\n",
      "\tAverage Loss: 0.000451 \tLearning rate: 0.001000\n",
      "\tAverage Loss: 0.000442 \tLearning rate: 0.000500\n",
      "\tAverage Loss: 0.000407 \tLearning rate: 0.000500\n",
      "\tAverage Loss: 0.000399 \tLearning rate: 0.000500\n",
      "\tAverage Loss: 0.000391 \tLearning rate: 0.000500\n",
      "\tAverage Loss: 0.000382 \tLearning rate: 0.000500\n",
      "\tAverage Loss: 0.000375 \tLearning rate: 0.000500\n",
      "\tAverage Loss: 0.000370 \tLearning rate: 0.000500\n",
      "\tAverage Loss: 0.000364 \tLearning rate: 0.000500\n",
      "\tAverage Loss: 0.000356 \tLearning rate: 0.000500\n",
      "\tAverage Loss: 0.000350 \tLearning rate: 0.000500\n",
      "\tAverage Loss: 0.000347 \tLearning rate: 0.000250\n",
      "\tAverage Loss: 0.000326 \tLearning rate: 0.000250\n",
      "\tAverage Loss: 0.000318 \tLearning rate: 0.000250\n",
      "\tAverage Loss: 0.000315 \tLearning rate: 0.000250\n",
      "\tAverage Loss: 0.000310 \tLearning rate: 0.000250\n",
      "\tAverage Loss: 0.000307 \tLearning rate: 0.000250\n",
      "\tAverage Loss: 0.000304 \tLearning rate: 0.000250\n",
      "\tAverage Loss: 0.000300 \tLearning rate: 0.000250\n",
      "\tAverage Loss: 0.000296 \tLearning rate: 0.000250\n",
      "\tAverage Loss: 0.000293 \tLearning rate: 0.000250\n",
      "\tAverage Loss: 0.000290 \tLearning rate: 0.000125\n",
      "Finished Fold 2\n"
     ]
    },
    {
     "data": {
      "application/vnd.jupyter.widget-view+json": {
       "model_id": "5450cc44d2cc4a95bde4dd9ffdb10c0d",
       "version_major": 2,
       "version_minor": 0
      },
      "text/plain": [
       "  0%|          | 0/30 [00:00<?, ?it/s]"
      ]
     },
     "metadata": {},
     "output_type": "display_data"
    },
    {
     "name": "stdout",
     "output_type": "stream",
     "text": [
      "\tAverage Loss: 0.000701 \tLearning rate: 0.001000\n",
      "\tAverage Loss: 0.000580 \tLearning rate: 0.001000\n",
      "\tAverage Loss: 0.000546 \tLearning rate: 0.001000\n",
      "\tAverage Loss: 0.000523 \tLearning rate: 0.001000\n",
      "\tAverage Loss: 0.000504 \tLearning rate: 0.001000\n",
      "\tAverage Loss: 0.000490 \tLearning rate: 0.001000\n",
      "\tAverage Loss: 0.000478 \tLearning rate: 0.001000\n",
      "\tAverage Loss: 0.000463 \tLearning rate: 0.001000\n",
      "\tAverage Loss: 0.000452 \tLearning rate: 0.001000\n",
      "\tAverage Loss: 0.000443 \tLearning rate: 0.000500\n",
      "\tAverage Loss: 0.000410 \tLearning rate: 0.000500\n",
      "\tAverage Loss: 0.000400 \tLearning rate: 0.000500\n",
      "\tAverage Loss: 0.000392 \tLearning rate: 0.000500\n",
      "\tAverage Loss: 0.000385 \tLearning rate: 0.000500\n",
      "\tAverage Loss: 0.000377 \tLearning rate: 0.000500\n",
      "\tAverage Loss: 0.000371 \tLearning rate: 0.000500\n",
      "\tAverage Loss: 0.000364 \tLearning rate: 0.000500\n",
      "\tAverage Loss: 0.000359 \tLearning rate: 0.000500\n",
      "\tAverage Loss: 0.000355 \tLearning rate: 0.000500\n",
      "\tAverage Loss: 0.000348 \tLearning rate: 0.000250\n",
      "\tAverage Loss: 0.000326 \tLearning rate: 0.000250\n",
      "\tAverage Loss: 0.000321 \tLearning rate: 0.000250\n",
      "\tAverage Loss: 0.000317 \tLearning rate: 0.000250\n",
      "\tAverage Loss: 0.000313 \tLearning rate: 0.000250\n",
      "\tAverage Loss: 0.000310 \tLearning rate: 0.000250\n",
      "\tAverage Loss: 0.000307 \tLearning rate: 0.000250\n",
      "\tAverage Loss: 0.000303 \tLearning rate: 0.000250\n",
      "\tAverage Loss: 0.000299 \tLearning rate: 0.000250\n",
      "\tAverage Loss: 0.000296 \tLearning rate: 0.000250\n",
      "\tAverage Loss: 0.000293 \tLearning rate: 0.000125\n",
      "Finished Fold 3\n"
     ]
    },
    {
     "data": {
      "application/vnd.jupyter.widget-view+json": {
       "model_id": "eaf4d35b9f7b456f9ba696ddf693ad3c",
       "version_major": 2,
       "version_minor": 0
      },
      "text/plain": [
       "  0%|          | 0/30 [00:00<?, ?it/s]"
      ]
     },
     "metadata": {},
     "output_type": "display_data"
    },
    {
     "name": "stdout",
     "output_type": "stream",
     "text": [
      "\tAverage Loss: 0.000707 \tLearning rate: 0.001000\n",
      "\tAverage Loss: 0.000580 \tLearning rate: 0.001000\n",
      "\tAverage Loss: 0.000547 \tLearning rate: 0.001000\n",
      "\tAverage Loss: 0.000525 \tLearning rate: 0.001000\n",
      "\tAverage Loss: 0.000507 \tLearning rate: 0.001000\n",
      "\tAverage Loss: 0.000491 \tLearning rate: 0.001000\n",
      "\tAverage Loss: 0.000478 \tLearning rate: 0.001000\n",
      "\tAverage Loss: 0.000466 \tLearning rate: 0.001000\n",
      "\tAverage Loss: 0.000453 \tLearning rate: 0.001000\n",
      "\tAverage Loss: 0.000444 \tLearning rate: 0.000500\n",
      "\tAverage Loss: 0.000411 \tLearning rate: 0.000500\n",
      "\tAverage Loss: 0.000401 \tLearning rate: 0.000500\n",
      "\tAverage Loss: 0.000394 \tLearning rate: 0.000500\n",
      "\tAverage Loss: 0.000386 \tLearning rate: 0.000500\n",
      "\tAverage Loss: 0.000379 \tLearning rate: 0.000500\n",
      "\tAverage Loss: 0.000373 \tLearning rate: 0.000500\n",
      "\tAverage Loss: 0.000368 \tLearning rate: 0.000500\n",
      "\tAverage Loss: 0.000362 \tLearning rate: 0.000500\n",
      "\tAverage Loss: 0.000356 \tLearning rate: 0.000500\n",
      "\tAverage Loss: 0.000351 \tLearning rate: 0.000250\n",
      "\tAverage Loss: 0.000330 \tLearning rate: 0.000250\n",
      "\tAverage Loss: 0.000325 \tLearning rate: 0.000250\n",
      "\tAverage Loss: 0.000321 \tLearning rate: 0.000250\n",
      "\tAverage Loss: 0.000317 \tLearning rate: 0.000250\n",
      "\tAverage Loss: 0.000313 \tLearning rate: 0.000250\n",
      "\tAverage Loss: 0.000310 \tLearning rate: 0.000250\n",
      "\tAverage Loss: 0.000306 \tLearning rate: 0.000250\n",
      "\tAverage Loss: 0.000304 \tLearning rate: 0.000250\n",
      "\tAverage Loss: 0.000300 \tLearning rate: 0.000250\n",
      "\tAverage Loss: 0.000297 \tLearning rate: 0.000125\n",
      "Finished Fold 4\n"
     ]
    }
   ],
   "source": [
    "from maldi2resistance.metric.PrecisionRecall import MultiLabelPRNan\n",
    "from pathlib import Path\n",
    "from maldi2resistance.metric.ROC import MultiLabelRocNan\n",
    "from maldi2resistance.loss.maskedLoss import MaskedBCE\n",
    "from tqdm.auto import tqdm\n",
    "import matplotlib.pyplot as plt\n",
    "\n",
    "from torch.optim import Adam\n",
    "from torch.optim.lr_scheduler import StepLR\n",
    "\n",
    "print(\"Start training ...\")\n",
    "model.train()\n",
    "\n",
    "batch_size = 128\n",
    "fig_path = Path(\"./kfold/figures\")\n",
    "fig_path.mkdir(parents=True, exist_ok=True)\n",
    "\n",
    "loss_per_batch = []\n",
    "\n",
    "class_weights_negative = torch.tensor((1 - (driams.label_stats.loc[\"negative\"] / driams.label_stats.loc[\"n_sum\"])).values, device=DEVICE)\n",
    "class_weights_positive = torch.tensor((1 - (driams.label_stats.loc[\"positive\"] / driams.label_stats.loc[\"n_sum\"])).values, device=DEVICE)\n",
    "\n",
    "criterion = MaskedBCE()\n",
    "\n",
    "gen = torch.Generator()\n",
    "\n",
    "for fold, (train_data, test_data) in enumerate(driams.getK_fold(n_splits=5, shuffle=True, random_state= SEED)):\n",
    "    \n",
    "    train_data_umg = torch.utils.data.ConcatDataset([train_data, umg])\n",
    "    train_loader = DataLoader(train_data_umg, batch_size=batch_size, shuffle=True, drop_last=True, generator= gen.manual_seed(SEED))\n",
    "    test_loader = DataLoader(test_data, batch_size=len(test_data), shuffle=True, drop_last=True, generator= gen.manual_seed(SEED))\n",
    "    \n",
    "    model.load_state_dict(model_state)\n",
    "    model.train()\n",
    "    \n",
    "    optimizer = Adam(model.parameters(), lr=1e-3, amsgrad = True)\n",
    "    scheduler = StepLR(optimizer, step_size=10, gamma=0.5)\n",
    "\n",
    "    for epoch in tqdm(range(30)):\n",
    "        overall_loss = 0\n",
    "        \n",
    "        for batch_idx, (x, y) in enumerate(train_loader):\n",
    "    \n",
    "            x = x.to(DEVICE)\n",
    "            y = y.to(DEVICE)\n",
    "            \n",
    "            optimizer.zero_grad()\n",
    "    \n",
    "            output = model(x)\n",
    "        \n",
    "            loss = criterion(output, y)\n",
    "            current_loss_value = loss.item()\n",
    "            loss_per_batch.append(current_loss_value)\n",
    "            \n",
    "            overall_loss += current_loss_value\n",
    "            \n",
    "            loss.backward()\n",
    "            optimizer.step()\n",
    "    \n",
    "        scheduler.step()\n",
    "        with tqdm.external_write_mode():\n",
    "            print(f\"\\tAverage Loss: {overall_loss / (batch_idx*batch_size):.6f} \\tLearning rate: {scheduler.get_last_lr()[0]:.6f}\")\n",
    "    \n",
    "    \n",
    "    print(f\"Finished Fold {fold}\")\n",
    "    \n",
    "    model.eval()\n",
    "    \n",
    "    DEVICE = torch.device(\"cpu\")\n",
    "    test_features, test_labels = next(iter(test_loader))\n",
    "    test_features = test_features.to(DEVICE)\n",
    "    test_labels = test_labels.to(DEVICE)\n",
    "    model = model.to(DEVICE)\n",
    "    \n",
    "    ml_roc = MultiLabelRocNan()\n",
    "    output = model(test_features)\n",
    "    \n",
    "    \n",
    "    ml_roc.compute(output,test_labels,driams.selected_antibiotics, create_csv=f\"./kfold/csv/fold-{fold}_ROC.csv\")\n",
    "    fig_, ax_ = ml_roc()\n",
    "    \n",
    "    plt.savefig(fig_path / f\"fold-{fold}_ROC.png\", transparent=True, format= \"png\", bbox_inches = \"tight\")\n",
    "    plt.close()\n",
    "    \n",
    "    ml_pr = MultiLabelPRNan()\n",
    "    ml_pr.compute(output,test_labels,driams.selected_antibiotics, create_csv=f\"./kfold/csv/fold-{fold}_PrecisionRecall.csv\")\n",
    "    \n",
    "    fig_, ax_ = ml_pr()\n",
    "    \n",
    "    plt.savefig(fig_path / f\"fold-{fold}_PrecisionRecall.png\", transparent=True, format= \"png\", bbox_inches = \"tight\")\n",
    "    plt.close()\n",
    "    \n",
    "    DEVICE = torch.device(\"cuda\")\n",
    "    model = model.to(DEVICE)"
   ]
  },
  {
   "cell_type": "code",
   "execution_count": null,
   "id": "f600e6963c560e2a",
   "metadata": {},
   "outputs": [],
   "source": [
    "import pandas\n",
    "micro = []\n",
    "macro = []\n",
    "\n",
    "for fold in range(0,5):\n",
    "    csv = pandas.read_csv(f\"./kfold/csv/fold-{fold}_ROC.csv\")\n",
    "    micro.append(csv[csv[\"class\"] == \"micro\"][\"ROCAUC\"])\n",
    "    macro.append(csv[csv[\"class\"] == \"macro\"][\"ROCAUC\"])"
   ]
  },
  {
   "cell_type": "code",
   "execution_count": null,
   "id": "ebb9df2adbe214c3",
   "metadata": {},
   "outputs": [
    {
     "name": "stdout",
     "output_type": "stream",
     "text": [
      "Mean\t: 0.9277553915977478\n",
      " SD \t: 0.0016598027579010678\n"
     ]
    }
   ],
   "source": [
    "import numpy as np\n",
    "\n",
    "print(f\"Mean\\t: {np.mean(micro)}\")\n",
    "print(f\" SD \\t: {np.std(micro) }\")"
   ]
  },
  {
   "cell_type": "code",
   "execution_count": null,
   "id": "bef0009f0d5188f2",
   "metadata": {},
   "outputs": [
    {
     "name": "stdout",
     "output_type": "stream",
     "text": [
      "Mean\t: 0.8965143812330145\n",
      " SD \t: 0.0022145633294949176\n"
     ]
    }
   ],
   "source": [
    "print(f\"Mean\\t: {np.mean(macro)}\")\n",
    "print(f\" SD \\t: {np.std(macro) }\")"
   ]
  },
  {
   "cell_type": "code",
   "execution_count": null,
   "id": "e46355529ac0177b",
   "metadata": {},
   "outputs": [],
   "source": [
    "import pandas\n",
    "micro = []\n",
    "macro = []\n",
    "\n",
    "for fold in range(0,5):\n",
    "    csv = pandas.read_csv(f\"./kfold/csv/fold-{fold}_PrecisionRecall.csv\")\n",
    "    micro.append(csv[csv[\"class\"] == \"micro\"][\"PrecisionRecallAUC\"])\n",
    "    macro.append(csv[csv[\"class\"] == \"macro\"][\"PrecisionRecallAUC\"])"
   ]
  },
  {
   "cell_type": "code",
   "execution_count": null,
   "id": "3c57b986dc6f2cb1",
   "metadata": {},
   "outputs": [
    {
     "name": "stdout",
     "output_type": "stream",
     "text": [
      "Mean\t: 0.8562406182289124\n",
      " SD \t: 0.004599530274893811\n"
     ]
    }
   ],
   "source": [
    "import numpy as np\n",
    "\n",
    "print(f\"Mean\\t: {np.mean(micro)}\")\n",
    "print(f\" SD \\t: {np.std(micro) }\")"
   ]
  },
  {
   "cell_type": "code",
   "execution_count": null,
   "id": "48f4ecebfc542303",
   "metadata": {},
   "outputs": [
    {
     "name": "stdout",
     "output_type": "stream",
     "text": [
      "Mean\t: 0.7589248250973852\n",
      " SD \t: 0.005488268265847772\n"
     ]
    }
   ],
   "source": [
    "print(f\"Mean\\t: {np.mean(macro)}\")\n",
    "print(f\" SD \\t: {np.std(macro) }\")"
   ]
  },
  {
   "cell_type": "code",
   "execution_count": null,
   "id": "aadc46bc67ce1235",
   "metadata": {},
   "outputs": [
    {
     "data": {
      "text/html": [
       "<div>\n",
       "<style scoped>\n",
       "    .dataframe tbody tr th:only-of-type {\n",
       "        vertical-align: middle;\n",
       "    }\n",
       "\n",
       "    .dataframe tbody tr th {\n",
       "        vertical-align: top;\n",
       "    }\n",
       "\n",
       "    .dataframe thead th {\n",
       "        text-align: right;\n",
       "    }\n",
       "</style>\n",
       "<table border=\"1\" class=\"dataframe\">\n",
       "  <thead>\n",
       "    <tr style=\"text-align: right;\">\n",
       "      <th></th>\n",
       "      <th>Amikacin</th>\n",
       "      <th>Amoxicillin-Clavulanic acid</th>\n",
       "      <th>Ampicillin</th>\n",
       "      <th>Ampicillin-Amoxicillin</th>\n",
       "      <th>Aztreonam</th>\n",
       "      <th>Benzylpenicillin</th>\n",
       "      <th>Cefazolin</th>\n",
       "      <th>Cefepime</th>\n",
       "      <th>Cefpodoxime</th>\n",
       "      <th>Ceftazidime</th>\n",
       "      <th>...</th>\n",
       "      <th>Norfloxacin</th>\n",
       "      <th>Oxacillin</th>\n",
       "      <th>Penicillin</th>\n",
       "      <th>Piperacillin-Tazobactam</th>\n",
       "      <th>Polymyxin B</th>\n",
       "      <th>Rifampicin</th>\n",
       "      <th>Teicoplanin</th>\n",
       "      <th>Tetracycline</th>\n",
       "      <th>Tobramycin</th>\n",
       "      <th>Vancomycin</th>\n",
       "    </tr>\n",
       "  </thead>\n",
       "  <tbody>\n",
       "    <tr>\n",
       "      <th>positive</th>\n",
       "      <td>3765</td>\n",
       "      <td>4</td>\n",
       "      <td>27294</td>\n",
       "      <td>0</td>\n",
       "      <td>2</td>\n",
       "      <td>0</td>\n",
       "      <td>0</td>\n",
       "      <td>5287</td>\n",
       "      <td>4</td>\n",
       "      <td>11877</td>\n",
       "      <td>...</td>\n",
       "      <td>0</td>\n",
       "      <td>5937</td>\n",
       "      <td>62</td>\n",
       "      <td>13379</td>\n",
       "      <td>0</td>\n",
       "      <td>529</td>\n",
       "      <td>88</td>\n",
       "      <td>3577</td>\n",
       "      <td>3768</td>\n",
       "      <td>1933</td>\n",
       "    </tr>\n",
       "    <tr>\n",
       "      <th>negative</th>\n",
       "      <td>2199</td>\n",
       "      <td>27</td>\n",
       "      <td>21207</td>\n",
       "      <td>0</td>\n",
       "      <td>3</td>\n",
       "      <td>0</td>\n",
       "      <td>0</td>\n",
       "      <td>60</td>\n",
       "      <td>37</td>\n",
       "      <td>26028</td>\n",
       "      <td>...</td>\n",
       "      <td>0</td>\n",
       "      <td>10743</td>\n",
       "      <td>393</td>\n",
       "      <td>24634</td>\n",
       "      <td>0</td>\n",
       "      <td>16094</td>\n",
       "      <td>154</td>\n",
       "      <td>14045</td>\n",
       "      <td>2197</td>\n",
       "      <td>31047</td>\n",
       "    </tr>\n",
       "    <tr>\n",
       "      <th>n_sum</th>\n",
       "      <td>5964</td>\n",
       "      <td>31</td>\n",
       "      <td>48501</td>\n",
       "      <td>0</td>\n",
       "      <td>5</td>\n",
       "      <td>0</td>\n",
       "      <td>0</td>\n",
       "      <td>5347</td>\n",
       "      <td>41</td>\n",
       "      <td>37905</td>\n",
       "      <td>...</td>\n",
       "      <td>0</td>\n",
       "      <td>16680</td>\n",
       "      <td>455</td>\n",
       "      <td>38013</td>\n",
       "      <td>0</td>\n",
       "      <td>16623</td>\n",
       "      <td>242</td>\n",
       "      <td>17622</td>\n",
       "      <td>5965</td>\n",
       "      <td>32980</td>\n",
       "    </tr>\n",
       "  </tbody>\n",
       "</table>\n",
       "<p>3 rows × 38 columns</p>\n",
       "</div>"
      ],
      "text/plain": [
       "          Amikacin  Amoxicillin-Clavulanic acid  Ampicillin  \\\n",
       "positive      3765                            4       27294   \n",
       "negative      2199                           27       21207   \n",
       "n_sum         5964                           31       48501   \n",
       "\n",
       "          Ampicillin-Amoxicillin  Aztreonam  Benzylpenicillin  Cefazolin  \\\n",
       "positive                       0          2                 0          0   \n",
       "negative                       0          3                 0          0   \n",
       "n_sum                          0          5                 0          0   \n",
       "\n",
       "          Cefepime  Cefpodoxime  Ceftazidime  ...  Norfloxacin  Oxacillin  \\\n",
       "positive      5287            4        11877  ...            0       5937   \n",
       "negative        60           37        26028  ...            0      10743   \n",
       "n_sum         5347           41        37905  ...            0      16680   \n",
       "\n",
       "          Penicillin  Piperacillin-Tazobactam  Polymyxin B  Rifampicin  \\\n",
       "positive          62                    13379            0         529   \n",
       "negative         393                    24634            0       16094   \n",
       "n_sum            455                    38013            0       16623   \n",
       "\n",
       "          Teicoplanin  Tetracycline  Tobramycin  Vancomycin  \n",
       "positive           88          3577        3768        1933  \n",
       "negative          154         14045        2197       31047  \n",
       "n_sum             242         17622        5965       32980  \n",
       "\n",
       "[3 rows x 38 columns]"
      ]
     },
     "execution_count": null,
     "metadata": {},
     "output_type": "execute_result"
    }
   ],
   "source": [
    "umg.label_stats"
   ]
  }
 ],
 "metadata": {
  "kernelspec": {
   "display_name": "Python 3 (ipykernel)",
   "language": "python",
   "name": "python3"
  },
  "language_info": {
   "codemirror_mode": {
    "name": "ipython",
    "version": 3
   },
   "file_extension": ".py",
   "mimetype": "text/x-python",
   "name": "python",
   "nbconvert_exporter": "python",
   "pygments_lexer": "ipython3"
  },
  "widgets": {
   "application/vnd.jupyter.widget-state+json": {
    "state": {},
    "version_major": 2,
    "version_minor": 0
   }
  }
 },
 "nbformat": 4,
 "nbformat_minor": 5
}
