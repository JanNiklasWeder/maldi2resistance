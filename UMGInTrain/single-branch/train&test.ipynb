{
 "cells": [
  {
   "cell_type": "markdown",
   "id": "3d89aed94233e3ff",
   "metadata": {},
   "source": [
    "# Fully connected feedforward network implementing a loss mask"
   ]
  },
  {
   "cell_type": "code",
   "execution_count": null,
   "id": "1eaaf570-0600-4d60-9fde-fcebcff3ce4c",
   "metadata": {},
   "outputs": [],
   "source": [
    "import torchmetrics.classification\n",
    "from torch import cuda\n",
    "assert cuda.is_available()\n",
    "assert cuda.device_count() > 0"
   ]
  },
  {
   "cell_type": "code",
   "execution_count": null,
   "id": "c7e50fb9-601f-425a-bf79-6441170b27dd",
   "metadata": {},
   "outputs": [
    {
     "name": "stdout",
     "output_type": "stream",
     "text": [
      "NVIDIA GeForce RTX 3060 Ti\n"
     ]
    }
   ],
   "source": [
    "print(cuda.get_device_name(cuda.current_device()))\n"
   ]
  },
  {
   "cell_type": "code",
   "execution_count": null,
   "id": "6c4b645f-6b5e-428e-855c-64b7e33ff874",
   "metadata": {},
   "outputs": [],
   "source": [
    "import torch\n",
    "import torch.nn as nn"
   ]
  },
  {
   "cell_type": "code",
   "execution_count": null,
   "id": "5e8a6650-ef2b-44f1-9ea8-78912b15e9a9",
   "metadata": {},
   "outputs": [
    {
     "data": {
      "text/plain": [
       "<torch._C.Generator at 0x7fc15bf06fb0>"
      ]
     },
     "execution_count": null,
     "metadata": {},
     "output_type": "execute_result"
    }
   ],
   "source": [
    "DEVICE = torch.device(\"cuda\")\n",
    "SEED = 76436278\n",
    "\n",
    "torch.manual_seed(SEED)"
   ]
  },
  {
   "cell_type": "markdown",
   "id": "23b5a248-98cc-42cc-99b2-49bdd5ca1f35",
   "metadata": {},
   "source": [
    "### Load the Dataset"
   ]
  },
  {
   "cell_type": "code",
   "execution_count": null,
   "id": "7a00707ac6b2975",
   "metadata": {},
   "outputs": [
    {
     "name": "stderr",
     "output_type": "stream",
     "text": [
      "/home/jan/Uni/master/src/maldi2resistance/data/driams.py:86: UserWarning: Metafile for Site (DRIAMS-B) and Year (2015) combination not found!\n",
      "  warnings.warn(\n",
      "/home/jan/Uni/master/src/maldi2resistance/data/driams.py:86: UserWarning: Metafile for Site (DRIAMS-B) and Year (2016) combination not found!\n",
      "  warnings.warn(\n",
      "/home/jan/Uni/master/src/maldi2resistance/data/driams.py:86: UserWarning: Metafile for Site (DRIAMS-B) and Year (2017) combination not found!\n",
      "  warnings.warn(\n",
      "/home/jan/Uni/master/src/maldi2resistance/data/driams.py:86: UserWarning: Metafile for Site (DRIAMS-C) and Year (2015) combination not found!\n",
      "  warnings.warn(\n",
      "/home/jan/Uni/master/src/maldi2resistance/data/driams.py:86: UserWarning: Metafile for Site (DRIAMS-C) and Year (2016) combination not found!\n",
      "  warnings.warn(\n",
      "/home/jan/Uni/master/src/maldi2resistance/data/driams.py:86: UserWarning: Metafile for Site (DRIAMS-C) and Year (2017) combination not found!\n",
      "  warnings.warn(\n",
      "/home/jan/Uni/master/src/maldi2resistance/data/driams.py:86: UserWarning: Metafile for Site (DRIAMS-D) and Year (2015) combination not found!\n",
      "  warnings.warn(\n",
      "/home/jan/Uni/master/src/maldi2resistance/data/driams.py:86: UserWarning: Metafile for Site (DRIAMS-D) and Year (2016) combination not found!\n",
      "  warnings.warn(\n",
      "/home/jan/Uni/master/src/maldi2resistance/data/driams.py:86: UserWarning: Metafile for Site (DRIAMS-D) and Year (2017) combination not found!\n",
      "  warnings.warn(\n"
     ]
    },
    {
     "data": {
      "application/vnd.jupyter.widget-view+json": {
       "model_id": "29be456be5574b3b91562167f1360a09",
       "version_major": 2,
       "version_minor": 0
      },
      "text/plain": [
       "Loading Spectra into Memory:   0%|          | 0/55780 [00:00<?, ?it/s]"
      ]
     },
     "metadata": {},
     "output_type": "display_data"
    },
    {
     "data": {
      "application/vnd.jupyter.widget-view+json": {
       "model_id": "72587a7b1b6e494c8ce556a91b13af3e",
       "version_major": 2,
       "version_minor": 0
      },
      "text/plain": [
       "Loading Spectra into Memory:   0%|          | 0/73745 [00:00<?, ?it/s]"
      ]
     },
     "metadata": {},
     "output_type": "display_data"
    },
    {
     "data": {
      "text/html": [
       "\n",
       "        <table>\n",
       "            <thead>\n",
       "                <tr>\n",
       "                    <th>Antibiotic:</th>\n",
       "                    <th> Amikacin </th><th> Amoxicillin-Clavulanic acid </th><th> Ampicillin </th><th> Ampicillin-Amoxicillin </th><th> Aztreonam </th><th> Benzylpenicillin </th><th> Cefazolin </th><th> Cefepime </th><th> Cefpodoxime </th><th> Ceftazidime </th><th> Ceftriaxone </th><th> Cefuroxime </th><th> Ciprofloxacin </th><th> Clarithromycin </th><th> Clindamycin </th><th> Colistin </th><th> Cotrimoxazole </th><th> Ertapenem </th><th> Erythromycin </th><th> Fosfomycin </th><th> Fosfomycin-Trometamol </th><th> Fusidic acid </th><th> Gentamicin </th><th> Imipenem </th><th> Levofloxacin </th><th> Meropenem </th><th> Mupirocin </th><th> Nitrofurantoin </th><th> Norfloxacin </th><th> Oxacillin </th><th> Penicillin </th><th> Piperacillin-Tazobactam </th><th> Polymyxin B </th><th> Rifampicin </th><th> Teicoplanin </th><th> Tetracycline </th><th> Tobramycin </th><th> Vancomycin </th>\n",
       "                </tr>\n",
       "            </thead>\n",
       "            <tbody>\n",
       "                <tr>\n",
       "                    <td>Number resistant:</td>\n",
       "                    <td> 1068 </td><td> 13366 </td><td> 8578 </td><td> 21966 </td><td> 628 </td><td> 618 </td><td> 4223 </td><td> 7383 </td><td> 2338 </td><td> 3470 </td><td> 8659 </td><td> 5855 </td><td> 9338 </td><td> 310 </td><td> 4381 </td><td> 2874 </td><td> 7405 </td><td> 427 </td><td> 5468 </td><td> 2303 </td><td> 1326 </td><td> 3620 </td><td> 3481 </td><td> 7560 </td><td> 4217 </td><td> 5194 </td><td> 570 </td><td> 1271 </td><td> 1205 </td><td> 5537 </td><td> 12431 </td><td> 7616 </td><td> 486 </td><td> 580 </td><td> 244 </td><td> 3534 </td><td> 1707 </td><td> 227 </td>\n",
       "                </tr>\n",
       "                <tr>\n",
       "                    <td>Number susceptible:</td>\n",
       "                    <td> 20941 </td><td> 24992 </td><td> 4194 </td><td> 4905 </td><td> 456 </td><td> 457 </td><td> 5813 </td><td> 31567 </td><td> 4382 </td><td> 24566 </td><td> 28464 </td><td> 8368 </td><td> 36822 </td><td> 1262 </td><td> 9841 </td><td> 15784 </td><td> 24590 </td><td> 21740 </td><td> 9044 </td><td> 10184 </td><td> 4803 </td><td> 8498 </td><td> 22662 </td><td> 31717 </td><td> 17989 </td><td> 27228 </td><td> 4656 </td><td> 3603 </td><td> 7031 </td><td> 7740 </td><td> 4286 </td><td> 31308 </td><td> 2305 </td><td> 14964 </td><td> 8486 </td><td> 10376 </td><td> 16809 </td><td> 20540 </td>\n",
       "                </tr>\n",
       "                <tr>\n",
       "                    <td>Number data points:</td>\n",
       "                    <td> 22009 </td><td> 38358 </td><td> 12772 </td><td> 26871 </td><td> 1084 </td><td> 1075 </td><td> 10036 </td><td> 38950 </td><td> 6720 </td><td> 28036 </td><td> 37123 </td><td> 14223 </td><td> 46160 </td><td> 1572 </td><td> 14222 </td><td> 18658 </td><td> 31995 </td><td> 22167 </td><td> 14512 </td><td> 12487 </td><td> 6129 </td><td> 12118 </td><td> 26143 </td><td> 39277 </td><td> 22206 </td><td> 32422 </td><td> 5226 </td><td> 4874 </td><td> 8236 </td><td> 13277 </td><td> 16717 </td><td> 38924 </td><td> 2791 </td><td> 15544 </td><td> 8730 </td><td> 13910 </td><td> 18516 </td><td> 20767 </td>\n",
       "                </tr>\n",
       "            </tbody>\n",
       "        </table>\n",
       "                "
      ],
      "text/plain": [
       "<src.maldi2resistance.data.driams.Driams at 0x7fc0d5340450>"
      ]
     },
     "execution_count": null,
     "metadata": {},
     "output_type": "execute_result"
    }
   ],
   "source": [
    "from src.maldi2resistance.data.driams import Driams\n",
    "\n",
    "driams = Driams(\n",
    "    root_dir=\"/home/jan/Uni/master/data/Driams\",\n",
    ")\n",
    "umg = Driams(\n",
    "    root_dir=\"/home/jan/Uni/master/data/Driams\",\n",
    "    bin_size=1,\n",
    "    sites=[\"UMG\"],\n",
    "    years=[2020,2021],\n",
    "    antibiotics=driams.selected_antibiotics,\n",
    ")\n",
    "\n",
    "driams.loading_type = \"memory\"\n",
    "umg.loading_type = \"memory\"\n",
    "\n",
    "driams"
   ]
  },
  {
   "cell_type": "code",
   "execution_count": null,
   "id": "fbbd28ab5fd2a857",
   "metadata": {},
   "outputs": [
    {
     "data": {
      "text/plain": [
       "38"
      ]
     },
     "execution_count": null,
     "metadata": {},
     "output_type": "execute_result"
    }
   ],
   "source": [
    "len(driams.label_stats.columns)"
   ]
  },
  {
   "cell_type": "code",
   "execution_count": null,
   "id": "b81bd526-6a9c-4520-b121-9c01b4eb804a",
   "metadata": {},
   "outputs": [],
   "source": [
    "import copy\n",
    "from maldi2resistance.model.singleBranchMlp import SingleBranchMLP\n",
    "\n",
    "model = SingleBranchMLP( input_dim= 18000, output_dim= len(driams.selected_antibiotics))\n",
    "model = model.to(DEVICE)\n",
    "\n",
    "model_state = copy.deepcopy(model.state_dict()) "
   ]
  },
  {
   "cell_type": "code",
   "execution_count": null,
   "id": "c3b6d4e981aff4d0",
   "metadata": {},
   "outputs": [
    {
     "name": "stdout",
     "output_type": "stream",
     "text": [
      "==========================================================================================\n",
      "Layer (type:depth-idx)                   Output Shape              Param #\n",
      "==========================================================================================\n",
      "SingleBranchMLP                          [1, 38]                   --\n",
      "├─Sequential: 1-1                        [1, 38]                   --\n",
      "│    └─Linear: 2-1                       [1, 512]                  9,216,512\n",
      "│    └─GELU: 2-2                         [1, 512]                  --\n",
      "│    └─Dropout: 2-3                      [1, 512]                  --\n",
      "│    └─LayerNorm: 2-4                    [1, 512]                  1,024\n",
      "│    └─Linear: 2-5                       [1, 256]                  131,328\n",
      "│    └─GELU: 2-6                         [1, 256]                  --\n",
      "│    └─Dropout: 2-7                      [1, 256]                  --\n",
      "│    └─LayerNorm: 2-8                    [1, 256]                  512\n",
      "│    └─Linear: 2-9                       [1, 128]                  32,896\n",
      "│    └─GELU: 2-10                        [1, 128]                  --\n",
      "│    └─Dropout: 2-11                     [1, 128]                  --\n",
      "│    └─LayerNorm: 2-12                   [1, 128]                  256\n",
      "│    └─Linear: 2-13                      [1, 38]                   4,902\n",
      "==========================================================================================\n",
      "Total params: 9,387,430\n",
      "Trainable params: 9,387,430\n",
      "Non-trainable params: 0\n",
      "Total mult-adds (Units.MEGABYTES): 9.39\n",
      "==========================================================================================\n",
      "Input size (MB): 0.07\n",
      "Forward/backward pass size (MB): 0.01\n",
      "Params size (MB): 37.55\n",
      "Estimated Total Size (MB): 37.64\n",
      "==========================================================================================\n"
     ]
    }
   ],
   "source": [
    "from torchinfo import summary\n",
    "\n",
    "print(summary(model, input_data=torch.zeros((1,18000)).to(DEVICE)))"
   ]
  },
  {
   "cell_type": "code",
   "execution_count": null,
   "id": "e361914c-9fb8-4a94-bb2c-95a3b68cda0b",
   "metadata": {},
   "outputs": [],
   "source": [
    "from torch.utils.data import DataLoader"
   ]
  },
  {
   "cell_type": "code",
   "execution_count": null,
   "id": "a96643a0-bd63-437b-a676-f3a4a1826910",
   "metadata": {},
   "outputs": [
    {
     "name": "stdout",
     "output_type": "stream",
     "text": [
      "Start training ...\n"
     ]
    },
    {
     "data": {
      "application/vnd.jupyter.widget-view+json": {
       "model_id": "5b6b00ecb77c492baf80efa7b17d6d49",
       "version_major": 2,
       "version_minor": 0
      },
      "text/plain": [
       "  0%|          | 0/30 [00:00<?, ?it/s]"
      ]
     },
     "metadata": {},
     "output_type": "display_data"
    },
    {
     "name": "stdout",
     "output_type": "stream",
     "text": [
      "\tAverage Loss: 0.000720 \tLearning rate: 0.001000\n",
      "\tAverage Loss: 0.000608 \tLearning rate: 0.001000\n",
      "\tAverage Loss: 0.000572 \tLearning rate: 0.001000\n",
      "\tAverage Loss: 0.000554 \tLearning rate: 0.001000\n",
      "\tAverage Loss: 0.000537 \tLearning rate: 0.001000\n",
      "\tAverage Loss: 0.000527 \tLearning rate: 0.001000\n",
      "\tAverage Loss: 0.000518 \tLearning rate: 0.001000\n",
      "\tAverage Loss: 0.000509 \tLearning rate: 0.001000\n",
      "\tAverage Loss: 0.000502 \tLearning rate: 0.001000\n",
      "\tAverage Loss: 0.000497 \tLearning rate: 0.000500\n",
      "\tAverage Loss: 0.000473 \tLearning rate: 0.000500\n",
      "\tAverage Loss: 0.000467 \tLearning rate: 0.000500\n",
      "\tAverage Loss: 0.000463 \tLearning rate: 0.000500\n",
      "\tAverage Loss: 0.000458 \tLearning rate: 0.000500\n",
      "\tAverage Loss: 0.000455 \tLearning rate: 0.000500\n",
      "\tAverage Loss: 0.000450 \tLearning rate: 0.000500\n",
      "\tAverage Loss: 0.000447 \tLearning rate: 0.000500\n",
      "\tAverage Loss: 0.000443 \tLearning rate: 0.000500\n",
      "\tAverage Loss: 0.000441 \tLearning rate: 0.000500\n",
      "\tAverage Loss: 0.000438 \tLearning rate: 0.000250\n",
      "\tAverage Loss: 0.000421 \tLearning rate: 0.000250\n",
      "\tAverage Loss: 0.000418 \tLearning rate: 0.000250\n",
      "\tAverage Loss: 0.000415 \tLearning rate: 0.000250\n",
      "\tAverage Loss: 0.000413 \tLearning rate: 0.000250\n",
      "\tAverage Loss: 0.000409 \tLearning rate: 0.000250\n",
      "\tAverage Loss: 0.000407 \tLearning rate: 0.000250\n",
      "\tAverage Loss: 0.000405 \tLearning rate: 0.000250\n",
      "\tAverage Loss: 0.000404 \tLearning rate: 0.000250\n",
      "\tAverage Loss: 0.000401 \tLearning rate: 0.000250\n",
      "\tAverage Loss: 0.000398 \tLearning rate: 0.000125\n",
      "Finished Fold 0\n"
     ]
    },
    {
     "data": {
      "application/vnd.jupyter.widget-view+json": {
       "model_id": "dd8eb7389d044bf981c41b1114f04192",
       "version_major": 2,
       "version_minor": 0
      },
      "text/plain": [
       "  0%|          | 0/30 [00:00<?, ?it/s]"
      ]
     },
     "metadata": {},
     "output_type": "display_data"
    },
    {
     "name": "stdout",
     "output_type": "stream",
     "text": [
      "\tAverage Loss: 0.000723 \tLearning rate: 0.001000\n",
      "\tAverage Loss: 0.000604 \tLearning rate: 0.001000\n",
      "\tAverage Loss: 0.000571 \tLearning rate: 0.001000\n",
      "\tAverage Loss: 0.000551 \tLearning rate: 0.001000\n",
      "\tAverage Loss: 0.000538 \tLearning rate: 0.001000\n",
      "\tAverage Loss: 0.000527 \tLearning rate: 0.001000\n",
      "\tAverage Loss: 0.000516 \tLearning rate: 0.001000\n",
      "\tAverage Loss: 0.000509 \tLearning rate: 0.001000\n",
      "\tAverage Loss: 0.000503 \tLearning rate: 0.001000\n",
      "\tAverage Loss: 0.000496 \tLearning rate: 0.000500\n",
      "\tAverage Loss: 0.000473 \tLearning rate: 0.000500\n",
      "\tAverage Loss: 0.000467 \tLearning rate: 0.000500\n",
      "\tAverage Loss: 0.000462 \tLearning rate: 0.000500\n",
      "\tAverage Loss: 0.000459 \tLearning rate: 0.000500\n",
      "\tAverage Loss: 0.000455 \tLearning rate: 0.000500\n",
      "\tAverage Loss: 0.000451 \tLearning rate: 0.000500\n",
      "\tAverage Loss: 0.000447 \tLearning rate: 0.000500\n",
      "\tAverage Loss: 0.000444 \tLearning rate: 0.000500\n",
      "\tAverage Loss: 0.000441 \tLearning rate: 0.000500\n",
      "\tAverage Loss: 0.000438 \tLearning rate: 0.000250\n",
      "\tAverage Loss: 0.000421 \tLearning rate: 0.000250\n",
      "\tAverage Loss: 0.000418 \tLearning rate: 0.000250\n",
      "\tAverage Loss: 0.000416 \tLearning rate: 0.000250\n",
      "\tAverage Loss: 0.000412 \tLearning rate: 0.000250\n",
      "\tAverage Loss: 0.000410 \tLearning rate: 0.000250\n",
      "\tAverage Loss: 0.000408 \tLearning rate: 0.000250\n",
      "\tAverage Loss: 0.000405 \tLearning rate: 0.000250\n",
      "\tAverage Loss: 0.000404 \tLearning rate: 0.000250\n",
      "\tAverage Loss: 0.000401 \tLearning rate: 0.000250\n",
      "\tAverage Loss: 0.000400 \tLearning rate: 0.000125\n",
      "Finished Fold 1\n"
     ]
    },
    {
     "data": {
      "application/vnd.jupyter.widget-view+json": {
       "model_id": "60f98604268649b9a7c7c715c0f165da",
       "version_major": 2,
       "version_minor": 0
      },
      "text/plain": [
       "  0%|          | 0/30 [00:00<?, ?it/s]"
      ]
     },
     "metadata": {},
     "output_type": "display_data"
    },
    {
     "name": "stdout",
     "output_type": "stream",
     "text": [
      "\tAverage Loss: 0.000722 \tLearning rate: 0.001000\n",
      "\tAverage Loss: 0.000609 \tLearning rate: 0.001000\n",
      "\tAverage Loss: 0.000575 \tLearning rate: 0.001000\n",
      "\tAverage Loss: 0.000553 \tLearning rate: 0.001000\n",
      "\tAverage Loss: 0.000542 \tLearning rate: 0.001000\n",
      "\tAverage Loss: 0.000528 \tLearning rate: 0.001000\n",
      "\tAverage Loss: 0.000520 \tLearning rate: 0.001000\n",
      "\tAverage Loss: 0.000511 \tLearning rate: 0.001000\n",
      "\tAverage Loss: 0.000504 \tLearning rate: 0.001000\n",
      "\tAverage Loss: 0.000498 \tLearning rate: 0.000500\n",
      "\tAverage Loss: 0.000474 \tLearning rate: 0.000500\n",
      "\tAverage Loss: 0.000469 \tLearning rate: 0.000500\n",
      "\tAverage Loss: 0.000464 \tLearning rate: 0.000500\n",
      "\tAverage Loss: 0.000461 \tLearning rate: 0.000500\n",
      "\tAverage Loss: 0.000457 \tLearning rate: 0.000500\n",
      "\tAverage Loss: 0.000453 \tLearning rate: 0.000500\n",
      "\tAverage Loss: 0.000450 \tLearning rate: 0.000500\n",
      "\tAverage Loss: 0.000446 \tLearning rate: 0.000500\n",
      "\tAverage Loss: 0.000442 \tLearning rate: 0.000500\n",
      "\tAverage Loss: 0.000439 \tLearning rate: 0.000250\n",
      "\tAverage Loss: 0.000424 \tLearning rate: 0.000250\n",
      "\tAverage Loss: 0.000420 \tLearning rate: 0.000250\n",
      "\tAverage Loss: 0.000417 \tLearning rate: 0.000250\n",
      "\tAverage Loss: 0.000414 \tLearning rate: 0.000250\n",
      "\tAverage Loss: 0.000412 \tLearning rate: 0.000250\n",
      "\tAverage Loss: 0.000410 \tLearning rate: 0.000250\n",
      "\tAverage Loss: 0.000408 \tLearning rate: 0.000250\n",
      "\tAverage Loss: 0.000405 \tLearning rate: 0.000250\n",
      "\tAverage Loss: 0.000404 \tLearning rate: 0.000250\n",
      "\tAverage Loss: 0.000401 \tLearning rate: 0.000125\n",
      "Finished Fold 2\n"
     ]
    },
    {
     "data": {
      "application/vnd.jupyter.widget-view+json": {
       "model_id": "7e08421a2ca74e7396437f012a809596",
       "version_major": 2,
       "version_minor": 0
      },
      "text/plain": [
       "  0%|          | 0/30 [00:00<?, ?it/s]"
      ]
     },
     "metadata": {},
     "output_type": "display_data"
    },
    {
     "name": "stdout",
     "output_type": "stream",
     "text": [
      "\tAverage Loss: 0.000719 \tLearning rate: 0.001000\n",
      "\tAverage Loss: 0.000605 \tLearning rate: 0.001000\n",
      "\tAverage Loss: 0.000571 \tLearning rate: 0.001000\n",
      "\tAverage Loss: 0.000550 \tLearning rate: 0.001000\n",
      "\tAverage Loss: 0.000537 \tLearning rate: 0.001000\n",
      "\tAverage Loss: 0.000527 \tLearning rate: 0.001000\n",
      "\tAverage Loss: 0.000517 \tLearning rate: 0.001000\n",
      "\tAverage Loss: 0.000508 \tLearning rate: 0.001000\n",
      "\tAverage Loss: 0.000501 \tLearning rate: 0.001000\n",
      "\tAverage Loss: 0.000497 \tLearning rate: 0.000500\n",
      "\tAverage Loss: 0.000473 \tLearning rate: 0.000500\n",
      "\tAverage Loss: 0.000466 \tLearning rate: 0.000500\n",
      "\tAverage Loss: 0.000460 \tLearning rate: 0.000500\n",
      "\tAverage Loss: 0.000457 \tLearning rate: 0.000500\n",
      "\tAverage Loss: 0.000454 \tLearning rate: 0.000500\n",
      "\tAverage Loss: 0.000451 \tLearning rate: 0.000500\n",
      "\tAverage Loss: 0.000446 \tLearning rate: 0.000500\n",
      "\tAverage Loss: 0.000443 \tLearning rate: 0.000500\n",
      "\tAverage Loss: 0.000439 \tLearning rate: 0.000500\n",
      "\tAverage Loss: 0.000436 \tLearning rate: 0.000250\n",
      "\tAverage Loss: 0.000422 \tLearning rate: 0.000250\n",
      "\tAverage Loss: 0.000418 \tLearning rate: 0.000250\n",
      "\tAverage Loss: 0.000414 \tLearning rate: 0.000250\n",
      "\tAverage Loss: 0.000411 \tLearning rate: 0.000250\n",
      "\tAverage Loss: 0.000409 \tLearning rate: 0.000250\n",
      "\tAverage Loss: 0.000407 \tLearning rate: 0.000250\n",
      "\tAverage Loss: 0.000405 \tLearning rate: 0.000250\n",
      "\tAverage Loss: 0.000402 \tLearning rate: 0.000250\n",
      "\tAverage Loss: 0.000400 \tLearning rate: 0.000250\n",
      "\tAverage Loss: 0.000399 \tLearning rate: 0.000125\n",
      "Finished Fold 3\n"
     ]
    },
    {
     "data": {
      "application/vnd.jupyter.widget-view+json": {
       "model_id": "b0f225c8febb4d6fbbcd72cdf224c149",
       "version_major": 2,
       "version_minor": 0
      },
      "text/plain": [
       "  0%|          | 0/30 [00:00<?, ?it/s]"
      ]
     },
     "metadata": {},
     "output_type": "display_data"
    },
    {
     "name": "stdout",
     "output_type": "stream",
     "text": [
      "\tAverage Loss: 0.000722 \tLearning rate: 0.001000\n",
      "\tAverage Loss: 0.000606 \tLearning rate: 0.001000\n",
      "\tAverage Loss: 0.000574 \tLearning rate: 0.001000\n",
      "\tAverage Loss: 0.000555 \tLearning rate: 0.001000\n",
      "\tAverage Loss: 0.000540 \tLearning rate: 0.001000\n",
      "\tAverage Loss: 0.000527 \tLearning rate: 0.001000\n",
      "\tAverage Loss: 0.000521 \tLearning rate: 0.001000\n",
      "\tAverage Loss: 0.000512 \tLearning rate: 0.001000\n",
      "\tAverage Loss: 0.000505 \tLearning rate: 0.001000\n",
      "\tAverage Loss: 0.000498 \tLearning rate: 0.000500\n",
      "\tAverage Loss: 0.000475 \tLearning rate: 0.000500\n",
      "\tAverage Loss: 0.000470 \tLearning rate: 0.000500\n",
      "\tAverage Loss: 0.000464 \tLearning rate: 0.000500\n",
      "\tAverage Loss: 0.000460 \tLearning rate: 0.000500\n",
      "\tAverage Loss: 0.000457 \tLearning rate: 0.000500\n",
      "\tAverage Loss: 0.000453 \tLearning rate: 0.000500\n",
      "\tAverage Loss: 0.000449 \tLearning rate: 0.000500\n",
      "\tAverage Loss: 0.000446 \tLearning rate: 0.000500\n",
      "\tAverage Loss: 0.000443 \tLearning rate: 0.000500\n",
      "\tAverage Loss: 0.000440 \tLearning rate: 0.000250\n",
      "\tAverage Loss: 0.000423 \tLearning rate: 0.000250\n",
      "\tAverage Loss: 0.000419 \tLearning rate: 0.000250\n",
      "\tAverage Loss: 0.000417 \tLearning rate: 0.000250\n",
      "\tAverage Loss: 0.000414 \tLearning rate: 0.000250\n",
      "\tAverage Loss: 0.000411 \tLearning rate: 0.000250\n",
      "\tAverage Loss: 0.000409 \tLearning rate: 0.000250\n",
      "\tAverage Loss: 0.000407 \tLearning rate: 0.000250\n",
      "\tAverage Loss: 0.000406 \tLearning rate: 0.000250\n",
      "\tAverage Loss: 0.000403 \tLearning rate: 0.000250\n",
      "\tAverage Loss: 0.000401 \tLearning rate: 0.000125\n",
      "Finished Fold 4\n"
     ]
    }
   ],
   "source": [
    "from maldi2resistance.metric.PrecisionRecall import MultiLabelPRNan\n",
    "from pathlib import Path\n",
    "from maldi2resistance.metric.ROC import MultiLabelRocNan\n",
    "from maldi2resistance.loss.maskedLoss import MaskedBCE\n",
    "from tqdm.auto import tqdm\n",
    "import matplotlib.pyplot as plt\n",
    "\n",
    "from torch.optim import Adam\n",
    "from torch.optim.lr_scheduler import StepLR\n",
    "\n",
    "print(\"Start training ...\")\n",
    "model.train()\n",
    "\n",
    "batch_size = 128\n",
    "fig_path = Path(\"./kfold/figures\")\n",
    "fig_path.mkdir(parents=True, exist_ok=True)\n",
    "\n",
    "loss_per_batch = []\n",
    "\n",
    "class_weights_negative = torch.tensor((1 - ((driams.label_stats.loc[\"negative\"] +umg.label_stats.loc[\"negative\"]) / (driams.label_stats.loc[\"n_sum\"] +umg.label_stats.loc[\"n_sum\"]))).values, device=DEVICE)\n",
    "class_weights_positive = torch.tensor((1 - ((driams.label_stats.loc[\"positive\"] + umg.label_stats.loc[\"positive\"]) / (driams.label_stats.loc[\"n_sum\"]+umg.label_stats.loc[\"n_sum\"]))).values, device=DEVICE)\n",
    "\n",
    "criterion = MaskedBCE()\n",
    "\n",
    "gen = torch.Generator()\n",
    "\n",
    "for fold, (train_data, test_data) in enumerate(driams.getK_fold(n_splits=5, shuffle=True, random_state= SEED)):\n",
    "    train_data_umg = torch.utils.data.ConcatDataset([train_data, umg])\n",
    "    \n",
    "    train_loader = DataLoader(train_data_umg, batch_size=batch_size, shuffle=True, drop_last=True, generator= gen.manual_seed(SEED))\n",
    "    test_loader = DataLoader(test_data, batch_size=len(test_data), shuffle=True, drop_last=True, generator= gen.manual_seed(SEED))\n",
    "    \n",
    "    model.load_state_dict(model_state)\n",
    "    model.train()\n",
    "    \n",
    "    optimizer = Adam(model.parameters(), lr=1e-3, amsgrad = True)\n",
    "    scheduler = StepLR(optimizer, step_size=10, gamma=0.5)\n",
    "\n",
    "    for epoch in tqdm(range(30)):\n",
    "        overall_loss = 0\n",
    "        \n",
    "        for batch_idx, (x, y) in enumerate(train_loader):\n",
    "    \n",
    "            x = x.to(DEVICE)\n",
    "            y = y.to(DEVICE)\n",
    "            \n",
    "            optimizer.zero_grad()\n",
    "    \n",
    "            output = model(x)\n",
    "        \n",
    "            loss = criterion(output, y)\n",
    "            current_loss_value = loss.item()\n",
    "            loss_per_batch.append(current_loss_value)\n",
    "            \n",
    "            overall_loss += current_loss_value\n",
    "            \n",
    "            loss.backward()\n",
    "            optimizer.step()\n",
    "    \n",
    "        scheduler.step()\n",
    "        with tqdm.external_write_mode():\n",
    "            print(f\"\\tAverage Loss: {overall_loss / (batch_idx*batch_size):.6f} \\tLearning rate: {scheduler.get_last_lr()[0]:.6f}\")\n",
    "    \n",
    "    \n",
    "    print(f\"Finished Fold {fold}\")\n",
    "    \n",
    "    model.eval()\n",
    "    \n",
    "    DEVICE = torch.device(\"cpu\")\n",
    "    test_features, test_labels = next(iter(test_loader))\n",
    "    test_features = test_features.to(DEVICE)\n",
    "    test_labels = test_labels.to(DEVICE)\n",
    "    model = model.to(DEVICE)\n",
    "    \n",
    "    ml_roc = MultiLabelRocNan()\n",
    "    output = model(test_features)\n",
    "    \n",
    "    \n",
    "    ml_roc.compute(output,test_labels,driams.selected_antibiotics, create_csv=f\"./kfold/csv/fold-{fold}_ROC.csv\")\n",
    "    fig_, ax_ = ml_roc()\n",
    "    \n",
    "    plt.savefig(fig_path / f\"fold-{fold}_ROC.png\", transparent=True, format= \"png\", bbox_inches = \"tight\")\n",
    "    plt.close()\n",
    "    \n",
    "    ml_pr = MultiLabelPRNan()\n",
    "    ml_pr.compute(output,test_labels,driams.selected_antibiotics, create_csv=f\"./kfold/csv/fold-{fold}_PrecisionRecall.csv\")\n",
    "    \n",
    "    fig_, ax_ = ml_pr()\n",
    "    \n",
    "    plt.savefig(fig_path / f\"fold-{fold}_PrecisionRecall.png\", transparent=True, format= \"png\", bbox_inches = \"tight\")\n",
    "    plt.close()\n",
    "    \n",
    "    DEVICE = torch.device(\"cuda\")\n",
    "    model = model.to(DEVICE)"
   ]
  },
  {
   "cell_type": "code",
   "execution_count": null,
   "id": "f600e6963c560e2a",
   "metadata": {},
   "outputs": [],
   "source": [
    "import pandas\n",
    "micro = []\n",
    "macro = []\n",
    "\n",
    "for fold in range(0,5):\n",
    "    csv = pandas.read_csv(f\"./kfold/csv/fold-{fold}_ROC.csv\")\n",
    "    micro.append(csv[csv[\"class\"] == \"micro\"][\"ROCAUC\"])\n",
    "    macro.append(csv[csv[\"class\"] == \"macro\"][\"ROCAUC\"])"
   ]
  },
  {
   "cell_type": "code",
   "execution_count": null,
   "id": "ebb9df2adbe214c3",
   "metadata": {},
   "outputs": [
    {
     "name": "stdout",
     "output_type": "stream",
     "text": [
      "Mean\t: 0.9345815062522889\n",
      " SD \t: 0.0012093686266301086\n"
     ]
    }
   ],
   "source": [
    "import numpy as np\n",
    "\n",
    "print(f\"Mean\\t: {np.mean(micro)}\")\n",
    "print(f\" SD \\t: {np.std(micro) }\")"
   ]
  },
  {
   "cell_type": "code",
   "execution_count": null,
   "id": "bef0009f0d5188f2",
   "metadata": {},
   "outputs": [
    {
     "name": "stdout",
     "output_type": "stream",
     "text": [
      "Mean\t: 0.8988297688333612\n",
      " SD \t: 0.0011125938688271498\n"
     ]
    }
   ],
   "source": [
    "print(f\"Mean\\t: {np.mean(macro)}\")\n",
    "print(f\" SD \\t: {np.std(macro) }\")"
   ]
  },
  {
   "cell_type": "code",
   "execution_count": null,
   "id": "7462193f34ee1ad0",
   "metadata": {},
   "outputs": [],
   "source": [
    "import pandas\n",
    "micro = []\n",
    "macro = []\n",
    "\n",
    "for fold in range(0,5):\n",
    "    csv = pandas.read_csv(f\"./kfold/csv/fold-{fold}_PrecisionRecall.csv\")\n",
    "    micro.append(csv[csv[\"class\"] == \"micro\"][\"PrecisionRecallAUC\"])\n",
    "    macro.append(csv[csv[\"class\"] == \"macro\"][\"PrecisionRecallAUC\"])"
   ]
  },
  {
   "cell_type": "code",
   "execution_count": null,
   "id": "6aeecd9691e6eab",
   "metadata": {},
   "outputs": [
    {
     "name": "stdout",
     "output_type": "stream",
     "text": [
      "Mean\t: 0.865748918056488\n",
      " SD \t: 0.006942192350804705\n"
     ]
    }
   ],
   "source": [
    "import numpy as np\n",
    "\n",
    "print(f\"Mean\\t: {np.mean(micro)}\")\n",
    "print(f\" SD \\t: {np.std(micro) }\")"
   ]
  },
  {
   "cell_type": "code",
   "execution_count": null,
   "id": "28947bda4cfb96fc",
   "metadata": {},
   "outputs": [
    {
     "name": "stdout",
     "output_type": "stream",
     "text": [
      "Mean\t: 0.7538028109230492\n",
      " SD \t: 0.0070839035312569906\n"
     ]
    }
   ],
   "source": [
    "print(f\"Mean\\t: {np.mean(macro)}\")\n",
    "print(f\" SD \\t: {np.std(macro) }\")"
   ]
  }
 ],
 "metadata": {
  "kernelspec": {
   "display_name": "Python 3 (ipykernel)",
   "language": "python",
   "name": "python3"
  },
  "language_info": {
   "codemirror_mode": {
    "name": "ipython",
    "version": 3
   },
   "file_extension": ".py",
   "mimetype": "text/x-python",
   "name": "python",
   "nbconvert_exporter": "python",
   "pygments_lexer": "ipython3"
  },
  "widgets": {
   "application/vnd.jupyter.widget-state+json": {
    "state": {},
    "version_major": 2,
    "version_minor": 0
   }
  }
 },
 "nbformat": 4,
 "nbformat_minor": 5
}
