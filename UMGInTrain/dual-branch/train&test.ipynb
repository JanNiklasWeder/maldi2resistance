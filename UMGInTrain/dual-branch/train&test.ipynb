{
 "cells": [
  {
   "cell_type": "markdown",
   "id": "3d89aed94233e3ff",
   "metadata": {},
   "source": [
    "# Fully connected feedforward network implementing a loss mask"
   ]
  },
  {
   "cell_type": "code",
   "execution_count": null,
   "id": "1eaaf570-0600-4d60-9fde-fcebcff3ce4c",
   "metadata": {},
   "outputs": [],
   "source": [
    "import torchmetrics.classification\n",
    "from torch import cuda\n",
    "assert cuda.is_available()\n",
    "assert cuda.device_count() > 0"
   ]
  },
  {
   "cell_type": "code",
   "execution_count": null,
   "id": "c7e50fb9-601f-425a-bf79-6441170b27dd",
   "metadata": {},
   "outputs": [
    {
     "name": "stdout",
     "output_type": "stream",
     "text": [
      "NVIDIA GeForce RTX 3060 Ti\n"
     ]
    }
   ],
   "source": [
    "print(cuda.get_device_name(cuda.current_device()))\n"
   ]
  },
  {
   "cell_type": "code",
   "execution_count": null,
   "id": "6c4b645f-6b5e-428e-855c-64b7e33ff874",
   "metadata": {},
   "outputs": [],
   "source": [
    "import torch\n",
    "import torch.nn as nn"
   ]
  },
  {
   "cell_type": "code",
   "execution_count": null,
   "id": "5e8a6650-ef2b-44f1-9ea8-78912b15e9a9",
   "metadata": {},
   "outputs": [
    {
     "data": {
      "text/plain": [
       "<torch._C.Generator at 0x7f28d1fdafb0>"
      ]
     },
     "execution_count": null,
     "metadata": {},
     "output_type": "execute_result"
    }
   ],
   "source": [
    "DEVICE = torch.device(\"cuda\")\n",
    "SEED = 76436278\n",
    "\n",
    "torch.manual_seed(SEED)"
   ]
  },
  {
   "cell_type": "markdown",
   "id": "23b5a248-98cc-42cc-99b2-49bdd5ca1f35",
   "metadata": {},
   "source": [
    "### Load the Dataset"
   ]
  },
  {
   "cell_type": "code",
   "execution_count": null,
   "id": "7a00707ac6b2975",
   "metadata": {},
   "outputs": [
    {
     "data": {
      "text/html": [
       "\n",
       "        <table>\n",
       "            <thead>\n",
       "                <tr>\n",
       "                    <th>Antibiotic:</th>\n",
       "                    <th> Amikacin </th><th> Amoxicillin-Clavulanic acid </th><th> Ampicillin </th><th> Ampicillin-Amoxicillin </th><th> Aztreonam </th><th> Benzylpenicillin </th><th> Cefazolin </th><th> Cefepime </th><th> Cefpodoxime </th><th> Ceftazidime </th><th> Ceftriaxone </th><th> Cefuroxime </th><th> Ciprofloxacin </th><th> Clarithromycin </th><th> Clindamycin </th><th> Colistin </th><th> Cotrimoxazole </th><th> Ertapenem </th><th> Erythromycin </th><th> Fosfomycin </th><th> Fosfomycin-Trometamol </th><th> Fusidic acid </th><th> Gentamicin </th><th> Imipenem </th><th> Levofloxacin </th><th> Meropenem </th><th> Mupirocin </th><th> Nitrofurantoin </th><th> Norfloxacin </th><th> Oxacillin </th><th> Penicillin </th><th> Piperacillin-Tazobactam </th><th> Polymyxin B </th><th> Rifampicin </th><th> Teicoplanin </th><th> Tetracycline </th><th> Tobramycin </th><th> Vancomycin </th>\n",
       "                </tr>\n",
       "            </thead>\n",
       "            <tbody>\n",
       "                <tr>\n",
       "                    <td>Number resistant:</td>\n",
       "                    <td> 1068 </td><td> 13366 </td><td> 8578 </td><td> 21966 </td><td> 628 </td><td> 618 </td><td> 4223 </td><td> 7383 </td><td> 2338 </td><td> 3470 </td><td> 8659 </td><td> 5855 </td><td> 9338 </td><td> 310 </td><td> 4381 </td><td> 2874 </td><td> 7405 </td><td> 427 </td><td> 5468 </td><td> 2303 </td><td> 1326 </td><td> 3620 </td><td> 3481 </td><td> 7560 </td><td> 4217 </td><td> 5194 </td><td> 570 </td><td> 1271 </td><td> 1205 </td><td> 5537 </td><td> 12431 </td><td> 7616 </td><td> 486 </td><td> 580 </td><td> 244 </td><td> 3534 </td><td> 1707 </td><td> 227 </td>\n",
       "                </tr>\n",
       "                <tr>\n",
       "                    <td>Number susceptible:</td>\n",
       "                    <td> 20941 </td><td> 24992 </td><td> 4194 </td><td> 4905 </td><td> 456 </td><td> 457 </td><td> 5813 </td><td> 31567 </td><td> 4382 </td><td> 24566 </td><td> 28464 </td><td> 8368 </td><td> 36822 </td><td> 1262 </td><td> 9841 </td><td> 15784 </td><td> 24590 </td><td> 21740 </td><td> 9044 </td><td> 10184 </td><td> 4803 </td><td> 8498 </td><td> 22662 </td><td> 31717 </td><td> 17989 </td><td> 27228 </td><td> 4656 </td><td> 3603 </td><td> 7031 </td><td> 7740 </td><td> 4286 </td><td> 31308 </td><td> 2305 </td><td> 14964 </td><td> 8486 </td><td> 10376 </td><td> 16809 </td><td> 20540 </td>\n",
       "                </tr>\n",
       "                <tr>\n",
       "                    <td>Number data points:</td>\n",
       "                    <td> 22009 </td><td> 38358 </td><td> 12772 </td><td> 26871 </td><td> 1084 </td><td> 1075 </td><td> 10036 </td><td> 38950 </td><td> 6720 </td><td> 28036 </td><td> 37123 </td><td> 14223 </td><td> 46160 </td><td> 1572 </td><td> 14222 </td><td> 18658 </td><td> 31995 </td><td> 22167 </td><td> 14512 </td><td> 12487 </td><td> 6129 </td><td> 12118 </td><td> 26143 </td><td> 39277 </td><td> 22206 </td><td> 32422 </td><td> 5226 </td><td> 4874 </td><td> 8236 </td><td> 13277 </td><td> 16717 </td><td> 38924 </td><td> 2791 </td><td> 15544 </td><td> 8730 </td><td> 13910 </td><td> 18516 </td><td> 20767 </td>\n",
       "                </tr>\n",
       "            </tbody>\n",
       "        </table>\n",
       "                "
      ],
      "text/plain": [
       "<src.maldi2resistance.data.driams.Driams at 0x7f28979ad810>"
      ]
     },
     "execution_count": null,
     "metadata": {},
     "output_type": "execute_result"
    }
   ],
   "source": [
    "from src.maldi2resistance.data.driams import Driams\n",
    "\n",
    "driams = Driams(\n",
    "    root_dir=\"/home/jan/Uni/master/data/Driams\",\n",
    ")\n",
    "umg = Driams(\n",
    "    root_dir=\"/home/jan/Uni/master/data/Driams\",\n",
    "    bin_size=1,\n",
    "    sites=[\"UMG\"],\n",
    "    years=[2020,2021],\n",
    "    antibiotics=driams.selected_antibiotics,\n",
    ")\n",
    "\n",
    "driams.loading_type = \"memory\"\n",
    "umg.loading_type = \"memory\"\n",
    "\n",
    "\n",
    "driams"
   ]
  },
  {
   "cell_type": "code",
   "execution_count": null,
   "id": "fbbd28ab5fd2a857",
   "metadata": {},
   "outputs": [
    {
     "data": {
      "text/plain": [
       "38"
      ]
     },
     "execution_count": null,
     "metadata": {},
     "output_type": "execute_result"
    }
   ],
   "source": [
    "len(driams.label_stats.columns)"
   ]
  },
  {
   "cell_type": "code",
   "execution_count": null,
   "id": "b81bd526-6a9c-4520-b121-9c01b4eb804a",
   "metadata": {},
   "outputs": [],
   "source": [
    "from maldi2resistance.model.dualBranch import DualBranchOneHot\n",
    "import copy\n",
    "from maldi2resistance.model.singleBranchMlp import SingleBranchMLP\n",
    "\n",
    "model = DualBranchOneHot( input_dim_spectrum= 18000, input_dim_drug= len(driams.selected_antibiotics))\n",
    "model = model.to(DEVICE)\n",
    "\n",
    "model_state = copy.deepcopy(model.state_dict()) "
   ]
  },
  {
   "cell_type": "code",
   "execution_count": null,
   "id": "e361914c-9fb8-4a94-bb2c-95a3b68cda0b",
   "metadata": {},
   "outputs": [],
   "source": [
    "from torch.utils.data import DataLoader"
   ]
  },
  {
   "cell_type": "code",
   "execution_count": null,
   "id": "a96643a0-bd63-437b-a676-f3a4a1826910",
   "metadata": {},
   "outputs": [
    {
     "name": "stdout",
     "output_type": "stream",
     "text": [
      "Start training ...\n"
     ]
    },
    {
     "data": {
      "application/vnd.jupyter.widget-view+json": {
       "model_id": "fb12b50018ed4831b84065174155ec85",
       "version_major": 2,
       "version_minor": 0
      },
      "text/plain": [
       "Create single label Dataset:   0%|          | 0/118369 [00:00<?, ?it/s]"
      ]
     },
     "metadata": {},
     "output_type": "display_data"
    },
    {
     "data": {
      "application/vnd.jupyter.widget-view+json": {
       "model_id": "fe199d3e9f2f440e8137bdcbbc181554",
       "version_major": 2,
       "version_minor": 0
      },
      "text/plain": [
       "Create single label Dataset:   0%|          | 0/11156 [00:00<?, ?it/s]"
      ]
     },
     "metadata": {},
     "output_type": "display_data"
    },
    {
     "data": {
      "application/vnd.jupyter.widget-view+json": {
       "model_id": "60336d0ee7a34c34a5f20d6ddf155cca",
       "version_major": 2,
       "version_minor": 0
      },
      "text/plain": [
       "  0%|          | 0/30 [00:00<?, ?it/s]"
      ]
     },
     "metadata": {},
     "output_type": "display_data"
    },
    {
     "name": "stdout",
     "output_type": "stream",
     "text": [
      "\tAverage Loss: 0.002465 \tLearning rate: 0.001000\n",
      "\tAverage Loss: 0.002082 \tLearning rate: 0.001000\n",
      "\tAverage Loss: 0.001962 \tLearning rate: 0.001000\n",
      "\tAverage Loss: 0.001884 \tLearning rate: 0.001000\n",
      "\tAverage Loss: 0.001823 \tLearning rate: 0.001000\n",
      "\tAverage Loss: 0.001777 \tLearning rate: 0.001000\n",
      "\tAverage Loss: 0.001737 \tLearning rate: 0.001000\n",
      "\tAverage Loss: 0.001702 \tLearning rate: 0.001000\n",
      "\tAverage Loss: 0.001670 \tLearning rate: 0.001000\n",
      "\tAverage Loss: 0.001642 \tLearning rate: 0.000500\n",
      "\tAverage Loss: 0.001553 \tLearning rate: 0.000500\n",
      "\tAverage Loss: 0.001528 \tLearning rate: 0.000500\n",
      "\tAverage Loss: 0.001511 \tLearning rate: 0.000500\n",
      "\tAverage Loss: 0.001495 \tLearning rate: 0.000500\n",
      "\tAverage Loss: 0.001482 \tLearning rate: 0.000500\n",
      "\tAverage Loss: 0.001467 \tLearning rate: 0.000500\n",
      "\tAverage Loss: 0.001454 \tLearning rate: 0.000500\n",
      "\tAverage Loss: 0.001443 \tLearning rate: 0.000500\n",
      "\tAverage Loss: 0.001429 \tLearning rate: 0.000500\n",
      "\tAverage Loss: 0.001418 \tLearning rate: 0.000250\n",
      "\tAverage Loss: 0.001360 \tLearning rate: 0.000250\n",
      "\tAverage Loss: 0.001351 \tLearning rate: 0.000250\n",
      "\tAverage Loss: 0.001339 \tLearning rate: 0.000250\n",
      "\tAverage Loss: 0.001329 \tLearning rate: 0.000250\n",
      "\tAverage Loss: 0.001322 \tLearning rate: 0.000250\n",
      "\tAverage Loss: 0.001314 \tLearning rate: 0.000250\n",
      "\tAverage Loss: 0.001306 \tLearning rate: 0.000250\n",
      "\tAverage Loss: 0.001298 \tLearning rate: 0.000250\n",
      "\tAverage Loss: 0.001291 \tLearning rate: 0.000250\n",
      "\tAverage Loss: 0.001284 \tLearning rate: 0.000125\n",
      "Finished Fold 0\n"
     ]
    },
    {
     "data": {
      "application/vnd.jupyter.widget-view+json": {
       "model_id": "f672b7e32f2b498e83f16b9a6f6b67fb",
       "version_major": 2,
       "version_minor": 0
      },
      "text/plain": [
       "Create single label Dataset:   0%|          | 0/118369 [00:00<?, ?it/s]"
      ]
     },
     "metadata": {},
     "output_type": "display_data"
    },
    {
     "data": {
      "application/vnd.jupyter.widget-view+json": {
       "model_id": "51c636d4b0744ec5ad01af52961eb465",
       "version_major": 2,
       "version_minor": 0
      },
      "text/plain": [
       "Create single label Dataset:   0%|          | 0/11156 [00:00<?, ?it/s]"
      ]
     },
     "metadata": {},
     "output_type": "display_data"
    },
    {
     "data": {
      "application/vnd.jupyter.widget-view+json": {
       "model_id": "4655ef25e64f487ab1714eaad02fddae",
       "version_major": 2,
       "version_minor": 0
      },
      "text/plain": [
       "  0%|          | 0/30 [00:00<?, ?it/s]"
      ]
     },
     "metadata": {},
     "output_type": "display_data"
    },
    {
     "name": "stdout",
     "output_type": "stream",
     "text": [
      "\tAverage Loss: 0.002475 \tLearning rate: 0.001000\n",
      "\tAverage Loss: 0.002080 \tLearning rate: 0.001000\n",
      "\tAverage Loss: 0.001961 \tLearning rate: 0.001000\n",
      "\tAverage Loss: 0.001885 \tLearning rate: 0.001000\n",
      "\tAverage Loss: 0.001826 \tLearning rate: 0.001000\n",
      "\tAverage Loss: 0.001782 \tLearning rate: 0.001000\n",
      "\tAverage Loss: 0.001742 \tLearning rate: 0.001000\n",
      "\tAverage Loss: 0.001710 \tLearning rate: 0.001000\n",
      "\tAverage Loss: 0.001676 \tLearning rate: 0.001000\n",
      "\tAverage Loss: 0.001649 \tLearning rate: 0.000500\n",
      "\tAverage Loss: 0.001558 \tLearning rate: 0.000500\n",
      "\tAverage Loss: 0.001538 \tLearning rate: 0.000500\n",
      "\tAverage Loss: 0.001520 \tLearning rate: 0.000500\n",
      "\tAverage Loss: 0.001506 \tLearning rate: 0.000500\n",
      "\tAverage Loss: 0.001492 \tLearning rate: 0.000500\n",
      "\tAverage Loss: 0.001475 \tLearning rate: 0.000500\n",
      "\tAverage Loss: 0.001462 \tLearning rate: 0.000500\n",
      "\tAverage Loss: 0.001448 \tLearning rate: 0.000500\n",
      "\tAverage Loss: 0.001439 \tLearning rate: 0.000500\n",
      "\tAverage Loss: 0.001426 \tLearning rate: 0.000250\n",
      "\tAverage Loss: 0.001369 \tLearning rate: 0.000250\n",
      "\tAverage Loss: 0.001357 \tLearning rate: 0.000250\n",
      "\tAverage Loss: 0.001346 \tLearning rate: 0.000250\n",
      "\tAverage Loss: 0.001338 \tLearning rate: 0.000250\n",
      "\tAverage Loss: 0.001329 \tLearning rate: 0.000250\n",
      "\tAverage Loss: 0.001321 \tLearning rate: 0.000250\n",
      "\tAverage Loss: 0.001317 \tLearning rate: 0.000250\n",
      "\tAverage Loss: 0.001307 \tLearning rate: 0.000250\n",
      "\tAverage Loss: 0.001300 \tLearning rate: 0.000250\n",
      "\tAverage Loss: 0.001292 \tLearning rate: 0.000125\n",
      "Finished Fold 1\n"
     ]
    },
    {
     "data": {
      "application/vnd.jupyter.widget-view+json": {
       "model_id": "e31184d5c4c54054b38600c4658067c6",
       "version_major": 2,
       "version_minor": 0
      },
      "text/plain": [
       "Create single label Dataset:   0%|          | 0/118369 [00:00<?, ?it/s]"
      ]
     },
     "metadata": {},
     "output_type": "display_data"
    },
    {
     "data": {
      "application/vnd.jupyter.widget-view+json": {
       "model_id": "02c9dbe60aa74acd995c31870f1416d7",
       "version_major": 2,
       "version_minor": 0
      },
      "text/plain": [
       "Create single label Dataset:   0%|          | 0/11156 [00:00<?, ?it/s]"
      ]
     },
     "metadata": {},
     "output_type": "display_data"
    },
    {
     "data": {
      "application/vnd.jupyter.widget-view+json": {
       "model_id": "0e0f517e4c7840fcb9399027056df850",
       "version_major": 2,
       "version_minor": 0
      },
      "text/plain": [
       "  0%|          | 0/30 [00:00<?, ?it/s]"
      ]
     },
     "metadata": {},
     "output_type": "display_data"
    },
    {
     "name": "stdout",
     "output_type": "stream",
     "text": [
      "\tAverage Loss: 0.002479 \tLearning rate: 0.001000\n",
      "\tAverage Loss: 0.002092 \tLearning rate: 0.001000\n",
      "\tAverage Loss: 0.001969 \tLearning rate: 0.001000\n",
      "\tAverage Loss: 0.001895 \tLearning rate: 0.001000\n",
      "\tAverage Loss: 0.001838 \tLearning rate: 0.001000\n",
      "\tAverage Loss: 0.001792 \tLearning rate: 0.001000\n",
      "\tAverage Loss: 0.001748 \tLearning rate: 0.001000\n",
      "\tAverage Loss: 0.001713 \tLearning rate: 0.001000\n",
      "\tAverage Loss: 0.001682 \tLearning rate: 0.001000\n",
      "\tAverage Loss: 0.001656 \tLearning rate: 0.000500\n",
      "\tAverage Loss: 0.001562 \tLearning rate: 0.000500\n",
      "\tAverage Loss: 0.001539 \tLearning rate: 0.000500\n",
      "\tAverage Loss: 0.001525 \tLearning rate: 0.000500\n",
      "\tAverage Loss: 0.001509 \tLearning rate: 0.000500\n",
      "\tAverage Loss: 0.001492 \tLearning rate: 0.000500\n",
      "\tAverage Loss: 0.001477 \tLearning rate: 0.000500\n",
      "\tAverage Loss: 0.001463 \tLearning rate: 0.000500\n",
      "\tAverage Loss: 0.001453 \tLearning rate: 0.000500\n",
      "\tAverage Loss: 0.001437 \tLearning rate: 0.000500\n",
      "\tAverage Loss: 0.001426 \tLearning rate: 0.000250\n",
      "\tAverage Loss: 0.001370 \tLearning rate: 0.000250\n",
      "\tAverage Loss: 0.001355 \tLearning rate: 0.000250\n",
      "\tAverage Loss: 0.001347 \tLearning rate: 0.000250\n",
      "\tAverage Loss: 0.001338 \tLearning rate: 0.000250\n",
      "\tAverage Loss: 0.001331 \tLearning rate: 0.000250\n",
      "\tAverage Loss: 0.001321 \tLearning rate: 0.000250\n",
      "\tAverage Loss: 0.001311 \tLearning rate: 0.000250\n",
      "\tAverage Loss: 0.001303 \tLearning rate: 0.000250\n",
      "\tAverage Loss: 0.001298 \tLearning rate: 0.000250\n",
      "\tAverage Loss: 0.001291 \tLearning rate: 0.000125\n",
      "Finished Fold 2\n"
     ]
    },
    {
     "data": {
      "application/vnd.jupyter.widget-view+json": {
       "model_id": "5601cf1595b544b19b331c9b0db93c3e",
       "version_major": 2,
       "version_minor": 0
      },
      "text/plain": [
       "Create single label Dataset:   0%|          | 0/118369 [00:00<?, ?it/s]"
      ]
     },
     "metadata": {},
     "output_type": "display_data"
    },
    {
     "data": {
      "application/vnd.jupyter.widget-view+json": {
       "model_id": "2d7450755c214aa88fa364e85d424429",
       "version_major": 2,
       "version_minor": 0
      },
      "text/plain": [
       "Create single label Dataset:   0%|          | 0/11156 [00:00<?, ?it/s]"
      ]
     },
     "metadata": {},
     "output_type": "display_data"
    },
    {
     "data": {
      "application/vnd.jupyter.widget-view+json": {
       "model_id": "afb1df1ace0d40b3a41537cc6cd7ae99",
       "version_major": 2,
       "version_minor": 0
      },
      "text/plain": [
       "  0%|          | 0/30 [00:00<?, ?it/s]"
      ]
     },
     "metadata": {},
     "output_type": "display_data"
    },
    {
     "name": "stdout",
     "output_type": "stream",
     "text": [
      "\tAverage Loss: 0.002471 \tLearning rate: 0.001000\n",
      "\tAverage Loss: 0.002078 \tLearning rate: 0.001000\n",
      "\tAverage Loss: 0.001958 \tLearning rate: 0.001000\n",
      "\tAverage Loss: 0.001881 \tLearning rate: 0.001000\n",
      "\tAverage Loss: 0.001827 \tLearning rate: 0.001000\n",
      "\tAverage Loss: 0.001777 \tLearning rate: 0.001000\n",
      "\tAverage Loss: 0.001736 \tLearning rate: 0.001000\n",
      "\tAverage Loss: 0.001701 \tLearning rate: 0.001000\n",
      "\tAverage Loss: 0.001674 \tLearning rate: 0.001000\n",
      "\tAverage Loss: 0.001645 \tLearning rate: 0.000500\n",
      "\tAverage Loss: 0.001552 \tLearning rate: 0.000500\n",
      "\tAverage Loss: 0.001532 \tLearning rate: 0.000500\n",
      "\tAverage Loss: 0.001517 \tLearning rate: 0.000500\n",
      "\tAverage Loss: 0.001498 \tLearning rate: 0.000500\n",
      "\tAverage Loss: 0.001486 \tLearning rate: 0.000500\n",
      "\tAverage Loss: 0.001473 \tLearning rate: 0.000500\n",
      "\tAverage Loss: 0.001461 \tLearning rate: 0.000500\n",
      "\tAverage Loss: 0.001445 \tLearning rate: 0.000500\n",
      "\tAverage Loss: 0.001433 \tLearning rate: 0.000500\n",
      "\tAverage Loss: 0.001424 \tLearning rate: 0.000250\n",
      "\tAverage Loss: 0.001365 \tLearning rate: 0.000250\n",
      "\tAverage Loss: 0.001353 \tLearning rate: 0.000250\n",
      "\tAverage Loss: 0.001343 \tLearning rate: 0.000250\n",
      "\tAverage Loss: 0.001335 \tLearning rate: 0.000250\n",
      "\tAverage Loss: 0.001329 \tLearning rate: 0.000250\n",
      "\tAverage Loss: 0.001321 \tLearning rate: 0.000250\n",
      "\tAverage Loss: 0.001310 \tLearning rate: 0.000250\n",
      "\tAverage Loss: 0.001303 \tLearning rate: 0.000250\n",
      "\tAverage Loss: 0.001296 \tLearning rate: 0.000250\n",
      "\tAverage Loss: 0.001289 \tLearning rate: 0.000125\n",
      "Finished Fold 3\n"
     ]
    },
    {
     "data": {
      "application/vnd.jupyter.widget-view+json": {
       "model_id": "e43f96009c5349a89c7fec3a7ad62baf",
       "version_major": 2,
       "version_minor": 0
      },
      "text/plain": [
       "Create single label Dataset:   0%|          | 0/118369 [00:00<?, ?it/s]"
      ]
     },
     "metadata": {},
     "output_type": "display_data"
    },
    {
     "data": {
      "application/vnd.jupyter.widget-view+json": {
       "model_id": "1958bb0a4fe742d3b407dffca117b565",
       "version_major": 2,
       "version_minor": 0
      },
      "text/plain": [
       "Create single label Dataset:   0%|          | 0/11156 [00:00<?, ?it/s]"
      ]
     },
     "metadata": {},
     "output_type": "display_data"
    },
    {
     "data": {
      "application/vnd.jupyter.widget-view+json": {
       "model_id": "5540cbbc36fb40b286eda2ed5da426c1",
       "version_major": 2,
       "version_minor": 0
      },
      "text/plain": [
       "  0%|          | 0/30 [00:00<?, ?it/s]"
      ]
     },
     "metadata": {},
     "output_type": "display_data"
    },
    {
     "name": "stdout",
     "output_type": "stream",
     "text": [
      "\tAverage Loss: 0.002476 \tLearning rate: 0.001000\n",
      "\tAverage Loss: 0.002089 \tLearning rate: 0.001000\n",
      "\tAverage Loss: 0.001968 \tLearning rate: 0.001000\n",
      "\tAverage Loss: 0.001889 \tLearning rate: 0.001000\n",
      "\tAverage Loss: 0.001831 \tLearning rate: 0.001000\n",
      "\tAverage Loss: 0.001783 \tLearning rate: 0.001000\n",
      "\tAverage Loss: 0.001741 \tLearning rate: 0.001000\n",
      "\tAverage Loss: 0.001708 \tLearning rate: 0.001000\n",
      "\tAverage Loss: 0.001676 \tLearning rate: 0.001000\n",
      "\tAverage Loss: 0.001647 \tLearning rate: 0.000500\n",
      "\tAverage Loss: 0.001556 \tLearning rate: 0.000500\n",
      "\tAverage Loss: 0.001535 \tLearning rate: 0.000500\n",
      "\tAverage Loss: 0.001517 \tLearning rate: 0.000500\n",
      "\tAverage Loss: 0.001501 \tLearning rate: 0.000500\n",
      "\tAverage Loss: 0.001487 \tLearning rate: 0.000500\n",
      "\tAverage Loss: 0.001471 \tLearning rate: 0.000500\n",
      "\tAverage Loss: 0.001459 \tLearning rate: 0.000500\n",
      "\tAverage Loss: 0.001445 \tLearning rate: 0.000500\n",
      "\tAverage Loss: 0.001433 \tLearning rate: 0.000500\n",
      "\tAverage Loss: 0.001424 \tLearning rate: 0.000250\n",
      "\tAverage Loss: 0.001365 \tLearning rate: 0.000250\n",
      "\tAverage Loss: 0.001349 \tLearning rate: 0.000250\n",
      "\tAverage Loss: 0.001342 \tLearning rate: 0.000250\n",
      "\tAverage Loss: 0.001333 \tLearning rate: 0.000250\n",
      "\tAverage Loss: 0.001324 \tLearning rate: 0.000250\n",
      "\tAverage Loss: 0.001318 \tLearning rate: 0.000250\n",
      "\tAverage Loss: 0.001307 \tLearning rate: 0.000250\n",
      "\tAverage Loss: 0.001303 \tLearning rate: 0.000250\n",
      "\tAverage Loss: 0.001294 \tLearning rate: 0.000250\n",
      "\tAverage Loss: 0.001288 \tLearning rate: 0.000125\n",
      "Finished Fold 4\n"
     ]
    }
   ],
   "source": [
    "from torchmetrics.utilities.compute import auc\n",
    "from torchmetrics.classification import BinaryAUROC, BinaryPrecisionRecallCurve\n",
    "from maldi2resistance.data.driams import DriamsSingleAntibiotic\n",
    "from maldi2resistance.metric.PrecisionRecall import MultiLabelPRNan\n",
    "from pathlib import Path\n",
    "from maldi2resistance.metric.ROC import MultiLabelRocNan\n",
    "from maldi2resistance.loss.maskedLoss import MaskedBCE\n",
    "from tqdm.auto import tqdm\n",
    "import matplotlib.pyplot as plt\n",
    "import torch.nn.functional as F\n",
    "\n",
    "from torch.optim import Adam\n",
    "from torch.optim.lr_scheduler import StepLR\n",
    "\n",
    "print(\"Start training ...\")\n",
    "model.train()\n",
    "\n",
    "batch_size = 128\n",
    "fig_path = Path(\"./kfold/figures\")\n",
    "fig_path.mkdir(parents=True, exist_ok=True)\n",
    "\n",
    "loss_per_batch = []\n",
    "\n",
    "gen = torch.Generator()\n",
    "\n",
    "all_auc_roc_micro = []\n",
    "all_auc_pr_micro = []\n",
    "\n",
    "all_auc_roc_macro = []\n",
    "all_auc_pr_macro = []\n",
    "\n",
    "for fold, (train_data, test_data) in enumerate(driams.getK_fold(n_splits=5, shuffle=True, random_state= SEED)):\n",
    "    \n",
    "    train_data_umg = torch.utils.data.ConcatDataset([train_data, umg])\n",
    "    train_dataset_single_antibiotic = DriamsSingleAntibiotic(driams= train_data_umg)\n",
    "    test_dataset_single_antibiotic = DriamsSingleAntibiotic(driams= test_data)\n",
    "    \n",
    "    train_loader = DataLoader(train_dataset_single_antibiotic, batch_size=batch_size, shuffle=True, drop_last=True, generator= gen.manual_seed(SEED))\n",
    "    test_loader = DataLoader(test_dataset_single_antibiotic, batch_size=len(test_dataset_single_antibiotic), shuffle=True, drop_last=True, generator= gen.manual_seed(SEED))\n",
    "    \n",
    "    model.load_state_dict(model_state)\n",
    "    model.train()\n",
    "    \n",
    "    optimizer = Adam(model.parameters(), lr=1e-3, amsgrad = True)\n",
    "    scheduler = StepLR(optimizer, step_size=10, gamma=0.5)\n",
    "\n",
    "    for epoch in tqdm(range(30), leave= False, position=1):\n",
    "        overall_loss = 0\n",
    "        \n",
    "        for batch_idx, (x, y, pos) in enumerate(train_loader):\n",
    "    \n",
    "            x = x.to(DEVICE)\n",
    "            y = y.to(DEVICE)\n",
    "            pos = pos.to(DEVICE)\n",
    "            \n",
    "            optimizer.zero_grad()\n",
    "    \n",
    "            output = model(x, pos)\n",
    "        \n",
    "            loss = F.binary_cross_entropy_with_logits(output, y)\n",
    "            current_loss_value = loss.item()\n",
    "            loss_per_batch.append(current_loss_value)\n",
    "            \n",
    "            overall_loss += current_loss_value\n",
    "            \n",
    "            loss.backward()\n",
    "            optimizer.step()\n",
    "    \n",
    "        scheduler.step()\n",
    "        with tqdm.external_write_mode():\n",
    "            print(f\"\\tAverage Loss: {overall_loss / (batch_idx*batch_size):.6f} \\tLearning rate: {scheduler.get_last_lr()[0]:.6f}\")\n",
    "    \n",
    "    \n",
    "    print(f\"Finished Fold {fold}\")\n",
    "    \n",
    "    model.eval()\n",
    "    \n",
    "    DEVICE = torch.device(\"cpu\")\n",
    "    test_features, test_labels, test_pos = next(iter(test_loader))\n",
    "    test_features = test_features.to(DEVICE)\n",
    "    test_labels = test_labels.to(DEVICE)\n",
    "    test_pos = test_pos.to(DEVICE)\n",
    "    model = model.to(DEVICE)\n",
    "    \n",
    "    output = model(test_features, test_pos)\n",
    "    \n",
    "    auRoc = BinaryAUROC()\n",
    "    auc_roc = auRoc(output, test_labels.int())\n",
    "    all_auc_roc_micro.append(auc_roc)\n",
    "    \n",
    "    metric = BinaryPrecisionRecallCurve()\n",
    "    metric.update(output, test_labels.int())\n",
    "    precision, recall, thresholds = metric.compute()\n",
    "    aucPC = auc(recall, precision)\n",
    "    \n",
    "    all_auc_pr_micro.append(aucPC)\n",
    "    \n",
    "    macro_aucroc = 0\n",
    "    macro_aucpr = 0\n",
    "    \n",
    "    n_not_empty = 0\n",
    "    \n",
    "    for pos, antibiotic in enumerate(driams.selected_antibiotics):\n",
    "        out_part = output[test_pos == pos]\n",
    "        label_part = test_labels[test_pos == pos]\n",
    "        \n",
    "        occurrences = torch.bincount(label_part.int())\n",
    "\n",
    "        try:\n",
    "            if label_part.numel() == 0 or occurrences[1].item() == 0 or occurrences[0].item()== 0:\n",
    "                continue\n",
    "        except IndexError:\n",
    "            # no positives\n",
    "            continue\n",
    "        \n",
    "        au_roc = auRoc(out_part, label_part.int())\n",
    "        \n",
    "        metric.update(out_part, label_part.int())\n",
    "        precision, recall, thresholds = metric.compute()\n",
    "        aucPC = auc(recall, precision)\n",
    "        \n",
    "        n_not_empty +=1\n",
    "        macro_aucroc += au_roc.item()\n",
    "        macro_aucpr += aucPC.item()\n",
    "        \n",
    "        \n",
    "    macro_aucroc = macro_aucroc / n_not_empty\n",
    "    macro_aucpr = macro_aucpr / n_not_empty\n",
    "    \n",
    "    all_auc_roc_macro.append(macro_aucroc)\n",
    "    all_auc_pr_macro.append(macro_aucpr)\n",
    "    \n",
    "    DEVICE = torch.device(\"cuda\")\n",
    "    model = model.to(DEVICE)\n",
    "    "
   ]
  },
  {
   "cell_type": "code",
   "execution_count": null,
   "id": "ebb9df2adbe214c3",
   "metadata": {},
   "outputs": [
    {
     "name": "stdout",
     "output_type": "stream",
     "text": [
      "Mean\t: 0.9273012280464172\n",
      " SD \t: 0.0013611948816105723\n"
     ]
    }
   ],
   "source": [
    "import numpy as np\n",
    "\n",
    "print(f\"Mean\\t: {np.mean([x.cpu() for x in all_auc_roc_micro])}\")\n",
    "print(f\" SD \\t: {np.std([x.cpu() for x in all_auc_roc_micro]) }\")"
   ]
  },
  {
   "cell_type": "code",
   "execution_count": null,
   "id": "91fa4db5e2d4132d",
   "metadata": {},
   "outputs": [
    {
     "name": "stdout",
     "output_type": "stream",
     "text": [
      "Mean\t: 0.852634608745575\n",
      " SD \t: 0.007675300817936659\n"
     ]
    }
   ],
   "source": [
    "print(f\"Mean\\t: {np.mean([x.cpu() for x in all_auc_pr_micro])}\")\n",
    "print(f\" SD \\t: {np.std([x.cpu() for x in all_auc_pr_micro]) }\")"
   ]
  },
  {
   "cell_type": "code",
   "execution_count": null,
   "id": "31265f000dbabc29",
   "metadata": {},
   "outputs": [
    {
     "name": "stdout",
     "output_type": "stream",
     "text": [
      "Mean\t: 0.8963358853992662\n",
      " SD \t: 0.001816692119677862\n"
     ]
    }
   ],
   "source": [
    "import numpy as np\n",
    "\n",
    "print(f\"Mean\\t: {np.mean([x for x in all_auc_roc_macro])}\")\n",
    "print(f\" SD \\t: {np.std([x for x in all_auc_roc_macro]) }\")"
   ]
  },
  {
   "cell_type": "code",
   "execution_count": null,
   "id": "c084823efeba666",
   "metadata": {},
   "outputs": [
    {
     "name": "stdout",
     "output_type": "stream",
     "text": [
      "Mean\t: 0.8588700404292657\n",
      " SD \t: 0.00746289911369878\n"
     ]
    }
   ],
   "source": [
    "print(f\"Mean\\t: {np.mean([x for x in all_auc_pr_macro])}\")\n",
    "print(f\" SD \\t: {np.std([x for x in all_auc_pr_macro]) }\")"
   ]
  }
 ],
 "metadata": {
  "kernelspec": {
   "display_name": "Python 3 (ipykernel)",
   "language": "python",
   "name": "python3"
  },
  "language_info": {
   "codemirror_mode": {
    "name": "ipython",
    "version": 3
   },
   "file_extension": ".py",
   "mimetype": "text/x-python",
   "name": "python",
   "nbconvert_exporter": "python",
   "pygments_lexer": "ipython3"
  },
  "widgets": {
   "application/vnd.jupyter.widget-state+json": {
    "state": {},
    "version_major": 2,
    "version_minor": 0
   }
  }
 },
 "nbformat": 4,
 "nbformat_minor": 5
}
